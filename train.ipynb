{
 "cells": [
  {
   "cell_type": "code",
   "execution_count": 34,
   "metadata": {},
   "outputs": [],
   "source": [
    "import pandas as pd\n",
    "import seaborn as sns\n",
    "import matplotlib.pyplot as plt\n",
    "import pickle\n",
    "from sklearn.model_selection import train_test_split\n",
    "from sklearn.metrics import accuracy_score, confusion_matrix, f1_score, recall_score, precision_score\n",
    "from sklearn.svm import SVC\n",
    "from sklearn.ensemble import RandomForestClassifier\n",
    "from sklearn.neighbors import KNeighborsClassifier\n",
    "from sklearn.neural_network import MLPClassifier\n",
    "from sklearn.tree import DecisionTreeClassifier\n",
    "from sklearn.ensemble import AdaBoostClassifier\n",
    "from sklearn.naive_bayes import GaussianNB\n",
    "from sklearn.model_selection import GridSearchCV"
   ]
  },
  {
   "cell_type": "code",
   "execution_count": 52,
   "metadata": {},
   "outputs": [
    {
     "data": {
      "text/html": [
       "<div>\n",
       "<style scoped>\n",
       "    .dataframe tbody tr th:only-of-type {\n",
       "        vertical-align: middle;\n",
       "    }\n",
       "\n",
       "    .dataframe tbody tr th {\n",
       "        vertical-align: top;\n",
       "    }\n",
       "\n",
       "    .dataframe thead th {\n",
       "        text-align: right;\n",
       "    }\n",
       "</style>\n",
       "<table border=\"1\" class=\"dataframe\">\n",
       "  <thead>\n",
       "    <tr style=\"text-align: right;\">\n",
       "      <th></th>\n",
       "      <th>0</th>\n",
       "      <th>1</th>\n",
       "      <th>2</th>\n",
       "      <th>3</th>\n",
       "      <th>4</th>\n",
       "      <th>5</th>\n",
       "      <th>6</th>\n",
       "      <th>7</th>\n",
       "      <th>8</th>\n",
       "      <th>9</th>\n",
       "      <th>...</th>\n",
       "      <th>54</th>\n",
       "      <th>55</th>\n",
       "      <th>56</th>\n",
       "      <th>57</th>\n",
       "      <th>58</th>\n",
       "      <th>59</th>\n",
       "      <th>60</th>\n",
       "      <th>61</th>\n",
       "      <th>62</th>\n",
       "      <th>63</th>\n",
       "    </tr>\n",
       "  </thead>\n",
       "  <tbody>\n",
       "    <tr>\n",
       "      <th>0</th>\n",
       "      <td>0.434647</td>\n",
       "      <td>0.611131</td>\n",
       "      <td>-1.114650e-07</td>\n",
       "      <td>0.475884</td>\n",
       "      <td>0.586491</td>\n",
       "      <td>-0.018334</td>\n",
       "      <td>0.517081</td>\n",
       "      <td>0.549613</td>\n",
       "      <td>-0.026509</td>\n",
       "      <td>0.554658</td>\n",
       "      <td>...</td>\n",
       "      <td>0.409894</td>\n",
       "      <td>0.434054</td>\n",
       "      <td>-0.024014</td>\n",
       "      <td>0.416464</td>\n",
       "      <td>0.474140</td>\n",
       "      <td>-0.017954</td>\n",
       "      <td>0.422128</td>\n",
       "      <td>0.499674</td>\n",
       "      <td>-0.010102</td>\n",
       "      <td>right</td>\n",
       "    </tr>\n",
       "    <tr>\n",
       "      <th>1</th>\n",
       "      <td>0.381353</td>\n",
       "      <td>0.473653</td>\n",
       "      <td>-2.841413e-07</td>\n",
       "      <td>0.456844</td>\n",
       "      <td>0.404849</td>\n",
       "      <td>0.004443</td>\n",
       "      <td>0.514226</td>\n",
       "      <td>0.323305</td>\n",
       "      <td>-0.003314</td>\n",
       "      <td>0.565055</td>\n",
       "      <td>...</td>\n",
       "      <td>0.303595</td>\n",
       "      <td>0.173345</td>\n",
       "      <td>-0.011918</td>\n",
       "      <td>0.306607</td>\n",
       "      <td>0.220499</td>\n",
       "      <td>0.000960</td>\n",
       "      <td>0.312846</td>\n",
       "      <td>0.255283</td>\n",
       "      <td>0.007282</td>\n",
       "      <td>right</td>\n",
       "    </tr>\n",
       "    <tr>\n",
       "      <th>2</th>\n",
       "      <td>0.464858</td>\n",
       "      <td>0.736283</td>\n",
       "      <td>-2.577997e-07</td>\n",
       "      <td>0.516449</td>\n",
       "      <td>0.690089</td>\n",
       "      <td>0.009433</td>\n",
       "      <td>0.549900</td>\n",
       "      <td>0.631091</td>\n",
       "      <td>0.010517</td>\n",
       "      <td>0.577705</td>\n",
       "      <td>...</td>\n",
       "      <td>0.415082</td>\n",
       "      <td>0.537706</td>\n",
       "      <td>0.013943</td>\n",
       "      <td>0.418185</td>\n",
       "      <td>0.570582</td>\n",
       "      <td>0.022343</td>\n",
       "      <td>0.422321</td>\n",
       "      <td>0.597188</td>\n",
       "      <td>0.026506</td>\n",
       "      <td>right</td>\n",
       "    </tr>\n",
       "    <tr>\n",
       "      <th>3</th>\n",
       "      <td>0.447572</td>\n",
       "      <td>0.560984</td>\n",
       "      <td>-1.051467e-07</td>\n",
       "      <td>0.493314</td>\n",
       "      <td>0.550676</td>\n",
       "      <td>-0.040490</td>\n",
       "      <td>0.546737</td>\n",
       "      <td>0.509749</td>\n",
       "      <td>-0.060630</td>\n",
       "      <td>0.601612</td>\n",
       "      <td>...</td>\n",
       "      <td>0.425134</td>\n",
       "      <td>0.309898</td>\n",
       "      <td>-0.023744</td>\n",
       "      <td>0.425272</td>\n",
       "      <td>0.357267</td>\n",
       "      <td>-0.013718</td>\n",
       "      <td>0.433023</td>\n",
       "      <td>0.385544</td>\n",
       "      <td>-0.001162</td>\n",
       "      <td>right</td>\n",
       "    </tr>\n",
       "    <tr>\n",
       "      <th>4</th>\n",
       "      <td>0.465673</td>\n",
       "      <td>0.664986</td>\n",
       "      <td>-2.830199e-07</td>\n",
       "      <td>0.511478</td>\n",
       "      <td>0.631088</td>\n",
       "      <td>0.012784</td>\n",
       "      <td>0.538029</td>\n",
       "      <td>0.590725</td>\n",
       "      <td>0.015343</td>\n",
       "      <td>0.558790</td>\n",
       "      <td>...</td>\n",
       "      <td>0.428097</td>\n",
       "      <td>0.462905</td>\n",
       "      <td>0.003385</td>\n",
       "      <td>0.428203</td>\n",
       "      <td>0.495145</td>\n",
       "      <td>0.009417</td>\n",
       "      <td>0.432352</td>\n",
       "      <td>0.523114</td>\n",
       "      <td>0.013447</td>\n",
       "      <td>right</td>\n",
       "    </tr>\n",
       "    <tr>\n",
       "      <th>...</th>\n",
       "      <td>...</td>\n",
       "      <td>...</td>\n",
       "      <td>...</td>\n",
       "      <td>...</td>\n",
       "      <td>...</td>\n",
       "      <td>...</td>\n",
       "      <td>...</td>\n",
       "      <td>...</td>\n",
       "      <td>...</td>\n",
       "      <td>...</td>\n",
       "      <td>...</td>\n",
       "      <td>...</td>\n",
       "      <td>...</td>\n",
       "      <td>...</td>\n",
       "      <td>...</td>\n",
       "      <td>...</td>\n",
       "      <td>...</td>\n",
       "      <td>...</td>\n",
       "      <td>...</td>\n",
       "      <td>...</td>\n",
       "      <td>...</td>\n",
       "    </tr>\n",
       "    <tr>\n",
       "      <th>3053</th>\n",
       "      <td>0.279499</td>\n",
       "      <td>0.521108</td>\n",
       "      <td>-4.714678e-07</td>\n",
       "      <td>0.225156</td>\n",
       "      <td>0.480965</td>\n",
       "      <td>-0.019385</td>\n",
       "      <td>0.182144</td>\n",
       "      <td>0.401417</td>\n",
       "      <td>-0.033311</td>\n",
       "      <td>0.153303</td>\n",
       "      <td>...</td>\n",
       "      <td>0.356377</td>\n",
       "      <td>0.246205</td>\n",
       "      <td>-0.065132</td>\n",
       "      <td>0.374677</td>\n",
       "      <td>0.196805</td>\n",
       "      <td>-0.075431</td>\n",
       "      <td>0.389972</td>\n",
       "      <td>0.147648</td>\n",
       "      <td>-0.078543</td>\n",
       "      <td>setting</td>\n",
       "    </tr>\n",
       "    <tr>\n",
       "      <th>3054</th>\n",
       "      <td>0.556808</td>\n",
       "      <td>0.778212</td>\n",
       "      <td>-4.194526e-07</td>\n",
       "      <td>0.593478</td>\n",
       "      <td>0.727078</td>\n",
       "      <td>-0.027367</td>\n",
       "      <td>0.622684</td>\n",
       "      <td>0.653537</td>\n",
       "      <td>-0.043029</td>\n",
       "      <td>0.651444</td>\n",
       "      <td>...</td>\n",
       "      <td>0.442890</td>\n",
       "      <td>0.597018</td>\n",
       "      <td>-0.043961</td>\n",
       "      <td>0.418398</td>\n",
       "      <td>0.569878</td>\n",
       "      <td>-0.048178</td>\n",
       "      <td>0.397862</td>\n",
       "      <td>0.539944</td>\n",
       "      <td>-0.047661</td>\n",
       "      <td>setting</td>\n",
       "    </tr>\n",
       "    <tr>\n",
       "      <th>3055</th>\n",
       "      <td>0.558294</td>\n",
       "      <td>0.620574</td>\n",
       "      <td>-3.627115e-07</td>\n",
       "      <td>0.597281</td>\n",
       "      <td>0.575975</td>\n",
       "      <td>-0.022781</td>\n",
       "      <td>0.628859</td>\n",
       "      <td>0.514699</td>\n",
       "      <td>-0.035383</td>\n",
       "      <td>0.655395</td>\n",
       "      <td>...</td>\n",
       "      <td>0.459007</td>\n",
       "      <td>0.451748</td>\n",
       "      <td>-0.035358</td>\n",
       "      <td>0.438704</td>\n",
       "      <td>0.420442</td>\n",
       "      <td>-0.037176</td>\n",
       "      <td>0.421191</td>\n",
       "      <td>0.387143</td>\n",
       "      <td>-0.035746</td>\n",
       "      <td>setting</td>\n",
       "    </tr>\n",
       "    <tr>\n",
       "      <th>3056</th>\n",
       "      <td>0.495041</td>\n",
       "      <td>0.558263</td>\n",
       "      <td>-5.049245e-07</td>\n",
       "      <td>0.445522</td>\n",
       "      <td>0.486744</td>\n",
       "      <td>-0.046380</td>\n",
       "      <td>0.396251</td>\n",
       "      <td>0.384192</td>\n",
       "      <td>-0.076590</td>\n",
       "      <td>0.356634</td>\n",
       "      <td>...</td>\n",
       "      <td>0.627123</td>\n",
       "      <td>0.261588</td>\n",
       "      <td>-0.068622</td>\n",
       "      <td>0.656584</td>\n",
       "      <td>0.220552</td>\n",
       "      <td>-0.075076</td>\n",
       "      <td>0.680451</td>\n",
       "      <td>0.173561</td>\n",
       "      <td>-0.075250</td>\n",
       "      <td>setting</td>\n",
       "    </tr>\n",
       "    <tr>\n",
       "      <th>3057</th>\n",
       "      <td>0.557972</td>\n",
       "      <td>0.550859</td>\n",
       "      <td>-3.051815e-07</td>\n",
       "      <td>0.598790</td>\n",
       "      <td>0.499685</td>\n",
       "      <td>-0.026295</td>\n",
       "      <td>0.633401</td>\n",
       "      <td>0.433006</td>\n",
       "      <td>-0.044846</td>\n",
       "      <td>0.672876</td>\n",
       "      <td>...</td>\n",
       "      <td>0.447705</td>\n",
       "      <td>0.348357</td>\n",
       "      <td>-0.048279</td>\n",
       "      <td>0.423850</td>\n",
       "      <td>0.312417</td>\n",
       "      <td>-0.053494</td>\n",
       "      <td>0.404662</td>\n",
       "      <td>0.271823</td>\n",
       "      <td>-0.055041</td>\n",
       "      <td>setting</td>\n",
       "    </tr>\n",
       "  </tbody>\n",
       "</table>\n",
       "<p>3058 rows × 64 columns</p>\n",
       "</div>"
      ],
      "text/plain": [
       "            0         1             2         3         4         5   \\\n",
       "0     0.434647  0.611131 -1.114650e-07  0.475884  0.586491 -0.018334   \n",
       "1     0.381353  0.473653 -2.841413e-07  0.456844  0.404849  0.004443   \n",
       "2     0.464858  0.736283 -2.577997e-07  0.516449  0.690089  0.009433   \n",
       "3     0.447572  0.560984 -1.051467e-07  0.493314  0.550676 -0.040490   \n",
       "4     0.465673  0.664986 -2.830199e-07  0.511478  0.631088  0.012784   \n",
       "...        ...       ...           ...       ...       ...       ...   \n",
       "3053  0.279499  0.521108 -4.714678e-07  0.225156  0.480965 -0.019385   \n",
       "3054  0.556808  0.778212 -4.194526e-07  0.593478  0.727078 -0.027367   \n",
       "3055  0.558294  0.620574 -3.627115e-07  0.597281  0.575975 -0.022781   \n",
       "3056  0.495041  0.558263 -5.049245e-07  0.445522  0.486744 -0.046380   \n",
       "3057  0.557972  0.550859 -3.051815e-07  0.598790  0.499685 -0.026295   \n",
       "\n",
       "            6         7         8         9   ...        54        55  \\\n",
       "0     0.517081  0.549613 -0.026509  0.554658  ...  0.409894  0.434054   \n",
       "1     0.514226  0.323305 -0.003314  0.565055  ...  0.303595  0.173345   \n",
       "2     0.549900  0.631091  0.010517  0.577705  ...  0.415082  0.537706   \n",
       "3     0.546737  0.509749 -0.060630  0.601612  ...  0.425134  0.309898   \n",
       "4     0.538029  0.590725  0.015343  0.558790  ...  0.428097  0.462905   \n",
       "...        ...       ...       ...       ...  ...       ...       ...   \n",
       "3053  0.182144  0.401417 -0.033311  0.153303  ...  0.356377  0.246205   \n",
       "3054  0.622684  0.653537 -0.043029  0.651444  ...  0.442890  0.597018   \n",
       "3055  0.628859  0.514699 -0.035383  0.655395  ...  0.459007  0.451748   \n",
       "3056  0.396251  0.384192 -0.076590  0.356634  ...  0.627123  0.261588   \n",
       "3057  0.633401  0.433006 -0.044846  0.672876  ...  0.447705  0.348357   \n",
       "\n",
       "            56        57        58        59        60        61        62  \\\n",
       "0    -0.024014  0.416464  0.474140 -0.017954  0.422128  0.499674 -0.010102   \n",
       "1    -0.011918  0.306607  0.220499  0.000960  0.312846  0.255283  0.007282   \n",
       "2     0.013943  0.418185  0.570582  0.022343  0.422321  0.597188  0.026506   \n",
       "3    -0.023744  0.425272  0.357267 -0.013718  0.433023  0.385544 -0.001162   \n",
       "4     0.003385  0.428203  0.495145  0.009417  0.432352  0.523114  0.013447   \n",
       "...        ...       ...       ...       ...       ...       ...       ...   \n",
       "3053 -0.065132  0.374677  0.196805 -0.075431  0.389972  0.147648 -0.078543   \n",
       "3054 -0.043961  0.418398  0.569878 -0.048178  0.397862  0.539944 -0.047661   \n",
       "3055 -0.035358  0.438704  0.420442 -0.037176  0.421191  0.387143 -0.035746   \n",
       "3056 -0.068622  0.656584  0.220552 -0.075076  0.680451  0.173561 -0.075250   \n",
       "3057 -0.048279  0.423850  0.312417 -0.053494  0.404662  0.271823 -0.055041   \n",
       "\n",
       "           63  \n",
       "0       right  \n",
       "1       right  \n",
       "2       right  \n",
       "3       right  \n",
       "4       right  \n",
       "...       ...  \n",
       "3053  setting  \n",
       "3054  setting  \n",
       "3055  setting  \n",
       "3056  setting  \n",
       "3057  setting  \n",
       "\n",
       "[3058 rows x 64 columns]"
      ]
     },
     "execution_count": 52,
     "metadata": {},
     "output_type": "execute_result"
    }
   ],
   "source": [
    "#โหลดข้อมูล\n",
    "df = pd.read_csv('dataset3.csv')\n",
    "df.columns = [i for i in range(df.shape[1])]\n",
    "df"
   ]
  },
  {
   "cell_type": "code",
   "execution_count": 25,
   "metadata": {},
   "outputs": [
    {
     "data": {
      "text/html": [
       "<div>\n",
       "<style scoped>\n",
       "    .dataframe tbody tr th:only-of-type {\n",
       "        vertical-align: middle;\n",
       "    }\n",
       "\n",
       "    .dataframe tbody tr th {\n",
       "        vertical-align: top;\n",
       "    }\n",
       "\n",
       "    .dataframe thead th {\n",
       "        text-align: right;\n",
       "    }\n",
       "</style>\n",
       "<table border=\"1\" class=\"dataframe\">\n",
       "  <thead>\n",
       "    <tr style=\"text-align: right;\">\n",
       "      <th></th>\n",
       "      <th>0</th>\n",
       "      <th>1</th>\n",
       "      <th>2</th>\n",
       "      <th>3</th>\n",
       "      <th>4</th>\n",
       "      <th>5</th>\n",
       "      <th>6</th>\n",
       "      <th>7</th>\n",
       "      <th>8</th>\n",
       "      <th>9</th>\n",
       "      <th>...</th>\n",
       "      <th>54</th>\n",
       "      <th>55</th>\n",
       "      <th>56</th>\n",
       "      <th>57</th>\n",
       "      <th>58</th>\n",
       "      <th>59</th>\n",
       "      <th>60</th>\n",
       "      <th>61</th>\n",
       "      <th>62</th>\n",
       "      <th>Output</th>\n",
       "    </tr>\n",
       "  </thead>\n",
       "  <tbody>\n",
       "    <tr>\n",
       "      <th>0</th>\n",
       "      <td>0.490525</td>\n",
       "      <td>0.599689</td>\n",
       "      <td>-3.909012e-07</td>\n",
       "      <td>0.551069</td>\n",
       "      <td>0.536369</td>\n",
       "      <td>0.007378</td>\n",
       "      <td>0.600408</td>\n",
       "      <td>0.454728</td>\n",
       "      <td>0.000915</td>\n",
       "      <td>0.643041</td>\n",
       "      <td>...</td>\n",
       "      <td>0.419863</td>\n",
       "      <td>0.321139</td>\n",
       "      <td>-0.023740</td>\n",
       "      <td>0.420293</td>\n",
       "      <td>0.369995</td>\n",
       "      <td>-0.012496</td>\n",
       "      <td>0.431346</td>\n",
       "      <td>0.403387</td>\n",
       "      <td>-0.006061</td>\n",
       "      <td>right</td>\n",
       "    </tr>\n",
       "    <tr>\n",
       "      <th>1</th>\n",
       "      <td>0.381353</td>\n",
       "      <td>0.473653</td>\n",
       "      <td>-2.841413e-07</td>\n",
       "      <td>0.456844</td>\n",
       "      <td>0.404849</td>\n",
       "      <td>0.004443</td>\n",
       "      <td>0.514226</td>\n",
       "      <td>0.323305</td>\n",
       "      <td>-0.003314</td>\n",
       "      <td>0.565055</td>\n",
       "      <td>...</td>\n",
       "      <td>0.303595</td>\n",
       "      <td>0.173345</td>\n",
       "      <td>-0.011918</td>\n",
       "      <td>0.306607</td>\n",
       "      <td>0.220499</td>\n",
       "      <td>0.000960</td>\n",
       "      <td>0.312846</td>\n",
       "      <td>0.255283</td>\n",
       "      <td>0.007282</td>\n",
       "      <td>right</td>\n",
       "    </tr>\n",
       "    <tr>\n",
       "      <th>2</th>\n",
       "      <td>0.481710</td>\n",
       "      <td>0.484611</td>\n",
       "      <td>-1.801635e-07</td>\n",
       "      <td>0.546710</td>\n",
       "      <td>0.465006</td>\n",
       "      <td>-0.042348</td>\n",
       "      <td>0.611928</td>\n",
       "      <td>0.422000</td>\n",
       "      <td>-0.070763</td>\n",
       "      <td>0.679760</td>\n",
       "      <td>...</td>\n",
       "      <td>0.446765</td>\n",
       "      <td>0.155903</td>\n",
       "      <td>-0.044822</td>\n",
       "      <td>0.456529</td>\n",
       "      <td>0.228441</td>\n",
       "      <td>-0.026397</td>\n",
       "      <td>0.460967</td>\n",
       "      <td>0.260071</td>\n",
       "      <td>-0.007204</td>\n",
       "      <td>right</td>\n",
       "    </tr>\n",
       "    <tr>\n",
       "      <th>3</th>\n",
       "      <td>0.408002</td>\n",
       "      <td>0.833397</td>\n",
       "      <td>-2.649660e-07</td>\n",
       "      <td>0.464217</td>\n",
       "      <td>0.744466</td>\n",
       "      <td>0.007985</td>\n",
       "      <td>0.509961</td>\n",
       "      <td>0.648480</td>\n",
       "      <td>0.000196</td>\n",
       "      <td>0.551633</td>\n",
       "      <td>...</td>\n",
       "      <td>0.327003</td>\n",
       "      <td>0.537560</td>\n",
       "      <td>-0.039845</td>\n",
       "      <td>0.327771</td>\n",
       "      <td>0.581049</td>\n",
       "      <td>-0.023522</td>\n",
       "      <td>0.338436</td>\n",
       "      <td>0.619159</td>\n",
       "      <td>-0.013262</td>\n",
       "      <td>right</td>\n",
       "    </tr>\n",
       "    <tr>\n",
       "      <th>4</th>\n",
       "      <td>0.342295</td>\n",
       "      <td>0.427164</td>\n",
       "      <td>-1.050931e-07</td>\n",
       "      <td>0.394806</td>\n",
       "      <td>0.414582</td>\n",
       "      <td>-0.052219</td>\n",
       "      <td>0.452567</td>\n",
       "      <td>0.371864</td>\n",
       "      <td>-0.080114</td>\n",
       "      <td>0.514567</td>\n",
       "      <td>...</td>\n",
       "      <td>0.314610</td>\n",
       "      <td>0.149275</td>\n",
       "      <td>-0.029893</td>\n",
       "      <td>0.315946</td>\n",
       "      <td>0.205844</td>\n",
       "      <td>-0.016384</td>\n",
       "      <td>0.328833</td>\n",
       "      <td>0.223420</td>\n",
       "      <td>-0.001746</td>\n",
       "      <td>right</td>\n",
       "    </tr>\n",
       "    <tr>\n",
       "      <th>...</th>\n",
       "      <td>...</td>\n",
       "      <td>...</td>\n",
       "      <td>...</td>\n",
       "      <td>...</td>\n",
       "      <td>...</td>\n",
       "      <td>...</td>\n",
       "      <td>...</td>\n",
       "      <td>...</td>\n",
       "      <td>...</td>\n",
       "      <td>...</td>\n",
       "      <td>...</td>\n",
       "      <td>...</td>\n",
       "      <td>...</td>\n",
       "      <td>...</td>\n",
       "      <td>...</td>\n",
       "      <td>...</td>\n",
       "      <td>...</td>\n",
       "      <td>...</td>\n",
       "      <td>...</td>\n",
       "      <td>...</td>\n",
       "      <td>...</td>\n",
       "    </tr>\n",
       "    <tr>\n",
       "      <th>6178</th>\n",
       "      <td>0.661341</td>\n",
       "      <td>0.520236</td>\n",
       "      <td>-3.062157e-07</td>\n",
       "      <td>0.707213</td>\n",
       "      <td>0.475794</td>\n",
       "      <td>-0.021524</td>\n",
       "      <td>0.746577</td>\n",
       "      <td>0.413012</td>\n",
       "      <td>-0.038455</td>\n",
       "      <td>0.786162</td>\n",
       "      <td>...</td>\n",
       "      <td>0.556690</td>\n",
       "      <td>0.264970</td>\n",
       "      <td>-0.060750</td>\n",
       "      <td>0.534424</td>\n",
       "      <td>0.215462</td>\n",
       "      <td>-0.069857</td>\n",
       "      <td>0.515341</td>\n",
       "      <td>0.161342</td>\n",
       "      <td>-0.074508</td>\n",
       "      <td>setting</td>\n",
       "    </tr>\n",
       "    <tr>\n",
       "      <th>6179</th>\n",
       "      <td>0.676962</td>\n",
       "      <td>0.550092</td>\n",
       "      <td>-2.812515e-07</td>\n",
       "      <td>0.718906</td>\n",
       "      <td>0.518200</td>\n",
       "      <td>-0.024386</td>\n",
       "      <td>0.757782</td>\n",
       "      <td>0.472331</td>\n",
       "      <td>-0.042259</td>\n",
       "      <td>0.800159</td>\n",
       "      <td>...</td>\n",
       "      <td>0.602871</td>\n",
       "      <td>0.337473</td>\n",
       "      <td>-0.043340</td>\n",
       "      <td>0.590617</td>\n",
       "      <td>0.298561</td>\n",
       "      <td>-0.047009</td>\n",
       "      <td>0.580477</td>\n",
       "      <td>0.257717</td>\n",
       "      <td>-0.048390</td>\n",
       "      <td>setting</td>\n",
       "    </tr>\n",
       "    <tr>\n",
       "      <th>6180</th>\n",
       "      <td>0.635358</td>\n",
       "      <td>0.613877</td>\n",
       "      <td>-2.710098e-07</td>\n",
       "      <td>0.670976</td>\n",
       "      <td>0.576300</td>\n",
       "      <td>-0.020722</td>\n",
       "      <td>0.701655</td>\n",
       "      <td>0.527294</td>\n",
       "      <td>-0.034741</td>\n",
       "      <td>0.733335</td>\n",
       "      <td>...</td>\n",
       "      <td>0.549948</td>\n",
       "      <td>0.457029</td>\n",
       "      <td>-0.034859</td>\n",
       "      <td>0.530510</td>\n",
       "      <td>0.430704</td>\n",
       "      <td>-0.038122</td>\n",
       "      <td>0.514007</td>\n",
       "      <td>0.400321</td>\n",
       "      <td>-0.038984</td>\n",
       "      <td>setting</td>\n",
       "    </tr>\n",
       "    <tr>\n",
       "      <th>6181</th>\n",
       "      <td>0.491933</td>\n",
       "      <td>0.568563</td>\n",
       "      <td>-3.688502e-07</td>\n",
       "      <td>0.447602</td>\n",
       "      <td>0.499209</td>\n",
       "      <td>-0.038929</td>\n",
       "      <td>0.409813</td>\n",
       "      <td>0.406217</td>\n",
       "      <td>-0.065842</td>\n",
       "      <td>0.376562</td>\n",
       "      <td>...</td>\n",
       "      <td>0.623404</td>\n",
       "      <td>0.321630</td>\n",
       "      <td>-0.064981</td>\n",
       "      <td>0.650955</td>\n",
       "      <td>0.286069</td>\n",
       "      <td>-0.074447</td>\n",
       "      <td>0.674264</td>\n",
       "      <td>0.250050</td>\n",
       "      <td>-0.077500</td>\n",
       "      <td>setting</td>\n",
       "    </tr>\n",
       "    <tr>\n",
       "      <th>6182</th>\n",
       "      <td>0.557972</td>\n",
       "      <td>0.550859</td>\n",
       "      <td>-3.051815e-07</td>\n",
       "      <td>0.598790</td>\n",
       "      <td>0.499685</td>\n",
       "      <td>-0.026295</td>\n",
       "      <td>0.633401</td>\n",
       "      <td>0.433006</td>\n",
       "      <td>-0.044846</td>\n",
       "      <td>0.672876</td>\n",
       "      <td>...</td>\n",
       "      <td>0.447705</td>\n",
       "      <td>0.348357</td>\n",
       "      <td>-0.048279</td>\n",
       "      <td>0.423850</td>\n",
       "      <td>0.312417</td>\n",
       "      <td>-0.053494</td>\n",
       "      <td>0.404662</td>\n",
       "      <td>0.271823</td>\n",
       "      <td>-0.055041</td>\n",
       "      <td>setting</td>\n",
       "    </tr>\n",
       "  </tbody>\n",
       "</table>\n",
       "<p>6183 rows × 64 columns</p>\n",
       "</div>"
      ],
      "text/plain": [
       "             0         1             2         3         4         5  \\\n",
       "0     0.490525  0.599689 -3.909012e-07  0.551069  0.536369  0.007378   \n",
       "1     0.381353  0.473653 -2.841413e-07  0.456844  0.404849  0.004443   \n",
       "2     0.481710  0.484611 -1.801635e-07  0.546710  0.465006 -0.042348   \n",
       "3     0.408002  0.833397 -2.649660e-07  0.464217  0.744466  0.007985   \n",
       "4     0.342295  0.427164 -1.050931e-07  0.394806  0.414582 -0.052219   \n",
       "...        ...       ...           ...       ...       ...       ...   \n",
       "6178  0.661341  0.520236 -3.062157e-07  0.707213  0.475794 -0.021524   \n",
       "6179  0.676962  0.550092 -2.812515e-07  0.718906  0.518200 -0.024386   \n",
       "6180  0.635358  0.613877 -2.710098e-07  0.670976  0.576300 -0.020722   \n",
       "6181  0.491933  0.568563 -3.688502e-07  0.447602  0.499209 -0.038929   \n",
       "6182  0.557972  0.550859 -3.051815e-07  0.598790  0.499685 -0.026295   \n",
       "\n",
       "             6         7         8         9  ...        54        55  \\\n",
       "0     0.600408  0.454728  0.000915  0.643041  ...  0.419863  0.321139   \n",
       "1     0.514226  0.323305 -0.003314  0.565055  ...  0.303595  0.173345   \n",
       "2     0.611928  0.422000 -0.070763  0.679760  ...  0.446765  0.155903   \n",
       "3     0.509961  0.648480  0.000196  0.551633  ...  0.327003  0.537560   \n",
       "4     0.452567  0.371864 -0.080114  0.514567  ...  0.314610  0.149275   \n",
       "...        ...       ...       ...       ...  ...       ...       ...   \n",
       "6178  0.746577  0.413012 -0.038455  0.786162  ...  0.556690  0.264970   \n",
       "6179  0.757782  0.472331 -0.042259  0.800159  ...  0.602871  0.337473   \n",
       "6180  0.701655  0.527294 -0.034741  0.733335  ...  0.549948  0.457029   \n",
       "6181  0.409813  0.406217 -0.065842  0.376562  ...  0.623404  0.321630   \n",
       "6182  0.633401  0.433006 -0.044846  0.672876  ...  0.447705  0.348357   \n",
       "\n",
       "            56        57        58        59        60        61        62  \\\n",
       "0    -0.023740  0.420293  0.369995 -0.012496  0.431346  0.403387 -0.006061   \n",
       "1    -0.011918  0.306607  0.220499  0.000960  0.312846  0.255283  0.007282   \n",
       "2    -0.044822  0.456529  0.228441 -0.026397  0.460967  0.260071 -0.007204   \n",
       "3    -0.039845  0.327771  0.581049 -0.023522  0.338436  0.619159 -0.013262   \n",
       "4    -0.029893  0.315946  0.205844 -0.016384  0.328833  0.223420 -0.001746   \n",
       "...        ...       ...       ...       ...       ...       ...       ...   \n",
       "6178 -0.060750  0.534424  0.215462 -0.069857  0.515341  0.161342 -0.074508   \n",
       "6179 -0.043340  0.590617  0.298561 -0.047009  0.580477  0.257717 -0.048390   \n",
       "6180 -0.034859  0.530510  0.430704 -0.038122  0.514007  0.400321 -0.038984   \n",
       "6181 -0.064981  0.650955  0.286069 -0.074447  0.674264  0.250050 -0.077500   \n",
       "6182 -0.048279  0.423850  0.312417 -0.053494  0.404662  0.271823 -0.055041   \n",
       "\n",
       "       Output  \n",
       "0       right  \n",
       "1       right  \n",
       "2       right  \n",
       "3       right  \n",
       "4       right  \n",
       "...       ...  \n",
       "6178  setting  \n",
       "6179  setting  \n",
       "6180  setting  \n",
       "6181  setting  \n",
       "6182  setting  \n",
       "\n",
       "[6183 rows x 64 columns]"
      ]
     },
     "execution_count": 25,
     "metadata": {},
     "output_type": "execute_result"
    }
   ],
   "source": [
    "df = df.rename(columns={63: 'Output'})\n",
    "df"
   ]
  },
  {
   "cell_type": "code",
   "execution_count": 53,
   "metadata": {},
   "outputs": [
    {
     "name": "stdout",
     "output_type": "stream",
     "text": [
      "Features shape = (3058, 63)\n",
      "Labels shape = (3058,)\n"
     ]
    }
   ],
   "source": [
    "X = df.iloc[:, :-1]\n",
    "print(\"Features shape =\", X.shape)\n",
    "\n",
    "Y = df.iloc[:, -1]\n",
    "print(\"Labels shape =\", Y.shape)"
   ]
  },
  {
   "cell_type": "code",
   "execution_count": 54,
   "metadata": {},
   "outputs": [],
   "source": [
    "x_train, x_test, y_train, y_test = train_test_split(X, Y, test_size=0.2, random_state=0)"
   ]
  },
  {
   "cell_type": "code",
   "execution_count": 55,
   "metadata": {},
   "outputs": [],
   "source": [
    "# Decision Tree Parameter Grid\n",
    "param_grid_dt = {\n",
    "    'criterion': ['gini', 'entropy'],\n",
    "    'max_depth': [None, 10, 20, 30],\n",
    "    'min_samples_split': [2, 5, 10],\n",
    "    'min_samples_leaf': [1, 2, 4]\n",
    "}\n",
    "\n",
    "# AdaBoost Parameter Grid\n",
    "param_grid_ada = {\n",
    "    'n_estimators': [50, 100, 200],\n",
    "    'learning_rate': [0.01, 0.1, 1],\n",
    "    'algorithm': ['SAMME', 'SAMME.R']\n",
    "}\n",
    "\n",
    "# Naive Bayes Parameter Grid (GaussianNB)\n",
    "# Naive Bayes ไม่มี parameter เยอะ แต่ GaussianNB ปรับ var_smoothing ได้\n",
    "param_grid_nb = {\n",
    "    'var_smoothing': [1e-9, 1e-8, 1e-7, 1e-6]\n",
    "}\n",
    "\n",
    "# SVM Parameter Grid\n",
    "param_grid_svm = {\n",
    "    'C': [0.1, 1, 10, 100],\n",
    "    'gamma': [1, 0.1, 0.01, 0.001],\n",
    "    'kernel': ['rbf', 'linear']\n",
    "}\n",
    "\n",
    "# Random Forest Parameter Grid\n",
    "param_grid_rf = {\n",
    "    'n_estimators': [50, 100, 200],\n",
    "    'max_depth': [None, 10, 20, 30],\n",
    "    'min_samples_split': [2, 5, 10],\n",
    "    'min_samples_leaf': [1, 2, 4]\n",
    "}\n",
    "\n",
    "# KNN Parameter Grid\n",
    "param_grid_knn = {\n",
    "    'n_neighbors': [3, 5, 7, 9],\n",
    "    'weights': ['uniform', 'distance'],\n",
    "    'metric': ['euclidean', 'manhattan', 'minkowski']\n",
    "}\n",
    "\n",
    "# MLP Parameter Grid\n",
    "param_grid_mlp = {\n",
    "    'hidden_layer_sizes': [(50,), (100,), (50, 50), (100, 50)],\n",
    "    'activation': ['relu', 'tanh', 'logistic'],\n",
    "    'solver': ['adam', 'sgd'],\n",
    "    'learning_rate': ['constant', 'adaptive'],\n",
    "    'max_iter': [200, 300, 500]\n",
    "}\n"
   ]
  },
  {
   "cell_type": "code",
   "execution_count": 56,
   "metadata": {},
   "outputs": [
    {
     "name": "stdout",
     "output_type": "stream",
     "text": [
      "Fitting 5 folds for each of 32 candidates, totalling 160 fits\n",
      "[CV] END .........................C=0.1, gamma=1, kernel=rbf; total time=   0.4s\n",
      "[CV] END .........................C=0.1, gamma=1, kernel=rbf; total time=   0.4s\n",
      "[CV] END .........................C=0.1, gamma=1, kernel=rbf; total time=   0.4s\n",
      "[CV] END .........................C=0.1, gamma=1, kernel=rbf; total time=   0.4s\n",
      "[CV] END .........................C=0.1, gamma=1, kernel=rbf; total time=   0.4s\n",
      "[CV] END ......................C=0.1, gamma=1, kernel=linear; total time=   0.3s\n",
      "[CV] END ......................C=0.1, gamma=1, kernel=linear; total time=   0.3s\n",
      "[CV] END ......................C=0.1, gamma=1, kernel=linear; total time=   0.3s\n",
      "[CV] END ......................C=0.1, gamma=1, kernel=linear; total time=   0.3s\n",
      "[CV] END ......................C=0.1, gamma=1, kernel=linear; total time=   0.3s\n",
      "[CV] END .......................C=0.1, gamma=0.1, kernel=rbf; total time=   0.6s\n",
      "[CV] END .......................C=0.1, gamma=0.1, kernel=rbf; total time=   0.6s\n",
      "[CV] END .......................C=0.1, gamma=0.1, kernel=rbf; total time=   0.6s\n",
      "[CV] END .......................C=0.1, gamma=0.1, kernel=rbf; total time=   0.6s\n",
      "[CV] END .......................C=0.1, gamma=0.1, kernel=rbf; total time=   0.6s\n",
      "[CV] END ....................C=0.1, gamma=0.1, kernel=linear; total time=   0.3s\n",
      "[CV] END ....................C=0.1, gamma=0.1, kernel=linear; total time=   0.3s\n",
      "[CV] END ....................C=0.1, gamma=0.1, kernel=linear; total time=   0.3s\n",
      "[CV] END ....................C=0.1, gamma=0.1, kernel=linear; total time=   0.3s\n",
      "[CV] END ....................C=0.1, gamma=0.1, kernel=linear; total time=   0.3s\n",
      "[CV] END ......................C=0.1, gamma=0.01, kernel=rbf; total time=   0.6s\n",
      "[CV] END ......................C=0.1, gamma=0.01, kernel=rbf; total time=   0.6s\n",
      "[CV] END ......................C=0.1, gamma=0.01, kernel=rbf; total time=   0.6s\n",
      "[CV] END ......................C=0.1, gamma=0.01, kernel=rbf; total time=   0.6s\n",
      "[CV] END ......................C=0.1, gamma=0.01, kernel=rbf; total time=   0.6s\n",
      "[CV] END ...................C=0.1, gamma=0.01, kernel=linear; total time=   0.3s\n",
      "[CV] END ...................C=0.1, gamma=0.01, kernel=linear; total time=   0.3s\n",
      "[CV] END ...................C=0.1, gamma=0.01, kernel=linear; total time=   0.3s\n",
      "[CV] END ...................C=0.1, gamma=0.01, kernel=linear; total time=   0.3s\n",
      "[CV] END ...................C=0.1, gamma=0.01, kernel=linear; total time=   0.3s\n",
      "[CV] END .....................C=0.1, gamma=0.001, kernel=rbf; total time=   0.7s\n",
      "[CV] END .....................C=0.1, gamma=0.001, kernel=rbf; total time=   0.6s\n",
      "[CV] END .....................C=0.1, gamma=0.001, kernel=rbf; total time=   0.6s\n",
      "[CV] END .....................C=0.1, gamma=0.001, kernel=rbf; total time=   0.6s\n",
      "[CV] END .....................C=0.1, gamma=0.001, kernel=rbf; total time=   0.6s\n",
      "[CV] END ..................C=0.1, gamma=0.001, kernel=linear; total time=   0.3s\n",
      "[CV] END ..................C=0.1, gamma=0.001, kernel=linear; total time=   0.3s\n",
      "[CV] END ..................C=0.1, gamma=0.001, kernel=linear; total time=   0.3s\n",
      "[CV] END ..................C=0.1, gamma=0.001, kernel=linear; total time=   0.3s\n",
      "[CV] END ..................C=0.1, gamma=0.001, kernel=linear; total time=   0.3s\n",
      "[CV] END ...........................C=1, gamma=1, kernel=rbf; total time=   0.2s\n",
      "[CV] END ...........................C=1, gamma=1, kernel=rbf; total time=   0.2s\n",
      "[CV] END ...........................C=1, gamma=1, kernel=rbf; total time=   0.2s\n",
      "[CV] END ...........................C=1, gamma=1, kernel=rbf; total time=   0.2s\n",
      "[CV] END ...........................C=1, gamma=1, kernel=rbf; total time=   0.2s\n",
      "[CV] END ........................C=1, gamma=1, kernel=linear; total time=   0.1s\n",
      "[CV] END ........................C=1, gamma=1, kernel=linear; total time=   0.1s\n",
      "[CV] END ........................C=1, gamma=1, kernel=linear; total time=   0.1s\n",
      "[CV] END ........................C=1, gamma=1, kernel=linear; total time=   0.1s\n",
      "[CV] END ........................C=1, gamma=1, kernel=linear; total time=   0.1s\n",
      "[CV] END .........................C=1, gamma=0.1, kernel=rbf; total time=   0.4s\n",
      "[CV] END .........................C=1, gamma=0.1, kernel=rbf; total time=   0.4s\n",
      "[CV] END .........................C=1, gamma=0.1, kernel=rbf; total time=   0.4s\n",
      "[CV] END .........................C=1, gamma=0.1, kernel=rbf; total time=   0.4s\n",
      "[CV] END .........................C=1, gamma=0.1, kernel=rbf; total time=   0.4s\n",
      "[CV] END ......................C=1, gamma=0.1, kernel=linear; total time=   0.1s\n",
      "[CV] END ......................C=1, gamma=0.1, kernel=linear; total time=   0.1s\n",
      "[CV] END ......................C=1, gamma=0.1, kernel=linear; total time=   0.1s\n",
      "[CV] END ......................C=1, gamma=0.1, kernel=linear; total time=   0.1s\n",
      "[CV] END ......................C=1, gamma=0.1, kernel=linear; total time=   0.1s\n",
      "[CV] END ........................C=1, gamma=0.01, kernel=rbf; total time=   0.6s\n",
      "[CV] END ........................C=1, gamma=0.01, kernel=rbf; total time=   0.6s\n",
      "[CV] END ........................C=1, gamma=0.01, kernel=rbf; total time=   0.6s\n",
      "[CV] END ........................C=1, gamma=0.01, kernel=rbf; total time=   0.6s\n",
      "[CV] END ........................C=1, gamma=0.01, kernel=rbf; total time=   0.6s\n",
      "[CV] END .....................C=1, gamma=0.01, kernel=linear; total time=   0.1s\n",
      "[CV] END .....................C=1, gamma=0.01, kernel=linear; total time=   0.1s\n",
      "[CV] END .....................C=1, gamma=0.01, kernel=linear; total time=   0.1s\n",
      "[CV] END .....................C=1, gamma=0.01, kernel=linear; total time=   0.1s\n",
      "[CV] END .....................C=1, gamma=0.01, kernel=linear; total time=   0.1s\n",
      "[CV] END .......................C=1, gamma=0.001, kernel=rbf; total time=   0.6s\n",
      "[CV] END .......................C=1, gamma=0.001, kernel=rbf; total time=   0.6s\n",
      "[CV] END .......................C=1, gamma=0.001, kernel=rbf; total time=   0.6s\n",
      "[CV] END .......................C=1, gamma=0.001, kernel=rbf; total time=   0.6s\n",
      "[CV] END .......................C=1, gamma=0.001, kernel=rbf; total time=   0.6s\n",
      "[CV] END ....................C=1, gamma=0.001, kernel=linear; total time=   0.1s\n",
      "[CV] END ....................C=1, gamma=0.001, kernel=linear; total time=   0.1s\n",
      "[CV] END ....................C=1, gamma=0.001, kernel=linear; total time=   0.1s\n",
      "[CV] END ....................C=1, gamma=0.001, kernel=linear; total time=   0.1s\n",
      "[CV] END ....................C=1, gamma=0.001, kernel=linear; total time=   0.1s\n",
      "[CV] END ..........................C=10, gamma=1, kernel=rbf; total time=   0.1s\n",
      "[CV] END ..........................C=10, gamma=1, kernel=rbf; total time=   0.1s\n",
      "[CV] END ..........................C=10, gamma=1, kernel=rbf; total time=   0.1s\n",
      "[CV] END ..........................C=10, gamma=1, kernel=rbf; total time=   0.1s\n",
      "[CV] END ..........................C=10, gamma=1, kernel=rbf; total time=   0.1s\n",
      "[CV] END .......................C=10, gamma=1, kernel=linear; total time=   0.1s\n",
      "[CV] END .......................C=10, gamma=1, kernel=linear; total time=   0.1s\n",
      "[CV] END .......................C=10, gamma=1, kernel=linear; total time=   0.1s\n",
      "[CV] END .......................C=10, gamma=1, kernel=linear; total time=   0.1s\n",
      "[CV] END .......................C=10, gamma=1, kernel=linear; total time=   0.1s\n",
      "[CV] END ........................C=10, gamma=0.1, kernel=rbf; total time=   0.2s\n",
      "[CV] END ........................C=10, gamma=0.1, kernel=rbf; total time=   0.2s\n",
      "[CV] END ........................C=10, gamma=0.1, kernel=rbf; total time=   0.2s\n",
      "[CV] END ........................C=10, gamma=0.1, kernel=rbf; total time=   0.1s\n",
      "[CV] END ........................C=10, gamma=0.1, kernel=rbf; total time=   0.2s\n",
      "[CV] END .....................C=10, gamma=0.1, kernel=linear; total time=   0.1s\n",
      "[CV] END .....................C=10, gamma=0.1, kernel=linear; total time=   0.1s\n",
      "[CV] END .....................C=10, gamma=0.1, kernel=linear; total time=   0.1s\n",
      "[CV] END .....................C=10, gamma=0.1, kernel=linear; total time=   0.1s\n",
      "[CV] END .....................C=10, gamma=0.1, kernel=linear; total time=   0.1s\n",
      "[CV] END .......................C=10, gamma=0.01, kernel=rbf; total time=   0.4s\n",
      "[CV] END .......................C=10, gamma=0.01, kernel=rbf; total time=   0.4s\n",
      "[CV] END .......................C=10, gamma=0.01, kernel=rbf; total time=   0.4s\n",
      "[CV] END .......................C=10, gamma=0.01, kernel=rbf; total time=   0.4s\n",
      "[CV] END .......................C=10, gamma=0.01, kernel=rbf; total time=   0.4s\n",
      "[CV] END ....................C=10, gamma=0.01, kernel=linear; total time=   0.1s\n",
      "[CV] END ....................C=10, gamma=0.01, kernel=linear; total time=   0.1s\n",
      "[CV] END ....................C=10, gamma=0.01, kernel=linear; total time=   0.1s\n",
      "[CV] END ....................C=10, gamma=0.01, kernel=linear; total time=   0.1s\n",
      "[CV] END ....................C=10, gamma=0.01, kernel=linear; total time=   0.1s\n",
      "[CV] END ......................C=10, gamma=0.001, kernel=rbf; total time=   0.6s\n",
      "[CV] END ......................C=10, gamma=0.001, kernel=rbf; total time=   0.6s\n",
      "[CV] END ......................C=10, gamma=0.001, kernel=rbf; total time=   0.6s\n",
      "[CV] END ......................C=10, gamma=0.001, kernel=rbf; total time=   0.6s\n",
      "[CV] END ......................C=10, gamma=0.001, kernel=rbf; total time=   0.6s\n",
      "[CV] END ...................C=10, gamma=0.001, kernel=linear; total time=   0.1s\n",
      "[CV] END ...................C=10, gamma=0.001, kernel=linear; total time=   0.1s\n",
      "[CV] END ...................C=10, gamma=0.001, kernel=linear; total time=   0.1s\n",
      "[CV] END ...................C=10, gamma=0.001, kernel=linear; total time=   0.1s\n",
      "[CV] END ...................C=10, gamma=0.001, kernel=linear; total time=   0.1s\n",
      "[CV] END .........................C=100, gamma=1, kernel=rbf; total time=   0.1s\n",
      "[CV] END .........................C=100, gamma=1, kernel=rbf; total time=   0.1s\n",
      "[CV] END .........................C=100, gamma=1, kernel=rbf; total time=   0.1s\n",
      "[CV] END .........................C=100, gamma=1, kernel=rbf; total time=   0.1s\n",
      "[CV] END .........................C=100, gamma=1, kernel=rbf; total time=   0.1s\n",
      "[CV] END ......................C=100, gamma=1, kernel=linear; total time=   0.1s\n",
      "[CV] END ......................C=100, gamma=1, kernel=linear; total time=   0.1s\n",
      "[CV] END ......................C=100, gamma=1, kernel=linear; total time=   0.1s\n",
      "[CV] END ......................C=100, gamma=1, kernel=linear; total time=   0.1s\n",
      "[CV] END ......................C=100, gamma=1, kernel=linear; total time=   0.1s\n",
      "[CV] END .......................C=100, gamma=0.1, kernel=rbf; total time=   0.1s\n",
      "[CV] END .......................C=100, gamma=0.1, kernel=rbf; total time=   0.1s\n",
      "[CV] END .......................C=100, gamma=0.1, kernel=rbf; total time=   0.1s\n",
      "[CV] END .......................C=100, gamma=0.1, kernel=rbf; total time=   0.1s\n",
      "[CV] END .......................C=100, gamma=0.1, kernel=rbf; total time=   0.1s\n",
      "[CV] END ....................C=100, gamma=0.1, kernel=linear; total time=   0.1s\n",
      "[CV] END ....................C=100, gamma=0.1, kernel=linear; total time=   0.1s\n",
      "[CV] END ....................C=100, gamma=0.1, kernel=linear; total time=   0.1s\n",
      "[CV] END ....................C=100, gamma=0.1, kernel=linear; total time=   0.1s\n",
      "[CV] END ....................C=100, gamma=0.1, kernel=linear; total time=   0.1s\n",
      "[CV] END ......................C=100, gamma=0.01, kernel=rbf; total time=   0.2s\n",
      "[CV] END ......................C=100, gamma=0.01, kernel=rbf; total time=   0.2s\n",
      "[CV] END ......................C=100, gamma=0.01, kernel=rbf; total time=   0.2s\n",
      "[CV] END ......................C=100, gamma=0.01, kernel=rbf; total time=   0.2s\n",
      "[CV] END ......................C=100, gamma=0.01, kernel=rbf; total time=   0.2s\n",
      "[CV] END ...................C=100, gamma=0.01, kernel=linear; total time=   0.1s\n",
      "[CV] END ...................C=100, gamma=0.01, kernel=linear; total time=   0.1s\n",
      "[CV] END ...................C=100, gamma=0.01, kernel=linear; total time=   0.1s\n",
      "[CV] END ...................C=100, gamma=0.01, kernel=linear; total time=   0.1s\n",
      "[CV] END ...................C=100, gamma=0.01, kernel=linear; total time=   0.1s\n",
      "[CV] END .....................C=100, gamma=0.001, kernel=rbf; total time=   0.4s\n",
      "[CV] END .....................C=100, gamma=0.001, kernel=rbf; total time=   0.4s\n",
      "[CV] END .....................C=100, gamma=0.001, kernel=rbf; total time=   0.4s\n",
      "[CV] END .....................C=100, gamma=0.001, kernel=rbf; total time=   0.4s\n",
      "[CV] END .....................C=100, gamma=0.001, kernel=rbf; total time=   0.4s\n",
      "[CV] END ..................C=100, gamma=0.001, kernel=linear; total time=   0.1s\n",
      "[CV] END ..................C=100, gamma=0.001, kernel=linear; total time=   0.1s\n",
      "[CV] END ..................C=100, gamma=0.001, kernel=linear; total time=   0.1s\n",
      "[CV] END ..................C=100, gamma=0.001, kernel=linear; total time=   0.1s\n",
      "[CV] END ..................C=100, gamma=0.001, kernel=linear; total time=   0.1s\n"
     ]
    }
   ],
   "source": [
    "#SVM\n",
    "svm = SVC()\n",
    "grid_search_svm = GridSearchCV(estimator=svm, param_grid=param_grid_svm, cv=5, scoring='accuracy', verbose=2)\n",
    "grid_search_svm.fit(x_train, y_train)\n",
    "best_svm = grid_search_svm.best_estimator_\n",
    "y_pred_svm = best_svm.predict(x_test)"
   ]
  },
  {
   "cell_type": "code",
   "execution_count": 61,
   "metadata": {},
   "outputs": [
    {
     "name": "stdout",
     "output_type": "stream",
     "text": [
      "Fitting 5 folds for each of 108 candidates, totalling 540 fits\n",
      "[CV] END max_depth=None, min_samples_leaf=1, min_samples_split=2, n_estimators=50; total time=   0.5s\n",
      "[CV] END max_depth=None, min_samples_leaf=1, min_samples_split=2, n_estimators=50; total time=   0.5s\n",
      "[CV] END max_depth=None, min_samples_leaf=1, min_samples_split=2, n_estimators=50; total time=   0.5s\n",
      "[CV] END max_depth=None, min_samples_leaf=1, min_samples_split=2, n_estimators=50; total time=   0.5s\n",
      "[CV] END max_depth=None, min_samples_leaf=1, min_samples_split=2, n_estimators=50; total time=   0.5s\n",
      "[CV] END max_depth=None, min_samples_leaf=1, min_samples_split=2, n_estimators=100; total time=   1.0s\n",
      "[CV] END max_depth=None, min_samples_leaf=1, min_samples_split=2, n_estimators=100; total time=   1.0s\n",
      "[CV] END max_depth=None, min_samples_leaf=1, min_samples_split=2, n_estimators=100; total time=   1.0s\n",
      "[CV] END max_depth=None, min_samples_leaf=1, min_samples_split=2, n_estimators=100; total time=   1.0s\n",
      "[CV] END max_depth=None, min_samples_leaf=1, min_samples_split=2, n_estimators=100; total time=   1.0s\n",
      "[CV] END max_depth=None, min_samples_leaf=1, min_samples_split=2, n_estimators=200; total time=   2.0s\n",
      "[CV] END max_depth=None, min_samples_leaf=1, min_samples_split=2, n_estimators=200; total time=   2.2s\n",
      "[CV] END max_depth=None, min_samples_leaf=1, min_samples_split=2, n_estimators=200; total time=   2.1s\n",
      "[CV] END max_depth=None, min_samples_leaf=1, min_samples_split=2, n_estimators=200; total time=   2.0s\n",
      "[CV] END max_depth=None, min_samples_leaf=1, min_samples_split=2, n_estimators=200; total time=   2.0s\n",
      "[CV] END max_depth=None, min_samples_leaf=1, min_samples_split=5, n_estimators=50; total time=   0.5s\n",
      "[CV] END max_depth=None, min_samples_leaf=1, min_samples_split=5, n_estimators=50; total time=   0.5s\n",
      "[CV] END max_depth=None, min_samples_leaf=1, min_samples_split=5, n_estimators=50; total time=   0.5s\n",
      "[CV] END max_depth=None, min_samples_leaf=1, min_samples_split=5, n_estimators=50; total time=   0.5s\n",
      "[CV] END max_depth=None, min_samples_leaf=1, min_samples_split=5, n_estimators=50; total time=   0.5s\n",
      "[CV] END max_depth=None, min_samples_leaf=1, min_samples_split=5, n_estimators=100; total time=   1.0s\n",
      "[CV] END max_depth=None, min_samples_leaf=1, min_samples_split=5, n_estimators=100; total time=   1.0s\n",
      "[CV] END max_depth=None, min_samples_leaf=1, min_samples_split=5, n_estimators=100; total time=   1.0s\n",
      "[CV] END max_depth=None, min_samples_leaf=1, min_samples_split=5, n_estimators=100; total time=   1.0s\n",
      "[CV] END max_depth=None, min_samples_leaf=1, min_samples_split=5, n_estimators=100; total time=   1.0s\n",
      "[CV] END max_depth=None, min_samples_leaf=1, min_samples_split=5, n_estimators=200; total time=   2.0s\n",
      "[CV] END max_depth=None, min_samples_leaf=1, min_samples_split=5, n_estimators=200; total time=   2.0s\n",
      "[CV] END max_depth=None, min_samples_leaf=1, min_samples_split=5, n_estimators=200; total time=   2.0s\n",
      "[CV] END max_depth=None, min_samples_leaf=1, min_samples_split=5, n_estimators=200; total time=   2.0s\n",
      "[CV] END max_depth=None, min_samples_leaf=1, min_samples_split=5, n_estimators=200; total time=   2.0s\n",
      "[CV] END max_depth=None, min_samples_leaf=1, min_samples_split=10, n_estimators=50; total time=   0.5s\n",
      "[CV] END max_depth=None, min_samples_leaf=1, min_samples_split=10, n_estimators=50; total time=   0.5s\n",
      "[CV] END max_depth=None, min_samples_leaf=1, min_samples_split=10, n_estimators=50; total time=   0.5s\n",
      "[CV] END max_depth=None, min_samples_leaf=1, min_samples_split=10, n_estimators=50; total time=   0.5s\n",
      "[CV] END max_depth=None, min_samples_leaf=1, min_samples_split=10, n_estimators=50; total time=   0.5s\n",
      "[CV] END max_depth=None, min_samples_leaf=1, min_samples_split=10, n_estimators=100; total time=   1.0s\n",
      "[CV] END max_depth=None, min_samples_leaf=1, min_samples_split=10, n_estimators=100; total time=   1.0s\n",
      "[CV] END max_depth=None, min_samples_leaf=1, min_samples_split=10, n_estimators=100; total time=   1.0s\n",
      "[CV] END max_depth=None, min_samples_leaf=1, min_samples_split=10, n_estimators=100; total time=   1.0s\n",
      "[CV] END max_depth=None, min_samples_leaf=1, min_samples_split=10, n_estimators=100; total time=   1.0s\n",
      "[CV] END max_depth=None, min_samples_leaf=1, min_samples_split=10, n_estimators=200; total time=   2.0s\n",
      "[CV] END max_depth=None, min_samples_leaf=1, min_samples_split=10, n_estimators=200; total time=   2.0s\n",
      "[CV] END max_depth=None, min_samples_leaf=1, min_samples_split=10, n_estimators=200; total time=   2.0s\n",
      "[CV] END max_depth=None, min_samples_leaf=1, min_samples_split=10, n_estimators=200; total time=   2.0s\n",
      "[CV] END max_depth=None, min_samples_leaf=1, min_samples_split=10, n_estimators=200; total time=   2.0s\n",
      "[CV] END max_depth=None, min_samples_leaf=2, min_samples_split=2, n_estimators=50; total time=   0.5s\n",
      "[CV] END max_depth=None, min_samples_leaf=2, min_samples_split=2, n_estimators=50; total time=   0.5s\n",
      "[CV] END max_depth=None, min_samples_leaf=2, min_samples_split=2, n_estimators=50; total time=   0.5s\n",
      "[CV] END max_depth=None, min_samples_leaf=2, min_samples_split=2, n_estimators=50; total time=   0.5s\n",
      "[CV] END max_depth=None, min_samples_leaf=2, min_samples_split=2, n_estimators=50; total time=   0.5s\n",
      "[CV] END max_depth=None, min_samples_leaf=2, min_samples_split=2, n_estimators=100; total time=   1.0s\n",
      "[CV] END max_depth=None, min_samples_leaf=2, min_samples_split=2, n_estimators=100; total time=   1.0s\n",
      "[CV] END max_depth=None, min_samples_leaf=2, min_samples_split=2, n_estimators=100; total time=   1.0s\n",
      "[CV] END max_depth=None, min_samples_leaf=2, min_samples_split=2, n_estimators=100; total time=   1.0s\n",
      "[CV] END max_depth=None, min_samples_leaf=2, min_samples_split=2, n_estimators=100; total time=   1.0s\n",
      "[CV] END max_depth=None, min_samples_leaf=2, min_samples_split=2, n_estimators=200; total time=   2.0s\n",
      "[CV] END max_depth=None, min_samples_leaf=2, min_samples_split=2, n_estimators=200; total time=   2.0s\n",
      "[CV] END max_depth=None, min_samples_leaf=2, min_samples_split=2, n_estimators=200; total time=   2.0s\n",
      "[CV] END max_depth=None, min_samples_leaf=2, min_samples_split=2, n_estimators=200; total time=   2.0s\n",
      "[CV] END max_depth=None, min_samples_leaf=2, min_samples_split=2, n_estimators=200; total time=   2.0s\n",
      "[CV] END max_depth=None, min_samples_leaf=2, min_samples_split=5, n_estimators=50; total time=   0.5s\n",
      "[CV] END max_depth=None, min_samples_leaf=2, min_samples_split=5, n_estimators=50; total time=   0.5s\n",
      "[CV] END max_depth=None, min_samples_leaf=2, min_samples_split=5, n_estimators=50; total time=   0.5s\n",
      "[CV] END max_depth=None, min_samples_leaf=2, min_samples_split=5, n_estimators=50; total time=   0.5s\n",
      "[CV] END max_depth=None, min_samples_leaf=2, min_samples_split=5, n_estimators=50; total time=   0.5s\n",
      "[CV] END max_depth=None, min_samples_leaf=2, min_samples_split=5, n_estimators=100; total time=   1.0s\n",
      "[CV] END max_depth=None, min_samples_leaf=2, min_samples_split=5, n_estimators=100; total time=   1.0s\n",
      "[CV] END max_depth=None, min_samples_leaf=2, min_samples_split=5, n_estimators=100; total time=   1.0s\n",
      "[CV] END max_depth=None, min_samples_leaf=2, min_samples_split=5, n_estimators=100; total time=   1.0s\n",
      "[CV] END max_depth=None, min_samples_leaf=2, min_samples_split=5, n_estimators=100; total time=   1.0s\n",
      "[CV] END max_depth=None, min_samples_leaf=2, min_samples_split=5, n_estimators=200; total time=   1.9s\n",
      "[CV] END max_depth=None, min_samples_leaf=2, min_samples_split=5, n_estimators=200; total time=   2.0s\n",
      "[CV] END max_depth=None, min_samples_leaf=2, min_samples_split=5, n_estimators=200; total time=   2.0s\n",
      "[CV] END max_depth=None, min_samples_leaf=2, min_samples_split=5, n_estimators=200; total time=   2.0s\n",
      "[CV] END max_depth=None, min_samples_leaf=2, min_samples_split=5, n_estimators=200; total time=   2.0s\n",
      "[CV] END max_depth=None, min_samples_leaf=2, min_samples_split=10, n_estimators=50; total time=   0.5s\n",
      "[CV] END max_depth=None, min_samples_leaf=2, min_samples_split=10, n_estimators=50; total time=   0.5s\n",
      "[CV] END max_depth=None, min_samples_leaf=2, min_samples_split=10, n_estimators=50; total time=   0.5s\n",
      "[CV] END max_depth=None, min_samples_leaf=2, min_samples_split=10, n_estimators=50; total time=   0.5s\n",
      "[CV] END max_depth=None, min_samples_leaf=2, min_samples_split=10, n_estimators=50; total time=   0.5s\n",
      "[CV] END max_depth=None, min_samples_leaf=2, min_samples_split=10, n_estimators=100; total time=   1.0s\n",
      "[CV] END max_depth=None, min_samples_leaf=2, min_samples_split=10, n_estimators=100; total time=   1.0s\n",
      "[CV] END max_depth=None, min_samples_leaf=2, min_samples_split=10, n_estimators=100; total time=   1.0s\n",
      "[CV] END max_depth=None, min_samples_leaf=2, min_samples_split=10, n_estimators=100; total time=   1.0s\n",
      "[CV] END max_depth=None, min_samples_leaf=2, min_samples_split=10, n_estimators=100; total time=   1.0s\n",
      "[CV] END max_depth=None, min_samples_leaf=2, min_samples_split=10, n_estimators=200; total time=   1.9s\n",
      "[CV] END max_depth=None, min_samples_leaf=2, min_samples_split=10, n_estimators=200; total time=   1.9s\n",
      "[CV] END max_depth=None, min_samples_leaf=2, min_samples_split=10, n_estimators=200; total time=   2.0s\n",
      "[CV] END max_depth=None, min_samples_leaf=2, min_samples_split=10, n_estimators=200; total time=   1.9s\n",
      "[CV] END max_depth=None, min_samples_leaf=2, min_samples_split=10, n_estimators=200; total time=   1.9s\n",
      "[CV] END max_depth=None, min_samples_leaf=4, min_samples_split=2, n_estimators=50; total time=   0.5s\n",
      "[CV] END max_depth=None, min_samples_leaf=4, min_samples_split=2, n_estimators=50; total time=   0.5s\n",
      "[CV] END max_depth=None, min_samples_leaf=4, min_samples_split=2, n_estimators=50; total time=   0.5s\n",
      "[CV] END max_depth=None, min_samples_leaf=4, min_samples_split=2, n_estimators=50; total time=   0.5s\n",
      "[CV] END max_depth=None, min_samples_leaf=4, min_samples_split=2, n_estimators=50; total time=   0.5s\n",
      "[CV] END max_depth=None, min_samples_leaf=4, min_samples_split=2, n_estimators=100; total time=   0.9s\n",
      "[CV] END max_depth=None, min_samples_leaf=4, min_samples_split=2, n_estimators=100; total time=   0.9s\n",
      "[CV] END max_depth=None, min_samples_leaf=4, min_samples_split=2, n_estimators=100; total time=   0.9s\n",
      "[CV] END max_depth=None, min_samples_leaf=4, min_samples_split=2, n_estimators=100; total time=   0.9s\n",
      "[CV] END max_depth=None, min_samples_leaf=4, min_samples_split=2, n_estimators=100; total time=   0.9s\n",
      "[CV] END max_depth=None, min_samples_leaf=4, min_samples_split=2, n_estimators=200; total time=   1.9s\n",
      "[CV] END max_depth=None, min_samples_leaf=4, min_samples_split=2, n_estimators=200; total time=   1.9s\n",
      "[CV] END max_depth=None, min_samples_leaf=4, min_samples_split=2, n_estimators=200; total time=   1.9s\n",
      "[CV] END max_depth=None, min_samples_leaf=4, min_samples_split=2, n_estimators=200; total time=   1.9s\n",
      "[CV] END max_depth=None, min_samples_leaf=4, min_samples_split=2, n_estimators=200; total time=   1.9s\n",
      "[CV] END max_depth=None, min_samples_leaf=4, min_samples_split=5, n_estimators=50; total time=   0.5s\n",
      "[CV] END max_depth=None, min_samples_leaf=4, min_samples_split=5, n_estimators=50; total time=   0.5s\n",
      "[CV] END max_depth=None, min_samples_leaf=4, min_samples_split=5, n_estimators=50; total time=   0.5s\n",
      "[CV] END max_depth=None, min_samples_leaf=4, min_samples_split=5, n_estimators=50; total time=   0.5s\n",
      "[CV] END max_depth=None, min_samples_leaf=4, min_samples_split=5, n_estimators=50; total time=   0.7s\n",
      "[CV] END max_depth=None, min_samples_leaf=4, min_samples_split=5, n_estimators=100; total time=   1.0s\n",
      "[CV] END max_depth=None, min_samples_leaf=4, min_samples_split=5, n_estimators=100; total time=   1.0s\n",
      "[CV] END max_depth=None, min_samples_leaf=4, min_samples_split=5, n_estimators=100; total time=   0.9s\n",
      "[CV] END max_depth=None, min_samples_leaf=4, min_samples_split=5, n_estimators=100; total time=   0.9s\n",
      "[CV] END max_depth=None, min_samples_leaf=4, min_samples_split=5, n_estimators=100; total time=   0.9s\n",
      "[CV] END max_depth=None, min_samples_leaf=4, min_samples_split=5, n_estimators=200; total time=   1.9s\n",
      "[CV] END max_depth=None, min_samples_leaf=4, min_samples_split=5, n_estimators=200; total time=   1.9s\n",
      "[CV] END max_depth=None, min_samples_leaf=4, min_samples_split=5, n_estimators=200; total time=   1.9s\n",
      "[CV] END max_depth=None, min_samples_leaf=4, min_samples_split=5, n_estimators=200; total time=   1.9s\n",
      "[CV] END max_depth=None, min_samples_leaf=4, min_samples_split=5, n_estimators=200; total time=   1.9s\n",
      "[CV] END max_depth=None, min_samples_leaf=4, min_samples_split=10, n_estimators=50; total time=   0.5s\n",
      "[CV] END max_depth=None, min_samples_leaf=4, min_samples_split=10, n_estimators=50; total time=   0.5s\n",
      "[CV] END max_depth=None, min_samples_leaf=4, min_samples_split=10, n_estimators=50; total time=   0.5s\n",
      "[CV] END max_depth=None, min_samples_leaf=4, min_samples_split=10, n_estimators=50; total time=   0.5s\n",
      "[CV] END max_depth=None, min_samples_leaf=4, min_samples_split=10, n_estimators=50; total time=   0.5s\n",
      "[CV] END max_depth=None, min_samples_leaf=4, min_samples_split=10, n_estimators=100; total time=   0.9s\n",
      "[CV] END max_depth=None, min_samples_leaf=4, min_samples_split=10, n_estimators=100; total time=   0.9s\n",
      "[CV] END max_depth=None, min_samples_leaf=4, min_samples_split=10, n_estimators=100; total time=   0.9s\n",
      "[CV] END max_depth=None, min_samples_leaf=4, min_samples_split=10, n_estimators=100; total time=   0.9s\n",
      "[CV] END max_depth=None, min_samples_leaf=4, min_samples_split=10, n_estimators=100; total time=   0.9s\n",
      "[CV] END max_depth=None, min_samples_leaf=4, min_samples_split=10, n_estimators=200; total time=   1.9s\n",
      "[CV] END max_depth=None, min_samples_leaf=4, min_samples_split=10, n_estimators=200; total time=   1.9s\n",
      "[CV] END max_depth=None, min_samples_leaf=4, min_samples_split=10, n_estimators=200; total time=   1.9s\n",
      "[CV] END max_depth=None, min_samples_leaf=4, min_samples_split=10, n_estimators=200; total time=   1.9s\n",
      "[CV] END max_depth=None, min_samples_leaf=4, min_samples_split=10, n_estimators=200; total time=   1.9s\n",
      "[CV] END max_depth=10, min_samples_leaf=1, min_samples_split=2, n_estimators=50; total time=   0.5s\n",
      "[CV] END max_depth=10, min_samples_leaf=1, min_samples_split=2, n_estimators=50; total time=   0.5s\n",
      "[CV] END max_depth=10, min_samples_leaf=1, min_samples_split=2, n_estimators=50; total time=   0.5s\n",
      "[CV] END max_depth=10, min_samples_leaf=1, min_samples_split=2, n_estimators=50; total time=   0.5s\n",
      "[CV] END max_depth=10, min_samples_leaf=1, min_samples_split=2, n_estimators=50; total time=   0.5s\n",
      "[CV] END max_depth=10, min_samples_leaf=1, min_samples_split=2, n_estimators=100; total time=   1.0s\n",
      "[CV] END max_depth=10, min_samples_leaf=1, min_samples_split=2, n_estimators=100; total time=   1.0s\n",
      "[CV] END max_depth=10, min_samples_leaf=1, min_samples_split=2, n_estimators=100; total time=   1.0s\n",
      "[CV] END max_depth=10, min_samples_leaf=1, min_samples_split=2, n_estimators=100; total time=   1.0s\n",
      "[CV] END max_depth=10, min_samples_leaf=1, min_samples_split=2, n_estimators=100; total time=   1.0s\n",
      "[CV] END max_depth=10, min_samples_leaf=1, min_samples_split=2, n_estimators=200; total time=   1.9s\n",
      "[CV] END max_depth=10, min_samples_leaf=1, min_samples_split=2, n_estimators=200; total time=   2.0s\n",
      "[CV] END max_depth=10, min_samples_leaf=1, min_samples_split=2, n_estimators=200; total time=   2.0s\n",
      "[CV] END max_depth=10, min_samples_leaf=1, min_samples_split=2, n_estimators=200; total time=   2.0s\n",
      "[CV] END max_depth=10, min_samples_leaf=1, min_samples_split=2, n_estimators=200; total time=   2.0s\n",
      "[CV] END max_depth=10, min_samples_leaf=1, min_samples_split=5, n_estimators=50; total time=   0.5s\n",
      "[CV] END max_depth=10, min_samples_leaf=1, min_samples_split=5, n_estimators=50; total time=   0.5s\n",
      "[CV] END max_depth=10, min_samples_leaf=1, min_samples_split=5, n_estimators=50; total time=   0.5s\n",
      "[CV] END max_depth=10, min_samples_leaf=1, min_samples_split=5, n_estimators=50; total time=   0.5s\n",
      "[CV] END max_depth=10, min_samples_leaf=1, min_samples_split=5, n_estimators=50; total time=   0.5s\n",
      "[CV] END max_depth=10, min_samples_leaf=1, min_samples_split=5, n_estimators=100; total time=   1.0s\n",
      "[CV] END max_depth=10, min_samples_leaf=1, min_samples_split=5, n_estimators=100; total time=   1.0s\n",
      "[CV] END max_depth=10, min_samples_leaf=1, min_samples_split=5, n_estimators=100; total time=   1.0s\n",
      "[CV] END max_depth=10, min_samples_leaf=1, min_samples_split=5, n_estimators=100; total time=   1.0s\n",
      "[CV] END max_depth=10, min_samples_leaf=1, min_samples_split=5, n_estimators=100; total time=   1.0s\n",
      "[CV] END max_depth=10, min_samples_leaf=1, min_samples_split=5, n_estimators=200; total time=   2.0s\n",
      "[CV] END max_depth=10, min_samples_leaf=1, min_samples_split=5, n_estimators=200; total time=   2.0s\n",
      "[CV] END max_depth=10, min_samples_leaf=1, min_samples_split=5, n_estimators=200; total time=   2.0s\n",
      "[CV] END max_depth=10, min_samples_leaf=1, min_samples_split=5, n_estimators=200; total time=   2.0s\n",
      "[CV] END max_depth=10, min_samples_leaf=1, min_samples_split=5, n_estimators=200; total time=   2.0s\n",
      "[CV] END max_depth=10, min_samples_leaf=1, min_samples_split=10, n_estimators=50; total time=   0.5s\n",
      "[CV] END max_depth=10, min_samples_leaf=1, min_samples_split=10, n_estimators=50; total time=   0.5s\n",
      "[CV] END max_depth=10, min_samples_leaf=1, min_samples_split=10, n_estimators=50; total time=   0.5s\n",
      "[CV] END max_depth=10, min_samples_leaf=1, min_samples_split=10, n_estimators=50; total time=   0.5s\n",
      "[CV] END max_depth=10, min_samples_leaf=1, min_samples_split=10, n_estimators=50; total time=   0.5s\n",
      "[CV] END max_depth=10, min_samples_leaf=1, min_samples_split=10, n_estimators=100; total time=   1.0s\n",
      "[CV] END max_depth=10, min_samples_leaf=1, min_samples_split=10, n_estimators=100; total time=   1.0s\n",
      "[CV] END max_depth=10, min_samples_leaf=1, min_samples_split=10, n_estimators=100; total time=   1.0s\n",
      "[CV] END max_depth=10, min_samples_leaf=1, min_samples_split=10, n_estimators=100; total time=   1.0s\n",
      "[CV] END max_depth=10, min_samples_leaf=1, min_samples_split=10, n_estimators=100; total time=   1.0s\n",
      "[CV] END max_depth=10, min_samples_leaf=1, min_samples_split=10, n_estimators=200; total time=   1.9s\n",
      "[CV] END max_depth=10, min_samples_leaf=1, min_samples_split=10, n_estimators=200; total time=   1.9s\n",
      "[CV] END max_depth=10, min_samples_leaf=1, min_samples_split=10, n_estimators=200; total time=   1.9s\n",
      "[CV] END max_depth=10, min_samples_leaf=1, min_samples_split=10, n_estimators=200; total time=   2.0s\n",
      "[CV] END max_depth=10, min_samples_leaf=1, min_samples_split=10, n_estimators=200; total time=   1.9s\n",
      "[CV] END max_depth=10, min_samples_leaf=2, min_samples_split=2, n_estimators=50; total time=   0.5s\n",
      "[CV] END max_depth=10, min_samples_leaf=2, min_samples_split=2, n_estimators=50; total time=   0.5s\n",
      "[CV] END max_depth=10, min_samples_leaf=2, min_samples_split=2, n_estimators=50; total time=   0.5s\n",
      "[CV] END max_depth=10, min_samples_leaf=2, min_samples_split=2, n_estimators=50; total time=   0.5s\n",
      "[CV] END max_depth=10, min_samples_leaf=2, min_samples_split=2, n_estimators=50; total time=   0.5s\n",
      "[CV] END max_depth=10, min_samples_leaf=2, min_samples_split=2, n_estimators=100; total time=   1.0s\n",
      "[CV] END max_depth=10, min_samples_leaf=2, min_samples_split=2, n_estimators=100; total time=   1.0s\n",
      "[CV] END max_depth=10, min_samples_leaf=2, min_samples_split=2, n_estimators=100; total time=   1.0s\n",
      "[CV] END max_depth=10, min_samples_leaf=2, min_samples_split=2, n_estimators=100; total time=   1.0s\n",
      "[CV] END max_depth=10, min_samples_leaf=2, min_samples_split=2, n_estimators=100; total time=   1.0s\n",
      "[CV] END max_depth=10, min_samples_leaf=2, min_samples_split=2, n_estimators=200; total time=   1.9s\n",
      "[CV] END max_depth=10, min_samples_leaf=2, min_samples_split=2, n_estimators=200; total time=   1.9s\n",
      "[CV] END max_depth=10, min_samples_leaf=2, min_samples_split=2, n_estimators=200; total time=   2.0s\n",
      "[CV] END max_depth=10, min_samples_leaf=2, min_samples_split=2, n_estimators=200; total time=   1.9s\n",
      "[CV] END max_depth=10, min_samples_leaf=2, min_samples_split=2, n_estimators=200; total time=   1.9s\n",
      "[CV] END max_depth=10, min_samples_leaf=2, min_samples_split=5, n_estimators=50; total time=   0.5s\n",
      "[CV] END max_depth=10, min_samples_leaf=2, min_samples_split=5, n_estimators=50; total time=   0.5s\n",
      "[CV] END max_depth=10, min_samples_leaf=2, min_samples_split=5, n_estimators=50; total time=   0.5s\n",
      "[CV] END max_depth=10, min_samples_leaf=2, min_samples_split=5, n_estimators=50; total time=   0.5s\n",
      "[CV] END max_depth=10, min_samples_leaf=2, min_samples_split=5, n_estimators=50; total time=   0.5s\n",
      "[CV] END max_depth=10, min_samples_leaf=2, min_samples_split=5, n_estimators=100; total time=   1.0s\n",
      "[CV] END max_depth=10, min_samples_leaf=2, min_samples_split=5, n_estimators=100; total time=   0.9s\n",
      "[CV] END max_depth=10, min_samples_leaf=2, min_samples_split=5, n_estimators=100; total time=   1.0s\n",
      "[CV] END max_depth=10, min_samples_leaf=2, min_samples_split=5, n_estimators=100; total time=   0.9s\n",
      "[CV] END max_depth=10, min_samples_leaf=2, min_samples_split=5, n_estimators=100; total time=   1.0s\n",
      "[CV] END max_depth=10, min_samples_leaf=2, min_samples_split=5, n_estimators=200; total time=   1.9s\n",
      "[CV] END max_depth=10, min_samples_leaf=2, min_samples_split=5, n_estimators=200; total time=   2.0s\n",
      "[CV] END max_depth=10, min_samples_leaf=2, min_samples_split=5, n_estimators=200; total time=   1.9s\n",
      "[CV] END max_depth=10, min_samples_leaf=2, min_samples_split=5, n_estimators=200; total time=   2.6s\n",
      "[CV] END max_depth=10, min_samples_leaf=2, min_samples_split=5, n_estimators=200; total time=   1.9s\n",
      "[CV] END max_depth=10, min_samples_leaf=2, min_samples_split=10, n_estimators=50; total time=   0.9s\n",
      "[CV] END max_depth=10, min_samples_leaf=2, min_samples_split=10, n_estimators=50; total time=   0.5s\n",
      "[CV] END max_depth=10, min_samples_leaf=2, min_samples_split=10, n_estimators=50; total time=   0.5s\n",
      "[CV] END max_depth=10, min_samples_leaf=2, min_samples_split=10, n_estimators=50; total time=   0.5s\n",
      "[CV] END max_depth=10, min_samples_leaf=2, min_samples_split=10, n_estimators=50; total time=   0.5s\n",
      "[CV] END max_depth=10, min_samples_leaf=2, min_samples_split=10, n_estimators=100; total time=   1.0s\n",
      "[CV] END max_depth=10, min_samples_leaf=2, min_samples_split=10, n_estimators=100; total time=   0.9s\n",
      "[CV] END max_depth=10, min_samples_leaf=2, min_samples_split=10, n_estimators=100; total time=   1.5s\n",
      "[CV] END max_depth=10, min_samples_leaf=2, min_samples_split=10, n_estimators=100; total time=   1.1s\n",
      "[CV] END max_depth=10, min_samples_leaf=2, min_samples_split=10, n_estimators=100; total time=   1.0s\n",
      "[CV] END max_depth=10, min_samples_leaf=2, min_samples_split=10, n_estimators=200; total time=   2.1s\n",
      "[CV] END max_depth=10, min_samples_leaf=2, min_samples_split=10, n_estimators=200; total time=   2.1s\n",
      "[CV] END max_depth=10, min_samples_leaf=2, min_samples_split=10, n_estimators=200; total time=   1.9s\n",
      "[CV] END max_depth=10, min_samples_leaf=2, min_samples_split=10, n_estimators=200; total time=   1.9s\n",
      "[CV] END max_depth=10, min_samples_leaf=2, min_samples_split=10, n_estimators=200; total time=   2.0s\n",
      "[CV] END max_depth=10, min_samples_leaf=4, min_samples_split=2, n_estimators=50; total time=   0.5s\n",
      "[CV] END max_depth=10, min_samples_leaf=4, min_samples_split=2, n_estimators=50; total time=   0.5s\n",
      "[CV] END max_depth=10, min_samples_leaf=4, min_samples_split=2, n_estimators=50; total time=   0.5s\n",
      "[CV] END max_depth=10, min_samples_leaf=4, min_samples_split=2, n_estimators=50; total time=   0.9s\n",
      "[CV] END max_depth=10, min_samples_leaf=4, min_samples_split=2, n_estimators=50; total time=   0.5s\n",
      "[CV] END max_depth=10, min_samples_leaf=4, min_samples_split=2, n_estimators=100; total time=   0.9s\n",
      "[CV] END max_depth=10, min_samples_leaf=4, min_samples_split=2, n_estimators=100; total time=   1.5s\n",
      "[CV] END max_depth=10, min_samples_leaf=4, min_samples_split=2, n_estimators=100; total time=   1.1s\n",
      "[CV] END max_depth=10, min_samples_leaf=4, min_samples_split=2, n_estimators=100; total time=   2.2s\n",
      "[CV] END max_depth=10, min_samples_leaf=4, min_samples_split=2, n_estimators=100; total time=   1.4s\n",
      "[CV] END max_depth=10, min_samples_leaf=4, min_samples_split=2, n_estimators=200; total time=   1.9s\n",
      "[CV] END max_depth=10, min_samples_leaf=4, min_samples_split=2, n_estimators=200; total time=   2.4s\n",
      "[CV] END max_depth=10, min_samples_leaf=4, min_samples_split=2, n_estimators=200; total time=   2.2s\n",
      "[CV] END max_depth=10, min_samples_leaf=4, min_samples_split=2, n_estimators=200; total time=   2.1s\n",
      "[CV] END max_depth=10, min_samples_leaf=4, min_samples_split=2, n_estimators=200; total time=   2.2s\n",
      "[CV] END max_depth=10, min_samples_leaf=4, min_samples_split=5, n_estimators=50; total time=   0.5s\n",
      "[CV] END max_depth=10, min_samples_leaf=4, min_samples_split=5, n_estimators=50; total time=   0.5s\n",
      "[CV] END max_depth=10, min_samples_leaf=4, min_samples_split=5, n_estimators=50; total time=   0.5s\n",
      "[CV] END max_depth=10, min_samples_leaf=4, min_samples_split=5, n_estimators=50; total time=   0.5s\n",
      "[CV] END max_depth=10, min_samples_leaf=4, min_samples_split=5, n_estimators=50; total time=   0.5s\n",
      "[CV] END max_depth=10, min_samples_leaf=4, min_samples_split=5, n_estimators=100; total time=   1.0s\n",
      "[CV] END max_depth=10, min_samples_leaf=4, min_samples_split=5, n_estimators=100; total time=   2.4s\n",
      "[CV] END max_depth=10, min_samples_leaf=4, min_samples_split=5, n_estimators=100; total time=   1.3s\n",
      "[CV] END max_depth=10, min_samples_leaf=4, min_samples_split=5, n_estimators=100; total time=   1.0s\n",
      "[CV] END max_depth=10, min_samples_leaf=4, min_samples_split=5, n_estimators=100; total time=   0.9s\n",
      "[CV] END max_depth=10, min_samples_leaf=4, min_samples_split=5, n_estimators=200; total time=   1.9s\n",
      "[CV] END max_depth=10, min_samples_leaf=4, min_samples_split=5, n_estimators=200; total time=   1.9s\n",
      "[CV] END max_depth=10, min_samples_leaf=4, min_samples_split=5, n_estimators=200; total time=   2.2s\n",
      "[CV] END max_depth=10, min_samples_leaf=4, min_samples_split=5, n_estimators=200; total time=   2.0s\n",
      "[CV] END max_depth=10, min_samples_leaf=4, min_samples_split=5, n_estimators=200; total time=   1.9s\n",
      "[CV] END max_depth=10, min_samples_leaf=4, min_samples_split=10, n_estimators=50; total time=   0.5s\n",
      "[CV] END max_depth=10, min_samples_leaf=4, min_samples_split=10, n_estimators=50; total time=   0.5s\n",
      "[CV] END max_depth=10, min_samples_leaf=4, min_samples_split=10, n_estimators=50; total time=   0.5s\n",
      "[CV] END max_depth=10, min_samples_leaf=4, min_samples_split=10, n_estimators=50; total time=   0.5s\n",
      "[CV] END max_depth=10, min_samples_leaf=4, min_samples_split=10, n_estimators=50; total time=   0.5s\n",
      "[CV] END max_depth=10, min_samples_leaf=4, min_samples_split=10, n_estimators=100; total time=   0.9s\n",
      "[CV] END max_depth=10, min_samples_leaf=4, min_samples_split=10, n_estimators=100; total time=   0.9s\n",
      "[CV] END max_depth=10, min_samples_leaf=4, min_samples_split=10, n_estimators=100; total time=   0.9s\n",
      "[CV] END max_depth=10, min_samples_leaf=4, min_samples_split=10, n_estimators=100; total time=   0.9s\n",
      "[CV] END max_depth=10, min_samples_leaf=4, min_samples_split=10, n_estimators=100; total time=   0.9s\n",
      "[CV] END max_depth=10, min_samples_leaf=4, min_samples_split=10, n_estimators=200; total time=   1.9s\n",
      "[CV] END max_depth=10, min_samples_leaf=4, min_samples_split=10, n_estimators=200; total time=   2.0s\n",
      "[CV] END max_depth=10, min_samples_leaf=4, min_samples_split=10, n_estimators=200; total time=   1.9s\n",
      "[CV] END max_depth=10, min_samples_leaf=4, min_samples_split=10, n_estimators=200; total time=   2.3s\n",
      "[CV] END max_depth=10, min_samples_leaf=4, min_samples_split=10, n_estimators=200; total time=   2.0s\n",
      "[CV] END max_depth=20, min_samples_leaf=1, min_samples_split=2, n_estimators=50; total time=   0.5s\n",
      "[CV] END max_depth=20, min_samples_leaf=1, min_samples_split=2, n_estimators=50; total time=   0.5s\n",
      "[CV] END max_depth=20, min_samples_leaf=1, min_samples_split=2, n_estimators=50; total time=   0.5s\n",
      "[CV] END max_depth=20, min_samples_leaf=1, min_samples_split=2, n_estimators=50; total time=   0.5s\n",
      "[CV] END max_depth=20, min_samples_leaf=1, min_samples_split=2, n_estimators=50; total time=   0.5s\n",
      "[CV] END max_depth=20, min_samples_leaf=1, min_samples_split=2, n_estimators=100; total time=   1.0s\n",
      "[CV] END max_depth=20, min_samples_leaf=1, min_samples_split=2, n_estimators=100; total time=   1.0s\n",
      "[CV] END max_depth=20, min_samples_leaf=1, min_samples_split=2, n_estimators=100; total time=   1.0s\n",
      "[CV] END max_depth=20, min_samples_leaf=1, min_samples_split=2, n_estimators=100; total time=   1.0s\n",
      "[CV] END max_depth=20, min_samples_leaf=1, min_samples_split=2, n_estimators=100; total time=   1.0s\n",
      "[CV] END max_depth=20, min_samples_leaf=1, min_samples_split=2, n_estimators=200; total time=   2.0s\n",
      "[CV] END max_depth=20, min_samples_leaf=1, min_samples_split=2, n_estimators=200; total time=   2.1s\n",
      "[CV] END max_depth=20, min_samples_leaf=1, min_samples_split=2, n_estimators=200; total time=   3.3s\n",
      "[CV] END max_depth=20, min_samples_leaf=1, min_samples_split=2, n_estimators=200; total time=   3.1s\n",
      "[CV] END max_depth=20, min_samples_leaf=1, min_samples_split=2, n_estimators=200; total time=   3.4s\n",
      "[CV] END max_depth=20, min_samples_leaf=1, min_samples_split=5, n_estimators=50; total time=   0.6s\n",
      "[CV] END max_depth=20, min_samples_leaf=1, min_samples_split=5, n_estimators=50; total time=   0.5s\n",
      "[CV] END max_depth=20, min_samples_leaf=1, min_samples_split=5, n_estimators=50; total time=   0.5s\n",
      "[CV] END max_depth=20, min_samples_leaf=1, min_samples_split=5, n_estimators=50; total time=   0.5s\n",
      "[CV] END max_depth=20, min_samples_leaf=1, min_samples_split=5, n_estimators=50; total time=   0.5s\n",
      "[CV] END max_depth=20, min_samples_leaf=1, min_samples_split=5, n_estimators=100; total time=   1.0s\n",
      "[CV] END max_depth=20, min_samples_leaf=1, min_samples_split=5, n_estimators=100; total time=   1.0s\n",
      "[CV] END max_depth=20, min_samples_leaf=1, min_samples_split=5, n_estimators=100; total time=   1.0s\n",
      "[CV] END max_depth=20, min_samples_leaf=1, min_samples_split=5, n_estimators=100; total time=   1.0s\n",
      "[CV] END max_depth=20, min_samples_leaf=1, min_samples_split=5, n_estimators=100; total time=   1.1s\n",
      "[CV] END max_depth=20, min_samples_leaf=1, min_samples_split=5, n_estimators=200; total time=   2.3s\n",
      "[CV] END max_depth=20, min_samples_leaf=1, min_samples_split=5, n_estimators=200; total time=   2.0s\n",
      "[CV] END max_depth=20, min_samples_leaf=1, min_samples_split=5, n_estimators=200; total time=   2.2s\n",
      "[CV] END max_depth=20, min_samples_leaf=1, min_samples_split=5, n_estimators=200; total time=   2.0s\n",
      "[CV] END max_depth=20, min_samples_leaf=1, min_samples_split=5, n_estimators=200; total time=   2.0s\n",
      "[CV] END max_depth=20, min_samples_leaf=1, min_samples_split=10, n_estimators=50; total time=   0.5s\n",
      "[CV] END max_depth=20, min_samples_leaf=1, min_samples_split=10, n_estimators=50; total time=   0.5s\n",
      "[CV] END max_depth=20, min_samples_leaf=1, min_samples_split=10, n_estimators=50; total time=   0.5s\n",
      "[CV] END max_depth=20, min_samples_leaf=1, min_samples_split=10, n_estimators=50; total time=   0.5s\n",
      "[CV] END max_depth=20, min_samples_leaf=1, min_samples_split=10, n_estimators=50; total time=   0.5s\n",
      "[CV] END max_depth=20, min_samples_leaf=1, min_samples_split=10, n_estimators=100; total time=   1.0s\n",
      "[CV] END max_depth=20, min_samples_leaf=1, min_samples_split=10, n_estimators=100; total time=   1.0s\n",
      "[CV] END max_depth=20, min_samples_leaf=1, min_samples_split=10, n_estimators=100; total time=   1.0s\n",
      "[CV] END max_depth=20, min_samples_leaf=1, min_samples_split=10, n_estimators=100; total time=   1.0s\n",
      "[CV] END max_depth=20, min_samples_leaf=1, min_samples_split=10, n_estimators=100; total time=   1.0s\n",
      "[CV] END max_depth=20, min_samples_leaf=1, min_samples_split=10, n_estimators=200; total time=   2.0s\n",
      "[CV] END max_depth=20, min_samples_leaf=1, min_samples_split=10, n_estimators=200; total time=   2.2s\n",
      "[CV] END max_depth=20, min_samples_leaf=1, min_samples_split=10, n_estimators=200; total time=   2.0s\n",
      "[CV] END max_depth=20, min_samples_leaf=1, min_samples_split=10, n_estimators=200; total time=   2.0s\n",
      "[CV] END max_depth=20, min_samples_leaf=1, min_samples_split=10, n_estimators=200; total time=   2.0s\n",
      "[CV] END max_depth=20, min_samples_leaf=2, min_samples_split=2, n_estimators=50; total time=   0.5s\n",
      "[CV] END max_depth=20, min_samples_leaf=2, min_samples_split=2, n_estimators=50; total time=   0.5s\n",
      "[CV] END max_depth=20, min_samples_leaf=2, min_samples_split=2, n_estimators=50; total time=   0.5s\n",
      "[CV] END max_depth=20, min_samples_leaf=2, min_samples_split=2, n_estimators=50; total time=   0.5s\n",
      "[CV] END max_depth=20, min_samples_leaf=2, min_samples_split=2, n_estimators=50; total time=   0.5s\n",
      "[CV] END max_depth=20, min_samples_leaf=2, min_samples_split=2, n_estimators=100; total time=   1.0s\n",
      "[CV] END max_depth=20, min_samples_leaf=2, min_samples_split=2, n_estimators=100; total time=   1.0s\n",
      "[CV] END max_depth=20, min_samples_leaf=2, min_samples_split=2, n_estimators=100; total time=   1.0s\n",
      "[CV] END max_depth=20, min_samples_leaf=2, min_samples_split=2, n_estimators=100; total time=   1.0s\n",
      "[CV] END max_depth=20, min_samples_leaf=2, min_samples_split=2, n_estimators=100; total time=   1.0s\n",
      "[CV] END max_depth=20, min_samples_leaf=2, min_samples_split=2, n_estimators=200; total time=   2.1s\n",
      "[CV] END max_depth=20, min_samples_leaf=2, min_samples_split=2, n_estimators=200; total time=   2.0s\n",
      "[CV] END max_depth=20, min_samples_leaf=2, min_samples_split=2, n_estimators=200; total time=   2.0s\n",
      "[CV] END max_depth=20, min_samples_leaf=2, min_samples_split=2, n_estimators=200; total time=   2.0s\n",
      "[CV] END max_depth=20, min_samples_leaf=2, min_samples_split=2, n_estimators=200; total time=   2.2s\n",
      "[CV] END max_depth=20, min_samples_leaf=2, min_samples_split=5, n_estimators=50; total time=   0.5s\n",
      "[CV] END max_depth=20, min_samples_leaf=2, min_samples_split=5, n_estimators=50; total time=   0.5s\n",
      "[CV] END max_depth=20, min_samples_leaf=2, min_samples_split=5, n_estimators=50; total time=   0.5s\n",
      "[CV] END max_depth=20, min_samples_leaf=2, min_samples_split=5, n_estimators=50; total time=   0.5s\n",
      "[CV] END max_depth=20, min_samples_leaf=2, min_samples_split=5, n_estimators=50; total time=   0.5s\n",
      "[CV] END max_depth=20, min_samples_leaf=2, min_samples_split=5, n_estimators=100; total time=   1.1s\n",
      "[CV] END max_depth=20, min_samples_leaf=2, min_samples_split=5, n_estimators=100; total time=   1.0s\n",
      "[CV] END max_depth=20, min_samples_leaf=2, min_samples_split=5, n_estimators=100; total time=   1.0s\n",
      "[CV] END max_depth=20, min_samples_leaf=2, min_samples_split=5, n_estimators=100; total time=   1.0s\n",
      "[CV] END max_depth=20, min_samples_leaf=2, min_samples_split=5, n_estimators=100; total time=   1.0s\n",
      "[CV] END max_depth=20, min_samples_leaf=2, min_samples_split=5, n_estimators=200; total time=   2.0s\n",
      "[CV] END max_depth=20, min_samples_leaf=2, min_samples_split=5, n_estimators=200; total time=   2.1s\n",
      "[CV] END max_depth=20, min_samples_leaf=2, min_samples_split=5, n_estimators=200; total time=   2.0s\n",
      "[CV] END max_depth=20, min_samples_leaf=2, min_samples_split=5, n_estimators=200; total time=   2.1s\n",
      "[CV] END max_depth=20, min_samples_leaf=2, min_samples_split=5, n_estimators=200; total time=   2.0s\n",
      "[CV] END max_depth=20, min_samples_leaf=2, min_samples_split=10, n_estimators=50; total time=   0.5s\n",
      "[CV] END max_depth=20, min_samples_leaf=2, min_samples_split=10, n_estimators=50; total time=   0.5s\n",
      "[CV] END max_depth=20, min_samples_leaf=2, min_samples_split=10, n_estimators=50; total time=   0.5s\n",
      "[CV] END max_depth=20, min_samples_leaf=2, min_samples_split=10, n_estimators=50; total time=   0.5s\n",
      "[CV] END max_depth=20, min_samples_leaf=2, min_samples_split=10, n_estimators=50; total time=   0.5s\n",
      "[CV] END max_depth=20, min_samples_leaf=2, min_samples_split=10, n_estimators=100; total time=   1.0s\n",
      "[CV] END max_depth=20, min_samples_leaf=2, min_samples_split=10, n_estimators=100; total time=   1.0s\n",
      "[CV] END max_depth=20, min_samples_leaf=2, min_samples_split=10, n_estimators=100; total time=   1.0s\n",
      "[CV] END max_depth=20, min_samples_leaf=2, min_samples_split=10, n_estimators=100; total time=   1.0s\n",
      "[CV] END max_depth=20, min_samples_leaf=2, min_samples_split=10, n_estimators=100; total time=   1.0s\n",
      "[CV] END max_depth=20, min_samples_leaf=2, min_samples_split=10, n_estimators=200; total time=   2.0s\n",
      "[CV] END max_depth=20, min_samples_leaf=2, min_samples_split=10, n_estimators=200; total time=   2.0s\n",
      "[CV] END max_depth=20, min_samples_leaf=2, min_samples_split=10, n_estimators=200; total time=   2.1s\n",
      "[CV] END max_depth=20, min_samples_leaf=2, min_samples_split=10, n_estimators=200; total time=   2.0s\n",
      "[CV] END max_depth=20, min_samples_leaf=2, min_samples_split=10, n_estimators=200; total time=   2.0s\n",
      "[CV] END max_depth=20, min_samples_leaf=4, min_samples_split=2, n_estimators=50; total time=   0.5s\n",
      "[CV] END max_depth=20, min_samples_leaf=4, min_samples_split=2, n_estimators=50; total time=   0.5s\n",
      "[CV] END max_depth=20, min_samples_leaf=4, min_samples_split=2, n_estimators=50; total time=   0.5s\n",
      "[CV] END max_depth=20, min_samples_leaf=4, min_samples_split=2, n_estimators=50; total time=   0.5s\n",
      "[CV] END max_depth=20, min_samples_leaf=4, min_samples_split=2, n_estimators=50; total time=   0.5s\n",
      "[CV] END max_depth=20, min_samples_leaf=4, min_samples_split=2, n_estimators=100; total time=   1.2s\n",
      "[CV] END max_depth=20, min_samples_leaf=4, min_samples_split=2, n_estimators=100; total time=   1.0s\n",
      "[CV] END max_depth=20, min_samples_leaf=4, min_samples_split=2, n_estimators=100; total time=   0.9s\n",
      "[CV] END max_depth=20, min_samples_leaf=4, min_samples_split=2, n_estimators=100; total time=   0.9s\n",
      "[CV] END max_depth=20, min_samples_leaf=4, min_samples_split=2, n_estimators=100; total time=   1.0s\n",
      "[CV] END max_depth=20, min_samples_leaf=4, min_samples_split=2, n_estimators=200; total time=   1.9s\n",
      "[CV] END max_depth=20, min_samples_leaf=4, min_samples_split=2, n_estimators=200; total time=   2.0s\n",
      "[CV] END max_depth=20, min_samples_leaf=4, min_samples_split=2, n_estimators=200; total time=   1.9s\n",
      "[CV] END max_depth=20, min_samples_leaf=4, min_samples_split=2, n_estimators=200; total time=   1.9s\n",
      "[CV] END max_depth=20, min_samples_leaf=4, min_samples_split=2, n_estimators=200; total time=   1.9s\n",
      "[CV] END max_depth=20, min_samples_leaf=4, min_samples_split=5, n_estimators=50; total time=   0.5s\n",
      "[CV] END max_depth=20, min_samples_leaf=4, min_samples_split=5, n_estimators=50; total time=   0.5s\n",
      "[CV] END max_depth=20, min_samples_leaf=4, min_samples_split=5, n_estimators=50; total time=   0.5s\n",
      "[CV] END max_depth=20, min_samples_leaf=4, min_samples_split=5, n_estimators=50; total time=   0.5s\n",
      "[CV] END max_depth=20, min_samples_leaf=4, min_samples_split=5, n_estimators=50; total time=   0.5s\n",
      "[CV] END max_depth=20, min_samples_leaf=4, min_samples_split=5, n_estimators=100; total time=   1.0s\n",
      "[CV] END max_depth=20, min_samples_leaf=4, min_samples_split=5, n_estimators=100; total time=   1.0s\n",
      "[CV] END max_depth=20, min_samples_leaf=4, min_samples_split=5, n_estimators=100; total time=   1.0s\n",
      "[CV] END max_depth=20, min_samples_leaf=4, min_samples_split=5, n_estimators=100; total time=   1.0s\n",
      "[CV] END max_depth=20, min_samples_leaf=4, min_samples_split=5, n_estimators=100; total time=   0.9s\n",
      "[CV] END max_depth=20, min_samples_leaf=4, min_samples_split=5, n_estimators=200; total time=   1.9s\n",
      "[CV] END max_depth=20, min_samples_leaf=4, min_samples_split=5, n_estimators=200; total time=   2.2s\n",
      "[CV] END max_depth=20, min_samples_leaf=4, min_samples_split=5, n_estimators=200; total time=   2.3s\n",
      "[CV] END max_depth=20, min_samples_leaf=4, min_samples_split=5, n_estimators=200; total time=   2.0s\n",
      "[CV] END max_depth=20, min_samples_leaf=4, min_samples_split=5, n_estimators=200; total time=   1.9s\n",
      "[CV] END max_depth=20, min_samples_leaf=4, min_samples_split=10, n_estimators=50; total time=   0.5s\n",
      "[CV] END max_depth=20, min_samples_leaf=4, min_samples_split=10, n_estimators=50; total time=   0.5s\n",
      "[CV] END max_depth=20, min_samples_leaf=4, min_samples_split=10, n_estimators=50; total time=   0.5s\n",
      "[CV] END max_depth=20, min_samples_leaf=4, min_samples_split=10, n_estimators=50; total time=   0.5s\n",
      "[CV] END max_depth=20, min_samples_leaf=4, min_samples_split=10, n_estimators=50; total time=   0.5s\n",
      "[CV] END max_depth=20, min_samples_leaf=4, min_samples_split=10, n_estimators=100; total time=   0.9s\n",
      "[CV] END max_depth=20, min_samples_leaf=4, min_samples_split=10, n_estimators=100; total time=   0.9s\n",
      "[CV] END max_depth=20, min_samples_leaf=4, min_samples_split=10, n_estimators=100; total time=   0.9s\n",
      "[CV] END max_depth=20, min_samples_leaf=4, min_samples_split=10, n_estimators=100; total time=   1.0s\n",
      "[CV] END max_depth=20, min_samples_leaf=4, min_samples_split=10, n_estimators=100; total time=   1.0s\n",
      "[CV] END max_depth=20, min_samples_leaf=4, min_samples_split=10, n_estimators=200; total time=   2.0s\n",
      "[CV] END max_depth=20, min_samples_leaf=4, min_samples_split=10, n_estimators=200; total time=   1.9s\n",
      "[CV] END max_depth=20, min_samples_leaf=4, min_samples_split=10, n_estimators=200; total time=   2.1s\n",
      "[CV] END max_depth=20, min_samples_leaf=4, min_samples_split=10, n_estimators=200; total time=   1.5s\n",
      "[CV] END max_depth=20, min_samples_leaf=4, min_samples_split=10, n_estimators=200; total time=   1.3s\n",
      "[CV] END max_depth=30, min_samples_leaf=1, min_samples_split=2, n_estimators=50; total time=   0.3s\n",
      "[CV] END max_depth=30, min_samples_leaf=1, min_samples_split=2, n_estimators=50; total time=   0.3s\n",
      "[CV] END max_depth=30, min_samples_leaf=1, min_samples_split=2, n_estimators=50; total time=   0.3s\n",
      "[CV] END max_depth=30, min_samples_leaf=1, min_samples_split=2, n_estimators=50; total time=   0.3s\n",
      "[CV] END max_depth=30, min_samples_leaf=1, min_samples_split=2, n_estimators=50; total time=   0.3s\n",
      "[CV] END max_depth=30, min_samples_leaf=1, min_samples_split=2, n_estimators=100; total time=   0.6s\n",
      "[CV] END max_depth=30, min_samples_leaf=1, min_samples_split=2, n_estimators=100; total time=   0.7s\n",
      "[CV] END max_depth=30, min_samples_leaf=1, min_samples_split=2, n_estimators=100; total time=   0.6s\n",
      "[CV] END max_depth=30, min_samples_leaf=1, min_samples_split=2, n_estimators=100; total time=   0.6s\n",
      "[CV] END max_depth=30, min_samples_leaf=1, min_samples_split=2, n_estimators=100; total time=   0.6s\n",
      "[CV] END max_depth=30, min_samples_leaf=1, min_samples_split=2, n_estimators=200; total time=   1.3s\n",
      "[CV] END max_depth=30, min_samples_leaf=1, min_samples_split=2, n_estimators=200; total time=   1.3s\n",
      "[CV] END max_depth=30, min_samples_leaf=1, min_samples_split=2, n_estimators=200; total time=   1.3s\n",
      "[CV] END max_depth=30, min_samples_leaf=1, min_samples_split=2, n_estimators=200; total time=   1.3s\n",
      "[CV] END max_depth=30, min_samples_leaf=1, min_samples_split=2, n_estimators=200; total time=   1.3s\n",
      "[CV] END max_depth=30, min_samples_leaf=1, min_samples_split=5, n_estimators=50; total time=   0.4s\n",
      "[CV] END max_depth=30, min_samples_leaf=1, min_samples_split=5, n_estimators=50; total time=   0.3s\n",
      "[CV] END max_depth=30, min_samples_leaf=1, min_samples_split=5, n_estimators=50; total time=   0.3s\n",
      "[CV] END max_depth=30, min_samples_leaf=1, min_samples_split=5, n_estimators=50; total time=   0.3s\n",
      "[CV] END max_depth=30, min_samples_leaf=1, min_samples_split=5, n_estimators=50; total time=   0.3s\n",
      "[CV] END max_depth=30, min_samples_leaf=1, min_samples_split=5, n_estimators=100; total time=   0.6s\n",
      "[CV] END max_depth=30, min_samples_leaf=1, min_samples_split=5, n_estimators=100; total time=   0.7s\n",
      "[CV] END max_depth=30, min_samples_leaf=1, min_samples_split=5, n_estimators=100; total time=   0.7s\n",
      "[CV] END max_depth=30, min_samples_leaf=1, min_samples_split=5, n_estimators=100; total time=   0.6s\n",
      "[CV] END max_depth=30, min_samples_leaf=1, min_samples_split=5, n_estimators=100; total time=   0.7s\n",
      "[CV] END max_depth=30, min_samples_leaf=1, min_samples_split=5, n_estimators=200; total time=   1.3s\n",
      "[CV] END max_depth=30, min_samples_leaf=1, min_samples_split=5, n_estimators=200; total time=   1.3s\n",
      "[CV] END max_depth=30, min_samples_leaf=1, min_samples_split=5, n_estimators=200; total time=   1.3s\n",
      "[CV] END max_depth=30, min_samples_leaf=1, min_samples_split=5, n_estimators=200; total time=   1.4s\n",
      "[CV] END max_depth=30, min_samples_leaf=1, min_samples_split=5, n_estimators=200; total time=   1.3s\n",
      "[CV] END max_depth=30, min_samples_leaf=1, min_samples_split=10, n_estimators=50; total time=   0.3s\n",
      "[CV] END max_depth=30, min_samples_leaf=1, min_samples_split=10, n_estimators=50; total time=   0.3s\n",
      "[CV] END max_depth=30, min_samples_leaf=1, min_samples_split=10, n_estimators=50; total time=   0.3s\n",
      "[CV] END max_depth=30, min_samples_leaf=1, min_samples_split=10, n_estimators=50; total time=   0.3s\n",
      "[CV] END max_depth=30, min_samples_leaf=1, min_samples_split=10, n_estimators=50; total time=   0.3s\n",
      "[CV] END max_depth=30, min_samples_leaf=1, min_samples_split=10, n_estimators=100; total time=   0.7s\n",
      "[CV] END max_depth=30, min_samples_leaf=1, min_samples_split=10, n_estimators=100; total time=   0.7s\n",
      "[CV] END max_depth=30, min_samples_leaf=1, min_samples_split=10, n_estimators=100; total time=   0.7s\n",
      "[CV] END max_depth=30, min_samples_leaf=1, min_samples_split=10, n_estimators=100; total time=   0.6s\n",
      "[CV] END max_depth=30, min_samples_leaf=1, min_samples_split=10, n_estimators=100; total time=   0.6s\n",
      "[CV] END max_depth=30, min_samples_leaf=1, min_samples_split=10, n_estimators=200; total time=   1.3s\n",
      "[CV] END max_depth=30, min_samples_leaf=1, min_samples_split=10, n_estimators=200; total time=   1.4s\n",
      "[CV] END max_depth=30, min_samples_leaf=1, min_samples_split=10, n_estimators=200; total time=   1.3s\n",
      "[CV] END max_depth=30, min_samples_leaf=1, min_samples_split=10, n_estimators=200; total time=   1.9s\n",
      "[CV] END max_depth=30, min_samples_leaf=1, min_samples_split=10, n_estimators=200; total time=   1.5s\n",
      "[CV] END max_depth=30, min_samples_leaf=2, min_samples_split=2, n_estimators=50; total time=   0.3s\n",
      "[CV] END max_depth=30, min_samples_leaf=2, min_samples_split=2, n_estimators=50; total time=   0.3s\n",
      "[CV] END max_depth=30, min_samples_leaf=2, min_samples_split=2, n_estimators=50; total time=   0.3s\n",
      "[CV] END max_depth=30, min_samples_leaf=2, min_samples_split=2, n_estimators=50; total time=   0.3s\n",
      "[CV] END max_depth=30, min_samples_leaf=2, min_samples_split=2, n_estimators=50; total time=   0.3s\n",
      "[CV] END max_depth=30, min_samples_leaf=2, min_samples_split=2, n_estimators=100; total time=   0.7s\n",
      "[CV] END max_depth=30, min_samples_leaf=2, min_samples_split=2, n_estimators=100; total time=   0.7s\n",
      "[CV] END max_depth=30, min_samples_leaf=2, min_samples_split=2, n_estimators=100; total time=   0.8s\n",
      "[CV] END max_depth=30, min_samples_leaf=2, min_samples_split=2, n_estimators=100; total time=   0.8s\n",
      "[CV] END max_depth=30, min_samples_leaf=2, min_samples_split=2, n_estimators=100; total time=   0.7s\n",
      "[CV] END max_depth=30, min_samples_leaf=2, min_samples_split=2, n_estimators=200; total time=   1.3s\n",
      "[CV] END max_depth=30, min_samples_leaf=2, min_samples_split=2, n_estimators=200; total time=   2.0s\n",
      "[CV] END max_depth=30, min_samples_leaf=2, min_samples_split=2, n_estimators=200; total time=   1.6s\n",
      "[CV] END max_depth=30, min_samples_leaf=2, min_samples_split=2, n_estimators=200; total time=   1.3s\n",
      "[CV] END max_depth=30, min_samples_leaf=2, min_samples_split=2, n_estimators=200; total time=   1.6s\n",
      "[CV] END max_depth=30, min_samples_leaf=2, min_samples_split=5, n_estimators=50; total time=   0.3s\n",
      "[CV] END max_depth=30, min_samples_leaf=2, min_samples_split=5, n_estimators=50; total time=   0.4s\n",
      "[CV] END max_depth=30, min_samples_leaf=2, min_samples_split=5, n_estimators=50; total time=   0.3s\n",
      "[CV] END max_depth=30, min_samples_leaf=2, min_samples_split=5, n_estimators=50; total time=   0.3s\n",
      "[CV] END max_depth=30, min_samples_leaf=2, min_samples_split=5, n_estimators=50; total time=   0.3s\n",
      "[CV] END max_depth=30, min_samples_leaf=2, min_samples_split=5, n_estimators=100; total time=   0.6s\n",
      "[CV] END max_depth=30, min_samples_leaf=2, min_samples_split=5, n_estimators=100; total time=   0.6s\n",
      "[CV] END max_depth=30, min_samples_leaf=2, min_samples_split=5, n_estimators=100; total time=   0.7s\n",
      "[CV] END max_depth=30, min_samples_leaf=2, min_samples_split=5, n_estimators=100; total time=   0.7s\n",
      "[CV] END max_depth=30, min_samples_leaf=2, min_samples_split=5, n_estimators=100; total time=   0.6s\n",
      "[CV] END max_depth=30, min_samples_leaf=2, min_samples_split=5, n_estimators=200; total time=   1.4s\n",
      "[CV] END max_depth=30, min_samples_leaf=2, min_samples_split=5, n_estimators=200; total time=   1.2s\n",
      "[CV] END max_depth=30, min_samples_leaf=2, min_samples_split=5, n_estimators=200; total time=   1.2s\n",
      "[CV] END max_depth=30, min_samples_leaf=2, min_samples_split=5, n_estimators=200; total time=   1.5s\n",
      "[CV] END max_depth=30, min_samples_leaf=2, min_samples_split=5, n_estimators=200; total time=   1.4s\n",
      "[CV] END max_depth=30, min_samples_leaf=2, min_samples_split=10, n_estimators=50; total time=   0.3s\n",
      "[CV] END max_depth=30, min_samples_leaf=2, min_samples_split=10, n_estimators=50; total time=   0.4s\n",
      "[CV] END max_depth=30, min_samples_leaf=2, min_samples_split=10, n_estimators=50; total time=   0.3s\n",
      "[CV] END max_depth=30, min_samples_leaf=2, min_samples_split=10, n_estimators=50; total time=   0.3s\n",
      "[CV] END max_depth=30, min_samples_leaf=2, min_samples_split=10, n_estimators=50; total time=   0.3s\n",
      "[CV] END max_depth=30, min_samples_leaf=2, min_samples_split=10, n_estimators=100; total time=   0.6s\n",
      "[CV] END max_depth=30, min_samples_leaf=2, min_samples_split=10, n_estimators=100; total time=   0.6s\n",
      "[CV] END max_depth=30, min_samples_leaf=2, min_samples_split=10, n_estimators=100; total time=   0.6s\n",
      "[CV] END max_depth=30, min_samples_leaf=2, min_samples_split=10, n_estimators=100; total time=   0.6s\n",
      "[CV] END max_depth=30, min_samples_leaf=2, min_samples_split=10, n_estimators=100; total time=   0.7s\n",
      "[CV] END max_depth=30, min_samples_leaf=2, min_samples_split=10, n_estimators=200; total time=   1.2s\n",
      "[CV] END max_depth=30, min_samples_leaf=2, min_samples_split=10, n_estimators=200; total time=   1.2s\n",
      "[CV] END max_depth=30, min_samples_leaf=2, min_samples_split=10, n_estimators=200; total time=   1.2s\n",
      "[CV] END max_depth=30, min_samples_leaf=2, min_samples_split=10, n_estimators=200; total time=   1.3s\n",
      "[CV] END max_depth=30, min_samples_leaf=2, min_samples_split=10, n_estimators=200; total time=   1.3s\n",
      "[CV] END max_depth=30, min_samples_leaf=4, min_samples_split=2, n_estimators=50; total time=   0.3s\n",
      "[CV] END max_depth=30, min_samples_leaf=4, min_samples_split=2, n_estimators=50; total time=   0.3s\n",
      "[CV] END max_depth=30, min_samples_leaf=4, min_samples_split=2, n_estimators=50; total time=   0.4s\n",
      "[CV] END max_depth=30, min_samples_leaf=4, min_samples_split=2, n_estimators=50; total time=   0.3s\n",
      "[CV] END max_depth=30, min_samples_leaf=4, min_samples_split=2, n_estimators=50; total time=   0.3s\n",
      "[CV] END max_depth=30, min_samples_leaf=4, min_samples_split=2, n_estimators=100; total time=   0.6s\n",
      "[CV] END max_depth=30, min_samples_leaf=4, min_samples_split=2, n_estimators=100; total time=   0.6s\n",
      "[CV] END max_depth=30, min_samples_leaf=4, min_samples_split=2, n_estimators=100; total time=   0.7s\n",
      "[CV] END max_depth=30, min_samples_leaf=4, min_samples_split=2, n_estimators=100; total time=   0.6s\n",
      "[CV] END max_depth=30, min_samples_leaf=4, min_samples_split=2, n_estimators=100; total time=   0.6s\n",
      "[CV] END max_depth=30, min_samples_leaf=4, min_samples_split=2, n_estimators=200; total time=   1.2s\n",
      "[CV] END max_depth=30, min_samples_leaf=4, min_samples_split=2, n_estimators=200; total time=   1.2s\n",
      "[CV] END max_depth=30, min_samples_leaf=4, min_samples_split=2, n_estimators=200; total time=   1.2s\n",
      "[CV] END max_depth=30, min_samples_leaf=4, min_samples_split=2, n_estimators=200; total time=   1.9s\n",
      "[CV] END max_depth=30, min_samples_leaf=4, min_samples_split=2, n_estimators=200; total time=   1.6s\n",
      "[CV] END max_depth=30, min_samples_leaf=4, min_samples_split=5, n_estimators=50; total time=   0.6s\n",
      "[CV] END max_depth=30, min_samples_leaf=4, min_samples_split=5, n_estimators=50; total time=   0.3s\n",
      "[CV] END max_depth=30, min_samples_leaf=4, min_samples_split=5, n_estimators=50; total time=   0.3s\n",
      "[CV] END max_depth=30, min_samples_leaf=4, min_samples_split=5, n_estimators=50; total time=   0.3s\n",
      "[CV] END max_depth=30, min_samples_leaf=4, min_samples_split=5, n_estimators=50; total time=   0.3s\n",
      "[CV] END max_depth=30, min_samples_leaf=4, min_samples_split=5, n_estimators=100; total time=   0.6s\n",
      "[CV] END max_depth=30, min_samples_leaf=4, min_samples_split=5, n_estimators=100; total time=   0.6s\n",
      "[CV] END max_depth=30, min_samples_leaf=4, min_samples_split=5, n_estimators=100; total time=   0.6s\n",
      "[CV] END max_depth=30, min_samples_leaf=4, min_samples_split=5, n_estimators=100; total time=   0.6s\n",
      "[CV] END max_depth=30, min_samples_leaf=4, min_samples_split=5, n_estimators=100; total time=   0.9s\n",
      "[CV] END max_depth=30, min_samples_leaf=4, min_samples_split=5, n_estimators=200; total time=   1.2s\n",
      "[CV] END max_depth=30, min_samples_leaf=4, min_samples_split=5, n_estimators=200; total time=   1.3s\n",
      "[CV] END max_depth=30, min_samples_leaf=4, min_samples_split=5, n_estimators=200; total time=   1.3s\n",
      "[CV] END max_depth=30, min_samples_leaf=4, min_samples_split=5, n_estimators=200; total time=   1.3s\n",
      "[CV] END max_depth=30, min_samples_leaf=4, min_samples_split=5, n_estimators=200; total time=   1.2s\n",
      "[CV] END max_depth=30, min_samples_leaf=4, min_samples_split=10, n_estimators=50; total time=   0.4s\n",
      "[CV] END max_depth=30, min_samples_leaf=4, min_samples_split=10, n_estimators=50; total time=   0.4s\n",
      "[CV] END max_depth=30, min_samples_leaf=4, min_samples_split=10, n_estimators=50; total time=   0.3s\n",
      "[CV] END max_depth=30, min_samples_leaf=4, min_samples_split=10, n_estimators=50; total time=   0.3s\n",
      "[CV] END max_depth=30, min_samples_leaf=4, min_samples_split=10, n_estimators=50; total time=   0.3s\n",
      "[CV] END max_depth=30, min_samples_leaf=4, min_samples_split=10, n_estimators=100; total time=   0.6s\n",
      "[CV] END max_depth=30, min_samples_leaf=4, min_samples_split=10, n_estimators=100; total time=   0.6s\n",
      "[CV] END max_depth=30, min_samples_leaf=4, min_samples_split=10, n_estimators=100; total time=   0.6s\n",
      "[CV] END max_depth=30, min_samples_leaf=4, min_samples_split=10, n_estimators=100; total time=   0.6s\n",
      "[CV] END max_depth=30, min_samples_leaf=4, min_samples_split=10, n_estimators=100; total time=   0.6s\n",
      "[CV] END max_depth=30, min_samples_leaf=4, min_samples_split=10, n_estimators=200; total time=   1.2s\n",
      "[CV] END max_depth=30, min_samples_leaf=4, min_samples_split=10, n_estimators=200; total time=   1.2s\n",
      "[CV] END max_depth=30, min_samples_leaf=4, min_samples_split=10, n_estimators=200; total time=   1.2s\n",
      "[CV] END max_depth=30, min_samples_leaf=4, min_samples_split=10, n_estimators=200; total time=   1.4s\n",
      "[CV] END max_depth=30, min_samples_leaf=4, min_samples_split=10, n_estimators=200; total time=   1.2s\n"
     ]
    }
   ],
   "source": [
    "#Random Forest\n",
    "rf = RandomForestClassifier(random_state=0)\n",
    "grid_search_rf = GridSearchCV(estimator=rf, param_grid=param_grid_rf, cv=5, scoring='accuracy', verbose=2)\n",
    "grid_search_rf.fit(x_train, y_train)\n",
    "best_rf = grid_search_rf.best_estimator_\n",
    "y_pred_rf = best_rf.predict(x_test)"
   ]
  },
  {
   "cell_type": "code",
   "execution_count": 34,
   "metadata": {},
   "outputs": [
    {
     "name": "stdout",
     "output_type": "stream",
     "text": [
      "Fitting 5 folds for each of 24 candidates, totalling 120 fits\n",
      "[CV] END ...metric=euclidean, n_neighbors=3, weights=uniform; total time=   0.3s\n",
      "[CV] END ...metric=euclidean, n_neighbors=3, weights=uniform; total time=   0.2s\n",
      "[CV] END ...metric=euclidean, n_neighbors=3, weights=uniform; total time=   0.0s\n",
      "[CV] END ...metric=euclidean, n_neighbors=3, weights=uniform; total time=   0.0s\n",
      "[CV] END ...metric=euclidean, n_neighbors=3, weights=uniform; total time=   0.0s\n",
      "[CV] END ..metric=euclidean, n_neighbors=3, weights=distance; total time=   0.0s\n",
      "[CV] END ..metric=euclidean, n_neighbors=3, weights=distance; total time=   0.0s\n",
      "[CV] END ..metric=euclidean, n_neighbors=3, weights=distance; total time=   0.0s\n",
      "[CV] END ..metric=euclidean, n_neighbors=3, weights=distance; total time=   0.0s\n",
      "[CV] END ..metric=euclidean, n_neighbors=3, weights=distance; total time=   0.0s\n",
      "[CV] END ...metric=euclidean, n_neighbors=5, weights=uniform; total time=   0.0s\n",
      "[CV] END ...metric=euclidean, n_neighbors=5, weights=uniform; total time=   0.0s\n",
      "[CV] END ...metric=euclidean, n_neighbors=5, weights=uniform; total time=   0.0s\n",
      "[CV] END ...metric=euclidean, n_neighbors=5, weights=uniform; total time=   0.0s\n",
      "[CV] END ...metric=euclidean, n_neighbors=5, weights=uniform; total time=   0.0s\n",
      "[CV] END ..metric=euclidean, n_neighbors=5, weights=distance; total time=   0.0s\n",
      "[CV] END ..metric=euclidean, n_neighbors=5, weights=distance; total time=   0.0s\n",
      "[CV] END ..metric=euclidean, n_neighbors=5, weights=distance; total time=   0.0s\n",
      "[CV] END ..metric=euclidean, n_neighbors=5, weights=distance; total time=   0.0s\n",
      "[CV] END ..metric=euclidean, n_neighbors=5, weights=distance; total time=   0.0s\n",
      "[CV] END ...metric=euclidean, n_neighbors=7, weights=uniform; total time=   0.0s\n",
      "[CV] END ...metric=euclidean, n_neighbors=7, weights=uniform; total time=   0.0s\n",
      "[CV] END ...metric=euclidean, n_neighbors=7, weights=uniform; total time=   0.0s\n",
      "[CV] END ...metric=euclidean, n_neighbors=7, weights=uniform; total time=   0.0s\n",
      "[CV] END ...metric=euclidean, n_neighbors=7, weights=uniform; total time=   0.0s\n",
      "[CV] END ..metric=euclidean, n_neighbors=7, weights=distance; total time=   0.0s\n",
      "[CV] END ..metric=euclidean, n_neighbors=7, weights=distance; total time=   0.0s\n",
      "[CV] END ..metric=euclidean, n_neighbors=7, weights=distance; total time=   0.0s\n",
      "[CV] END ..metric=euclidean, n_neighbors=7, weights=distance; total time=   0.0s\n",
      "[CV] END ..metric=euclidean, n_neighbors=7, weights=distance; total time=   0.0s\n",
      "[CV] END ...metric=euclidean, n_neighbors=9, weights=uniform; total time=   0.0s\n",
      "[CV] END ...metric=euclidean, n_neighbors=9, weights=uniform; total time=   0.0s\n",
      "[CV] END ...metric=euclidean, n_neighbors=9, weights=uniform; total time=   0.0s\n",
      "[CV] END ...metric=euclidean, n_neighbors=9, weights=uniform; total time=   0.0s\n",
      "[CV] END ...metric=euclidean, n_neighbors=9, weights=uniform; total time=   0.0s\n",
      "[CV] END ..metric=euclidean, n_neighbors=9, weights=distance; total time=   0.0s\n",
      "[CV] END ..metric=euclidean, n_neighbors=9, weights=distance; total time=   0.0s\n",
      "[CV] END ..metric=euclidean, n_neighbors=9, weights=distance; total time=   0.0s\n",
      "[CV] END ..metric=euclidean, n_neighbors=9, weights=distance; total time=   0.0s\n",
      "[CV] END ..metric=euclidean, n_neighbors=9, weights=distance; total time=   0.0s\n",
      "[CV] END ...metric=manhattan, n_neighbors=3, weights=uniform; total time=   0.1s\n",
      "[CV] END ...metric=manhattan, n_neighbors=3, weights=uniform; total time=   0.1s\n",
      "[CV] END ...metric=manhattan, n_neighbors=3, weights=uniform; total time=   0.1s\n",
      "[CV] END ...metric=manhattan, n_neighbors=3, weights=uniform; total time=   0.1s\n",
      "[CV] END ...metric=manhattan, n_neighbors=3, weights=uniform; total time=   0.1s\n",
      "[CV] END ..metric=manhattan, n_neighbors=3, weights=distance; total time=   0.0s\n",
      "[CV] END ..metric=manhattan, n_neighbors=3, weights=distance; total time=   0.0s\n",
      "[CV] END ..metric=manhattan, n_neighbors=3, weights=distance; total time=   0.0s\n",
      "[CV] END ..metric=manhattan, n_neighbors=3, weights=distance; total time=   0.0s\n",
      "[CV] END ..metric=manhattan, n_neighbors=3, weights=distance; total time=   0.0s\n",
      "[CV] END ...metric=manhattan, n_neighbors=5, weights=uniform; total time=   0.1s\n",
      "[CV] END ...metric=manhattan, n_neighbors=5, weights=uniform; total time=   0.1s\n",
      "[CV] END ...metric=manhattan, n_neighbors=5, weights=uniform; total time=   0.1s\n",
      "[CV] END ...metric=manhattan, n_neighbors=5, weights=uniform; total time=   0.1s\n",
      "[CV] END ...metric=manhattan, n_neighbors=5, weights=uniform; total time=   0.1s\n",
      "[CV] END ..metric=manhattan, n_neighbors=5, weights=distance; total time=   0.0s\n",
      "[CV] END ..metric=manhattan, n_neighbors=5, weights=distance; total time=   0.0s\n",
      "[CV] END ..metric=manhattan, n_neighbors=5, weights=distance; total time=   0.0s\n",
      "[CV] END ..metric=manhattan, n_neighbors=5, weights=distance; total time=   0.0s\n",
      "[CV] END ..metric=manhattan, n_neighbors=5, weights=distance; total time=   0.0s\n",
      "[CV] END ...metric=manhattan, n_neighbors=7, weights=uniform; total time=   0.1s\n",
      "[CV] END ...metric=manhattan, n_neighbors=7, weights=uniform; total time=   0.1s\n",
      "[CV] END ...metric=manhattan, n_neighbors=7, weights=uniform; total time=   0.1s\n",
      "[CV] END ...metric=manhattan, n_neighbors=7, weights=uniform; total time=   0.1s\n",
      "[CV] END ...metric=manhattan, n_neighbors=7, weights=uniform; total time=   0.1s\n",
      "[CV] END ..metric=manhattan, n_neighbors=7, weights=distance; total time=   0.0s\n",
      "[CV] END ..metric=manhattan, n_neighbors=7, weights=distance; total time=   0.1s\n",
      "[CV] END ..metric=manhattan, n_neighbors=7, weights=distance; total time=   0.0s\n",
      "[CV] END ..metric=manhattan, n_neighbors=7, weights=distance; total time=   0.0s\n",
      "[CV] END ..metric=manhattan, n_neighbors=7, weights=distance; total time=   0.0s\n",
      "[CV] END ...metric=manhattan, n_neighbors=9, weights=uniform; total time=   0.1s\n",
      "[CV] END ...metric=manhattan, n_neighbors=9, weights=uniform; total time=   0.1s\n",
      "[CV] END ...metric=manhattan, n_neighbors=9, weights=uniform; total time=   0.1s\n",
      "[CV] END ...metric=manhattan, n_neighbors=9, weights=uniform; total time=   0.1s\n",
      "[CV] END ...metric=manhattan, n_neighbors=9, weights=uniform; total time=   0.1s\n",
      "[CV] END ..metric=manhattan, n_neighbors=9, weights=distance; total time=   0.1s\n",
      "[CV] END ..metric=manhattan, n_neighbors=9, weights=distance; total time=   0.1s\n",
      "[CV] END ..metric=manhattan, n_neighbors=9, weights=distance; total time=   0.1s\n",
      "[CV] END ..metric=manhattan, n_neighbors=9, weights=distance; total time=   0.1s\n",
      "[CV] END ..metric=manhattan, n_neighbors=9, weights=distance; total time=   0.1s\n",
      "[CV] END ...metric=minkowski, n_neighbors=3, weights=uniform; total time=   0.0s\n",
      "[CV] END ...metric=minkowski, n_neighbors=3, weights=uniform; total time=   0.0s\n",
      "[CV] END ...metric=minkowski, n_neighbors=3, weights=uniform; total time=   0.0s\n",
      "[CV] END ...metric=minkowski, n_neighbors=3, weights=uniform; total time=   0.0s\n",
      "[CV] END ...metric=minkowski, n_neighbors=3, weights=uniform; total time=   0.0s\n",
      "[CV] END ..metric=minkowski, n_neighbors=3, weights=distance; total time=   0.0s\n",
      "[CV] END ..metric=minkowski, n_neighbors=3, weights=distance; total time=   0.0s\n",
      "[CV] END ..metric=minkowski, n_neighbors=3, weights=distance; total time=   0.0s\n",
      "[CV] END ..metric=minkowski, n_neighbors=3, weights=distance; total time=   0.0s\n",
      "[CV] END ..metric=minkowski, n_neighbors=3, weights=distance; total time=   0.0s\n",
      "[CV] END ...metric=minkowski, n_neighbors=5, weights=uniform; total time=   0.0s\n",
      "[CV] END ...metric=minkowski, n_neighbors=5, weights=uniform; total time=   0.0s\n",
      "[CV] END ...metric=minkowski, n_neighbors=5, weights=uniform; total time=   0.0s\n",
      "[CV] END ...metric=minkowski, n_neighbors=5, weights=uniform; total time=   0.0s\n",
      "[CV] END ...metric=minkowski, n_neighbors=5, weights=uniform; total time=   0.0s\n",
      "[CV] END ..metric=minkowski, n_neighbors=5, weights=distance; total time=   0.0s\n",
      "[CV] END ..metric=minkowski, n_neighbors=5, weights=distance; total time=   0.0s\n",
      "[CV] END ..metric=minkowski, n_neighbors=5, weights=distance; total time=   0.0s\n",
      "[CV] END ..metric=minkowski, n_neighbors=5, weights=distance; total time=   0.0s\n",
      "[CV] END ..metric=minkowski, n_neighbors=5, weights=distance; total time=   0.0s\n",
      "[CV] END ...metric=minkowski, n_neighbors=7, weights=uniform; total time=   0.0s\n",
      "[CV] END ...metric=minkowski, n_neighbors=7, weights=uniform; total time=   0.0s\n",
      "[CV] END ...metric=minkowski, n_neighbors=7, weights=uniform; total time=   0.0s\n",
      "[CV] END ...metric=minkowski, n_neighbors=7, weights=uniform; total time=   0.0s\n",
      "[CV] END ...metric=minkowski, n_neighbors=7, weights=uniform; total time=   0.0s\n",
      "[CV] END ..metric=minkowski, n_neighbors=7, weights=distance; total time=   0.0s\n",
      "[CV] END ..metric=minkowski, n_neighbors=7, weights=distance; total time=   0.0s\n",
      "[CV] END ..metric=minkowski, n_neighbors=7, weights=distance; total time=   0.0s\n",
      "[CV] END ..metric=minkowski, n_neighbors=7, weights=distance; total time=   0.0s\n",
      "[CV] END ..metric=minkowski, n_neighbors=7, weights=distance; total time=   0.0s\n",
      "[CV] END ...metric=minkowski, n_neighbors=9, weights=uniform; total time=   0.0s\n",
      "[CV] END ...metric=minkowski, n_neighbors=9, weights=uniform; total time=   0.0s\n",
      "[CV] END ...metric=minkowski, n_neighbors=9, weights=uniform; total time=   0.0s\n",
      "[CV] END ...metric=minkowski, n_neighbors=9, weights=uniform; total time=   0.0s\n",
      "[CV] END ...metric=minkowski, n_neighbors=9, weights=uniform; total time=   0.0s\n",
      "[CV] END ..metric=minkowski, n_neighbors=9, weights=distance; total time=   0.0s\n",
      "[CV] END ..metric=minkowski, n_neighbors=9, weights=distance; total time=   0.0s\n",
      "[CV] END ..metric=minkowski, n_neighbors=9, weights=distance; total time=   0.0s\n",
      "[CV] END ..metric=minkowski, n_neighbors=9, weights=distance; total time=   0.0s\n",
      "[CV] END ..metric=minkowski, n_neighbors=9, weights=distance; total time=   0.0s\n"
     ]
    }
   ],
   "source": [
    "#K-Nearest Neighbors\n",
    "knn = KNeighborsClassifier()\n",
    "grid_search_knn = GridSearchCV(estimator=knn, param_grid=param_grid_knn, cv=5, scoring='accuracy', verbose=2)\n",
    "grid_search_knn.fit(x_train, y_train)\n",
    "best_knn = grid_search_knn.best_estimator_\n",
    "y_pred_knn = best_knn.predict(x_test)"
   ]
  },
  {
   "cell_type": "code",
   "execution_count": 35,
   "metadata": {},
   "outputs": [
    {
     "name": "stdout",
     "output_type": "stream",
     "text": [
      "Fitting 5 folds for each of 144 candidates, totalling 720 fits\n"
     ]
    },
    {
     "name": "stderr",
     "output_type": "stream",
     "text": [
      "/Users/lalune/Library/Python/3.9/lib/python/site-packages/sklearn/neural_network/_multilayer_perceptron.py:691: ConvergenceWarning: Stochastic Optimizer: Maximum iterations (200) reached and the optimization hasn't converged yet.\n",
      "  warnings.warn(\n"
     ]
    },
    {
     "name": "stdout",
     "output_type": "stream",
     "text": [
      "[CV] END activation=relu, hidden_layer_sizes=(50,), learning_rate=constant, max_iter=200, solver=adam; total time=   5.0s\n"
     ]
    },
    {
     "name": "stderr",
     "output_type": "stream",
     "text": [
      "/Users/lalune/Library/Python/3.9/lib/python/site-packages/sklearn/neural_network/_multilayer_perceptron.py:691: ConvergenceWarning: Stochastic Optimizer: Maximum iterations (200) reached and the optimization hasn't converged yet.\n",
      "  warnings.warn(\n"
     ]
    },
    {
     "name": "stdout",
     "output_type": "stream",
     "text": [
      "[CV] END activation=relu, hidden_layer_sizes=(50,), learning_rate=constant, max_iter=200, solver=adam; total time=   4.3s\n"
     ]
    },
    {
     "name": "stderr",
     "output_type": "stream",
     "text": [
      "/Users/lalune/Library/Python/3.9/lib/python/site-packages/sklearn/neural_network/_multilayer_perceptron.py:691: ConvergenceWarning: Stochastic Optimizer: Maximum iterations (200) reached and the optimization hasn't converged yet.\n",
      "  warnings.warn(\n"
     ]
    },
    {
     "name": "stdout",
     "output_type": "stream",
     "text": [
      "[CV] END activation=relu, hidden_layer_sizes=(50,), learning_rate=constant, max_iter=200, solver=adam; total time=   3.8s\n"
     ]
    },
    {
     "name": "stderr",
     "output_type": "stream",
     "text": [
      "/Users/lalune/Library/Python/3.9/lib/python/site-packages/sklearn/neural_network/_multilayer_perceptron.py:691: ConvergenceWarning: Stochastic Optimizer: Maximum iterations (200) reached and the optimization hasn't converged yet.\n",
      "  warnings.warn(\n"
     ]
    },
    {
     "name": "stdout",
     "output_type": "stream",
     "text": [
      "[CV] END activation=relu, hidden_layer_sizes=(50,), learning_rate=constant, max_iter=200, solver=adam; total time=   3.6s\n"
     ]
    },
    {
     "name": "stderr",
     "output_type": "stream",
     "text": [
      "/Users/lalune/Library/Python/3.9/lib/python/site-packages/sklearn/neural_network/_multilayer_perceptron.py:691: ConvergenceWarning: Stochastic Optimizer: Maximum iterations (200) reached and the optimization hasn't converged yet.\n",
      "  warnings.warn(\n"
     ]
    },
    {
     "name": "stdout",
     "output_type": "stream",
     "text": [
      "[CV] END activation=relu, hidden_layer_sizes=(50,), learning_rate=constant, max_iter=200, solver=adam; total time=   3.8s\n"
     ]
    },
    {
     "name": "stderr",
     "output_type": "stream",
     "text": [
      "/Users/lalune/Library/Python/3.9/lib/python/site-packages/sklearn/neural_network/_multilayer_perceptron.py:691: ConvergenceWarning: Stochastic Optimizer: Maximum iterations (200) reached and the optimization hasn't converged yet.\n",
      "  warnings.warn(\n"
     ]
    },
    {
     "name": "stdout",
     "output_type": "stream",
     "text": [
      "[CV] END activation=relu, hidden_layer_sizes=(50,), learning_rate=constant, max_iter=200, solver=sgd; total time=   3.3s\n"
     ]
    },
    {
     "name": "stderr",
     "output_type": "stream",
     "text": [
      "/Users/lalune/Library/Python/3.9/lib/python/site-packages/sklearn/neural_network/_multilayer_perceptron.py:691: ConvergenceWarning: Stochastic Optimizer: Maximum iterations (200) reached and the optimization hasn't converged yet.\n",
      "  warnings.warn(\n"
     ]
    },
    {
     "name": "stdout",
     "output_type": "stream",
     "text": [
      "[CV] END activation=relu, hidden_layer_sizes=(50,), learning_rate=constant, max_iter=200, solver=sgd; total time=   2.9s\n"
     ]
    },
    {
     "name": "stderr",
     "output_type": "stream",
     "text": [
      "/Users/lalune/Library/Python/3.9/lib/python/site-packages/sklearn/neural_network/_multilayer_perceptron.py:691: ConvergenceWarning: Stochastic Optimizer: Maximum iterations (200) reached and the optimization hasn't converged yet.\n",
      "  warnings.warn(\n"
     ]
    },
    {
     "name": "stdout",
     "output_type": "stream",
     "text": [
      "[CV] END activation=relu, hidden_layer_sizes=(50,), learning_rate=constant, max_iter=200, solver=sgd; total time=   2.9s\n"
     ]
    },
    {
     "name": "stderr",
     "output_type": "stream",
     "text": [
      "/Users/lalune/Library/Python/3.9/lib/python/site-packages/sklearn/neural_network/_multilayer_perceptron.py:691: ConvergenceWarning: Stochastic Optimizer: Maximum iterations (200) reached and the optimization hasn't converged yet.\n",
      "  warnings.warn(\n"
     ]
    },
    {
     "name": "stdout",
     "output_type": "stream",
     "text": [
      "[CV] END activation=relu, hidden_layer_sizes=(50,), learning_rate=constant, max_iter=200, solver=sgd; total time=   2.9s\n"
     ]
    },
    {
     "name": "stderr",
     "output_type": "stream",
     "text": [
      "/Users/lalune/Library/Python/3.9/lib/python/site-packages/sklearn/neural_network/_multilayer_perceptron.py:691: ConvergenceWarning: Stochastic Optimizer: Maximum iterations (200) reached and the optimization hasn't converged yet.\n",
      "  warnings.warn(\n"
     ]
    },
    {
     "name": "stdout",
     "output_type": "stream",
     "text": [
      "[CV] END activation=relu, hidden_layer_sizes=(50,), learning_rate=constant, max_iter=200, solver=sgd; total time=   2.7s\n",
      "[CV] END activation=relu, hidden_layer_sizes=(50,), learning_rate=constant, max_iter=300, solver=adam; total time=   4.7s\n",
      "[CV] END activation=relu, hidden_layer_sizes=(50,), learning_rate=constant, max_iter=300, solver=adam; total time=   5.3s\n",
      "[CV] END activation=relu, hidden_layer_sizes=(50,), learning_rate=constant, max_iter=300, solver=adam; total time=   4.6s\n",
      "[CV] END activation=relu, hidden_layer_sizes=(50,), learning_rate=constant, max_iter=300, solver=adam; total time=   4.8s\n"
     ]
    },
    {
     "name": "stderr",
     "output_type": "stream",
     "text": [
      "/Users/lalune/Library/Python/3.9/lib/python/site-packages/sklearn/neural_network/_multilayer_perceptron.py:691: ConvergenceWarning: Stochastic Optimizer: Maximum iterations (300) reached and the optimization hasn't converged yet.\n",
      "  warnings.warn(\n"
     ]
    },
    {
     "name": "stdout",
     "output_type": "stream",
     "text": [
      "[CV] END activation=relu, hidden_layer_sizes=(50,), learning_rate=constant, max_iter=300, solver=adam; total time=   4.9s\n"
     ]
    },
    {
     "name": "stderr",
     "output_type": "stream",
     "text": [
      "/Users/lalune/Library/Python/3.9/lib/python/site-packages/sklearn/neural_network/_multilayer_perceptron.py:691: ConvergenceWarning: Stochastic Optimizer: Maximum iterations (300) reached and the optimization hasn't converged yet.\n",
      "  warnings.warn(\n"
     ]
    },
    {
     "name": "stdout",
     "output_type": "stream",
     "text": [
      "[CV] END activation=relu, hidden_layer_sizes=(50,), learning_rate=constant, max_iter=300, solver=sgd; total time=   7.2s\n"
     ]
    },
    {
     "name": "stderr",
     "output_type": "stream",
     "text": [
      "/Users/lalune/Library/Python/3.9/lib/python/site-packages/sklearn/neural_network/_multilayer_perceptron.py:691: ConvergenceWarning: Stochastic Optimizer: Maximum iterations (300) reached and the optimization hasn't converged yet.\n",
      "  warnings.warn(\n"
     ]
    },
    {
     "name": "stdout",
     "output_type": "stream",
     "text": [
      "[CV] END activation=relu, hidden_layer_sizes=(50,), learning_rate=constant, max_iter=300, solver=sgd; total time=   5.5s\n"
     ]
    },
    {
     "name": "stderr",
     "output_type": "stream",
     "text": [
      "/Users/lalune/Library/Python/3.9/lib/python/site-packages/sklearn/neural_network/_multilayer_perceptron.py:691: ConvergenceWarning: Stochastic Optimizer: Maximum iterations (300) reached and the optimization hasn't converged yet.\n",
      "  warnings.warn(\n"
     ]
    },
    {
     "name": "stdout",
     "output_type": "stream",
     "text": [
      "[CV] END activation=relu, hidden_layer_sizes=(50,), learning_rate=constant, max_iter=300, solver=sgd; total time=   4.6s\n"
     ]
    },
    {
     "name": "stderr",
     "output_type": "stream",
     "text": [
      "/Users/lalune/Library/Python/3.9/lib/python/site-packages/sklearn/neural_network/_multilayer_perceptron.py:691: ConvergenceWarning: Stochastic Optimizer: Maximum iterations (300) reached and the optimization hasn't converged yet.\n",
      "  warnings.warn(\n"
     ]
    },
    {
     "name": "stdout",
     "output_type": "stream",
     "text": [
      "[CV] END activation=relu, hidden_layer_sizes=(50,), learning_rate=constant, max_iter=300, solver=sgd; total time=   4.8s\n"
     ]
    },
    {
     "name": "stderr",
     "output_type": "stream",
     "text": [
      "/Users/lalune/Library/Python/3.9/lib/python/site-packages/sklearn/neural_network/_multilayer_perceptron.py:691: ConvergenceWarning: Stochastic Optimizer: Maximum iterations (300) reached and the optimization hasn't converged yet.\n",
      "  warnings.warn(\n"
     ]
    },
    {
     "name": "stdout",
     "output_type": "stream",
     "text": [
      "[CV] END activation=relu, hidden_layer_sizes=(50,), learning_rate=constant, max_iter=300, solver=sgd; total time=   5.5s\n",
      "[CV] END activation=relu, hidden_layer_sizes=(50,), learning_rate=constant, max_iter=500, solver=adam; total time=   5.5s\n",
      "[CV] END activation=relu, hidden_layer_sizes=(50,), learning_rate=constant, max_iter=500, solver=adam; total time=   5.4s\n",
      "[CV] END activation=relu, hidden_layer_sizes=(50,), learning_rate=constant, max_iter=500, solver=adam; total time=   4.8s\n",
      "[CV] END activation=relu, hidden_layer_sizes=(50,), learning_rate=constant, max_iter=500, solver=adam; total time=   5.2s\n",
      "[CV] END activation=relu, hidden_layer_sizes=(50,), learning_rate=constant, max_iter=500, solver=adam; total time=   5.6s\n"
     ]
    },
    {
     "name": "stderr",
     "output_type": "stream",
     "text": [
      "/Users/lalune/Library/Python/3.9/lib/python/site-packages/sklearn/neural_network/_multilayer_perceptron.py:691: ConvergenceWarning: Stochastic Optimizer: Maximum iterations (500) reached and the optimization hasn't converged yet.\n",
      "  warnings.warn(\n"
     ]
    },
    {
     "name": "stdout",
     "output_type": "stream",
     "text": [
      "[CV] END activation=relu, hidden_layer_sizes=(50,), learning_rate=constant, max_iter=500, solver=sgd; total time=   8.5s\n"
     ]
    },
    {
     "name": "stderr",
     "output_type": "stream",
     "text": [
      "/Users/lalune/Library/Python/3.9/lib/python/site-packages/sklearn/neural_network/_multilayer_perceptron.py:691: ConvergenceWarning: Stochastic Optimizer: Maximum iterations (500) reached and the optimization hasn't converged yet.\n",
      "  warnings.warn(\n"
     ]
    },
    {
     "name": "stdout",
     "output_type": "stream",
     "text": [
      "[CV] END activation=relu, hidden_layer_sizes=(50,), learning_rate=constant, max_iter=500, solver=sgd; total time=   9.8s\n"
     ]
    },
    {
     "name": "stderr",
     "output_type": "stream",
     "text": [
      "/Users/lalune/Library/Python/3.9/lib/python/site-packages/sklearn/neural_network/_multilayer_perceptron.py:691: ConvergenceWarning: Stochastic Optimizer: Maximum iterations (500) reached and the optimization hasn't converged yet.\n",
      "  warnings.warn(\n"
     ]
    },
    {
     "name": "stdout",
     "output_type": "stream",
     "text": [
      "[CV] END activation=relu, hidden_layer_sizes=(50,), learning_rate=constant, max_iter=500, solver=sgd; total time=   5.5s\n"
     ]
    },
    {
     "name": "stderr",
     "output_type": "stream",
     "text": [
      "/Users/lalune/Library/Python/3.9/lib/python/site-packages/sklearn/neural_network/_multilayer_perceptron.py:691: ConvergenceWarning: Stochastic Optimizer: Maximum iterations (500) reached and the optimization hasn't converged yet.\n",
      "  warnings.warn(\n"
     ]
    },
    {
     "name": "stdout",
     "output_type": "stream",
     "text": [
      "[CV] END activation=relu, hidden_layer_sizes=(50,), learning_rate=constant, max_iter=500, solver=sgd; total time=   5.6s\n"
     ]
    },
    {
     "name": "stderr",
     "output_type": "stream",
     "text": [
      "/Users/lalune/Library/Python/3.9/lib/python/site-packages/sklearn/neural_network/_multilayer_perceptron.py:691: ConvergenceWarning: Stochastic Optimizer: Maximum iterations (500) reached and the optimization hasn't converged yet.\n",
      "  warnings.warn(\n"
     ]
    },
    {
     "name": "stdout",
     "output_type": "stream",
     "text": [
      "[CV] END activation=relu, hidden_layer_sizes=(50,), learning_rate=constant, max_iter=500, solver=sgd; total time=   5.6s\n"
     ]
    },
    {
     "name": "stderr",
     "output_type": "stream",
     "text": [
      "/Users/lalune/Library/Python/3.9/lib/python/site-packages/sklearn/neural_network/_multilayer_perceptron.py:691: ConvergenceWarning: Stochastic Optimizer: Maximum iterations (200) reached and the optimization hasn't converged yet.\n",
      "  warnings.warn(\n"
     ]
    },
    {
     "name": "stdout",
     "output_type": "stream",
     "text": [
      "[CV] END activation=relu, hidden_layer_sizes=(50,), learning_rate=adaptive, max_iter=200, solver=adam; total time=   2.4s\n"
     ]
    },
    {
     "name": "stderr",
     "output_type": "stream",
     "text": [
      "/Users/lalune/Library/Python/3.9/lib/python/site-packages/sklearn/neural_network/_multilayer_perceptron.py:691: ConvergenceWarning: Stochastic Optimizer: Maximum iterations (200) reached and the optimization hasn't converged yet.\n",
      "  warnings.warn(\n"
     ]
    },
    {
     "name": "stdout",
     "output_type": "stream",
     "text": [
      "[CV] END activation=relu, hidden_layer_sizes=(50,), learning_rate=adaptive, max_iter=200, solver=adam; total time=   2.3s\n"
     ]
    },
    {
     "name": "stderr",
     "output_type": "stream",
     "text": [
      "/Users/lalune/Library/Python/3.9/lib/python/site-packages/sklearn/neural_network/_multilayer_perceptron.py:691: ConvergenceWarning: Stochastic Optimizer: Maximum iterations (200) reached and the optimization hasn't converged yet.\n",
      "  warnings.warn(\n"
     ]
    },
    {
     "name": "stdout",
     "output_type": "stream",
     "text": [
      "[CV] END activation=relu, hidden_layer_sizes=(50,), learning_rate=adaptive, max_iter=200, solver=adam; total time=   2.3s\n"
     ]
    },
    {
     "name": "stderr",
     "output_type": "stream",
     "text": [
      "/Users/lalune/Library/Python/3.9/lib/python/site-packages/sklearn/neural_network/_multilayer_perceptron.py:691: ConvergenceWarning: Stochastic Optimizer: Maximum iterations (200) reached and the optimization hasn't converged yet.\n",
      "  warnings.warn(\n"
     ]
    },
    {
     "name": "stdout",
     "output_type": "stream",
     "text": [
      "[CV] END activation=relu, hidden_layer_sizes=(50,), learning_rate=adaptive, max_iter=200, solver=adam; total time=   2.2s\n"
     ]
    },
    {
     "name": "stderr",
     "output_type": "stream",
     "text": [
      "/Users/lalune/Library/Python/3.9/lib/python/site-packages/sklearn/neural_network/_multilayer_perceptron.py:691: ConvergenceWarning: Stochastic Optimizer: Maximum iterations (200) reached and the optimization hasn't converged yet.\n",
      "  warnings.warn(\n"
     ]
    },
    {
     "name": "stdout",
     "output_type": "stream",
     "text": [
      "[CV] END activation=relu, hidden_layer_sizes=(50,), learning_rate=adaptive, max_iter=200, solver=adam; total time=   2.6s\n"
     ]
    },
    {
     "name": "stderr",
     "output_type": "stream",
     "text": [
      "/Users/lalune/Library/Python/3.9/lib/python/site-packages/sklearn/neural_network/_multilayer_perceptron.py:691: ConvergenceWarning: Stochastic Optimizer: Maximum iterations (200) reached and the optimization hasn't converged yet.\n",
      "  warnings.warn(\n"
     ]
    },
    {
     "name": "stdout",
     "output_type": "stream",
     "text": [
      "[CV] END activation=relu, hidden_layer_sizes=(50,), learning_rate=adaptive, max_iter=200, solver=sgd; total time=   2.2s\n"
     ]
    },
    {
     "name": "stderr",
     "output_type": "stream",
     "text": [
      "/Users/lalune/Library/Python/3.9/lib/python/site-packages/sklearn/neural_network/_multilayer_perceptron.py:691: ConvergenceWarning: Stochastic Optimizer: Maximum iterations (200) reached and the optimization hasn't converged yet.\n",
      "  warnings.warn(\n"
     ]
    },
    {
     "name": "stdout",
     "output_type": "stream",
     "text": [
      "[CV] END activation=relu, hidden_layer_sizes=(50,), learning_rate=adaptive, max_iter=200, solver=sgd; total time=   2.1s\n"
     ]
    },
    {
     "name": "stderr",
     "output_type": "stream",
     "text": [
      "/Users/lalune/Library/Python/3.9/lib/python/site-packages/sklearn/neural_network/_multilayer_perceptron.py:691: ConvergenceWarning: Stochastic Optimizer: Maximum iterations (200) reached and the optimization hasn't converged yet.\n",
      "  warnings.warn(\n"
     ]
    },
    {
     "name": "stdout",
     "output_type": "stream",
     "text": [
      "[CV] END activation=relu, hidden_layer_sizes=(50,), learning_rate=adaptive, max_iter=200, solver=sgd; total time=   2.2s\n"
     ]
    },
    {
     "name": "stderr",
     "output_type": "stream",
     "text": [
      "/Users/lalune/Library/Python/3.9/lib/python/site-packages/sklearn/neural_network/_multilayer_perceptron.py:691: ConvergenceWarning: Stochastic Optimizer: Maximum iterations (200) reached and the optimization hasn't converged yet.\n",
      "  warnings.warn(\n"
     ]
    },
    {
     "name": "stdout",
     "output_type": "stream",
     "text": [
      "[CV] END activation=relu, hidden_layer_sizes=(50,), learning_rate=adaptive, max_iter=200, solver=sgd; total time=   2.3s\n"
     ]
    },
    {
     "name": "stderr",
     "output_type": "stream",
     "text": [
      "/Users/lalune/Library/Python/3.9/lib/python/site-packages/sklearn/neural_network/_multilayer_perceptron.py:691: ConvergenceWarning: Stochastic Optimizer: Maximum iterations (200) reached and the optimization hasn't converged yet.\n",
      "  warnings.warn(\n"
     ]
    },
    {
     "name": "stdout",
     "output_type": "stream",
     "text": [
      "[CV] END activation=relu, hidden_layer_sizes=(50,), learning_rate=adaptive, max_iter=200, solver=sgd; total time=   2.4s\n",
      "[CV] END activation=relu, hidden_layer_sizes=(50,), learning_rate=adaptive, max_iter=300, solver=adam; total time=   3.4s\n",
      "[CV] END activation=relu, hidden_layer_sizes=(50,), learning_rate=adaptive, max_iter=300, solver=adam; total time=   4.2s\n",
      "[CV] END activation=relu, hidden_layer_sizes=(50,), learning_rate=adaptive, max_iter=300, solver=adam; total time=   3.1s\n",
      "[CV] END activation=relu, hidden_layer_sizes=(50,), learning_rate=adaptive, max_iter=300, solver=adam; total time=   3.4s\n"
     ]
    },
    {
     "name": "stderr",
     "output_type": "stream",
     "text": [
      "/Users/lalune/Library/Python/3.9/lib/python/site-packages/sklearn/neural_network/_multilayer_perceptron.py:691: ConvergenceWarning: Stochastic Optimizer: Maximum iterations (300) reached and the optimization hasn't converged yet.\n",
      "  warnings.warn(\n"
     ]
    },
    {
     "name": "stdout",
     "output_type": "stream",
     "text": [
      "[CV] END activation=relu, hidden_layer_sizes=(50,), learning_rate=adaptive, max_iter=300, solver=adam; total time=   3.6s\n"
     ]
    },
    {
     "name": "stderr",
     "output_type": "stream",
     "text": [
      "/Users/lalune/Library/Python/3.9/lib/python/site-packages/sklearn/neural_network/_multilayer_perceptron.py:691: ConvergenceWarning: Stochastic Optimizer: Maximum iterations (300) reached and the optimization hasn't converged yet.\n",
      "  warnings.warn(\n"
     ]
    },
    {
     "name": "stdout",
     "output_type": "stream",
     "text": [
      "[CV] END activation=relu, hidden_layer_sizes=(50,), learning_rate=adaptive, max_iter=300, solver=sgd; total time=   3.2s\n"
     ]
    },
    {
     "name": "stderr",
     "output_type": "stream",
     "text": [
      "/Users/lalune/Library/Python/3.9/lib/python/site-packages/sklearn/neural_network/_multilayer_perceptron.py:691: ConvergenceWarning: Stochastic Optimizer: Maximum iterations (300) reached and the optimization hasn't converged yet.\n",
      "  warnings.warn(\n"
     ]
    },
    {
     "name": "stdout",
     "output_type": "stream",
     "text": [
      "[CV] END activation=relu, hidden_layer_sizes=(50,), learning_rate=adaptive, max_iter=300, solver=sgd; total time=   3.2s\n"
     ]
    },
    {
     "name": "stderr",
     "output_type": "stream",
     "text": [
      "/Users/lalune/Library/Python/3.9/lib/python/site-packages/sklearn/neural_network/_multilayer_perceptron.py:691: ConvergenceWarning: Stochastic Optimizer: Maximum iterations (300) reached and the optimization hasn't converged yet.\n",
      "  warnings.warn(\n"
     ]
    },
    {
     "name": "stdout",
     "output_type": "stream",
     "text": [
      "[CV] END activation=relu, hidden_layer_sizes=(50,), learning_rate=adaptive, max_iter=300, solver=sgd; total time=   3.3s\n"
     ]
    },
    {
     "name": "stderr",
     "output_type": "stream",
     "text": [
      "/Users/lalune/Library/Python/3.9/lib/python/site-packages/sklearn/neural_network/_multilayer_perceptron.py:691: ConvergenceWarning: Stochastic Optimizer: Maximum iterations (300) reached and the optimization hasn't converged yet.\n",
      "  warnings.warn(\n"
     ]
    },
    {
     "name": "stdout",
     "output_type": "stream",
     "text": [
      "[CV] END activation=relu, hidden_layer_sizes=(50,), learning_rate=adaptive, max_iter=300, solver=sgd; total time=   3.6s\n"
     ]
    },
    {
     "name": "stderr",
     "output_type": "stream",
     "text": [
      "/Users/lalune/Library/Python/3.9/lib/python/site-packages/sklearn/neural_network/_multilayer_perceptron.py:691: ConvergenceWarning: Stochastic Optimizer: Maximum iterations (300) reached and the optimization hasn't converged yet.\n",
      "  warnings.warn(\n"
     ]
    },
    {
     "name": "stdout",
     "output_type": "stream",
     "text": [
      "[CV] END activation=relu, hidden_layer_sizes=(50,), learning_rate=adaptive, max_iter=300, solver=sgd; total time=   3.3s\n",
      "[CV] END activation=relu, hidden_layer_sizes=(50,), learning_rate=adaptive, max_iter=500, solver=adam; total time=   3.3s\n",
      "[CV] END activation=relu, hidden_layer_sizes=(50,), learning_rate=adaptive, max_iter=500, solver=adam; total time=   3.3s\n",
      "[CV] END activation=relu, hidden_layer_sizes=(50,), learning_rate=adaptive, max_iter=500, solver=adam; total time=   2.9s\n",
      "[CV] END activation=relu, hidden_layer_sizes=(50,), learning_rate=adaptive, max_iter=500, solver=adam; total time=   3.3s\n",
      "[CV] END activation=relu, hidden_layer_sizes=(50,), learning_rate=adaptive, max_iter=500, solver=adam; total time=   3.7s\n"
     ]
    },
    {
     "name": "stderr",
     "output_type": "stream",
     "text": [
      "/Users/lalune/Library/Python/3.9/lib/python/site-packages/sklearn/neural_network/_multilayer_perceptron.py:691: ConvergenceWarning: Stochastic Optimizer: Maximum iterations (500) reached and the optimization hasn't converged yet.\n",
      "  warnings.warn(\n"
     ]
    },
    {
     "name": "stdout",
     "output_type": "stream",
     "text": [
      "[CV] END activation=relu, hidden_layer_sizes=(50,), learning_rate=adaptive, max_iter=500, solver=sgd; total time=   5.6s\n"
     ]
    },
    {
     "name": "stderr",
     "output_type": "stream",
     "text": [
      "/Users/lalune/Library/Python/3.9/lib/python/site-packages/sklearn/neural_network/_multilayer_perceptron.py:691: ConvergenceWarning: Stochastic Optimizer: Maximum iterations (500) reached and the optimization hasn't converged yet.\n",
      "  warnings.warn(\n"
     ]
    },
    {
     "name": "stdout",
     "output_type": "stream",
     "text": [
      "[CV] END activation=relu, hidden_layer_sizes=(50,), learning_rate=adaptive, max_iter=500, solver=sgd; total time=   5.7s\n"
     ]
    },
    {
     "name": "stderr",
     "output_type": "stream",
     "text": [
      "/Users/lalune/Library/Python/3.9/lib/python/site-packages/sklearn/neural_network/_multilayer_perceptron.py:691: ConvergenceWarning: Stochastic Optimizer: Maximum iterations (500) reached and the optimization hasn't converged yet.\n",
      "  warnings.warn(\n"
     ]
    },
    {
     "name": "stdout",
     "output_type": "stream",
     "text": [
      "[CV] END activation=relu, hidden_layer_sizes=(50,), learning_rate=adaptive, max_iter=500, solver=sgd; total time=   5.5s\n"
     ]
    },
    {
     "name": "stderr",
     "output_type": "stream",
     "text": [
      "/Users/lalune/Library/Python/3.9/lib/python/site-packages/sklearn/neural_network/_multilayer_perceptron.py:691: ConvergenceWarning: Stochastic Optimizer: Maximum iterations (500) reached and the optimization hasn't converged yet.\n",
      "  warnings.warn(\n"
     ]
    },
    {
     "name": "stdout",
     "output_type": "stream",
     "text": [
      "[CV] END activation=relu, hidden_layer_sizes=(50,), learning_rate=adaptive, max_iter=500, solver=sgd; total time=   5.6s\n"
     ]
    },
    {
     "name": "stderr",
     "output_type": "stream",
     "text": [
      "/Users/lalune/Library/Python/3.9/lib/python/site-packages/sklearn/neural_network/_multilayer_perceptron.py:691: ConvergenceWarning: Stochastic Optimizer: Maximum iterations (500) reached and the optimization hasn't converged yet.\n",
      "  warnings.warn(\n"
     ]
    },
    {
     "name": "stdout",
     "output_type": "stream",
     "text": [
      "[CV] END activation=relu, hidden_layer_sizes=(50,), learning_rate=adaptive, max_iter=500, solver=sgd; total time=   5.8s\n"
     ]
    },
    {
     "name": "stderr",
     "output_type": "stream",
     "text": [
      "/Users/lalune/Library/Python/3.9/lib/python/site-packages/sklearn/neural_network/_multilayer_perceptron.py:691: ConvergenceWarning: Stochastic Optimizer: Maximum iterations (200) reached and the optimization hasn't converged yet.\n",
      "  warnings.warn(\n"
     ]
    },
    {
     "name": "stdout",
     "output_type": "stream",
     "text": [
      "[CV] END activation=relu, hidden_layer_sizes=(100,), learning_rate=constant, max_iter=200, solver=adam; total time=   3.3s\n"
     ]
    },
    {
     "name": "stderr",
     "output_type": "stream",
     "text": [
      "/Users/lalune/Library/Python/3.9/lib/python/site-packages/sklearn/neural_network/_multilayer_perceptron.py:691: ConvergenceWarning: Stochastic Optimizer: Maximum iterations (200) reached and the optimization hasn't converged yet.\n",
      "  warnings.warn(\n"
     ]
    },
    {
     "name": "stdout",
     "output_type": "stream",
     "text": [
      "[CV] END activation=relu, hidden_layer_sizes=(100,), learning_rate=constant, max_iter=200, solver=adam; total time=   3.3s\n"
     ]
    },
    {
     "name": "stderr",
     "output_type": "stream",
     "text": [
      "/Users/lalune/Library/Python/3.9/lib/python/site-packages/sklearn/neural_network/_multilayer_perceptron.py:691: ConvergenceWarning: Stochastic Optimizer: Maximum iterations (200) reached and the optimization hasn't converged yet.\n",
      "  warnings.warn(\n"
     ]
    },
    {
     "name": "stdout",
     "output_type": "stream",
     "text": [
      "[CV] END activation=relu, hidden_layer_sizes=(100,), learning_rate=constant, max_iter=200, solver=adam; total time=   3.2s\n"
     ]
    },
    {
     "name": "stderr",
     "output_type": "stream",
     "text": [
      "/Users/lalune/Library/Python/3.9/lib/python/site-packages/sklearn/neural_network/_multilayer_perceptron.py:691: ConvergenceWarning: Stochastic Optimizer: Maximum iterations (200) reached and the optimization hasn't converged yet.\n",
      "  warnings.warn(\n"
     ]
    },
    {
     "name": "stdout",
     "output_type": "stream",
     "text": [
      "[CV] END activation=relu, hidden_layer_sizes=(100,), learning_rate=constant, max_iter=200, solver=adam; total time=   3.4s\n"
     ]
    },
    {
     "name": "stderr",
     "output_type": "stream",
     "text": [
      "/Users/lalune/Library/Python/3.9/lib/python/site-packages/sklearn/neural_network/_multilayer_perceptron.py:691: ConvergenceWarning: Stochastic Optimizer: Maximum iterations (200) reached and the optimization hasn't converged yet.\n",
      "  warnings.warn(\n"
     ]
    },
    {
     "name": "stdout",
     "output_type": "stream",
     "text": [
      "[CV] END activation=relu, hidden_layer_sizes=(100,), learning_rate=constant, max_iter=200, solver=adam; total time=   3.1s\n"
     ]
    },
    {
     "name": "stderr",
     "output_type": "stream",
     "text": [
      "/Users/lalune/Library/Python/3.9/lib/python/site-packages/sklearn/neural_network/_multilayer_perceptron.py:691: ConvergenceWarning: Stochastic Optimizer: Maximum iterations (200) reached and the optimization hasn't converged yet.\n",
      "  warnings.warn(\n"
     ]
    },
    {
     "name": "stdout",
     "output_type": "stream",
     "text": [
      "[CV] END activation=relu, hidden_layer_sizes=(100,), learning_rate=constant, max_iter=200, solver=sgd; total time=   3.1s\n"
     ]
    },
    {
     "name": "stderr",
     "output_type": "stream",
     "text": [
      "/Users/lalune/Library/Python/3.9/lib/python/site-packages/sklearn/neural_network/_multilayer_perceptron.py:691: ConvergenceWarning: Stochastic Optimizer: Maximum iterations (200) reached and the optimization hasn't converged yet.\n",
      "  warnings.warn(\n"
     ]
    },
    {
     "name": "stdout",
     "output_type": "stream",
     "text": [
      "[CV] END activation=relu, hidden_layer_sizes=(100,), learning_rate=constant, max_iter=200, solver=sgd; total time=   3.0s\n"
     ]
    },
    {
     "name": "stderr",
     "output_type": "stream",
     "text": [
      "/Users/lalune/Library/Python/3.9/lib/python/site-packages/sklearn/neural_network/_multilayer_perceptron.py:691: ConvergenceWarning: Stochastic Optimizer: Maximum iterations (200) reached and the optimization hasn't converged yet.\n",
      "  warnings.warn(\n"
     ]
    },
    {
     "name": "stdout",
     "output_type": "stream",
     "text": [
      "[CV] END activation=relu, hidden_layer_sizes=(100,), learning_rate=constant, max_iter=200, solver=sgd; total time=   3.2s\n"
     ]
    },
    {
     "name": "stderr",
     "output_type": "stream",
     "text": [
      "/Users/lalune/Library/Python/3.9/lib/python/site-packages/sklearn/neural_network/_multilayer_perceptron.py:691: ConvergenceWarning: Stochastic Optimizer: Maximum iterations (200) reached and the optimization hasn't converged yet.\n",
      "  warnings.warn(\n"
     ]
    },
    {
     "name": "stdout",
     "output_type": "stream",
     "text": [
      "[CV] END activation=relu, hidden_layer_sizes=(100,), learning_rate=constant, max_iter=200, solver=sgd; total time=   3.0s\n"
     ]
    },
    {
     "name": "stderr",
     "output_type": "stream",
     "text": [
      "/Users/lalune/Library/Python/3.9/lib/python/site-packages/sklearn/neural_network/_multilayer_perceptron.py:691: ConvergenceWarning: Stochastic Optimizer: Maximum iterations (200) reached and the optimization hasn't converged yet.\n",
      "  warnings.warn(\n"
     ]
    },
    {
     "name": "stdout",
     "output_type": "stream",
     "text": [
      "[CV] END activation=relu, hidden_layer_sizes=(100,), learning_rate=constant, max_iter=200, solver=sgd; total time=   3.1s\n",
      "[CV] END activation=relu, hidden_layer_sizes=(100,), learning_rate=constant, max_iter=300, solver=adam; total time=   3.8s\n",
      "[CV] END activation=relu, hidden_layer_sizes=(100,), learning_rate=constant, max_iter=300, solver=adam; total time=   3.8s\n",
      "[CV] END activation=relu, hidden_layer_sizes=(100,), learning_rate=constant, max_iter=300, solver=adam; total time=   4.9s\n",
      "[CV] END activation=relu, hidden_layer_sizes=(100,), learning_rate=constant, max_iter=300, solver=adam; total time=   4.5s\n",
      "[CV] END activation=relu, hidden_layer_sizes=(100,), learning_rate=constant, max_iter=300, solver=adam; total time=   3.8s\n"
     ]
    },
    {
     "name": "stderr",
     "output_type": "stream",
     "text": [
      "/Users/lalune/Library/Python/3.9/lib/python/site-packages/sklearn/neural_network/_multilayer_perceptron.py:691: ConvergenceWarning: Stochastic Optimizer: Maximum iterations (300) reached and the optimization hasn't converged yet.\n",
      "  warnings.warn(\n"
     ]
    },
    {
     "name": "stdout",
     "output_type": "stream",
     "text": [
      "[CV] END activation=relu, hidden_layer_sizes=(100,), learning_rate=constant, max_iter=300, solver=sgd; total time=   4.6s\n"
     ]
    },
    {
     "name": "stderr",
     "output_type": "stream",
     "text": [
      "/Users/lalune/Library/Python/3.9/lib/python/site-packages/sklearn/neural_network/_multilayer_perceptron.py:691: ConvergenceWarning: Stochastic Optimizer: Maximum iterations (300) reached and the optimization hasn't converged yet.\n",
      "  warnings.warn(\n"
     ]
    },
    {
     "name": "stdout",
     "output_type": "stream",
     "text": [
      "[CV] END activation=relu, hidden_layer_sizes=(100,), learning_rate=constant, max_iter=300, solver=sgd; total time=   4.3s\n"
     ]
    },
    {
     "name": "stderr",
     "output_type": "stream",
     "text": [
      "/Users/lalune/Library/Python/3.9/lib/python/site-packages/sklearn/neural_network/_multilayer_perceptron.py:691: ConvergenceWarning: Stochastic Optimizer: Maximum iterations (300) reached and the optimization hasn't converged yet.\n",
      "  warnings.warn(\n"
     ]
    },
    {
     "name": "stdout",
     "output_type": "stream",
     "text": [
      "[CV] END activation=relu, hidden_layer_sizes=(100,), learning_rate=constant, max_iter=300, solver=sgd; total time=   4.8s\n"
     ]
    },
    {
     "name": "stderr",
     "output_type": "stream",
     "text": [
      "/Users/lalune/Library/Python/3.9/lib/python/site-packages/sklearn/neural_network/_multilayer_perceptron.py:691: ConvergenceWarning: Stochastic Optimizer: Maximum iterations (300) reached and the optimization hasn't converged yet.\n",
      "  warnings.warn(\n"
     ]
    },
    {
     "name": "stdout",
     "output_type": "stream",
     "text": [
      "[CV] END activation=relu, hidden_layer_sizes=(100,), learning_rate=constant, max_iter=300, solver=sgd; total time=   4.7s\n"
     ]
    },
    {
     "name": "stderr",
     "output_type": "stream",
     "text": [
      "/Users/lalune/Library/Python/3.9/lib/python/site-packages/sklearn/neural_network/_multilayer_perceptron.py:691: ConvergenceWarning: Stochastic Optimizer: Maximum iterations (300) reached and the optimization hasn't converged yet.\n",
      "  warnings.warn(\n"
     ]
    },
    {
     "name": "stdout",
     "output_type": "stream",
     "text": [
      "[CV] END activation=relu, hidden_layer_sizes=(100,), learning_rate=constant, max_iter=300, solver=sgd; total time=   4.3s\n",
      "[CV] END activation=relu, hidden_layer_sizes=(100,), learning_rate=constant, max_iter=500, solver=adam; total time=   3.9s\n",
      "[CV] END activation=relu, hidden_layer_sizes=(100,), learning_rate=constant, max_iter=500, solver=adam; total time=   3.8s\n",
      "[CV] END activation=relu, hidden_layer_sizes=(100,), learning_rate=constant, max_iter=500, solver=adam; total time=   4.3s\n",
      "[CV] END activation=relu, hidden_layer_sizes=(100,), learning_rate=constant, max_iter=500, solver=adam; total time=   4.3s\n",
      "[CV] END activation=relu, hidden_layer_sizes=(100,), learning_rate=constant, max_iter=500, solver=adam; total time=   3.9s\n"
     ]
    },
    {
     "name": "stderr",
     "output_type": "stream",
     "text": [
      "/Users/lalune/Library/Python/3.9/lib/python/site-packages/sklearn/neural_network/_multilayer_perceptron.py:691: ConvergenceWarning: Stochastic Optimizer: Maximum iterations (500) reached and the optimization hasn't converged yet.\n",
      "  warnings.warn(\n"
     ]
    },
    {
     "name": "stdout",
     "output_type": "stream",
     "text": [
      "[CV] END activation=relu, hidden_layer_sizes=(100,), learning_rate=constant, max_iter=500, solver=sgd; total time=   7.4s\n"
     ]
    },
    {
     "name": "stderr",
     "output_type": "stream",
     "text": [
      "/Users/lalune/Library/Python/3.9/lib/python/site-packages/sklearn/neural_network/_multilayer_perceptron.py:691: ConvergenceWarning: Stochastic Optimizer: Maximum iterations (500) reached and the optimization hasn't converged yet.\n",
      "  warnings.warn(\n"
     ]
    },
    {
     "name": "stdout",
     "output_type": "stream",
     "text": [
      "[CV] END activation=relu, hidden_layer_sizes=(100,), learning_rate=constant, max_iter=500, solver=sgd; total time=   7.8s\n"
     ]
    },
    {
     "name": "stderr",
     "output_type": "stream",
     "text": [
      "/Users/lalune/Library/Python/3.9/lib/python/site-packages/sklearn/neural_network/_multilayer_perceptron.py:691: ConvergenceWarning: Stochastic Optimizer: Maximum iterations (500) reached and the optimization hasn't converged yet.\n",
      "  warnings.warn(\n"
     ]
    },
    {
     "name": "stdout",
     "output_type": "stream",
     "text": [
      "[CV] END activation=relu, hidden_layer_sizes=(100,), learning_rate=constant, max_iter=500, solver=sgd; total time=   7.6s\n"
     ]
    },
    {
     "name": "stderr",
     "output_type": "stream",
     "text": [
      "/Users/lalune/Library/Python/3.9/lib/python/site-packages/sklearn/neural_network/_multilayer_perceptron.py:691: ConvergenceWarning: Stochastic Optimizer: Maximum iterations (500) reached and the optimization hasn't converged yet.\n",
      "  warnings.warn(\n"
     ]
    },
    {
     "name": "stdout",
     "output_type": "stream",
     "text": [
      "[CV] END activation=relu, hidden_layer_sizes=(100,), learning_rate=constant, max_iter=500, solver=sgd; total time=   7.4s\n"
     ]
    },
    {
     "name": "stderr",
     "output_type": "stream",
     "text": [
      "/Users/lalune/Library/Python/3.9/lib/python/site-packages/sklearn/neural_network/_multilayer_perceptron.py:691: ConvergenceWarning: Stochastic Optimizer: Maximum iterations (500) reached and the optimization hasn't converged yet.\n",
      "  warnings.warn(\n"
     ]
    },
    {
     "name": "stdout",
     "output_type": "stream",
     "text": [
      "[CV] END activation=relu, hidden_layer_sizes=(100,), learning_rate=constant, max_iter=500, solver=sgd; total time=   8.0s\n"
     ]
    },
    {
     "name": "stderr",
     "output_type": "stream",
     "text": [
      "/Users/lalune/Library/Python/3.9/lib/python/site-packages/sklearn/neural_network/_multilayer_perceptron.py:691: ConvergenceWarning: Stochastic Optimizer: Maximum iterations (200) reached and the optimization hasn't converged yet.\n",
      "  warnings.warn(\n"
     ]
    },
    {
     "name": "stdout",
     "output_type": "stream",
     "text": [
      "[CV] END activation=relu, hidden_layer_sizes=(100,), learning_rate=adaptive, max_iter=200, solver=adam; total time=   4.4s\n"
     ]
    },
    {
     "name": "stderr",
     "output_type": "stream",
     "text": [
      "/Users/lalune/Library/Python/3.9/lib/python/site-packages/sklearn/neural_network/_multilayer_perceptron.py:691: ConvergenceWarning: Stochastic Optimizer: Maximum iterations (200) reached and the optimization hasn't converged yet.\n",
      "  warnings.warn(\n"
     ]
    },
    {
     "name": "stdout",
     "output_type": "stream",
     "text": [
      "[CV] END activation=relu, hidden_layer_sizes=(100,), learning_rate=adaptive, max_iter=200, solver=adam; total time=   3.3s\n"
     ]
    },
    {
     "name": "stderr",
     "output_type": "stream",
     "text": [
      "/Users/lalune/Library/Python/3.9/lib/python/site-packages/sklearn/neural_network/_multilayer_perceptron.py:691: ConvergenceWarning: Stochastic Optimizer: Maximum iterations (200) reached and the optimization hasn't converged yet.\n",
      "  warnings.warn(\n"
     ]
    },
    {
     "name": "stdout",
     "output_type": "stream",
     "text": [
      "[CV] END activation=relu, hidden_layer_sizes=(100,), learning_rate=adaptive, max_iter=200, solver=adam; total time=   3.2s\n"
     ]
    },
    {
     "name": "stderr",
     "output_type": "stream",
     "text": [
      "/Users/lalune/Library/Python/3.9/lib/python/site-packages/sklearn/neural_network/_multilayer_perceptron.py:691: ConvergenceWarning: Stochastic Optimizer: Maximum iterations (200) reached and the optimization hasn't converged yet.\n",
      "  warnings.warn(\n"
     ]
    },
    {
     "name": "stdout",
     "output_type": "stream",
     "text": [
      "[CV] END activation=relu, hidden_layer_sizes=(100,), learning_rate=adaptive, max_iter=200, solver=adam; total time=   3.4s\n"
     ]
    },
    {
     "name": "stderr",
     "output_type": "stream",
     "text": [
      "/Users/lalune/Library/Python/3.9/lib/python/site-packages/sklearn/neural_network/_multilayer_perceptron.py:691: ConvergenceWarning: Stochastic Optimizer: Maximum iterations (200) reached and the optimization hasn't converged yet.\n",
      "  warnings.warn(\n"
     ]
    },
    {
     "name": "stdout",
     "output_type": "stream",
     "text": [
      "[CV] END activation=relu, hidden_layer_sizes=(100,), learning_rate=adaptive, max_iter=200, solver=adam; total time=   3.1s\n"
     ]
    },
    {
     "name": "stderr",
     "output_type": "stream",
     "text": [
      "/Users/lalune/Library/Python/3.9/lib/python/site-packages/sklearn/neural_network/_multilayer_perceptron.py:691: ConvergenceWarning: Stochastic Optimizer: Maximum iterations (200) reached and the optimization hasn't converged yet.\n",
      "  warnings.warn(\n"
     ]
    },
    {
     "name": "stdout",
     "output_type": "stream",
     "text": [
      "[CV] END activation=relu, hidden_layer_sizes=(100,), learning_rate=adaptive, max_iter=200, solver=sgd; total time=   3.2s\n"
     ]
    },
    {
     "name": "stderr",
     "output_type": "stream",
     "text": [
      "/Users/lalune/Library/Python/3.9/lib/python/site-packages/sklearn/neural_network/_multilayer_perceptron.py:691: ConvergenceWarning: Stochastic Optimizer: Maximum iterations (200) reached and the optimization hasn't converged yet.\n",
      "  warnings.warn(\n"
     ]
    },
    {
     "name": "stdout",
     "output_type": "stream",
     "text": [
      "[CV] END activation=relu, hidden_layer_sizes=(100,), learning_rate=adaptive, max_iter=200, solver=sgd; total time=   3.0s\n"
     ]
    },
    {
     "name": "stderr",
     "output_type": "stream",
     "text": [
      "/Users/lalune/Library/Python/3.9/lib/python/site-packages/sklearn/neural_network/_multilayer_perceptron.py:691: ConvergenceWarning: Stochastic Optimizer: Maximum iterations (200) reached and the optimization hasn't converged yet.\n",
      "  warnings.warn(\n"
     ]
    },
    {
     "name": "stdout",
     "output_type": "stream",
     "text": [
      "[CV] END activation=relu, hidden_layer_sizes=(100,), learning_rate=adaptive, max_iter=200, solver=sgd; total time=   2.8s\n"
     ]
    },
    {
     "name": "stderr",
     "output_type": "stream",
     "text": [
      "/Users/lalune/Library/Python/3.9/lib/python/site-packages/sklearn/neural_network/_multilayer_perceptron.py:691: ConvergenceWarning: Stochastic Optimizer: Maximum iterations (200) reached and the optimization hasn't converged yet.\n",
      "  warnings.warn(\n"
     ]
    },
    {
     "name": "stdout",
     "output_type": "stream",
     "text": [
      "[CV] END activation=relu, hidden_layer_sizes=(100,), learning_rate=adaptive, max_iter=200, solver=sgd; total time=   2.9s\n"
     ]
    },
    {
     "name": "stderr",
     "output_type": "stream",
     "text": [
      "/Users/lalune/Library/Python/3.9/lib/python/site-packages/sklearn/neural_network/_multilayer_perceptron.py:691: ConvergenceWarning: Stochastic Optimizer: Maximum iterations (200) reached and the optimization hasn't converged yet.\n",
      "  warnings.warn(\n"
     ]
    },
    {
     "name": "stdout",
     "output_type": "stream",
     "text": [
      "[CV] END activation=relu, hidden_layer_sizes=(100,), learning_rate=adaptive, max_iter=200, solver=sgd; total time=   3.1s\n",
      "[CV] END activation=relu, hidden_layer_sizes=(100,), learning_rate=adaptive, max_iter=300, solver=adam; total time=   3.9s\n",
      "[CV] END activation=relu, hidden_layer_sizes=(100,), learning_rate=adaptive, max_iter=300, solver=adam; total time=   3.9s\n",
      "[CV] END activation=relu, hidden_layer_sizes=(100,), learning_rate=adaptive, max_iter=300, solver=adam; total time=   4.6s\n",
      "[CV] END activation=relu, hidden_layer_sizes=(100,), learning_rate=adaptive, max_iter=300, solver=adam; total time=   5.3s\n",
      "[CV] END activation=relu, hidden_layer_sizes=(100,), learning_rate=adaptive, max_iter=300, solver=adam; total time=   5.0s\n"
     ]
    },
    {
     "name": "stderr",
     "output_type": "stream",
     "text": [
      "/Users/lalune/Library/Python/3.9/lib/python/site-packages/sklearn/neural_network/_multilayer_perceptron.py:691: ConvergenceWarning: Stochastic Optimizer: Maximum iterations (300) reached and the optimization hasn't converged yet.\n",
      "  warnings.warn(\n"
     ]
    },
    {
     "name": "stdout",
     "output_type": "stream",
     "text": [
      "[CV] END activation=relu, hidden_layer_sizes=(100,), learning_rate=adaptive, max_iter=300, solver=sgd; total time=   5.6s\n"
     ]
    },
    {
     "name": "stderr",
     "output_type": "stream",
     "text": [
      "/Users/lalune/Library/Python/3.9/lib/python/site-packages/sklearn/neural_network/_multilayer_perceptron.py:691: ConvergenceWarning: Stochastic Optimizer: Maximum iterations (300) reached and the optimization hasn't converged yet.\n",
      "  warnings.warn(\n"
     ]
    },
    {
     "name": "stdout",
     "output_type": "stream",
     "text": [
      "[CV] END activation=relu, hidden_layer_sizes=(100,), learning_rate=adaptive, max_iter=300, solver=sgd; total time=   5.5s\n"
     ]
    },
    {
     "name": "stderr",
     "output_type": "stream",
     "text": [
      "/Users/lalune/Library/Python/3.9/lib/python/site-packages/sklearn/neural_network/_multilayer_perceptron.py:691: ConvergenceWarning: Stochastic Optimizer: Maximum iterations (300) reached and the optimization hasn't converged yet.\n",
      "  warnings.warn(\n"
     ]
    },
    {
     "name": "stdout",
     "output_type": "stream",
     "text": [
      "[CV] END activation=relu, hidden_layer_sizes=(100,), learning_rate=adaptive, max_iter=300, solver=sgd; total time=   5.6s\n"
     ]
    },
    {
     "name": "stderr",
     "output_type": "stream",
     "text": [
      "/Users/lalune/Library/Python/3.9/lib/python/site-packages/sklearn/neural_network/_multilayer_perceptron.py:691: ConvergenceWarning: Stochastic Optimizer: Maximum iterations (300) reached and the optimization hasn't converged yet.\n",
      "  warnings.warn(\n"
     ]
    },
    {
     "name": "stdout",
     "output_type": "stream",
     "text": [
      "[CV] END activation=relu, hidden_layer_sizes=(100,), learning_rate=adaptive, max_iter=300, solver=sgd; total time=   5.1s\n"
     ]
    },
    {
     "name": "stderr",
     "output_type": "stream",
     "text": [
      "/Users/lalune/Library/Python/3.9/lib/python/site-packages/sklearn/neural_network/_multilayer_perceptron.py:691: ConvergenceWarning: Stochastic Optimizer: Maximum iterations (300) reached and the optimization hasn't converged yet.\n",
      "  warnings.warn(\n"
     ]
    },
    {
     "name": "stdout",
     "output_type": "stream",
     "text": [
      "[CV] END activation=relu, hidden_layer_sizes=(100,), learning_rate=adaptive, max_iter=300, solver=sgd; total time=   6.0s\n",
      "[CV] END activation=relu, hidden_layer_sizes=(100,), learning_rate=adaptive, max_iter=500, solver=adam; total time=   4.8s\n",
      "[CV] END activation=relu, hidden_layer_sizes=(100,), learning_rate=adaptive, max_iter=500, solver=adam; total time=   5.1s\n",
      "[CV] END activation=relu, hidden_layer_sizes=(100,), learning_rate=adaptive, max_iter=500, solver=adam; total time=   6.0s\n",
      "[CV] END activation=relu, hidden_layer_sizes=(100,), learning_rate=adaptive, max_iter=500, solver=adam; total time=   5.6s\n",
      "[CV] END activation=relu, hidden_layer_sizes=(100,), learning_rate=adaptive, max_iter=500, solver=adam; total time=   5.1s\n"
     ]
    },
    {
     "name": "stderr",
     "output_type": "stream",
     "text": [
      "/Users/lalune/Library/Python/3.9/lib/python/site-packages/sklearn/neural_network/_multilayer_perceptron.py:691: ConvergenceWarning: Stochastic Optimizer: Maximum iterations (500) reached and the optimization hasn't converged yet.\n",
      "  warnings.warn(\n"
     ]
    },
    {
     "name": "stdout",
     "output_type": "stream",
     "text": [
      "[CV] END activation=relu, hidden_layer_sizes=(100,), learning_rate=adaptive, max_iter=500, solver=sgd; total time=  10.0s\n"
     ]
    },
    {
     "name": "stderr",
     "output_type": "stream",
     "text": [
      "/Users/lalune/Library/Python/3.9/lib/python/site-packages/sklearn/neural_network/_multilayer_perceptron.py:691: ConvergenceWarning: Stochastic Optimizer: Maximum iterations (500) reached and the optimization hasn't converged yet.\n",
      "  warnings.warn(\n"
     ]
    },
    {
     "name": "stdout",
     "output_type": "stream",
     "text": [
      "[CV] END activation=relu, hidden_layer_sizes=(100,), learning_rate=adaptive, max_iter=500, solver=sgd; total time=   9.8s\n"
     ]
    },
    {
     "name": "stderr",
     "output_type": "stream",
     "text": [
      "/Users/lalune/Library/Python/3.9/lib/python/site-packages/sklearn/neural_network/_multilayer_perceptron.py:691: ConvergenceWarning: Stochastic Optimizer: Maximum iterations (500) reached and the optimization hasn't converged yet.\n",
      "  warnings.warn(\n"
     ]
    },
    {
     "name": "stdout",
     "output_type": "stream",
     "text": [
      "[CV] END activation=relu, hidden_layer_sizes=(100,), learning_rate=adaptive, max_iter=500, solver=sgd; total time=   9.8s\n"
     ]
    },
    {
     "name": "stderr",
     "output_type": "stream",
     "text": [
      "/Users/lalune/Library/Python/3.9/lib/python/site-packages/sklearn/neural_network/_multilayer_perceptron.py:691: ConvergenceWarning: Stochastic Optimizer: Maximum iterations (500) reached and the optimization hasn't converged yet.\n",
      "  warnings.warn(\n"
     ]
    },
    {
     "name": "stdout",
     "output_type": "stream",
     "text": [
      "[CV] END activation=relu, hidden_layer_sizes=(100,), learning_rate=adaptive, max_iter=500, solver=sgd; total time=  11.5s\n"
     ]
    },
    {
     "name": "stderr",
     "output_type": "stream",
     "text": [
      "/Users/lalune/Library/Python/3.9/lib/python/site-packages/sklearn/neural_network/_multilayer_perceptron.py:691: ConvergenceWarning: Stochastic Optimizer: Maximum iterations (500) reached and the optimization hasn't converged yet.\n",
      "  warnings.warn(\n"
     ]
    },
    {
     "name": "stdout",
     "output_type": "stream",
     "text": [
      "[CV] END activation=relu, hidden_layer_sizes=(100,), learning_rate=adaptive, max_iter=500, solver=sgd; total time=  10.8s\n",
      "[CV] END activation=relu, hidden_layer_sizes=(50, 50), learning_rate=constant, max_iter=200, solver=adam; total time=   4.8s\n",
      "[CV] END activation=relu, hidden_layer_sizes=(50, 50), learning_rate=constant, max_iter=200, solver=adam; total time=   5.7s\n",
      "[CV] END activation=relu, hidden_layer_sizes=(50, 50), learning_rate=constant, max_iter=200, solver=adam; total time=   5.8s\n"
     ]
    },
    {
     "name": "stderr",
     "output_type": "stream",
     "text": [
      "/Users/lalune/Library/Python/3.9/lib/python/site-packages/sklearn/neural_network/_multilayer_perceptron.py:691: ConvergenceWarning: Stochastic Optimizer: Maximum iterations (200) reached and the optimization hasn't converged yet.\n",
      "  warnings.warn(\n"
     ]
    },
    {
     "name": "stdout",
     "output_type": "stream",
     "text": [
      "[CV] END activation=relu, hidden_layer_sizes=(50, 50), learning_rate=constant, max_iter=200, solver=adam; total time=   6.0s\n"
     ]
    },
    {
     "name": "stderr",
     "output_type": "stream",
     "text": [
      "/Users/lalune/Library/Python/3.9/lib/python/site-packages/sklearn/neural_network/_multilayer_perceptron.py:691: ConvergenceWarning: Stochastic Optimizer: Maximum iterations (200) reached and the optimization hasn't converged yet.\n",
      "  warnings.warn(\n"
     ]
    },
    {
     "name": "stdout",
     "output_type": "stream",
     "text": [
      "[CV] END activation=relu, hidden_layer_sizes=(50, 50), learning_rate=constant, max_iter=200, solver=adam; total time=   6.3s\n"
     ]
    },
    {
     "name": "stderr",
     "output_type": "stream",
     "text": [
      "/Users/lalune/Library/Python/3.9/lib/python/site-packages/sklearn/neural_network/_multilayer_perceptron.py:691: ConvergenceWarning: Stochastic Optimizer: Maximum iterations (200) reached and the optimization hasn't converged yet.\n",
      "  warnings.warn(\n"
     ]
    },
    {
     "name": "stdout",
     "output_type": "stream",
     "text": [
      "[CV] END activation=relu, hidden_layer_sizes=(50, 50), learning_rate=constant, max_iter=200, solver=sgd; total time=   5.9s\n"
     ]
    },
    {
     "name": "stderr",
     "output_type": "stream",
     "text": [
      "/Users/lalune/Library/Python/3.9/lib/python/site-packages/sklearn/neural_network/_multilayer_perceptron.py:691: ConvergenceWarning: Stochastic Optimizer: Maximum iterations (200) reached and the optimization hasn't converged yet.\n",
      "  warnings.warn(\n"
     ]
    },
    {
     "name": "stdout",
     "output_type": "stream",
     "text": [
      "[CV] END activation=relu, hidden_layer_sizes=(50, 50), learning_rate=constant, max_iter=200, solver=sgd; total time=   5.7s\n"
     ]
    },
    {
     "name": "stderr",
     "output_type": "stream",
     "text": [
      "/Users/lalune/Library/Python/3.9/lib/python/site-packages/sklearn/neural_network/_multilayer_perceptron.py:691: ConvergenceWarning: Stochastic Optimizer: Maximum iterations (200) reached and the optimization hasn't converged yet.\n",
      "  warnings.warn(\n"
     ]
    },
    {
     "name": "stdout",
     "output_type": "stream",
     "text": [
      "[CV] END activation=relu, hidden_layer_sizes=(50, 50), learning_rate=constant, max_iter=200, solver=sgd; total time=   5.8s\n"
     ]
    },
    {
     "name": "stderr",
     "output_type": "stream",
     "text": [
      "/Users/lalune/Library/Python/3.9/lib/python/site-packages/sklearn/neural_network/_multilayer_perceptron.py:691: ConvergenceWarning: Stochastic Optimizer: Maximum iterations (200) reached and the optimization hasn't converged yet.\n",
      "  warnings.warn(\n"
     ]
    },
    {
     "name": "stdout",
     "output_type": "stream",
     "text": [
      "[CV] END activation=relu, hidden_layer_sizes=(50, 50), learning_rate=constant, max_iter=200, solver=sgd; total time=   5.7s\n"
     ]
    },
    {
     "name": "stderr",
     "output_type": "stream",
     "text": [
      "/Users/lalune/Library/Python/3.9/lib/python/site-packages/sklearn/neural_network/_multilayer_perceptron.py:691: ConvergenceWarning: Stochastic Optimizer: Maximum iterations (200) reached and the optimization hasn't converged yet.\n",
      "  warnings.warn(\n"
     ]
    },
    {
     "name": "stdout",
     "output_type": "stream",
     "text": [
      "[CV] END activation=relu, hidden_layer_sizes=(50, 50), learning_rate=constant, max_iter=200, solver=sgd; total time=   5.8s\n",
      "[CV] END activation=relu, hidden_layer_sizes=(50, 50), learning_rate=constant, max_iter=300, solver=adam; total time=   4.8s\n",
      "[CV] END activation=relu, hidden_layer_sizes=(50, 50), learning_rate=constant, max_iter=300, solver=adam; total time=   5.7s\n",
      "[CV] END activation=relu, hidden_layer_sizes=(50, 50), learning_rate=constant, max_iter=300, solver=adam; total time=   5.5s\n",
      "[CV] END activation=relu, hidden_layer_sizes=(50, 50), learning_rate=constant, max_iter=300, solver=adam; total time=   6.4s\n",
      "[CV] END activation=relu, hidden_layer_sizes=(50, 50), learning_rate=constant, max_iter=300, solver=adam; total time=   6.5s\n"
     ]
    },
    {
     "name": "stderr",
     "output_type": "stream",
     "text": [
      "/Users/lalune/Library/Python/3.9/lib/python/site-packages/sklearn/neural_network/_multilayer_perceptron.py:691: ConvergenceWarning: Stochastic Optimizer: Maximum iterations (300) reached and the optimization hasn't converged yet.\n",
      "  warnings.warn(\n"
     ]
    },
    {
     "name": "stdout",
     "output_type": "stream",
     "text": [
      "[CV] END activation=relu, hidden_layer_sizes=(50, 50), learning_rate=constant, max_iter=300, solver=sgd; total time=   8.9s\n"
     ]
    },
    {
     "name": "stderr",
     "output_type": "stream",
     "text": [
      "/Users/lalune/Library/Python/3.9/lib/python/site-packages/sklearn/neural_network/_multilayer_perceptron.py:691: ConvergenceWarning: Stochastic Optimizer: Maximum iterations (300) reached and the optimization hasn't converged yet.\n",
      "  warnings.warn(\n"
     ]
    },
    {
     "name": "stdout",
     "output_type": "stream",
     "text": [
      "[CV] END activation=relu, hidden_layer_sizes=(50, 50), learning_rate=constant, max_iter=300, solver=sgd; total time=   8.3s\n"
     ]
    },
    {
     "name": "stderr",
     "output_type": "stream",
     "text": [
      "/Users/lalune/Library/Python/3.9/lib/python/site-packages/sklearn/neural_network/_multilayer_perceptron.py:691: ConvergenceWarning: Stochastic Optimizer: Maximum iterations (300) reached and the optimization hasn't converged yet.\n",
      "  warnings.warn(\n"
     ]
    },
    {
     "name": "stdout",
     "output_type": "stream",
     "text": [
      "[CV] END activation=relu, hidden_layer_sizes=(50, 50), learning_rate=constant, max_iter=300, solver=sgd; total time=   8.2s\n"
     ]
    },
    {
     "name": "stderr",
     "output_type": "stream",
     "text": [
      "/Users/lalune/Library/Python/3.9/lib/python/site-packages/sklearn/neural_network/_multilayer_perceptron.py:691: ConvergenceWarning: Stochastic Optimizer: Maximum iterations (300) reached and the optimization hasn't converged yet.\n",
      "  warnings.warn(\n"
     ]
    },
    {
     "name": "stdout",
     "output_type": "stream",
     "text": [
      "[CV] END activation=relu, hidden_layer_sizes=(50, 50), learning_rate=constant, max_iter=300, solver=sgd; total time=   9.2s\n"
     ]
    },
    {
     "name": "stderr",
     "output_type": "stream",
     "text": [
      "/Users/lalune/Library/Python/3.9/lib/python/site-packages/sklearn/neural_network/_multilayer_perceptron.py:691: ConvergenceWarning: Stochastic Optimizer: Maximum iterations (300) reached and the optimization hasn't converged yet.\n",
      "  warnings.warn(\n"
     ]
    },
    {
     "name": "stdout",
     "output_type": "stream",
     "text": [
      "[CV] END activation=relu, hidden_layer_sizes=(50, 50), learning_rate=constant, max_iter=300, solver=sgd; total time=   8.4s\n",
      "[CV] END activation=relu, hidden_layer_sizes=(50, 50), learning_rate=constant, max_iter=500, solver=adam; total time=   5.1s\n",
      "[CV] END activation=relu, hidden_layer_sizes=(50, 50), learning_rate=constant, max_iter=500, solver=adam; total time=   6.3s\n",
      "[CV] END activation=relu, hidden_layer_sizes=(50, 50), learning_rate=constant, max_iter=500, solver=adam; total time=   5.9s\n",
      "[CV] END activation=relu, hidden_layer_sizes=(50, 50), learning_rate=constant, max_iter=500, solver=adam; total time=   6.2s\n",
      "[CV] END activation=relu, hidden_layer_sizes=(50, 50), learning_rate=constant, max_iter=500, solver=adam; total time=   6.0s\n"
     ]
    },
    {
     "name": "stderr",
     "output_type": "stream",
     "text": [
      "/Users/lalune/Library/Python/3.9/lib/python/site-packages/sklearn/neural_network/_multilayer_perceptron.py:691: ConvergenceWarning: Stochastic Optimizer: Maximum iterations (500) reached and the optimization hasn't converged yet.\n",
      "  warnings.warn(\n"
     ]
    },
    {
     "name": "stdout",
     "output_type": "stream",
     "text": [
      "[CV] END activation=relu, hidden_layer_sizes=(50, 50), learning_rate=constant, max_iter=500, solver=sgd; total time=  14.0s\n"
     ]
    },
    {
     "name": "stderr",
     "output_type": "stream",
     "text": [
      "/Users/lalune/Library/Python/3.9/lib/python/site-packages/sklearn/neural_network/_multilayer_perceptron.py:691: ConvergenceWarning: Stochastic Optimizer: Maximum iterations (500) reached and the optimization hasn't converged yet.\n",
      "  warnings.warn(\n"
     ]
    },
    {
     "name": "stdout",
     "output_type": "stream",
     "text": [
      "[CV] END activation=relu, hidden_layer_sizes=(50, 50), learning_rate=constant, max_iter=500, solver=sgd; total time=  14.7s\n"
     ]
    },
    {
     "name": "stderr",
     "output_type": "stream",
     "text": [
      "/Users/lalune/Library/Python/3.9/lib/python/site-packages/sklearn/neural_network/_multilayer_perceptron.py:691: ConvergenceWarning: Stochastic Optimizer: Maximum iterations (500) reached and the optimization hasn't converged yet.\n",
      "  warnings.warn(\n"
     ]
    },
    {
     "name": "stdout",
     "output_type": "stream",
     "text": [
      "[CV] END activation=relu, hidden_layer_sizes=(50, 50), learning_rate=constant, max_iter=500, solver=sgd; total time=  14.3s\n"
     ]
    },
    {
     "name": "stderr",
     "output_type": "stream",
     "text": [
      "/Users/lalune/Library/Python/3.9/lib/python/site-packages/sklearn/neural_network/_multilayer_perceptron.py:691: ConvergenceWarning: Stochastic Optimizer: Maximum iterations (500) reached and the optimization hasn't converged yet.\n",
      "  warnings.warn(\n"
     ]
    },
    {
     "name": "stdout",
     "output_type": "stream",
     "text": [
      "[CV] END activation=relu, hidden_layer_sizes=(50, 50), learning_rate=constant, max_iter=500, solver=sgd; total time=  13.9s\n"
     ]
    },
    {
     "name": "stderr",
     "output_type": "stream",
     "text": [
      "/Users/lalune/Library/Python/3.9/lib/python/site-packages/sklearn/neural_network/_multilayer_perceptron.py:691: ConvergenceWarning: Stochastic Optimizer: Maximum iterations (500) reached and the optimization hasn't converged yet.\n",
      "  warnings.warn(\n"
     ]
    },
    {
     "name": "stdout",
     "output_type": "stream",
     "text": [
      "[CV] END activation=relu, hidden_layer_sizes=(50, 50), learning_rate=constant, max_iter=500, solver=sgd; total time=  14.2s\n",
      "[CV] END activation=relu, hidden_layer_sizes=(50, 50), learning_rate=adaptive, max_iter=200, solver=adam; total time=   4.8s\n",
      "[CV] END activation=relu, hidden_layer_sizes=(50, 50), learning_rate=adaptive, max_iter=200, solver=adam; total time=   5.5s\n",
      "[CV] END activation=relu, hidden_layer_sizes=(50, 50), learning_rate=adaptive, max_iter=200, solver=adam; total time=   5.9s\n"
     ]
    },
    {
     "name": "stderr",
     "output_type": "stream",
     "text": [
      "/Users/lalune/Library/Python/3.9/lib/python/site-packages/sklearn/neural_network/_multilayer_perceptron.py:691: ConvergenceWarning: Stochastic Optimizer: Maximum iterations (200) reached and the optimization hasn't converged yet.\n",
      "  warnings.warn(\n"
     ]
    },
    {
     "name": "stdout",
     "output_type": "stream",
     "text": [
      "[CV] END activation=relu, hidden_layer_sizes=(50, 50), learning_rate=adaptive, max_iter=200, solver=adam; total time=   6.0s\n"
     ]
    },
    {
     "name": "stderr",
     "output_type": "stream",
     "text": [
      "/Users/lalune/Library/Python/3.9/lib/python/site-packages/sklearn/neural_network/_multilayer_perceptron.py:691: ConvergenceWarning: Stochastic Optimizer: Maximum iterations (200) reached and the optimization hasn't converged yet.\n",
      "  warnings.warn(\n"
     ]
    },
    {
     "name": "stdout",
     "output_type": "stream",
     "text": [
      "[CV] END activation=relu, hidden_layer_sizes=(50, 50), learning_rate=adaptive, max_iter=200, solver=adam; total time=   6.0s\n"
     ]
    },
    {
     "name": "stderr",
     "output_type": "stream",
     "text": [
      "/Users/lalune/Library/Python/3.9/lib/python/site-packages/sklearn/neural_network/_multilayer_perceptron.py:691: ConvergenceWarning: Stochastic Optimizer: Maximum iterations (200) reached and the optimization hasn't converged yet.\n",
      "  warnings.warn(\n"
     ]
    },
    {
     "name": "stdout",
     "output_type": "stream",
     "text": [
      "[CV] END activation=relu, hidden_layer_sizes=(50, 50), learning_rate=adaptive, max_iter=200, solver=sgd; total time=   5.7s\n"
     ]
    },
    {
     "name": "stderr",
     "output_type": "stream",
     "text": [
      "/Users/lalune/Library/Python/3.9/lib/python/site-packages/sklearn/neural_network/_multilayer_perceptron.py:691: ConvergenceWarning: Stochastic Optimizer: Maximum iterations (200) reached and the optimization hasn't converged yet.\n",
      "  warnings.warn(\n"
     ]
    },
    {
     "name": "stdout",
     "output_type": "stream",
     "text": [
      "[CV] END activation=relu, hidden_layer_sizes=(50, 50), learning_rate=adaptive, max_iter=200, solver=sgd; total time=   6.0s\n"
     ]
    },
    {
     "name": "stderr",
     "output_type": "stream",
     "text": [
      "/Users/lalune/Library/Python/3.9/lib/python/site-packages/sklearn/neural_network/_multilayer_perceptron.py:691: ConvergenceWarning: Stochastic Optimizer: Maximum iterations (200) reached and the optimization hasn't converged yet.\n",
      "  warnings.warn(\n"
     ]
    },
    {
     "name": "stdout",
     "output_type": "stream",
     "text": [
      "[CV] END activation=relu, hidden_layer_sizes=(50, 50), learning_rate=adaptive, max_iter=200, solver=sgd; total time=   5.9s\n"
     ]
    },
    {
     "name": "stderr",
     "output_type": "stream",
     "text": [
      "/Users/lalune/Library/Python/3.9/lib/python/site-packages/sklearn/neural_network/_multilayer_perceptron.py:691: ConvergenceWarning: Stochastic Optimizer: Maximum iterations (200) reached and the optimization hasn't converged yet.\n",
      "  warnings.warn(\n"
     ]
    },
    {
     "name": "stdout",
     "output_type": "stream",
     "text": [
      "[CV] END activation=relu, hidden_layer_sizes=(50, 50), learning_rate=adaptive, max_iter=200, solver=sgd; total time=   5.7s\n"
     ]
    },
    {
     "name": "stderr",
     "output_type": "stream",
     "text": [
      "/Users/lalune/Library/Python/3.9/lib/python/site-packages/sklearn/neural_network/_multilayer_perceptron.py:691: ConvergenceWarning: Stochastic Optimizer: Maximum iterations (200) reached and the optimization hasn't converged yet.\n",
      "  warnings.warn(\n"
     ]
    },
    {
     "name": "stdout",
     "output_type": "stream",
     "text": [
      "[CV] END activation=relu, hidden_layer_sizes=(50, 50), learning_rate=adaptive, max_iter=200, solver=sgd; total time=   5.8s\n",
      "[CV] END activation=relu, hidden_layer_sizes=(50, 50), learning_rate=adaptive, max_iter=300, solver=adam; total time=   5.2s\n",
      "[CV] END activation=relu, hidden_layer_sizes=(50, 50), learning_rate=adaptive, max_iter=300, solver=adam; total time=   6.2s\n",
      "[CV] END activation=relu, hidden_layer_sizes=(50, 50), learning_rate=adaptive, max_iter=300, solver=adam; total time=   5.9s\n",
      "[CV] END activation=relu, hidden_layer_sizes=(50, 50), learning_rate=adaptive, max_iter=300, solver=adam; total time=   5.7s\n",
      "[CV] END activation=relu, hidden_layer_sizes=(50, 50), learning_rate=adaptive, max_iter=300, solver=adam; total time=   6.1s\n"
     ]
    },
    {
     "name": "stderr",
     "output_type": "stream",
     "text": [
      "/Users/lalune/Library/Python/3.9/lib/python/site-packages/sklearn/neural_network/_multilayer_perceptron.py:691: ConvergenceWarning: Stochastic Optimizer: Maximum iterations (300) reached and the optimization hasn't converged yet.\n",
      "  warnings.warn(\n"
     ]
    },
    {
     "name": "stdout",
     "output_type": "stream",
     "text": [
      "[CV] END activation=relu, hidden_layer_sizes=(50, 50), learning_rate=adaptive, max_iter=300, solver=sgd; total time=   8.7s\n"
     ]
    },
    {
     "name": "stderr",
     "output_type": "stream",
     "text": [
      "/Users/lalune/Library/Python/3.9/lib/python/site-packages/sklearn/neural_network/_multilayer_perceptron.py:691: ConvergenceWarning: Stochastic Optimizer: Maximum iterations (300) reached and the optimization hasn't converged yet.\n",
      "  warnings.warn(\n"
     ]
    },
    {
     "name": "stdout",
     "output_type": "stream",
     "text": [
      "[CV] END activation=relu, hidden_layer_sizes=(50, 50), learning_rate=adaptive, max_iter=300, solver=sgd; total time=   8.2s\n"
     ]
    },
    {
     "name": "stderr",
     "output_type": "stream",
     "text": [
      "/Users/lalune/Library/Python/3.9/lib/python/site-packages/sklearn/neural_network/_multilayer_perceptron.py:691: ConvergenceWarning: Stochastic Optimizer: Maximum iterations (300) reached and the optimization hasn't converged yet.\n",
      "  warnings.warn(\n"
     ]
    },
    {
     "name": "stdout",
     "output_type": "stream",
     "text": [
      "[CV] END activation=relu, hidden_layer_sizes=(50, 50), learning_rate=adaptive, max_iter=300, solver=sgd; total time=   8.7s\n"
     ]
    },
    {
     "name": "stderr",
     "output_type": "stream",
     "text": [
      "/Users/lalune/Library/Python/3.9/lib/python/site-packages/sklearn/neural_network/_multilayer_perceptron.py:691: ConvergenceWarning: Stochastic Optimizer: Maximum iterations (300) reached and the optimization hasn't converged yet.\n",
      "  warnings.warn(\n"
     ]
    },
    {
     "name": "stdout",
     "output_type": "stream",
     "text": [
      "[CV] END activation=relu, hidden_layer_sizes=(50, 50), learning_rate=adaptive, max_iter=300, solver=sgd; total time=   8.9s\n"
     ]
    },
    {
     "name": "stderr",
     "output_type": "stream",
     "text": [
      "/Users/lalune/Library/Python/3.9/lib/python/site-packages/sklearn/neural_network/_multilayer_perceptron.py:691: ConvergenceWarning: Stochastic Optimizer: Maximum iterations (300) reached and the optimization hasn't converged yet.\n",
      "  warnings.warn(\n"
     ]
    },
    {
     "name": "stdout",
     "output_type": "stream",
     "text": [
      "[CV] END activation=relu, hidden_layer_sizes=(50, 50), learning_rate=adaptive, max_iter=300, solver=sgd; total time=   8.5s\n",
      "[CV] END activation=relu, hidden_layer_sizes=(50, 50), learning_rate=adaptive, max_iter=500, solver=adam; total time=   5.1s\n",
      "[CV] END activation=relu, hidden_layer_sizes=(50, 50), learning_rate=adaptive, max_iter=500, solver=adam; total time=   5.7s\n",
      "[CV] END activation=relu, hidden_layer_sizes=(50, 50), learning_rate=adaptive, max_iter=500, solver=adam; total time=   5.8s\n",
      "[CV] END activation=relu, hidden_layer_sizes=(50, 50), learning_rate=adaptive, max_iter=500, solver=adam; total time=   6.0s\n",
      "[CV] END activation=relu, hidden_layer_sizes=(50, 50), learning_rate=adaptive, max_iter=500, solver=adam; total time=   6.3s\n"
     ]
    },
    {
     "name": "stderr",
     "output_type": "stream",
     "text": [
      "/Users/lalune/Library/Python/3.9/lib/python/site-packages/sklearn/neural_network/_multilayer_perceptron.py:691: ConvergenceWarning: Stochastic Optimizer: Maximum iterations (500) reached and the optimization hasn't converged yet.\n",
      "  warnings.warn(\n"
     ]
    },
    {
     "name": "stdout",
     "output_type": "stream",
     "text": [
      "[CV] END activation=relu, hidden_layer_sizes=(50, 50), learning_rate=adaptive, max_iter=500, solver=sgd; total time=  15.0s\n"
     ]
    },
    {
     "name": "stderr",
     "output_type": "stream",
     "text": [
      "/Users/lalune/Library/Python/3.9/lib/python/site-packages/sklearn/neural_network/_multilayer_perceptron.py:691: ConvergenceWarning: Stochastic Optimizer: Maximum iterations (500) reached and the optimization hasn't converged yet.\n",
      "  warnings.warn(\n"
     ]
    },
    {
     "name": "stdout",
     "output_type": "stream",
     "text": [
      "[CV] END activation=relu, hidden_layer_sizes=(50, 50), learning_rate=adaptive, max_iter=500, solver=sgd; total time=  14.5s\n"
     ]
    },
    {
     "name": "stderr",
     "output_type": "stream",
     "text": [
      "/Users/lalune/Library/Python/3.9/lib/python/site-packages/sklearn/neural_network/_multilayer_perceptron.py:691: ConvergenceWarning: Stochastic Optimizer: Maximum iterations (500) reached and the optimization hasn't converged yet.\n",
      "  warnings.warn(\n"
     ]
    },
    {
     "name": "stdout",
     "output_type": "stream",
     "text": [
      "[CV] END activation=relu, hidden_layer_sizes=(50, 50), learning_rate=adaptive, max_iter=500, solver=sgd; total time=  14.3s\n"
     ]
    },
    {
     "name": "stderr",
     "output_type": "stream",
     "text": [
      "/Users/lalune/Library/Python/3.9/lib/python/site-packages/sklearn/neural_network/_multilayer_perceptron.py:691: ConvergenceWarning: Stochastic Optimizer: Maximum iterations (500) reached and the optimization hasn't converged yet.\n",
      "  warnings.warn(\n"
     ]
    },
    {
     "name": "stdout",
     "output_type": "stream",
     "text": [
      "[CV] END activation=relu, hidden_layer_sizes=(50, 50), learning_rate=adaptive, max_iter=500, solver=sgd; total time=  14.2s\n"
     ]
    },
    {
     "name": "stderr",
     "output_type": "stream",
     "text": [
      "/Users/lalune/Library/Python/3.9/lib/python/site-packages/sklearn/neural_network/_multilayer_perceptron.py:691: ConvergenceWarning: Stochastic Optimizer: Maximum iterations (500) reached and the optimization hasn't converged yet.\n",
      "  warnings.warn(\n"
     ]
    },
    {
     "name": "stdout",
     "output_type": "stream",
     "text": [
      "[CV] END activation=relu, hidden_layer_sizes=(50, 50), learning_rate=adaptive, max_iter=500, solver=sgd; total time=  15.1s\n",
      "[CV] END activation=relu, hidden_layer_sizes=(100, 50), learning_rate=constant, max_iter=200, solver=adam; total time=   6.0s\n",
      "[CV] END activation=relu, hidden_layer_sizes=(100, 50), learning_rate=constant, max_iter=200, solver=adam; total time=   5.5s\n",
      "[CV] END activation=relu, hidden_layer_sizes=(100, 50), learning_rate=constant, max_iter=200, solver=adam; total time=   6.8s\n",
      "[CV] END activation=relu, hidden_layer_sizes=(100, 50), learning_rate=constant, max_iter=200, solver=adam; total time=   6.8s\n",
      "[CV] END activation=relu, hidden_layer_sizes=(100, 50), learning_rate=constant, max_iter=200, solver=adam; total time=   6.1s\n"
     ]
    },
    {
     "name": "stderr",
     "output_type": "stream",
     "text": [
      "/Users/lalune/Library/Python/3.9/lib/python/site-packages/sklearn/neural_network/_multilayer_perceptron.py:691: ConvergenceWarning: Stochastic Optimizer: Maximum iterations (200) reached and the optimization hasn't converged yet.\n",
      "  warnings.warn(\n"
     ]
    },
    {
     "name": "stdout",
     "output_type": "stream",
     "text": [
      "[CV] END activation=relu, hidden_layer_sizes=(100, 50), learning_rate=constant, max_iter=200, solver=sgd; total time=   7.3s\n"
     ]
    },
    {
     "name": "stderr",
     "output_type": "stream",
     "text": [
      "/Users/lalune/Library/Python/3.9/lib/python/site-packages/sklearn/neural_network/_multilayer_perceptron.py:691: ConvergenceWarning: Stochastic Optimizer: Maximum iterations (200) reached and the optimization hasn't converged yet.\n",
      "  warnings.warn(\n"
     ]
    },
    {
     "name": "stdout",
     "output_type": "stream",
     "text": [
      "[CV] END activation=relu, hidden_layer_sizes=(100, 50), learning_rate=constant, max_iter=200, solver=sgd; total time=   6.9s\n"
     ]
    },
    {
     "name": "stderr",
     "output_type": "stream",
     "text": [
      "/Users/lalune/Library/Python/3.9/lib/python/site-packages/sklearn/neural_network/_multilayer_perceptron.py:691: ConvergenceWarning: Stochastic Optimizer: Maximum iterations (200) reached and the optimization hasn't converged yet.\n",
      "  warnings.warn(\n"
     ]
    },
    {
     "name": "stdout",
     "output_type": "stream",
     "text": [
      "[CV] END activation=relu, hidden_layer_sizes=(100, 50), learning_rate=constant, max_iter=200, solver=sgd; total time=   7.2s\n"
     ]
    },
    {
     "name": "stderr",
     "output_type": "stream",
     "text": [
      "/Users/lalune/Library/Python/3.9/lib/python/site-packages/sklearn/neural_network/_multilayer_perceptron.py:691: ConvergenceWarning: Stochastic Optimizer: Maximum iterations (200) reached and the optimization hasn't converged yet.\n",
      "  warnings.warn(\n"
     ]
    },
    {
     "name": "stdout",
     "output_type": "stream",
     "text": [
      "[CV] END activation=relu, hidden_layer_sizes=(100, 50), learning_rate=constant, max_iter=200, solver=sgd; total time=   7.1s\n"
     ]
    },
    {
     "name": "stderr",
     "output_type": "stream",
     "text": [
      "/Users/lalune/Library/Python/3.9/lib/python/site-packages/sklearn/neural_network/_multilayer_perceptron.py:691: ConvergenceWarning: Stochastic Optimizer: Maximum iterations (200) reached and the optimization hasn't converged yet.\n",
      "  warnings.warn(\n"
     ]
    },
    {
     "name": "stdout",
     "output_type": "stream",
     "text": [
      "[CV] END activation=relu, hidden_layer_sizes=(100, 50), learning_rate=constant, max_iter=200, solver=sgd; total time=   7.1s\n",
      "[CV] END activation=relu, hidden_layer_sizes=(100, 50), learning_rate=constant, max_iter=300, solver=adam; total time=   6.3s\n",
      "[CV] END activation=relu, hidden_layer_sizes=(100, 50), learning_rate=constant, max_iter=300, solver=adam; total time=   5.2s\n",
      "[CV] END activation=relu, hidden_layer_sizes=(100, 50), learning_rate=constant, max_iter=300, solver=adam; total time=   7.3s\n",
      "[CV] END activation=relu, hidden_layer_sizes=(100, 50), learning_rate=constant, max_iter=300, solver=adam; total time=   6.6s\n",
      "[CV] END activation=relu, hidden_layer_sizes=(100, 50), learning_rate=constant, max_iter=300, solver=adam; total time=   6.3s\n"
     ]
    },
    {
     "name": "stderr",
     "output_type": "stream",
     "text": [
      "/Users/lalune/Library/Python/3.9/lib/python/site-packages/sklearn/neural_network/_multilayer_perceptron.py:691: ConvergenceWarning: Stochastic Optimizer: Maximum iterations (300) reached and the optimization hasn't converged yet.\n",
      "  warnings.warn(\n"
     ]
    },
    {
     "name": "stdout",
     "output_type": "stream",
     "text": [
      "[CV] END activation=relu, hidden_layer_sizes=(100, 50), learning_rate=constant, max_iter=300, solver=sgd; total time=  10.7s\n"
     ]
    },
    {
     "name": "stderr",
     "output_type": "stream",
     "text": [
      "/Users/lalune/Library/Python/3.9/lib/python/site-packages/sklearn/neural_network/_multilayer_perceptron.py:691: ConvergenceWarning: Stochastic Optimizer: Maximum iterations (300) reached and the optimization hasn't converged yet.\n",
      "  warnings.warn(\n"
     ]
    },
    {
     "name": "stdout",
     "output_type": "stream",
     "text": [
      "[CV] END activation=relu, hidden_layer_sizes=(100, 50), learning_rate=constant, max_iter=300, solver=sgd; total time=   9.7s\n"
     ]
    },
    {
     "name": "stderr",
     "output_type": "stream",
     "text": [
      "/Users/lalune/Library/Python/3.9/lib/python/site-packages/sklearn/neural_network/_multilayer_perceptron.py:691: ConvergenceWarning: Stochastic Optimizer: Maximum iterations (300) reached and the optimization hasn't converged yet.\n",
      "  warnings.warn(\n"
     ]
    },
    {
     "name": "stdout",
     "output_type": "stream",
     "text": [
      "[CV] END activation=relu, hidden_layer_sizes=(100, 50), learning_rate=constant, max_iter=300, solver=sgd; total time=   8.2s\n"
     ]
    },
    {
     "name": "stderr",
     "output_type": "stream",
     "text": [
      "/Users/lalune/Library/Python/3.9/lib/python/site-packages/sklearn/neural_network/_multilayer_perceptron.py:691: ConvergenceWarning: Stochastic Optimizer: Maximum iterations (300) reached and the optimization hasn't converged yet.\n",
      "  warnings.warn(\n"
     ]
    },
    {
     "name": "stdout",
     "output_type": "stream",
     "text": [
      "[CV] END activation=relu, hidden_layer_sizes=(100, 50), learning_rate=constant, max_iter=300, solver=sgd; total time=   8.9s\n"
     ]
    },
    {
     "name": "stderr",
     "output_type": "stream",
     "text": [
      "/Users/lalune/Library/Python/3.9/lib/python/site-packages/sklearn/neural_network/_multilayer_perceptron.py:691: ConvergenceWarning: Stochastic Optimizer: Maximum iterations (300) reached and the optimization hasn't converged yet.\n",
      "  warnings.warn(\n"
     ]
    },
    {
     "name": "stdout",
     "output_type": "stream",
     "text": [
      "[CV] END activation=relu, hidden_layer_sizes=(100, 50), learning_rate=constant, max_iter=300, solver=sgd; total time=   9.1s\n",
      "[CV] END activation=relu, hidden_layer_sizes=(100, 50), learning_rate=constant, max_iter=500, solver=adam; total time=   5.5s\n",
      "[CV] END activation=relu, hidden_layer_sizes=(100, 50), learning_rate=constant, max_iter=500, solver=adam; total time=   4.8s\n",
      "[CV] END activation=relu, hidden_layer_sizes=(100, 50), learning_rate=constant, max_iter=500, solver=adam; total time=   5.9s\n",
      "[CV] END activation=relu, hidden_layer_sizes=(100, 50), learning_rate=constant, max_iter=500, solver=adam; total time=   6.4s\n",
      "[CV] END activation=relu, hidden_layer_sizes=(100, 50), learning_rate=constant, max_iter=500, solver=adam; total time=   5.3s\n"
     ]
    },
    {
     "name": "stderr",
     "output_type": "stream",
     "text": [
      "/Users/lalune/Library/Python/3.9/lib/python/site-packages/sklearn/neural_network/_multilayer_perceptron.py:691: ConvergenceWarning: Stochastic Optimizer: Maximum iterations (500) reached and the optimization hasn't converged yet.\n",
      "  warnings.warn(\n"
     ]
    },
    {
     "name": "stdout",
     "output_type": "stream",
     "text": [
      "[CV] END activation=relu, hidden_layer_sizes=(100, 50), learning_rate=constant, max_iter=500, solver=sgd; total time=  16.0s\n"
     ]
    },
    {
     "name": "stderr",
     "output_type": "stream",
     "text": [
      "/Users/lalune/Library/Python/3.9/lib/python/site-packages/sklearn/neural_network/_multilayer_perceptron.py:691: ConvergenceWarning: Stochastic Optimizer: Maximum iterations (500) reached and the optimization hasn't converged yet.\n",
      "  warnings.warn(\n"
     ]
    },
    {
     "name": "stdout",
     "output_type": "stream",
     "text": [
      "[CV] END activation=relu, hidden_layer_sizes=(100, 50), learning_rate=constant, max_iter=500, solver=sgd; total time=  20.2s\n"
     ]
    },
    {
     "name": "stderr",
     "output_type": "stream",
     "text": [
      "/Users/lalune/Library/Python/3.9/lib/python/site-packages/sklearn/neural_network/_multilayer_perceptron.py:691: ConvergenceWarning: Stochastic Optimizer: Maximum iterations (500) reached and the optimization hasn't converged yet.\n",
      "  warnings.warn(\n"
     ]
    },
    {
     "name": "stdout",
     "output_type": "stream",
     "text": [
      "[CV] END activation=relu, hidden_layer_sizes=(100, 50), learning_rate=constant, max_iter=500, solver=sgd; total time=  22.7s\n"
     ]
    },
    {
     "name": "stderr",
     "output_type": "stream",
     "text": [
      "/Users/lalune/Library/Python/3.9/lib/python/site-packages/sklearn/neural_network/_multilayer_perceptron.py:691: ConvergenceWarning: Stochastic Optimizer: Maximum iterations (500) reached and the optimization hasn't converged yet.\n",
      "  warnings.warn(\n"
     ]
    },
    {
     "name": "stdout",
     "output_type": "stream",
     "text": [
      "[CV] END activation=relu, hidden_layer_sizes=(100, 50), learning_rate=constant, max_iter=500, solver=sgd; total time=  24.7s\n"
     ]
    },
    {
     "name": "stderr",
     "output_type": "stream",
     "text": [
      "/Users/lalune/Library/Python/3.9/lib/python/site-packages/sklearn/neural_network/_multilayer_perceptron.py:691: ConvergenceWarning: Stochastic Optimizer: Maximum iterations (500) reached and the optimization hasn't converged yet.\n",
      "  warnings.warn(\n"
     ]
    },
    {
     "name": "stdout",
     "output_type": "stream",
     "text": [
      "[CV] END activation=relu, hidden_layer_sizes=(100, 50), learning_rate=constant, max_iter=500, solver=sgd; total time=  28.2s\n",
      "[CV] END activation=relu, hidden_layer_sizes=(100, 50), learning_rate=adaptive, max_iter=200, solver=adam; total time=   9.3s\n",
      "[CV] END activation=relu, hidden_layer_sizes=(100, 50), learning_rate=adaptive, max_iter=200, solver=adam; total time=   5.9s\n",
      "[CV] END activation=relu, hidden_layer_sizes=(100, 50), learning_rate=adaptive, max_iter=200, solver=adam; total time=   6.4s\n",
      "[CV] END activation=relu, hidden_layer_sizes=(100, 50), learning_rate=adaptive, max_iter=200, solver=adam; total time=   6.6s\n",
      "[CV] END activation=relu, hidden_layer_sizes=(100, 50), learning_rate=adaptive, max_iter=200, solver=adam; total time=   4.5s\n"
     ]
    },
    {
     "name": "stderr",
     "output_type": "stream",
     "text": [
      "/Users/lalune/Library/Python/3.9/lib/python/site-packages/sklearn/neural_network/_multilayer_perceptron.py:691: ConvergenceWarning: Stochastic Optimizer: Maximum iterations (200) reached and the optimization hasn't converged yet.\n",
      "  warnings.warn(\n"
     ]
    },
    {
     "name": "stdout",
     "output_type": "stream",
     "text": [
      "[CV] END activation=relu, hidden_layer_sizes=(100, 50), learning_rate=adaptive, max_iter=200, solver=sgd; total time=   5.3s\n"
     ]
    },
    {
     "name": "stderr",
     "output_type": "stream",
     "text": [
      "/Users/lalune/Library/Python/3.9/lib/python/site-packages/sklearn/neural_network/_multilayer_perceptron.py:691: ConvergenceWarning: Stochastic Optimizer: Maximum iterations (200) reached and the optimization hasn't converged yet.\n",
      "  warnings.warn(\n"
     ]
    },
    {
     "name": "stdout",
     "output_type": "stream",
     "text": [
      "[CV] END activation=relu, hidden_layer_sizes=(100, 50), learning_rate=adaptive, max_iter=200, solver=sgd; total time=   5.2s\n"
     ]
    },
    {
     "name": "stderr",
     "output_type": "stream",
     "text": [
      "/Users/lalune/Library/Python/3.9/lib/python/site-packages/sklearn/neural_network/_multilayer_perceptron.py:691: ConvergenceWarning: Stochastic Optimizer: Maximum iterations (200) reached and the optimization hasn't converged yet.\n",
      "  warnings.warn(\n"
     ]
    },
    {
     "name": "stdout",
     "output_type": "stream",
     "text": [
      "[CV] END activation=relu, hidden_layer_sizes=(100, 50), learning_rate=adaptive, max_iter=200, solver=sgd; total time=   5.2s\n"
     ]
    },
    {
     "name": "stderr",
     "output_type": "stream",
     "text": [
      "/Users/lalune/Library/Python/3.9/lib/python/site-packages/sklearn/neural_network/_multilayer_perceptron.py:691: ConvergenceWarning: Stochastic Optimizer: Maximum iterations (200) reached and the optimization hasn't converged yet.\n",
      "  warnings.warn(\n"
     ]
    },
    {
     "name": "stdout",
     "output_type": "stream",
     "text": [
      "[CV] END activation=relu, hidden_layer_sizes=(100, 50), learning_rate=adaptive, max_iter=200, solver=sgd; total time=   5.2s\n"
     ]
    },
    {
     "name": "stderr",
     "output_type": "stream",
     "text": [
      "/Users/lalune/Library/Python/3.9/lib/python/site-packages/sklearn/neural_network/_multilayer_perceptron.py:691: ConvergenceWarning: Stochastic Optimizer: Maximum iterations (200) reached and the optimization hasn't converged yet.\n",
      "  warnings.warn(\n"
     ]
    },
    {
     "name": "stdout",
     "output_type": "stream",
     "text": [
      "[CV] END activation=relu, hidden_layer_sizes=(100, 50), learning_rate=adaptive, max_iter=200, solver=sgd; total time=   5.2s\n",
      "[CV] END activation=relu, hidden_layer_sizes=(100, 50), learning_rate=adaptive, max_iter=300, solver=adam; total time=   4.5s\n",
      "[CV] END activation=relu, hidden_layer_sizes=(100, 50), learning_rate=adaptive, max_iter=300, solver=adam; total time=   3.9s\n",
      "[CV] END activation=relu, hidden_layer_sizes=(100, 50), learning_rate=adaptive, max_iter=300, solver=adam; total time=   5.0s\n",
      "[CV] END activation=relu, hidden_layer_sizes=(100, 50), learning_rate=adaptive, max_iter=300, solver=adam; total time=   4.9s\n",
      "[CV] END activation=relu, hidden_layer_sizes=(100, 50), learning_rate=adaptive, max_iter=300, solver=adam; total time=   4.4s\n"
     ]
    },
    {
     "name": "stderr",
     "output_type": "stream",
     "text": [
      "/Users/lalune/Library/Python/3.9/lib/python/site-packages/sklearn/neural_network/_multilayer_perceptron.py:691: ConvergenceWarning: Stochastic Optimizer: Maximum iterations (300) reached and the optimization hasn't converged yet.\n",
      "  warnings.warn(\n"
     ]
    },
    {
     "name": "stdout",
     "output_type": "stream",
     "text": [
      "[CV] END activation=relu, hidden_layer_sizes=(100, 50), learning_rate=adaptive, max_iter=300, solver=sgd; total time=   7.7s\n"
     ]
    },
    {
     "name": "stderr",
     "output_type": "stream",
     "text": [
      "/Users/lalune/Library/Python/3.9/lib/python/site-packages/sklearn/neural_network/_multilayer_perceptron.py:691: ConvergenceWarning: Stochastic Optimizer: Maximum iterations (300) reached and the optimization hasn't converged yet.\n",
      "  warnings.warn(\n"
     ]
    },
    {
     "name": "stdout",
     "output_type": "stream",
     "text": [
      "[CV] END activation=relu, hidden_layer_sizes=(100, 50), learning_rate=adaptive, max_iter=300, solver=sgd; total time=   8.6s\n"
     ]
    },
    {
     "name": "stderr",
     "output_type": "stream",
     "text": [
      "/Users/lalune/Library/Python/3.9/lib/python/site-packages/sklearn/neural_network/_multilayer_perceptron.py:691: ConvergenceWarning: Stochastic Optimizer: Maximum iterations (300) reached and the optimization hasn't converged yet.\n",
      "  warnings.warn(\n"
     ]
    },
    {
     "name": "stdout",
     "output_type": "stream",
     "text": [
      "[CV] END activation=relu, hidden_layer_sizes=(100, 50), learning_rate=adaptive, max_iter=300, solver=sgd; total time=   8.1s\n"
     ]
    },
    {
     "name": "stderr",
     "output_type": "stream",
     "text": [
      "/Users/lalune/Library/Python/3.9/lib/python/site-packages/sklearn/neural_network/_multilayer_perceptron.py:691: ConvergenceWarning: Stochastic Optimizer: Maximum iterations (300) reached and the optimization hasn't converged yet.\n",
      "  warnings.warn(\n"
     ]
    },
    {
     "name": "stdout",
     "output_type": "stream",
     "text": [
      "[CV] END activation=relu, hidden_layer_sizes=(100, 50), learning_rate=adaptive, max_iter=300, solver=sgd; total time=   7.7s\n"
     ]
    },
    {
     "name": "stderr",
     "output_type": "stream",
     "text": [
      "/Users/lalune/Library/Python/3.9/lib/python/site-packages/sklearn/neural_network/_multilayer_perceptron.py:691: ConvergenceWarning: Stochastic Optimizer: Maximum iterations (300) reached and the optimization hasn't converged yet.\n",
      "  warnings.warn(\n"
     ]
    },
    {
     "name": "stdout",
     "output_type": "stream",
     "text": [
      "[CV] END activation=relu, hidden_layer_sizes=(100, 50), learning_rate=adaptive, max_iter=300, solver=sgd; total time=   8.0s\n",
      "[CV] END activation=relu, hidden_layer_sizes=(100, 50), learning_rate=adaptive, max_iter=500, solver=adam; total time=   4.5s\n",
      "[CV] END activation=relu, hidden_layer_sizes=(100, 50), learning_rate=adaptive, max_iter=500, solver=adam; total time=   3.9s\n",
      "[CV] END activation=relu, hidden_layer_sizes=(100, 50), learning_rate=adaptive, max_iter=500, solver=adam; total time=   4.8s\n",
      "[CV] END activation=relu, hidden_layer_sizes=(100, 50), learning_rate=adaptive, max_iter=500, solver=adam; total time=   4.8s\n",
      "[CV] END activation=relu, hidden_layer_sizes=(100, 50), learning_rate=adaptive, max_iter=500, solver=adam; total time=   4.7s\n"
     ]
    },
    {
     "name": "stderr",
     "output_type": "stream",
     "text": [
      "/Users/lalune/Library/Python/3.9/lib/python/site-packages/sklearn/neural_network/_multilayer_perceptron.py:691: ConvergenceWarning: Stochastic Optimizer: Maximum iterations (500) reached and the optimization hasn't converged yet.\n",
      "  warnings.warn(\n"
     ]
    },
    {
     "name": "stdout",
     "output_type": "stream",
     "text": [
      "[CV] END activation=relu, hidden_layer_sizes=(100, 50), learning_rate=adaptive, max_iter=500, solver=sgd; total time=  13.0s\n"
     ]
    },
    {
     "name": "stderr",
     "output_type": "stream",
     "text": [
      "/Users/lalune/Library/Python/3.9/lib/python/site-packages/sklearn/neural_network/_multilayer_perceptron.py:691: ConvergenceWarning: Stochastic Optimizer: Maximum iterations (500) reached and the optimization hasn't converged yet.\n",
      "  warnings.warn(\n"
     ]
    },
    {
     "name": "stdout",
     "output_type": "stream",
     "text": [
      "[CV] END activation=relu, hidden_layer_sizes=(100, 50), learning_rate=adaptive, max_iter=500, solver=sgd; total time=  15.0s\n"
     ]
    },
    {
     "name": "stderr",
     "output_type": "stream",
     "text": [
      "/Users/lalune/Library/Python/3.9/lib/python/site-packages/sklearn/neural_network/_multilayer_perceptron.py:691: ConvergenceWarning: Stochastic Optimizer: Maximum iterations (500) reached and the optimization hasn't converged yet.\n",
      "  warnings.warn(\n"
     ]
    },
    {
     "name": "stdout",
     "output_type": "stream",
     "text": [
      "[CV] END activation=relu, hidden_layer_sizes=(100, 50), learning_rate=adaptive, max_iter=500, solver=sgd; total time=  18.3s\n"
     ]
    },
    {
     "name": "stderr",
     "output_type": "stream",
     "text": [
      "/Users/lalune/Library/Python/3.9/lib/python/site-packages/sklearn/neural_network/_multilayer_perceptron.py:691: ConvergenceWarning: Stochastic Optimizer: Maximum iterations (500) reached and the optimization hasn't converged yet.\n",
      "  warnings.warn(\n"
     ]
    },
    {
     "name": "stdout",
     "output_type": "stream",
     "text": [
      "[CV] END activation=relu, hidden_layer_sizes=(100, 50), learning_rate=adaptive, max_iter=500, solver=sgd; total time=  17.6s\n"
     ]
    },
    {
     "name": "stderr",
     "output_type": "stream",
     "text": [
      "/Users/lalune/Library/Python/3.9/lib/python/site-packages/sklearn/neural_network/_multilayer_perceptron.py:691: ConvergenceWarning: Stochastic Optimizer: Maximum iterations (500) reached and the optimization hasn't converged yet.\n",
      "  warnings.warn(\n"
     ]
    },
    {
     "name": "stdout",
     "output_type": "stream",
     "text": [
      "[CV] END activation=relu, hidden_layer_sizes=(100, 50), learning_rate=adaptive, max_iter=500, solver=sgd; total time=  17.5s\n"
     ]
    },
    {
     "name": "stderr",
     "output_type": "stream",
     "text": [
      "/Users/lalune/Library/Python/3.9/lib/python/site-packages/sklearn/neural_network/_multilayer_perceptron.py:691: ConvergenceWarning: Stochastic Optimizer: Maximum iterations (200) reached and the optimization hasn't converged yet.\n",
      "  warnings.warn(\n"
     ]
    },
    {
     "name": "stdout",
     "output_type": "stream",
     "text": [
      "[CV] END activation=tanh, hidden_layer_sizes=(50,), learning_rate=constant, max_iter=200, solver=adam; total time=   3.3s\n"
     ]
    },
    {
     "name": "stderr",
     "output_type": "stream",
     "text": [
      "/Users/lalune/Library/Python/3.9/lib/python/site-packages/sklearn/neural_network/_multilayer_perceptron.py:691: ConvergenceWarning: Stochastic Optimizer: Maximum iterations (200) reached and the optimization hasn't converged yet.\n",
      "  warnings.warn(\n"
     ]
    },
    {
     "name": "stdout",
     "output_type": "stream",
     "text": [
      "[CV] END activation=tanh, hidden_layer_sizes=(50,), learning_rate=constant, max_iter=200, solver=adam; total time=   3.3s\n"
     ]
    },
    {
     "name": "stderr",
     "output_type": "stream",
     "text": [
      "/Users/lalune/Library/Python/3.9/lib/python/site-packages/sklearn/neural_network/_multilayer_perceptron.py:691: ConvergenceWarning: Stochastic Optimizer: Maximum iterations (200) reached and the optimization hasn't converged yet.\n",
      "  warnings.warn(\n"
     ]
    },
    {
     "name": "stdout",
     "output_type": "stream",
     "text": [
      "[CV] END activation=tanh, hidden_layer_sizes=(50,), learning_rate=constant, max_iter=200, solver=adam; total time=   3.2s\n"
     ]
    },
    {
     "name": "stderr",
     "output_type": "stream",
     "text": [
      "/Users/lalune/Library/Python/3.9/lib/python/site-packages/sklearn/neural_network/_multilayer_perceptron.py:691: ConvergenceWarning: Stochastic Optimizer: Maximum iterations (200) reached and the optimization hasn't converged yet.\n",
      "  warnings.warn(\n"
     ]
    },
    {
     "name": "stdout",
     "output_type": "stream",
     "text": [
      "[CV] END activation=tanh, hidden_layer_sizes=(50,), learning_rate=constant, max_iter=200, solver=adam; total time=   3.0s\n"
     ]
    },
    {
     "name": "stderr",
     "output_type": "stream",
     "text": [
      "/Users/lalune/Library/Python/3.9/lib/python/site-packages/sklearn/neural_network/_multilayer_perceptron.py:691: ConvergenceWarning: Stochastic Optimizer: Maximum iterations (200) reached and the optimization hasn't converged yet.\n",
      "  warnings.warn(\n"
     ]
    },
    {
     "name": "stdout",
     "output_type": "stream",
     "text": [
      "[CV] END activation=tanh, hidden_layer_sizes=(50,), learning_rate=constant, max_iter=200, solver=adam; total time=   2.8s\n"
     ]
    },
    {
     "name": "stderr",
     "output_type": "stream",
     "text": [
      "/Users/lalune/Library/Python/3.9/lib/python/site-packages/sklearn/neural_network/_multilayer_perceptron.py:691: ConvergenceWarning: Stochastic Optimizer: Maximum iterations (200) reached and the optimization hasn't converged yet.\n",
      "  warnings.warn(\n"
     ]
    },
    {
     "name": "stdout",
     "output_type": "stream",
     "text": [
      "[CV] END activation=tanh, hidden_layer_sizes=(50,), learning_rate=constant, max_iter=200, solver=sgd; total time=   3.1s\n"
     ]
    },
    {
     "name": "stderr",
     "output_type": "stream",
     "text": [
      "/Users/lalune/Library/Python/3.9/lib/python/site-packages/sklearn/neural_network/_multilayer_perceptron.py:691: ConvergenceWarning: Stochastic Optimizer: Maximum iterations (200) reached and the optimization hasn't converged yet.\n",
      "  warnings.warn(\n"
     ]
    },
    {
     "name": "stdout",
     "output_type": "stream",
     "text": [
      "[CV] END activation=tanh, hidden_layer_sizes=(50,), learning_rate=constant, max_iter=200, solver=sgd; total time=   2.7s\n"
     ]
    },
    {
     "name": "stderr",
     "output_type": "stream",
     "text": [
      "/Users/lalune/Library/Python/3.9/lib/python/site-packages/sklearn/neural_network/_multilayer_perceptron.py:691: ConvergenceWarning: Stochastic Optimizer: Maximum iterations (200) reached and the optimization hasn't converged yet.\n",
      "  warnings.warn(\n"
     ]
    },
    {
     "name": "stdout",
     "output_type": "stream",
     "text": [
      "[CV] END activation=tanh, hidden_layer_sizes=(50,), learning_rate=constant, max_iter=200, solver=sgd; total time=   2.8s\n"
     ]
    },
    {
     "name": "stderr",
     "output_type": "stream",
     "text": [
      "/Users/lalune/Library/Python/3.9/lib/python/site-packages/sklearn/neural_network/_multilayer_perceptron.py:691: ConvergenceWarning: Stochastic Optimizer: Maximum iterations (200) reached and the optimization hasn't converged yet.\n",
      "  warnings.warn(\n"
     ]
    },
    {
     "name": "stdout",
     "output_type": "stream",
     "text": [
      "[CV] END activation=tanh, hidden_layer_sizes=(50,), learning_rate=constant, max_iter=200, solver=sgd; total time=   2.8s\n"
     ]
    },
    {
     "name": "stderr",
     "output_type": "stream",
     "text": [
      "/Users/lalune/Library/Python/3.9/lib/python/site-packages/sklearn/neural_network/_multilayer_perceptron.py:691: ConvergenceWarning: Stochastic Optimizer: Maximum iterations (200) reached and the optimization hasn't converged yet.\n",
      "  warnings.warn(\n"
     ]
    },
    {
     "name": "stdout",
     "output_type": "stream",
     "text": [
      "[CV] END activation=tanh, hidden_layer_sizes=(50,), learning_rate=constant, max_iter=200, solver=sgd; total time=   2.8s\n",
      "[CV] END activation=tanh, hidden_layer_sizes=(50,), learning_rate=constant, max_iter=300, solver=adam; total time=   3.7s\n",
      "[CV] END activation=tanh, hidden_layer_sizes=(50,), learning_rate=constant, max_iter=300, solver=adam; total time=   3.7s\n",
      "[CV] END activation=tanh, hidden_layer_sizes=(50,), learning_rate=constant, max_iter=300, solver=adam; total time=   3.4s\n",
      "[CV] END activation=tanh, hidden_layer_sizes=(50,), learning_rate=constant, max_iter=300, solver=adam; total time=   3.4s\n",
      "[CV] END activation=tanh, hidden_layer_sizes=(50,), learning_rate=constant, max_iter=300, solver=adam; total time=   4.0s\n"
     ]
    },
    {
     "name": "stderr",
     "output_type": "stream",
     "text": [
      "/Users/lalune/Library/Python/3.9/lib/python/site-packages/sklearn/neural_network/_multilayer_perceptron.py:691: ConvergenceWarning: Stochastic Optimizer: Maximum iterations (300) reached and the optimization hasn't converged yet.\n",
      "  warnings.warn(\n"
     ]
    },
    {
     "name": "stdout",
     "output_type": "stream",
     "text": [
      "[CV] END activation=tanh, hidden_layer_sizes=(50,), learning_rate=constant, max_iter=300, solver=sgd; total time=   4.7s\n"
     ]
    },
    {
     "name": "stderr",
     "output_type": "stream",
     "text": [
      "/Users/lalune/Library/Python/3.9/lib/python/site-packages/sklearn/neural_network/_multilayer_perceptron.py:691: ConvergenceWarning: Stochastic Optimizer: Maximum iterations (300) reached and the optimization hasn't converged yet.\n",
      "  warnings.warn(\n"
     ]
    },
    {
     "name": "stdout",
     "output_type": "stream",
     "text": [
      "[CV] END activation=tanh, hidden_layer_sizes=(50,), learning_rate=constant, max_iter=300, solver=sgd; total time=   4.7s\n"
     ]
    },
    {
     "name": "stderr",
     "output_type": "stream",
     "text": [
      "/Users/lalune/Library/Python/3.9/lib/python/site-packages/sklearn/neural_network/_multilayer_perceptron.py:691: ConvergenceWarning: Stochastic Optimizer: Maximum iterations (300) reached and the optimization hasn't converged yet.\n",
      "  warnings.warn(\n"
     ]
    },
    {
     "name": "stdout",
     "output_type": "stream",
     "text": [
      "[CV] END activation=tanh, hidden_layer_sizes=(50,), learning_rate=constant, max_iter=300, solver=sgd; total time=   4.8s\n"
     ]
    },
    {
     "name": "stderr",
     "output_type": "stream",
     "text": [
      "/Users/lalune/Library/Python/3.9/lib/python/site-packages/sklearn/neural_network/_multilayer_perceptron.py:691: ConvergenceWarning: Stochastic Optimizer: Maximum iterations (300) reached and the optimization hasn't converged yet.\n",
      "  warnings.warn(\n"
     ]
    },
    {
     "name": "stdout",
     "output_type": "stream",
     "text": [
      "[CV] END activation=tanh, hidden_layer_sizes=(50,), learning_rate=constant, max_iter=300, solver=sgd; total time=   4.6s\n"
     ]
    },
    {
     "name": "stderr",
     "output_type": "stream",
     "text": [
      "/Users/lalune/Library/Python/3.9/lib/python/site-packages/sklearn/neural_network/_multilayer_perceptron.py:691: ConvergenceWarning: Stochastic Optimizer: Maximum iterations (300) reached and the optimization hasn't converged yet.\n",
      "  warnings.warn(\n"
     ]
    },
    {
     "name": "stdout",
     "output_type": "stream",
     "text": [
      "[CV] END activation=tanh, hidden_layer_sizes=(50,), learning_rate=constant, max_iter=300, solver=sgd; total time=   4.7s\n",
      "[CV] END activation=tanh, hidden_layer_sizes=(50,), learning_rate=constant, max_iter=500, solver=adam; total time=   4.1s\n",
      "[CV] END activation=tanh, hidden_layer_sizes=(50,), learning_rate=constant, max_iter=500, solver=adam; total time=   4.5s\n",
      "[CV] END activation=tanh, hidden_layer_sizes=(50,), learning_rate=constant, max_iter=500, solver=adam; total time=   4.1s\n",
      "[CV] END activation=tanh, hidden_layer_sizes=(50,), learning_rate=constant, max_iter=500, solver=adam; total time=   4.0s\n",
      "[CV] END activation=tanh, hidden_layer_sizes=(50,), learning_rate=constant, max_iter=500, solver=adam; total time=   4.2s\n"
     ]
    },
    {
     "name": "stderr",
     "output_type": "stream",
     "text": [
      "/Users/lalune/Library/Python/3.9/lib/python/site-packages/sklearn/neural_network/_multilayer_perceptron.py:691: ConvergenceWarning: Stochastic Optimizer: Maximum iterations (500) reached and the optimization hasn't converged yet.\n",
      "  warnings.warn(\n"
     ]
    },
    {
     "name": "stdout",
     "output_type": "stream",
     "text": [
      "[CV] END activation=tanh, hidden_layer_sizes=(50,), learning_rate=constant, max_iter=500, solver=sgd; total time=   8.0s\n"
     ]
    },
    {
     "name": "stderr",
     "output_type": "stream",
     "text": [
      "/Users/lalune/Library/Python/3.9/lib/python/site-packages/sklearn/neural_network/_multilayer_perceptron.py:691: ConvergenceWarning: Stochastic Optimizer: Maximum iterations (500) reached and the optimization hasn't converged yet.\n",
      "  warnings.warn(\n"
     ]
    },
    {
     "name": "stdout",
     "output_type": "stream",
     "text": [
      "[CV] END activation=tanh, hidden_layer_sizes=(50,), learning_rate=constant, max_iter=500, solver=sgd; total time=   8.0s\n"
     ]
    },
    {
     "name": "stderr",
     "output_type": "stream",
     "text": [
      "/Users/lalune/Library/Python/3.9/lib/python/site-packages/sklearn/neural_network/_multilayer_perceptron.py:691: ConvergenceWarning: Stochastic Optimizer: Maximum iterations (500) reached and the optimization hasn't converged yet.\n",
      "  warnings.warn(\n"
     ]
    },
    {
     "name": "stdout",
     "output_type": "stream",
     "text": [
      "[CV] END activation=tanh, hidden_layer_sizes=(50,), learning_rate=constant, max_iter=500, solver=sgd; total time=   7.4s\n"
     ]
    },
    {
     "name": "stderr",
     "output_type": "stream",
     "text": [
      "/Users/lalune/Library/Python/3.9/lib/python/site-packages/sklearn/neural_network/_multilayer_perceptron.py:691: ConvergenceWarning: Stochastic Optimizer: Maximum iterations (500) reached and the optimization hasn't converged yet.\n",
      "  warnings.warn(\n"
     ]
    },
    {
     "name": "stdout",
     "output_type": "stream",
     "text": [
      "[CV] END activation=tanh, hidden_layer_sizes=(50,), learning_rate=constant, max_iter=500, solver=sgd; total time=   8.2s\n"
     ]
    },
    {
     "name": "stderr",
     "output_type": "stream",
     "text": [
      "/Users/lalune/Library/Python/3.9/lib/python/site-packages/sklearn/neural_network/_multilayer_perceptron.py:691: ConvergenceWarning: Stochastic Optimizer: Maximum iterations (500) reached and the optimization hasn't converged yet.\n",
      "  warnings.warn(\n"
     ]
    },
    {
     "name": "stdout",
     "output_type": "stream",
     "text": [
      "[CV] END activation=tanh, hidden_layer_sizes=(50,), learning_rate=constant, max_iter=500, solver=sgd; total time=   8.2s\n"
     ]
    },
    {
     "name": "stderr",
     "output_type": "stream",
     "text": [
      "/Users/lalune/Library/Python/3.9/lib/python/site-packages/sklearn/neural_network/_multilayer_perceptron.py:691: ConvergenceWarning: Stochastic Optimizer: Maximum iterations (200) reached and the optimization hasn't converged yet.\n",
      "  warnings.warn(\n"
     ]
    },
    {
     "name": "stdout",
     "output_type": "stream",
     "text": [
      "[CV] END activation=tanh, hidden_layer_sizes=(50,), learning_rate=adaptive, max_iter=200, solver=adam; total time=   3.8s\n"
     ]
    },
    {
     "name": "stderr",
     "output_type": "stream",
     "text": [
      "/Users/lalune/Library/Python/3.9/lib/python/site-packages/sklearn/neural_network/_multilayer_perceptron.py:691: ConvergenceWarning: Stochastic Optimizer: Maximum iterations (200) reached and the optimization hasn't converged yet.\n",
      "  warnings.warn(\n"
     ]
    },
    {
     "name": "stdout",
     "output_type": "stream",
     "text": [
      "[CV] END activation=tanh, hidden_layer_sizes=(50,), learning_rate=adaptive, max_iter=200, solver=adam; total time=   3.5s\n"
     ]
    },
    {
     "name": "stderr",
     "output_type": "stream",
     "text": [
      "/Users/lalune/Library/Python/3.9/lib/python/site-packages/sklearn/neural_network/_multilayer_perceptron.py:691: ConvergenceWarning: Stochastic Optimizer: Maximum iterations (200) reached and the optimization hasn't converged yet.\n",
      "  warnings.warn(\n"
     ]
    },
    {
     "name": "stdout",
     "output_type": "stream",
     "text": [
      "[CV] END activation=tanh, hidden_layer_sizes=(50,), learning_rate=adaptive, max_iter=200, solver=adam; total time=   3.2s\n"
     ]
    },
    {
     "name": "stderr",
     "output_type": "stream",
     "text": [
      "/Users/lalune/Library/Python/3.9/lib/python/site-packages/sklearn/neural_network/_multilayer_perceptron.py:691: ConvergenceWarning: Stochastic Optimizer: Maximum iterations (200) reached and the optimization hasn't converged yet.\n",
      "  warnings.warn(\n"
     ]
    },
    {
     "name": "stdout",
     "output_type": "stream",
     "text": [
      "[CV] END activation=tanh, hidden_layer_sizes=(50,), learning_rate=adaptive, max_iter=200, solver=adam; total time=   2.6s\n"
     ]
    },
    {
     "name": "stderr",
     "output_type": "stream",
     "text": [
      "/Users/lalune/Library/Python/3.9/lib/python/site-packages/sklearn/neural_network/_multilayer_perceptron.py:691: ConvergenceWarning: Stochastic Optimizer: Maximum iterations (200) reached and the optimization hasn't converged yet.\n",
      "  warnings.warn(\n"
     ]
    },
    {
     "name": "stdout",
     "output_type": "stream",
     "text": [
      "[CV] END activation=tanh, hidden_layer_sizes=(50,), learning_rate=adaptive, max_iter=200, solver=adam; total time=   2.5s\n"
     ]
    },
    {
     "name": "stderr",
     "output_type": "stream",
     "text": [
      "/Users/lalune/Library/Python/3.9/lib/python/site-packages/sklearn/neural_network/_multilayer_perceptron.py:691: ConvergenceWarning: Stochastic Optimizer: Maximum iterations (200) reached and the optimization hasn't converged yet.\n",
      "  warnings.warn(\n"
     ]
    },
    {
     "name": "stdout",
     "output_type": "stream",
     "text": [
      "[CV] END activation=tanh, hidden_layer_sizes=(50,), learning_rate=adaptive, max_iter=200, solver=sgd; total time=   2.4s\n"
     ]
    },
    {
     "name": "stderr",
     "output_type": "stream",
     "text": [
      "/Users/lalune/Library/Python/3.9/lib/python/site-packages/sklearn/neural_network/_multilayer_perceptron.py:691: ConvergenceWarning: Stochastic Optimizer: Maximum iterations (200) reached and the optimization hasn't converged yet.\n",
      "  warnings.warn(\n"
     ]
    },
    {
     "name": "stdout",
     "output_type": "stream",
     "text": [
      "[CV] END activation=tanh, hidden_layer_sizes=(50,), learning_rate=adaptive, max_iter=200, solver=sgd; total time=   2.9s\n"
     ]
    },
    {
     "name": "stderr",
     "output_type": "stream",
     "text": [
      "/Users/lalune/Library/Python/3.9/lib/python/site-packages/sklearn/neural_network/_multilayer_perceptron.py:691: ConvergenceWarning: Stochastic Optimizer: Maximum iterations (200) reached and the optimization hasn't converged yet.\n",
      "  warnings.warn(\n"
     ]
    },
    {
     "name": "stdout",
     "output_type": "stream",
     "text": [
      "[CV] END activation=tanh, hidden_layer_sizes=(50,), learning_rate=adaptive, max_iter=200, solver=sgd; total time=   2.9s\n"
     ]
    },
    {
     "name": "stderr",
     "output_type": "stream",
     "text": [
      "/Users/lalune/Library/Python/3.9/lib/python/site-packages/sklearn/neural_network/_multilayer_perceptron.py:691: ConvergenceWarning: Stochastic Optimizer: Maximum iterations (200) reached and the optimization hasn't converged yet.\n",
      "  warnings.warn(\n"
     ]
    },
    {
     "name": "stdout",
     "output_type": "stream",
     "text": [
      "[CV] END activation=tanh, hidden_layer_sizes=(50,), learning_rate=adaptive, max_iter=200, solver=sgd; total time=   2.6s\n"
     ]
    },
    {
     "name": "stderr",
     "output_type": "stream",
     "text": [
      "/Users/lalune/Library/Python/3.9/lib/python/site-packages/sklearn/neural_network/_multilayer_perceptron.py:691: ConvergenceWarning: Stochastic Optimizer: Maximum iterations (200) reached and the optimization hasn't converged yet.\n",
      "  warnings.warn(\n"
     ]
    },
    {
     "name": "stdout",
     "output_type": "stream",
     "text": [
      "[CV] END activation=tanh, hidden_layer_sizes=(50,), learning_rate=adaptive, max_iter=200, solver=sgd; total time=   2.9s\n",
      "[CV] END activation=tanh, hidden_layer_sizes=(50,), learning_rate=adaptive, max_iter=300, solver=adam; total time=   3.8s\n",
      "[CV] END activation=tanh, hidden_layer_sizes=(50,), learning_rate=adaptive, max_iter=300, solver=adam; total time=   4.4s\n",
      "[CV] END activation=tanh, hidden_layer_sizes=(50,), learning_rate=adaptive, max_iter=300, solver=adam; total time=   4.0s\n",
      "[CV] END activation=tanh, hidden_layer_sizes=(50,), learning_rate=adaptive, max_iter=300, solver=adam; total time=   3.8s\n",
      "[CV] END activation=tanh, hidden_layer_sizes=(50,), learning_rate=adaptive, max_iter=300, solver=adam; total time=   3.6s\n"
     ]
    },
    {
     "name": "stderr",
     "output_type": "stream",
     "text": [
      "/Users/lalune/Library/Python/3.9/lib/python/site-packages/sklearn/neural_network/_multilayer_perceptron.py:691: ConvergenceWarning: Stochastic Optimizer: Maximum iterations (300) reached and the optimization hasn't converged yet.\n",
      "  warnings.warn(\n"
     ]
    },
    {
     "name": "stdout",
     "output_type": "stream",
     "text": [
      "[CV] END activation=tanh, hidden_layer_sizes=(50,), learning_rate=adaptive, max_iter=300, solver=sgd; total time=   5.0s\n"
     ]
    },
    {
     "name": "stderr",
     "output_type": "stream",
     "text": [
      "/Users/lalune/Library/Python/3.9/lib/python/site-packages/sklearn/neural_network/_multilayer_perceptron.py:691: ConvergenceWarning: Stochastic Optimizer: Maximum iterations (300) reached and the optimization hasn't converged yet.\n",
      "  warnings.warn(\n"
     ]
    },
    {
     "name": "stdout",
     "output_type": "stream",
     "text": [
      "[CV] END activation=tanh, hidden_layer_sizes=(50,), learning_rate=adaptive, max_iter=300, solver=sgd; total time=   4.7s\n"
     ]
    },
    {
     "name": "stderr",
     "output_type": "stream",
     "text": [
      "/Users/lalune/Library/Python/3.9/lib/python/site-packages/sklearn/neural_network/_multilayer_perceptron.py:691: ConvergenceWarning: Stochastic Optimizer: Maximum iterations (300) reached and the optimization hasn't converged yet.\n",
      "  warnings.warn(\n"
     ]
    },
    {
     "name": "stdout",
     "output_type": "stream",
     "text": [
      "[CV] END activation=tanh, hidden_layer_sizes=(50,), learning_rate=adaptive, max_iter=300, solver=sgd; total time=   4.8s\n"
     ]
    },
    {
     "name": "stderr",
     "output_type": "stream",
     "text": [
      "/Users/lalune/Library/Python/3.9/lib/python/site-packages/sklearn/neural_network/_multilayer_perceptron.py:691: ConvergenceWarning: Stochastic Optimizer: Maximum iterations (300) reached and the optimization hasn't converged yet.\n",
      "  warnings.warn(\n"
     ]
    },
    {
     "name": "stdout",
     "output_type": "stream",
     "text": [
      "[CV] END activation=tanh, hidden_layer_sizes=(50,), learning_rate=adaptive, max_iter=300, solver=sgd; total time=   4.7s\n"
     ]
    },
    {
     "name": "stderr",
     "output_type": "stream",
     "text": [
      "/Users/lalune/Library/Python/3.9/lib/python/site-packages/sklearn/neural_network/_multilayer_perceptron.py:691: ConvergenceWarning: Stochastic Optimizer: Maximum iterations (300) reached and the optimization hasn't converged yet.\n",
      "  warnings.warn(\n"
     ]
    },
    {
     "name": "stdout",
     "output_type": "stream",
     "text": [
      "[CV] END activation=tanh, hidden_layer_sizes=(50,), learning_rate=adaptive, max_iter=300, solver=sgd; total time=   4.7s\n",
      "[CV] END activation=tanh, hidden_layer_sizes=(50,), learning_rate=adaptive, max_iter=500, solver=adam; total time=   4.1s\n",
      "[CV] END activation=tanh, hidden_layer_sizes=(50,), learning_rate=adaptive, max_iter=500, solver=adam; total time=   3.8s\n",
      "[CV] END activation=tanh, hidden_layer_sizes=(50,), learning_rate=adaptive, max_iter=500, solver=adam; total time=   4.6s\n",
      "[CV] END activation=tanh, hidden_layer_sizes=(50,), learning_rate=adaptive, max_iter=500, solver=adam; total time=   3.8s\n",
      "[CV] END activation=tanh, hidden_layer_sizes=(50,), learning_rate=adaptive, max_iter=500, solver=adam; total time=   3.7s\n"
     ]
    },
    {
     "name": "stderr",
     "output_type": "stream",
     "text": [
      "/Users/lalune/Library/Python/3.9/lib/python/site-packages/sklearn/neural_network/_multilayer_perceptron.py:691: ConvergenceWarning: Stochastic Optimizer: Maximum iterations (500) reached and the optimization hasn't converged yet.\n",
      "  warnings.warn(\n"
     ]
    },
    {
     "name": "stdout",
     "output_type": "stream",
     "text": [
      "[CV] END activation=tanh, hidden_layer_sizes=(50,), learning_rate=adaptive, max_iter=500, solver=sgd; total time=   7.4s\n"
     ]
    },
    {
     "name": "stderr",
     "output_type": "stream",
     "text": [
      "/Users/lalune/Library/Python/3.9/lib/python/site-packages/sklearn/neural_network/_multilayer_perceptron.py:691: ConvergenceWarning: Stochastic Optimizer: Maximum iterations (500) reached and the optimization hasn't converged yet.\n",
      "  warnings.warn(\n"
     ]
    },
    {
     "name": "stdout",
     "output_type": "stream",
     "text": [
      "[CV] END activation=tanh, hidden_layer_sizes=(50,), learning_rate=adaptive, max_iter=500, solver=sgd; total time=   7.8s\n"
     ]
    },
    {
     "name": "stderr",
     "output_type": "stream",
     "text": [
      "/Users/lalune/Library/Python/3.9/lib/python/site-packages/sklearn/neural_network/_multilayer_perceptron.py:691: ConvergenceWarning: Stochastic Optimizer: Maximum iterations (500) reached and the optimization hasn't converged yet.\n",
      "  warnings.warn(\n"
     ]
    },
    {
     "name": "stdout",
     "output_type": "stream",
     "text": [
      "[CV] END activation=tanh, hidden_layer_sizes=(50,), learning_rate=adaptive, max_iter=500, solver=sgd; total time=   7.2s\n"
     ]
    },
    {
     "name": "stderr",
     "output_type": "stream",
     "text": [
      "/Users/lalune/Library/Python/3.9/lib/python/site-packages/sklearn/neural_network/_multilayer_perceptron.py:691: ConvergenceWarning: Stochastic Optimizer: Maximum iterations (500) reached and the optimization hasn't converged yet.\n",
      "  warnings.warn(\n"
     ]
    },
    {
     "name": "stdout",
     "output_type": "stream",
     "text": [
      "[CV] END activation=tanh, hidden_layer_sizes=(50,), learning_rate=adaptive, max_iter=500, solver=sgd; total time=   6.2s\n"
     ]
    },
    {
     "name": "stderr",
     "output_type": "stream",
     "text": [
      "/Users/lalune/Library/Python/3.9/lib/python/site-packages/sklearn/neural_network/_multilayer_perceptron.py:691: ConvergenceWarning: Stochastic Optimizer: Maximum iterations (500) reached and the optimization hasn't converged yet.\n",
      "  warnings.warn(\n"
     ]
    },
    {
     "name": "stdout",
     "output_type": "stream",
     "text": [
      "[CV] END activation=tanh, hidden_layer_sizes=(50,), learning_rate=adaptive, max_iter=500, solver=sgd; total time=   8.7s\n"
     ]
    },
    {
     "name": "stderr",
     "output_type": "stream",
     "text": [
      "/Users/lalune/Library/Python/3.9/lib/python/site-packages/sklearn/neural_network/_multilayer_perceptron.py:691: ConvergenceWarning: Stochastic Optimizer: Maximum iterations (200) reached and the optimization hasn't converged yet.\n",
      "  warnings.warn(\n"
     ]
    },
    {
     "name": "stdout",
     "output_type": "stream",
     "text": [
      "[CV] END activation=tanh, hidden_layer_sizes=(100,), learning_rate=constant, max_iter=200, solver=adam; total time=   5.0s\n"
     ]
    },
    {
     "name": "stderr",
     "output_type": "stream",
     "text": [
      "/Users/lalune/Library/Python/3.9/lib/python/site-packages/sklearn/neural_network/_multilayer_perceptron.py:691: ConvergenceWarning: Stochastic Optimizer: Maximum iterations (200) reached and the optimization hasn't converged yet.\n",
      "  warnings.warn(\n"
     ]
    },
    {
     "name": "stdout",
     "output_type": "stream",
     "text": [
      "[CV] END activation=tanh, hidden_layer_sizes=(100,), learning_rate=constant, max_iter=200, solver=adam; total time=   5.1s\n"
     ]
    },
    {
     "name": "stderr",
     "output_type": "stream",
     "text": [
      "/Users/lalune/Library/Python/3.9/lib/python/site-packages/sklearn/neural_network/_multilayer_perceptron.py:691: ConvergenceWarning: Stochastic Optimizer: Maximum iterations (200) reached and the optimization hasn't converged yet.\n",
      "  warnings.warn(\n"
     ]
    },
    {
     "name": "stdout",
     "output_type": "stream",
     "text": [
      "[CV] END activation=tanh, hidden_layer_sizes=(100,), learning_rate=constant, max_iter=200, solver=adam; total time=   4.6s\n"
     ]
    },
    {
     "name": "stderr",
     "output_type": "stream",
     "text": [
      "/Users/lalune/Library/Python/3.9/lib/python/site-packages/sklearn/neural_network/_multilayer_perceptron.py:691: ConvergenceWarning: Stochastic Optimizer: Maximum iterations (200) reached and the optimization hasn't converged yet.\n",
      "  warnings.warn(\n"
     ]
    },
    {
     "name": "stdout",
     "output_type": "stream",
     "text": [
      "[CV] END activation=tanh, hidden_layer_sizes=(100,), learning_rate=constant, max_iter=200, solver=adam; total time=   4.4s\n"
     ]
    },
    {
     "name": "stderr",
     "output_type": "stream",
     "text": [
      "/Users/lalune/Library/Python/3.9/lib/python/site-packages/sklearn/neural_network/_multilayer_perceptron.py:691: ConvergenceWarning: Stochastic Optimizer: Maximum iterations (200) reached and the optimization hasn't converged yet.\n",
      "  warnings.warn(\n"
     ]
    },
    {
     "name": "stdout",
     "output_type": "stream",
     "text": [
      "[CV] END activation=tanh, hidden_layer_sizes=(100,), learning_rate=constant, max_iter=200, solver=adam; total time=   4.7s\n"
     ]
    },
    {
     "name": "stderr",
     "output_type": "stream",
     "text": [
      "/Users/lalune/Library/Python/3.9/lib/python/site-packages/sklearn/neural_network/_multilayer_perceptron.py:691: ConvergenceWarning: Stochastic Optimizer: Maximum iterations (200) reached and the optimization hasn't converged yet.\n",
      "  warnings.warn(\n"
     ]
    },
    {
     "name": "stdout",
     "output_type": "stream",
     "text": [
      "[CV] END activation=tanh, hidden_layer_sizes=(100,), learning_rate=constant, max_iter=200, solver=sgd; total time=   4.8s\n"
     ]
    },
    {
     "name": "stderr",
     "output_type": "stream",
     "text": [
      "/Users/lalune/Library/Python/3.9/lib/python/site-packages/sklearn/neural_network/_multilayer_perceptron.py:691: ConvergenceWarning: Stochastic Optimizer: Maximum iterations (200) reached and the optimization hasn't converged yet.\n",
      "  warnings.warn(\n"
     ]
    },
    {
     "name": "stdout",
     "output_type": "stream",
     "text": [
      "[CV] END activation=tanh, hidden_layer_sizes=(100,), learning_rate=constant, max_iter=200, solver=sgd; total time=   4.1s\n"
     ]
    },
    {
     "name": "stderr",
     "output_type": "stream",
     "text": [
      "/Users/lalune/Library/Python/3.9/lib/python/site-packages/sklearn/neural_network/_multilayer_perceptron.py:691: ConvergenceWarning: Stochastic Optimizer: Maximum iterations (200) reached and the optimization hasn't converged yet.\n",
      "  warnings.warn(\n"
     ]
    },
    {
     "name": "stdout",
     "output_type": "stream",
     "text": [
      "[CV] END activation=tanh, hidden_layer_sizes=(100,), learning_rate=constant, max_iter=200, solver=sgd; total time=   4.1s\n"
     ]
    },
    {
     "name": "stderr",
     "output_type": "stream",
     "text": [
      "/Users/lalune/Library/Python/3.9/lib/python/site-packages/sklearn/neural_network/_multilayer_perceptron.py:691: ConvergenceWarning: Stochastic Optimizer: Maximum iterations (200) reached and the optimization hasn't converged yet.\n",
      "  warnings.warn(\n"
     ]
    },
    {
     "name": "stdout",
     "output_type": "stream",
     "text": [
      "[CV] END activation=tanh, hidden_layer_sizes=(100,), learning_rate=constant, max_iter=200, solver=sgd; total time=   4.0s\n"
     ]
    },
    {
     "name": "stderr",
     "output_type": "stream",
     "text": [
      "/Users/lalune/Library/Python/3.9/lib/python/site-packages/sklearn/neural_network/_multilayer_perceptron.py:691: ConvergenceWarning: Stochastic Optimizer: Maximum iterations (200) reached and the optimization hasn't converged yet.\n",
      "  warnings.warn(\n"
     ]
    },
    {
     "name": "stdout",
     "output_type": "stream",
     "text": [
      "[CV] END activation=tanh, hidden_layer_sizes=(100,), learning_rate=constant, max_iter=200, solver=sgd; total time=   5.5s\n",
      "[CV] END activation=tanh, hidden_layer_sizes=(100,), learning_rate=constant, max_iter=300, solver=adam; total time=   5.7s\n",
      "[CV] END activation=tanh, hidden_layer_sizes=(100,), learning_rate=constant, max_iter=300, solver=adam; total time=   4.8s\n",
      "[CV] END activation=tanh, hidden_layer_sizes=(100,), learning_rate=constant, max_iter=300, solver=adam; total time=   6.7s\n",
      "[CV] END activation=tanh, hidden_layer_sizes=(100,), learning_rate=constant, max_iter=300, solver=adam; total time=   5.4s\n",
      "[CV] END activation=tanh, hidden_layer_sizes=(100,), learning_rate=constant, max_iter=300, solver=adam; total time=   5.2s\n"
     ]
    },
    {
     "name": "stderr",
     "output_type": "stream",
     "text": [
      "/Users/lalune/Library/Python/3.9/lib/python/site-packages/sklearn/neural_network/_multilayer_perceptron.py:691: ConvergenceWarning: Stochastic Optimizer: Maximum iterations (300) reached and the optimization hasn't converged yet.\n",
      "  warnings.warn(\n"
     ]
    },
    {
     "name": "stdout",
     "output_type": "stream",
     "text": [
      "[CV] END activation=tanh, hidden_layer_sizes=(100,), learning_rate=constant, max_iter=300, solver=sgd; total time=   6.7s\n"
     ]
    },
    {
     "name": "stderr",
     "output_type": "stream",
     "text": [
      "/Users/lalune/Library/Python/3.9/lib/python/site-packages/sklearn/neural_network/_multilayer_perceptron.py:691: ConvergenceWarning: Stochastic Optimizer: Maximum iterations (300) reached and the optimization hasn't converged yet.\n",
      "  warnings.warn(\n"
     ]
    },
    {
     "name": "stdout",
     "output_type": "stream",
     "text": [
      "[CV] END activation=tanh, hidden_layer_sizes=(100,), learning_rate=constant, max_iter=300, solver=sgd; total time=   8.0s\n"
     ]
    },
    {
     "name": "stderr",
     "output_type": "stream",
     "text": [
      "/Users/lalune/Library/Python/3.9/lib/python/site-packages/sklearn/neural_network/_multilayer_perceptron.py:691: ConvergenceWarning: Stochastic Optimizer: Maximum iterations (300) reached and the optimization hasn't converged yet.\n",
      "  warnings.warn(\n"
     ]
    },
    {
     "name": "stdout",
     "output_type": "stream",
     "text": [
      "[CV] END activation=tanh, hidden_layer_sizes=(100,), learning_rate=constant, max_iter=300, solver=sgd; total time=   7.4s\n"
     ]
    },
    {
     "name": "stderr",
     "output_type": "stream",
     "text": [
      "/Users/lalune/Library/Python/3.9/lib/python/site-packages/sklearn/neural_network/_multilayer_perceptron.py:691: ConvergenceWarning: Stochastic Optimizer: Maximum iterations (300) reached and the optimization hasn't converged yet.\n",
      "  warnings.warn(\n"
     ]
    },
    {
     "name": "stdout",
     "output_type": "stream",
     "text": [
      "[CV] END activation=tanh, hidden_layer_sizes=(100,), learning_rate=constant, max_iter=300, solver=sgd; total time=   6.4s\n"
     ]
    },
    {
     "name": "stderr",
     "output_type": "stream",
     "text": [
      "/Users/lalune/Library/Python/3.9/lib/python/site-packages/sklearn/neural_network/_multilayer_perceptron.py:691: ConvergenceWarning: Stochastic Optimizer: Maximum iterations (300) reached and the optimization hasn't converged yet.\n",
      "  warnings.warn(\n"
     ]
    },
    {
     "name": "stdout",
     "output_type": "stream",
     "text": [
      "[CV] END activation=tanh, hidden_layer_sizes=(100,), learning_rate=constant, max_iter=300, solver=sgd; total time=   6.6s\n",
      "[CV] END activation=tanh, hidden_layer_sizes=(100,), learning_rate=constant, max_iter=500, solver=adam; total time=   4.6s\n",
      "[CV] END activation=tanh, hidden_layer_sizes=(100,), learning_rate=constant, max_iter=500, solver=adam; total time=   4.4s\n",
      "[CV] END activation=tanh, hidden_layer_sizes=(100,), learning_rate=constant, max_iter=500, solver=adam; total time=   4.6s\n",
      "[CV] END activation=tanh, hidden_layer_sizes=(100,), learning_rate=constant, max_iter=500, solver=adam; total time=   5.1s\n",
      "[CV] END activation=tanh, hidden_layer_sizes=(100,), learning_rate=constant, max_iter=500, solver=adam; total time=   5.6s\n"
     ]
    },
    {
     "name": "stderr",
     "output_type": "stream",
     "text": [
      "/Users/lalune/Library/Python/3.9/lib/python/site-packages/sklearn/neural_network/_multilayer_perceptron.py:691: ConvergenceWarning: Stochastic Optimizer: Maximum iterations (500) reached and the optimization hasn't converged yet.\n",
      "  warnings.warn(\n"
     ]
    },
    {
     "name": "stdout",
     "output_type": "stream",
     "text": [
      "[CV] END activation=tanh, hidden_layer_sizes=(100,), learning_rate=constant, max_iter=500, solver=sgd; total time=  12.5s\n"
     ]
    },
    {
     "name": "stderr",
     "output_type": "stream",
     "text": [
      "/Users/lalune/Library/Python/3.9/lib/python/site-packages/sklearn/neural_network/_multilayer_perceptron.py:691: ConvergenceWarning: Stochastic Optimizer: Maximum iterations (500) reached and the optimization hasn't converged yet.\n",
      "  warnings.warn(\n"
     ]
    },
    {
     "name": "stdout",
     "output_type": "stream",
     "text": [
      "[CV] END activation=tanh, hidden_layer_sizes=(100,), learning_rate=constant, max_iter=500, solver=sgd; total time=  16.0s\n"
     ]
    },
    {
     "name": "stderr",
     "output_type": "stream",
     "text": [
      "/Users/lalune/Library/Python/3.9/lib/python/site-packages/sklearn/neural_network/_multilayer_perceptron.py:691: ConvergenceWarning: Stochastic Optimizer: Maximum iterations (500) reached and the optimization hasn't converged yet.\n",
      "  warnings.warn(\n"
     ]
    },
    {
     "name": "stdout",
     "output_type": "stream",
     "text": [
      "[CV] END activation=tanh, hidden_layer_sizes=(100,), learning_rate=constant, max_iter=500, solver=sgd; total time=  43.8s\n"
     ]
    },
    {
     "name": "stderr",
     "output_type": "stream",
     "text": [
      "/Users/lalune/Library/Python/3.9/lib/python/site-packages/sklearn/neural_network/_multilayer_perceptron.py:691: ConvergenceWarning: Stochastic Optimizer: Maximum iterations (500) reached and the optimization hasn't converged yet.\n",
      "  warnings.warn(\n"
     ]
    },
    {
     "name": "stdout",
     "output_type": "stream",
     "text": [
      "[CV] END activation=tanh, hidden_layer_sizes=(100,), learning_rate=constant, max_iter=500, solver=sgd; total time=   9.8s\n"
     ]
    },
    {
     "name": "stderr",
     "output_type": "stream",
     "text": [
      "/Users/lalune/Library/Python/3.9/lib/python/site-packages/sklearn/neural_network/_multilayer_perceptron.py:691: ConvergenceWarning: Stochastic Optimizer: Maximum iterations (500) reached and the optimization hasn't converged yet.\n",
      "  warnings.warn(\n"
     ]
    },
    {
     "name": "stdout",
     "output_type": "stream",
     "text": [
      "[CV] END activation=tanh, hidden_layer_sizes=(100,), learning_rate=constant, max_iter=500, solver=sgd; total time=  10.2s\n"
     ]
    },
    {
     "name": "stderr",
     "output_type": "stream",
     "text": [
      "/Users/lalune/Library/Python/3.9/lib/python/site-packages/sklearn/neural_network/_multilayer_perceptron.py:691: ConvergenceWarning: Stochastic Optimizer: Maximum iterations (200) reached and the optimization hasn't converged yet.\n",
      "  warnings.warn(\n"
     ]
    },
    {
     "name": "stdout",
     "output_type": "stream",
     "text": [
      "[CV] END activation=tanh, hidden_layer_sizes=(100,), learning_rate=adaptive, max_iter=200, solver=adam; total time=   4.4s\n"
     ]
    },
    {
     "name": "stderr",
     "output_type": "stream",
     "text": [
      "/Users/lalune/Library/Python/3.9/lib/python/site-packages/sklearn/neural_network/_multilayer_perceptron.py:691: ConvergenceWarning: Stochastic Optimizer: Maximum iterations (200) reached and the optimization hasn't converged yet.\n",
      "  warnings.warn(\n"
     ]
    },
    {
     "name": "stdout",
     "output_type": "stream",
     "text": [
      "[CV] END activation=tanh, hidden_layer_sizes=(100,), learning_rate=adaptive, max_iter=200, solver=adam; total time=   4.3s\n"
     ]
    },
    {
     "name": "stderr",
     "output_type": "stream",
     "text": [
      "/Users/lalune/Library/Python/3.9/lib/python/site-packages/sklearn/neural_network/_multilayer_perceptron.py:691: ConvergenceWarning: Stochastic Optimizer: Maximum iterations (200) reached and the optimization hasn't converged yet.\n",
      "  warnings.warn(\n"
     ]
    },
    {
     "name": "stdout",
     "output_type": "stream",
     "text": [
      "[CV] END activation=tanh, hidden_layer_sizes=(100,), learning_rate=adaptive, max_iter=200, solver=adam; total time=   4.4s\n"
     ]
    },
    {
     "name": "stderr",
     "output_type": "stream",
     "text": [
      "/Users/lalune/Library/Python/3.9/lib/python/site-packages/sklearn/neural_network/_multilayer_perceptron.py:691: ConvergenceWarning: Stochastic Optimizer: Maximum iterations (200) reached and the optimization hasn't converged yet.\n",
      "  warnings.warn(\n"
     ]
    },
    {
     "name": "stdout",
     "output_type": "stream",
     "text": [
      "[CV] END activation=tanh, hidden_layer_sizes=(100,), learning_rate=adaptive, max_iter=200, solver=adam; total time=15.1min\n"
     ]
    },
    {
     "name": "stderr",
     "output_type": "stream",
     "text": [
      "/Users/lalune/Library/Python/3.9/lib/python/site-packages/sklearn/neural_network/_multilayer_perceptron.py:691: ConvergenceWarning: Stochastic Optimizer: Maximum iterations (200) reached and the optimization hasn't converged yet.\n",
      "  warnings.warn(\n"
     ]
    },
    {
     "name": "stdout",
     "output_type": "stream",
     "text": [
      "[CV] END activation=tanh, hidden_layer_sizes=(100,), learning_rate=adaptive, max_iter=200, solver=adam; total time=   5.3s\n"
     ]
    },
    {
     "name": "stderr",
     "output_type": "stream",
     "text": [
      "/Users/lalune/Library/Python/3.9/lib/python/site-packages/sklearn/neural_network/_multilayer_perceptron.py:691: ConvergenceWarning: Stochastic Optimizer: Maximum iterations (200) reached and the optimization hasn't converged yet.\n",
      "  warnings.warn(\n"
     ]
    },
    {
     "name": "stdout",
     "output_type": "stream",
     "text": [
      "[CV] END activation=tanh, hidden_layer_sizes=(100,), learning_rate=adaptive, max_iter=200, solver=sgd; total time=   6.4s\n"
     ]
    },
    {
     "name": "stderr",
     "output_type": "stream",
     "text": [
      "/Users/lalune/Library/Python/3.9/lib/python/site-packages/sklearn/neural_network/_multilayer_perceptron.py:691: ConvergenceWarning: Stochastic Optimizer: Maximum iterations (200) reached and the optimization hasn't converged yet.\n",
      "  warnings.warn(\n"
     ]
    },
    {
     "name": "stdout",
     "output_type": "stream",
     "text": [
      "[CV] END activation=tanh, hidden_layer_sizes=(100,), learning_rate=adaptive, max_iter=200, solver=sgd; total time=   5.0s\n"
     ]
    },
    {
     "name": "stderr",
     "output_type": "stream",
     "text": [
      "/Users/lalune/Library/Python/3.9/lib/python/site-packages/sklearn/neural_network/_multilayer_perceptron.py:691: ConvergenceWarning: Stochastic Optimizer: Maximum iterations (200) reached and the optimization hasn't converged yet.\n",
      "  warnings.warn(\n"
     ]
    },
    {
     "name": "stdout",
     "output_type": "stream",
     "text": [
      "[CV] END activation=tanh, hidden_layer_sizes=(100,), learning_rate=adaptive, max_iter=200, solver=sgd; total time=   5.1s\n"
     ]
    },
    {
     "name": "stderr",
     "output_type": "stream",
     "text": [
      "/Users/lalune/Library/Python/3.9/lib/python/site-packages/sklearn/neural_network/_multilayer_perceptron.py:691: ConvergenceWarning: Stochastic Optimizer: Maximum iterations (200) reached and the optimization hasn't converged yet.\n",
      "  warnings.warn(\n"
     ]
    },
    {
     "name": "stdout",
     "output_type": "stream",
     "text": [
      "[CV] END activation=tanh, hidden_layer_sizes=(100,), learning_rate=adaptive, max_iter=200, solver=sgd; total time=   4.8s\n"
     ]
    },
    {
     "name": "stderr",
     "output_type": "stream",
     "text": [
      "/Users/lalune/Library/Python/3.9/lib/python/site-packages/sklearn/neural_network/_multilayer_perceptron.py:691: ConvergenceWarning: Stochastic Optimizer: Maximum iterations (200) reached and the optimization hasn't converged yet.\n",
      "  warnings.warn(\n"
     ]
    },
    {
     "name": "stdout",
     "output_type": "stream",
     "text": [
      "[CV] END activation=tanh, hidden_layer_sizes=(100,), learning_rate=adaptive, max_iter=200, solver=sgd; total time=   3.8s\n",
      "[CV] END activation=tanh, hidden_layer_sizes=(100,), learning_rate=adaptive, max_iter=300, solver=adam; total time=   4.8s\n",
      "[CV] END activation=tanh, hidden_layer_sizes=(100,), learning_rate=adaptive, max_iter=300, solver=adam; total time=   3.8s\n",
      "[CV] END activation=tanh, hidden_layer_sizes=(100,), learning_rate=adaptive, max_iter=300, solver=adam; total time=15.1min\n",
      "[CV] END activation=tanh, hidden_layer_sizes=(100,), learning_rate=adaptive, max_iter=300, solver=adam; total time=   6.1s\n",
      "[CV] END activation=tanh, hidden_layer_sizes=(100,), learning_rate=adaptive, max_iter=300, solver=adam; total time=   5.1s\n"
     ]
    },
    {
     "name": "stderr",
     "output_type": "stream",
     "text": [
      "/Users/lalune/Library/Python/3.9/lib/python/site-packages/sklearn/neural_network/_multilayer_perceptron.py:691: ConvergenceWarning: Stochastic Optimizer: Maximum iterations (300) reached and the optimization hasn't converged yet.\n",
      "  warnings.warn(\n"
     ]
    },
    {
     "name": "stdout",
     "output_type": "stream",
     "text": [
      "[CV] END activation=tanh, hidden_layer_sizes=(100,), learning_rate=adaptive, max_iter=300, solver=sgd; total time=   6.1s\n"
     ]
    },
    {
     "name": "stderr",
     "output_type": "stream",
     "text": [
      "/Users/lalune/Library/Python/3.9/lib/python/site-packages/sklearn/neural_network/_multilayer_perceptron.py:691: ConvergenceWarning: Stochastic Optimizer: Maximum iterations (300) reached and the optimization hasn't converged yet.\n",
      "  warnings.warn(\n"
     ]
    },
    {
     "name": "stdout",
     "output_type": "stream",
     "text": [
      "[CV] END activation=tanh, hidden_layer_sizes=(100,), learning_rate=adaptive, max_iter=300, solver=sgd; total time=   7.2s\n"
     ]
    },
    {
     "name": "stderr",
     "output_type": "stream",
     "text": [
      "/Users/lalune/Library/Python/3.9/lib/python/site-packages/sklearn/neural_network/_multilayer_perceptron.py:691: ConvergenceWarning: Stochastic Optimizer: Maximum iterations (300) reached and the optimization hasn't converged yet.\n",
      "  warnings.warn(\n"
     ]
    },
    {
     "name": "stdout",
     "output_type": "stream",
     "text": [
      "[CV] END activation=tanh, hidden_layer_sizes=(100,), learning_rate=adaptive, max_iter=300, solver=sgd; total time=   7.6s\n"
     ]
    },
    {
     "name": "stderr",
     "output_type": "stream",
     "text": [
      "/Users/lalune/Library/Python/3.9/lib/python/site-packages/sklearn/neural_network/_multilayer_perceptron.py:691: ConvergenceWarning: Stochastic Optimizer: Maximum iterations (300) reached and the optimization hasn't converged yet.\n",
      "  warnings.warn(\n"
     ]
    },
    {
     "name": "stdout",
     "output_type": "stream",
     "text": [
      "[CV] END activation=tanh, hidden_layer_sizes=(100,), learning_rate=adaptive, max_iter=300, solver=sgd; total time=   6.9s\n"
     ]
    },
    {
     "name": "stderr",
     "output_type": "stream",
     "text": [
      "/Users/lalune/Library/Python/3.9/lib/python/site-packages/sklearn/neural_network/_multilayer_perceptron.py:691: ConvergenceWarning: Stochastic Optimizer: Maximum iterations (300) reached and the optimization hasn't converged yet.\n",
      "  warnings.warn(\n"
     ]
    },
    {
     "name": "stdout",
     "output_type": "stream",
     "text": [
      "[CV] END activation=tanh, hidden_layer_sizes=(100,), learning_rate=adaptive, max_iter=300, solver=sgd; total time=15.1min\n",
      "[CV] END activation=tanh, hidden_layer_sizes=(100,), learning_rate=adaptive, max_iter=500, solver=adam; total time=   6.6s\n",
      "[CV] END activation=tanh, hidden_layer_sizes=(100,), learning_rate=adaptive, max_iter=500, solver=adam; total time=   6.6s\n",
      "[CV] END activation=tanh, hidden_layer_sizes=(100,), learning_rate=adaptive, max_iter=500, solver=adam; total time=   6.2s\n",
      "[CV] END activation=tanh, hidden_layer_sizes=(100,), learning_rate=adaptive, max_iter=500, solver=adam; total time=   6.8s\n",
      "[CV] END activation=tanh, hidden_layer_sizes=(100,), learning_rate=adaptive, max_iter=500, solver=adam; total time=   4.7s\n"
     ]
    },
    {
     "name": "stderr",
     "output_type": "stream",
     "text": [
      "/Users/lalune/Library/Python/3.9/lib/python/site-packages/sklearn/neural_network/_multilayer_perceptron.py:691: ConvergenceWarning: Stochastic Optimizer: Maximum iterations (500) reached and the optimization hasn't converged yet.\n",
      "  warnings.warn(\n"
     ]
    },
    {
     "name": "stdout",
     "output_type": "stream",
     "text": [
      "[CV] END activation=tanh, hidden_layer_sizes=(100,), learning_rate=adaptive, max_iter=500, solver=sgd; total time=   9.0s\n"
     ]
    },
    {
     "name": "stderr",
     "output_type": "stream",
     "text": [
      "/Users/lalune/Library/Python/3.9/lib/python/site-packages/sklearn/neural_network/_multilayer_perceptron.py:691: ConvergenceWarning: Stochastic Optimizer: Maximum iterations (500) reached and the optimization hasn't converged yet.\n",
      "  warnings.warn(\n"
     ]
    },
    {
     "name": "stdout",
     "output_type": "stream",
     "text": [
      "[CV] END activation=tanh, hidden_layer_sizes=(100,), learning_rate=adaptive, max_iter=500, solver=sgd; total time=15.2min\n"
     ]
    },
    {
     "name": "stderr",
     "output_type": "stream",
     "text": [
      "/Users/lalune/Library/Python/3.9/lib/python/site-packages/sklearn/neural_network/_multilayer_perceptron.py:691: ConvergenceWarning: Stochastic Optimizer: Maximum iterations (500) reached and the optimization hasn't converged yet.\n",
      "  warnings.warn(\n"
     ]
    },
    {
     "name": "stdout",
     "output_type": "stream",
     "text": [
      "[CV] END activation=tanh, hidden_layer_sizes=(100,), learning_rate=adaptive, max_iter=500, solver=sgd; total time=  10.4s\n"
     ]
    },
    {
     "name": "stderr",
     "output_type": "stream",
     "text": [
      "/Users/lalune/Library/Python/3.9/lib/python/site-packages/sklearn/neural_network/_multilayer_perceptron.py:691: ConvergenceWarning: Stochastic Optimizer: Maximum iterations (500) reached and the optimization hasn't converged yet.\n",
      "  warnings.warn(\n"
     ]
    },
    {
     "name": "stdout",
     "output_type": "stream",
     "text": [
      "[CV] END activation=tanh, hidden_layer_sizes=(100,), learning_rate=adaptive, max_iter=500, solver=sgd; total time=  12.4s\n"
     ]
    },
    {
     "name": "stderr",
     "output_type": "stream",
     "text": [
      "/Users/lalune/Library/Python/3.9/lib/python/site-packages/sklearn/neural_network/_multilayer_perceptron.py:691: ConvergenceWarning: Stochastic Optimizer: Maximum iterations (500) reached and the optimization hasn't converged yet.\n",
      "  warnings.warn(\n"
     ]
    },
    {
     "name": "stdout",
     "output_type": "stream",
     "text": [
      "[CV] END activation=tanh, hidden_layer_sizes=(100,), learning_rate=adaptive, max_iter=500, solver=sgd; total time=  12.8s\n",
      "[CV] END activation=tanh, hidden_layer_sizes=(50, 50), learning_rate=constant, max_iter=200, solver=adam; total time=   4.6s\n",
      "[CV] END activation=tanh, hidden_layer_sizes=(50, 50), learning_rate=constant, max_iter=200, solver=adam; total time=   3.5s\n",
      "[CV] END activation=tanh, hidden_layer_sizes=(50, 50), learning_rate=constant, max_iter=200, solver=adam; total time=   2.9s\n",
      "[CV] END activation=tanh, hidden_layer_sizes=(50, 50), learning_rate=constant, max_iter=200, solver=adam; total time=   2.7s\n",
      "[CV] END activation=tanh, hidden_layer_sizes=(50, 50), learning_rate=constant, max_iter=200, solver=adam; total time=   3.5s\n"
     ]
    },
    {
     "name": "stderr",
     "output_type": "stream",
     "text": [
      "/Users/lalune/Library/Python/3.9/lib/python/site-packages/sklearn/neural_network/_multilayer_perceptron.py:691: ConvergenceWarning: Stochastic Optimizer: Maximum iterations (200) reached and the optimization hasn't converged yet.\n",
      "  warnings.warn(\n"
     ]
    },
    {
     "name": "stdout",
     "output_type": "stream",
     "text": [
      "[CV] END activation=tanh, hidden_layer_sizes=(50, 50), learning_rate=constant, max_iter=200, solver=sgd; total time=   5.0s\n"
     ]
    },
    {
     "name": "stderr",
     "output_type": "stream",
     "text": [
      "/Users/lalune/Library/Python/3.9/lib/python/site-packages/sklearn/neural_network/_multilayer_perceptron.py:691: ConvergenceWarning: Stochastic Optimizer: Maximum iterations (200) reached and the optimization hasn't converged yet.\n",
      "  warnings.warn(\n"
     ]
    },
    {
     "name": "stdout",
     "output_type": "stream",
     "text": [
      "[CV] END activation=tanh, hidden_layer_sizes=(50, 50), learning_rate=constant, max_iter=200, solver=sgd; total time=   5.6s\n"
     ]
    },
    {
     "name": "stderr",
     "output_type": "stream",
     "text": [
      "/Users/lalune/Library/Python/3.9/lib/python/site-packages/sklearn/neural_network/_multilayer_perceptron.py:691: ConvergenceWarning: Stochastic Optimizer: Maximum iterations (200) reached and the optimization hasn't converged yet.\n",
      "  warnings.warn(\n"
     ]
    },
    {
     "name": "stdout",
     "output_type": "stream",
     "text": [
      "[CV] END activation=tanh, hidden_layer_sizes=(50, 50), learning_rate=constant, max_iter=200, solver=sgd; total time=   5.3s\n"
     ]
    },
    {
     "name": "stderr",
     "output_type": "stream",
     "text": [
      "/Users/lalune/Library/Python/3.9/lib/python/site-packages/sklearn/neural_network/_multilayer_perceptron.py:691: ConvergenceWarning: Stochastic Optimizer: Maximum iterations (200) reached and the optimization hasn't converged yet.\n",
      "  warnings.warn(\n"
     ]
    },
    {
     "name": "stdout",
     "output_type": "stream",
     "text": [
      "[CV] END activation=tanh, hidden_layer_sizes=(50, 50), learning_rate=constant, max_iter=200, solver=sgd; total time=   5.7s\n"
     ]
    },
    {
     "name": "stderr",
     "output_type": "stream",
     "text": [
      "/Users/lalune/Library/Python/3.9/lib/python/site-packages/sklearn/neural_network/_multilayer_perceptron.py:691: ConvergenceWarning: Stochastic Optimizer: Maximum iterations (200) reached and the optimization hasn't converged yet.\n",
      "  warnings.warn(\n"
     ]
    },
    {
     "name": "stdout",
     "output_type": "stream",
     "text": [
      "[CV] END activation=tanh, hidden_layer_sizes=(50, 50), learning_rate=constant, max_iter=200, solver=sgd; total time=   5.7s\n",
      "[CV] END activation=tanh, hidden_layer_sizes=(50, 50), learning_rate=constant, max_iter=300, solver=adam; total time=   3.9s\n",
      "[CV] END activation=tanh, hidden_layer_sizes=(50, 50), learning_rate=constant, max_iter=300, solver=adam; total time=   4.6s\n",
      "[CV] END activation=tanh, hidden_layer_sizes=(50, 50), learning_rate=constant, max_iter=300, solver=adam; total time=   4.0s\n",
      "[CV] END activation=tanh, hidden_layer_sizes=(50, 50), learning_rate=constant, max_iter=300, solver=adam; total time=   4.0s\n",
      "[CV] END activation=tanh, hidden_layer_sizes=(50, 50), learning_rate=constant, max_iter=300, solver=adam; total time=   4.0s\n"
     ]
    },
    {
     "name": "stderr",
     "output_type": "stream",
     "text": [
      "/Users/lalune/Library/Python/3.9/lib/python/site-packages/sklearn/neural_network/_multilayer_perceptron.py:691: ConvergenceWarning: Stochastic Optimizer: Maximum iterations (300) reached and the optimization hasn't converged yet.\n",
      "  warnings.warn(\n"
     ]
    },
    {
     "name": "stdout",
     "output_type": "stream",
     "text": [
      "[CV] END activation=tanh, hidden_layer_sizes=(50, 50), learning_rate=constant, max_iter=300, solver=sgd; total time=   8.1s\n"
     ]
    },
    {
     "name": "stderr",
     "output_type": "stream",
     "text": [
      "/Users/lalune/Library/Python/3.9/lib/python/site-packages/sklearn/neural_network/_multilayer_perceptron.py:691: ConvergenceWarning: Stochastic Optimizer: Maximum iterations (300) reached and the optimization hasn't converged yet.\n",
      "  warnings.warn(\n"
     ]
    },
    {
     "name": "stdout",
     "output_type": "stream",
     "text": [
      "[CV] END activation=tanh, hidden_layer_sizes=(50, 50), learning_rate=constant, max_iter=300, solver=sgd; total time=   9.1s\n"
     ]
    },
    {
     "name": "stderr",
     "output_type": "stream",
     "text": [
      "/Users/lalune/Library/Python/3.9/lib/python/site-packages/sklearn/neural_network/_multilayer_perceptron.py:691: ConvergenceWarning: Stochastic Optimizer: Maximum iterations (300) reached and the optimization hasn't converged yet.\n",
      "  warnings.warn(\n"
     ]
    },
    {
     "name": "stdout",
     "output_type": "stream",
     "text": [
      "[CV] END activation=tanh, hidden_layer_sizes=(50, 50), learning_rate=constant, max_iter=300, solver=sgd; total time=   8.3s\n"
     ]
    },
    {
     "name": "stderr",
     "output_type": "stream",
     "text": [
      "/Users/lalune/Library/Python/3.9/lib/python/site-packages/sklearn/neural_network/_multilayer_perceptron.py:691: ConvergenceWarning: Stochastic Optimizer: Maximum iterations (300) reached and the optimization hasn't converged yet.\n",
      "  warnings.warn(\n"
     ]
    },
    {
     "name": "stdout",
     "output_type": "stream",
     "text": [
      "[CV] END activation=tanh, hidden_layer_sizes=(50, 50), learning_rate=constant, max_iter=300, solver=sgd; total time=   8.5s\n"
     ]
    },
    {
     "name": "stderr",
     "output_type": "stream",
     "text": [
      "/Users/lalune/Library/Python/3.9/lib/python/site-packages/sklearn/neural_network/_multilayer_perceptron.py:691: ConvergenceWarning: Stochastic Optimizer: Maximum iterations (300) reached and the optimization hasn't converged yet.\n",
      "  warnings.warn(\n"
     ]
    },
    {
     "name": "stdout",
     "output_type": "stream",
     "text": [
      "[CV] END activation=tanh, hidden_layer_sizes=(50, 50), learning_rate=constant, max_iter=300, solver=sgd; total time=   9.3s\n",
      "[CV] END activation=tanh, hidden_layer_sizes=(50, 50), learning_rate=constant, max_iter=500, solver=adam; total time=   4.5s\n",
      "[CV] END activation=tanh, hidden_layer_sizes=(50, 50), learning_rate=constant, max_iter=500, solver=adam; total time=   5.3s\n",
      "[CV] END activation=tanh, hidden_layer_sizes=(50, 50), learning_rate=constant, max_iter=500, solver=adam; total time=   4.2s\n",
      "[CV] END activation=tanh, hidden_layer_sizes=(50, 50), learning_rate=constant, max_iter=500, solver=adam; total time=   4.2s\n",
      "[CV] END activation=tanh, hidden_layer_sizes=(50, 50), learning_rate=constant, max_iter=500, solver=adam; total time=   4.8s\n"
     ]
    },
    {
     "name": "stderr",
     "output_type": "stream",
     "text": [
      "/Users/lalune/Library/Python/3.9/lib/python/site-packages/sklearn/neural_network/_multilayer_perceptron.py:691: ConvergenceWarning: Stochastic Optimizer: Maximum iterations (500) reached and the optimization hasn't converged yet.\n",
      "  warnings.warn(\n"
     ]
    },
    {
     "name": "stdout",
     "output_type": "stream",
     "text": [
      "[CV] END activation=tanh, hidden_layer_sizes=(50, 50), learning_rate=constant, max_iter=500, solver=sgd; total time=  15.8s\n"
     ]
    },
    {
     "name": "stderr",
     "output_type": "stream",
     "text": [
      "/Users/lalune/Library/Python/3.9/lib/python/site-packages/sklearn/neural_network/_multilayer_perceptron.py:691: ConvergenceWarning: Stochastic Optimizer: Maximum iterations (500) reached and the optimization hasn't converged yet.\n",
      "  warnings.warn(\n"
     ]
    },
    {
     "name": "stdout",
     "output_type": "stream",
     "text": [
      "[CV] END activation=tanh, hidden_layer_sizes=(50, 50), learning_rate=constant, max_iter=500, solver=sgd; total time=  14.1s\n"
     ]
    },
    {
     "name": "stderr",
     "output_type": "stream",
     "text": [
      "/Users/lalune/Library/Python/3.9/lib/python/site-packages/sklearn/neural_network/_multilayer_perceptron.py:691: ConvergenceWarning: Stochastic Optimizer: Maximum iterations (500) reached and the optimization hasn't converged yet.\n",
      "  warnings.warn(\n"
     ]
    },
    {
     "name": "stdout",
     "output_type": "stream",
     "text": [
      "[CV] END activation=tanh, hidden_layer_sizes=(50, 50), learning_rate=constant, max_iter=500, solver=sgd; total time=  14.7s\n"
     ]
    },
    {
     "name": "stderr",
     "output_type": "stream",
     "text": [
      "/Users/lalune/Library/Python/3.9/lib/python/site-packages/sklearn/neural_network/_multilayer_perceptron.py:691: ConvergenceWarning: Stochastic Optimizer: Maximum iterations (500) reached and the optimization hasn't converged yet.\n",
      "  warnings.warn(\n"
     ]
    },
    {
     "name": "stdout",
     "output_type": "stream",
     "text": [
      "[CV] END activation=tanh, hidden_layer_sizes=(50, 50), learning_rate=constant, max_iter=500, solver=sgd; total time=  14.8s\n"
     ]
    },
    {
     "name": "stderr",
     "output_type": "stream",
     "text": [
      "/Users/lalune/Library/Python/3.9/lib/python/site-packages/sklearn/neural_network/_multilayer_perceptron.py:691: ConvergenceWarning: Stochastic Optimizer: Maximum iterations (500) reached and the optimization hasn't converged yet.\n",
      "  warnings.warn(\n"
     ]
    },
    {
     "name": "stdout",
     "output_type": "stream",
     "text": [
      "[CV] END activation=tanh, hidden_layer_sizes=(50, 50), learning_rate=constant, max_iter=500, solver=sgd; total time=  14.8s\n",
      "[CV] END activation=tanh, hidden_layer_sizes=(50, 50), learning_rate=adaptive, max_iter=200, solver=adam; total time=   4.8s\n",
      "[CV] END activation=tanh, hidden_layer_sizes=(50, 50), learning_rate=adaptive, max_iter=200, solver=adam; total time=   4.7s\n",
      "[CV] END activation=tanh, hidden_layer_sizes=(50, 50), learning_rate=adaptive, max_iter=200, solver=adam; total time=   5.4s\n",
      "[CV] END activation=tanh, hidden_layer_sizes=(50, 50), learning_rate=adaptive, max_iter=200, solver=adam; total time=   4.4s\n",
      "[CV] END activation=tanh, hidden_layer_sizes=(50, 50), learning_rate=adaptive, max_iter=200, solver=adam; total time=   4.5s\n"
     ]
    },
    {
     "name": "stderr",
     "output_type": "stream",
     "text": [
      "/Users/lalune/Library/Python/3.9/lib/python/site-packages/sklearn/neural_network/_multilayer_perceptron.py:691: ConvergenceWarning: Stochastic Optimizer: Maximum iterations (200) reached and the optimization hasn't converged yet.\n",
      "  warnings.warn(\n"
     ]
    },
    {
     "name": "stdout",
     "output_type": "stream",
     "text": [
      "[CV] END activation=tanh, hidden_layer_sizes=(50, 50), learning_rate=adaptive, max_iter=200, solver=sgd; total time=   6.0s\n"
     ]
    },
    {
     "name": "stderr",
     "output_type": "stream",
     "text": [
      "/Users/lalune/Library/Python/3.9/lib/python/site-packages/sklearn/neural_network/_multilayer_perceptron.py:691: ConvergenceWarning: Stochastic Optimizer: Maximum iterations (200) reached and the optimization hasn't converged yet.\n",
      "  warnings.warn(\n"
     ]
    },
    {
     "name": "stdout",
     "output_type": "stream",
     "text": [
      "[CV] END activation=tanh, hidden_layer_sizes=(50, 50), learning_rate=adaptive, max_iter=200, solver=sgd; total time=   6.3s\n"
     ]
    },
    {
     "name": "stderr",
     "output_type": "stream",
     "text": [
      "/Users/lalune/Library/Python/3.9/lib/python/site-packages/sklearn/neural_network/_multilayer_perceptron.py:691: ConvergenceWarning: Stochastic Optimizer: Maximum iterations (200) reached and the optimization hasn't converged yet.\n",
      "  warnings.warn(\n"
     ]
    },
    {
     "name": "stdout",
     "output_type": "stream",
     "text": [
      "[CV] END activation=tanh, hidden_layer_sizes=(50, 50), learning_rate=adaptive, max_iter=200, solver=sgd; total time=   6.1s\n"
     ]
    },
    {
     "name": "stderr",
     "output_type": "stream",
     "text": [
      "/Users/lalune/Library/Python/3.9/lib/python/site-packages/sklearn/neural_network/_multilayer_perceptron.py:691: ConvergenceWarning: Stochastic Optimizer: Maximum iterations (200) reached and the optimization hasn't converged yet.\n",
      "  warnings.warn(\n"
     ]
    },
    {
     "name": "stdout",
     "output_type": "stream",
     "text": [
      "[CV] END activation=tanh, hidden_layer_sizes=(50, 50), learning_rate=adaptive, max_iter=200, solver=sgd; total time=   6.2s\n"
     ]
    },
    {
     "name": "stderr",
     "output_type": "stream",
     "text": [
      "/Users/lalune/Library/Python/3.9/lib/python/site-packages/sklearn/neural_network/_multilayer_perceptron.py:691: ConvergenceWarning: Stochastic Optimizer: Maximum iterations (200) reached and the optimization hasn't converged yet.\n",
      "  warnings.warn(\n"
     ]
    },
    {
     "name": "stdout",
     "output_type": "stream",
     "text": [
      "[CV] END activation=tanh, hidden_layer_sizes=(50, 50), learning_rate=adaptive, max_iter=200, solver=sgd; total time=   6.2s\n",
      "[CV] END activation=tanh, hidden_layer_sizes=(50, 50), learning_rate=adaptive, max_iter=300, solver=adam; total time=   4.4s\n",
      "[CV] END activation=tanh, hidden_layer_sizes=(50, 50), learning_rate=adaptive, max_iter=300, solver=adam; total time=   5.2s\n",
      "[CV] END activation=tanh, hidden_layer_sizes=(50, 50), learning_rate=adaptive, max_iter=300, solver=adam; total time=   4.7s\n",
      "[CV] END activation=tanh, hidden_layer_sizes=(50, 50), learning_rate=adaptive, max_iter=300, solver=adam; total time=   4.3s\n",
      "[CV] END activation=tanh, hidden_layer_sizes=(50, 50), learning_rate=adaptive, max_iter=300, solver=adam; total time=   4.4s\n"
     ]
    },
    {
     "name": "stderr",
     "output_type": "stream",
     "text": [
      "/Users/lalune/Library/Python/3.9/lib/python/site-packages/sklearn/neural_network/_multilayer_perceptron.py:691: ConvergenceWarning: Stochastic Optimizer: Maximum iterations (300) reached and the optimization hasn't converged yet.\n",
      "  warnings.warn(\n"
     ]
    },
    {
     "name": "stdout",
     "output_type": "stream",
     "text": [
      "[CV] END activation=tanh, hidden_layer_sizes=(50, 50), learning_rate=adaptive, max_iter=300, solver=sgd; total time=   9.7s\n"
     ]
    },
    {
     "name": "stderr",
     "output_type": "stream",
     "text": [
      "/Users/lalune/Library/Python/3.9/lib/python/site-packages/sklearn/neural_network/_multilayer_perceptron.py:691: ConvergenceWarning: Stochastic Optimizer: Maximum iterations (300) reached and the optimization hasn't converged yet.\n",
      "  warnings.warn(\n"
     ]
    },
    {
     "name": "stdout",
     "output_type": "stream",
     "text": [
      "[CV] END activation=tanh, hidden_layer_sizes=(50, 50), learning_rate=adaptive, max_iter=300, solver=sgd; total time=   8.5s\n"
     ]
    },
    {
     "name": "stderr",
     "output_type": "stream",
     "text": [
      "/Users/lalune/Library/Python/3.9/lib/python/site-packages/sklearn/neural_network/_multilayer_perceptron.py:691: ConvergenceWarning: Stochastic Optimizer: Maximum iterations (300) reached and the optimization hasn't converged yet.\n",
      "  warnings.warn(\n"
     ]
    },
    {
     "name": "stdout",
     "output_type": "stream",
     "text": [
      "[CV] END activation=tanh, hidden_layer_sizes=(50, 50), learning_rate=adaptive, max_iter=300, solver=sgd; total time=   9.2s\n"
     ]
    },
    {
     "name": "stderr",
     "output_type": "stream",
     "text": [
      "/Users/lalune/Library/Python/3.9/lib/python/site-packages/sklearn/neural_network/_multilayer_perceptron.py:691: ConvergenceWarning: Stochastic Optimizer: Maximum iterations (300) reached and the optimization hasn't converged yet.\n",
      "  warnings.warn(\n"
     ]
    },
    {
     "name": "stdout",
     "output_type": "stream",
     "text": [
      "[CV] END activation=tanh, hidden_layer_sizes=(50, 50), learning_rate=adaptive, max_iter=300, solver=sgd; total time=   9.1s\n"
     ]
    },
    {
     "name": "stderr",
     "output_type": "stream",
     "text": [
      "/Users/lalune/Library/Python/3.9/lib/python/site-packages/sklearn/neural_network/_multilayer_perceptron.py:691: ConvergenceWarning: Stochastic Optimizer: Maximum iterations (300) reached and the optimization hasn't converged yet.\n",
      "  warnings.warn(\n"
     ]
    },
    {
     "name": "stdout",
     "output_type": "stream",
     "text": [
      "[CV] END activation=tanh, hidden_layer_sizes=(50, 50), learning_rate=adaptive, max_iter=300, solver=sgd; total time=   9.7s\n",
      "[CV] END activation=tanh, hidden_layer_sizes=(50, 50), learning_rate=adaptive, max_iter=500, solver=adam; total time=   4.4s\n",
      "[CV] END activation=tanh, hidden_layer_sizes=(50, 50), learning_rate=adaptive, max_iter=500, solver=adam; total time=   4.8s\n",
      "[CV] END activation=tanh, hidden_layer_sizes=(50, 50), learning_rate=adaptive, max_iter=500, solver=adam; total time=   4.3s\n",
      "[CV] END activation=tanh, hidden_layer_sizes=(50, 50), learning_rate=adaptive, max_iter=500, solver=adam; total time=   4.3s\n",
      "[CV] END activation=tanh, hidden_layer_sizes=(50, 50), learning_rate=adaptive, max_iter=500, solver=adam; total time=   5.3s\n"
     ]
    },
    {
     "name": "stderr",
     "output_type": "stream",
     "text": [
      "/Users/lalune/Library/Python/3.9/lib/python/site-packages/sklearn/neural_network/_multilayer_perceptron.py:691: ConvergenceWarning: Stochastic Optimizer: Maximum iterations (500) reached and the optimization hasn't converged yet.\n",
      "  warnings.warn(\n"
     ]
    },
    {
     "name": "stdout",
     "output_type": "stream",
     "text": [
      "[CV] END activation=tanh, hidden_layer_sizes=(50, 50), learning_rate=adaptive, max_iter=500, solver=sgd; total time=  17.0s\n"
     ]
    },
    {
     "name": "stderr",
     "output_type": "stream",
     "text": [
      "/Users/lalune/Library/Python/3.9/lib/python/site-packages/sklearn/neural_network/_multilayer_perceptron.py:691: ConvergenceWarning: Stochastic Optimizer: Maximum iterations (500) reached and the optimization hasn't converged yet.\n",
      "  warnings.warn(\n"
     ]
    },
    {
     "name": "stdout",
     "output_type": "stream",
     "text": [
      "[CV] END activation=tanh, hidden_layer_sizes=(50, 50), learning_rate=adaptive, max_iter=500, solver=sgd; total time=  14.6s\n"
     ]
    },
    {
     "name": "stderr",
     "output_type": "stream",
     "text": [
      "/Users/lalune/Library/Python/3.9/lib/python/site-packages/sklearn/neural_network/_multilayer_perceptron.py:691: ConvergenceWarning: Stochastic Optimizer: Maximum iterations (500) reached and the optimization hasn't converged yet.\n",
      "  warnings.warn(\n"
     ]
    },
    {
     "name": "stdout",
     "output_type": "stream",
     "text": [
      "[CV] END activation=tanh, hidden_layer_sizes=(50, 50), learning_rate=adaptive, max_iter=500, solver=sgd; total time=  16.0s\n"
     ]
    },
    {
     "name": "stderr",
     "output_type": "stream",
     "text": [
      "/Users/lalune/Library/Python/3.9/lib/python/site-packages/sklearn/neural_network/_multilayer_perceptron.py:691: ConvergenceWarning: Stochastic Optimizer: Maximum iterations (500) reached and the optimization hasn't converged yet.\n",
      "  warnings.warn(\n"
     ]
    },
    {
     "name": "stdout",
     "output_type": "stream",
     "text": [
      "[CV] END activation=tanh, hidden_layer_sizes=(50, 50), learning_rate=adaptive, max_iter=500, solver=sgd; total time=  15.4s\n"
     ]
    },
    {
     "name": "stderr",
     "output_type": "stream",
     "text": [
      "/Users/lalune/Library/Python/3.9/lib/python/site-packages/sklearn/neural_network/_multilayer_perceptron.py:691: ConvergenceWarning: Stochastic Optimizer: Maximum iterations (500) reached and the optimization hasn't converged yet.\n",
      "  warnings.warn(\n"
     ]
    },
    {
     "name": "stdout",
     "output_type": "stream",
     "text": [
      "[CV] END activation=tanh, hidden_layer_sizes=(50, 50), learning_rate=adaptive, max_iter=500, solver=sgd; total time=  18.2s\n",
      "[CV] END activation=tanh, hidden_layer_sizes=(100, 50), learning_rate=constant, max_iter=200, solver=adam; total time=   8.7s\n",
      "[CV] END activation=tanh, hidden_layer_sizes=(100, 50), learning_rate=constant, max_iter=200, solver=adam; total time=   6.6s\n",
      "[CV] END activation=tanh, hidden_layer_sizes=(100, 50), learning_rate=constant, max_iter=200, solver=adam; total time=   5.5s\n",
      "[CV] END activation=tanh, hidden_layer_sizes=(100, 50), learning_rate=constant, max_iter=200, solver=adam; total time=   6.3s\n",
      "[CV] END activation=tanh, hidden_layer_sizes=(100, 50), learning_rate=constant, max_iter=200, solver=adam; total time=   5.7s\n"
     ]
    },
    {
     "name": "stderr",
     "output_type": "stream",
     "text": [
      "/Users/lalune/Library/Python/3.9/lib/python/site-packages/sklearn/neural_network/_multilayer_perceptron.py:691: ConvergenceWarning: Stochastic Optimizer: Maximum iterations (200) reached and the optimization hasn't converged yet.\n",
      "  warnings.warn(\n"
     ]
    },
    {
     "name": "stdout",
     "output_type": "stream",
     "text": [
      "[CV] END activation=tanh, hidden_layer_sizes=(100, 50), learning_rate=constant, max_iter=200, solver=sgd; total time=   8.7s\n"
     ]
    },
    {
     "name": "stderr",
     "output_type": "stream",
     "text": [
      "/Users/lalune/Library/Python/3.9/lib/python/site-packages/sklearn/neural_network/_multilayer_perceptron.py:691: ConvergenceWarning: Stochastic Optimizer: Maximum iterations (200) reached and the optimization hasn't converged yet.\n",
      "  warnings.warn(\n"
     ]
    },
    {
     "name": "stdout",
     "output_type": "stream",
     "text": [
      "[CV] END activation=tanh, hidden_layer_sizes=(100, 50), learning_rate=constant, max_iter=200, solver=sgd; total time=   8.9s\n"
     ]
    },
    {
     "name": "stderr",
     "output_type": "stream",
     "text": [
      "/Users/lalune/Library/Python/3.9/lib/python/site-packages/sklearn/neural_network/_multilayer_perceptron.py:691: ConvergenceWarning: Stochastic Optimizer: Maximum iterations (200) reached and the optimization hasn't converged yet.\n",
      "  warnings.warn(\n"
     ]
    },
    {
     "name": "stdout",
     "output_type": "stream",
     "text": [
      "[CV] END activation=tanh, hidden_layer_sizes=(100, 50), learning_rate=constant, max_iter=200, solver=sgd; total time=   9.6s\n"
     ]
    },
    {
     "name": "stderr",
     "output_type": "stream",
     "text": [
      "/Users/lalune/Library/Python/3.9/lib/python/site-packages/sklearn/neural_network/_multilayer_perceptron.py:691: ConvergenceWarning: Stochastic Optimizer: Maximum iterations (200) reached and the optimization hasn't converged yet.\n",
      "  warnings.warn(\n"
     ]
    },
    {
     "name": "stdout",
     "output_type": "stream",
     "text": [
      "[CV] END activation=tanh, hidden_layer_sizes=(100, 50), learning_rate=constant, max_iter=200, solver=sgd; total time=  11.2s\n"
     ]
    },
    {
     "name": "stderr",
     "output_type": "stream",
     "text": [
      "/Users/lalune/Library/Python/3.9/lib/python/site-packages/sklearn/neural_network/_multilayer_perceptron.py:691: ConvergenceWarning: Stochastic Optimizer: Maximum iterations (200) reached and the optimization hasn't converged yet.\n",
      "  warnings.warn(\n"
     ]
    },
    {
     "name": "stdout",
     "output_type": "stream",
     "text": [
      "[CV] END activation=tanh, hidden_layer_sizes=(100, 50), learning_rate=constant, max_iter=200, solver=sgd; total time=   9.5s\n",
      "[CV] END activation=tanh, hidden_layer_sizes=(100, 50), learning_rate=constant, max_iter=300, solver=adam; total time=   7.0s\n",
      "[CV] END activation=tanh, hidden_layer_sizes=(100, 50), learning_rate=constant, max_iter=300, solver=adam; total time=   8.0s\n",
      "[CV] END activation=tanh, hidden_layer_sizes=(100, 50), learning_rate=constant, max_iter=300, solver=adam; total time=   6.1s\n",
      "[CV] END activation=tanh, hidden_layer_sizes=(100, 50), learning_rate=constant, max_iter=300, solver=adam; total time=   5.6s\n",
      "[CV] END activation=tanh, hidden_layer_sizes=(100, 50), learning_rate=constant, max_iter=300, solver=adam; total time=   6.3s\n"
     ]
    },
    {
     "name": "stderr",
     "output_type": "stream",
     "text": [
      "/Users/lalune/Library/Python/3.9/lib/python/site-packages/sklearn/neural_network/_multilayer_perceptron.py:691: ConvergenceWarning: Stochastic Optimizer: Maximum iterations (300) reached and the optimization hasn't converged yet.\n",
      "  warnings.warn(\n"
     ]
    },
    {
     "name": "stdout",
     "output_type": "stream",
     "text": [
      "[CV] END activation=tanh, hidden_layer_sizes=(100, 50), learning_rate=constant, max_iter=300, solver=sgd; total time=  16.3s\n"
     ]
    },
    {
     "name": "stderr",
     "output_type": "stream",
     "text": [
      "/Users/lalune/Library/Python/3.9/lib/python/site-packages/sklearn/neural_network/_multilayer_perceptron.py:691: ConvergenceWarning: Stochastic Optimizer: Maximum iterations (300) reached and the optimization hasn't converged yet.\n",
      "  warnings.warn(\n"
     ]
    },
    {
     "name": "stdout",
     "output_type": "stream",
     "text": [
      "[CV] END activation=tanh, hidden_layer_sizes=(100, 50), learning_rate=constant, max_iter=300, solver=sgd; total time=  16.5s\n"
     ]
    },
    {
     "name": "stderr",
     "output_type": "stream",
     "text": [
      "/Users/lalune/Library/Python/3.9/lib/python/site-packages/sklearn/neural_network/_multilayer_perceptron.py:691: ConvergenceWarning: Stochastic Optimizer: Maximum iterations (300) reached and the optimization hasn't converged yet.\n",
      "  warnings.warn(\n"
     ]
    },
    {
     "name": "stdout",
     "output_type": "stream",
     "text": [
      "[CV] END activation=tanh, hidden_layer_sizes=(100, 50), learning_rate=constant, max_iter=300, solver=sgd; total time=  14.1s\n"
     ]
    },
    {
     "name": "stderr",
     "output_type": "stream",
     "text": [
      "/Users/lalune/Library/Python/3.9/lib/python/site-packages/sklearn/neural_network/_multilayer_perceptron.py:691: ConvergenceWarning: Stochastic Optimizer: Maximum iterations (300) reached and the optimization hasn't converged yet.\n",
      "  warnings.warn(\n"
     ]
    },
    {
     "name": "stdout",
     "output_type": "stream",
     "text": [
      "[CV] END activation=tanh, hidden_layer_sizes=(100, 50), learning_rate=constant, max_iter=300, solver=sgd; total time=  14.3s\n"
     ]
    },
    {
     "name": "stderr",
     "output_type": "stream",
     "text": [
      "/Users/lalune/Library/Python/3.9/lib/python/site-packages/sklearn/neural_network/_multilayer_perceptron.py:691: ConvergenceWarning: Stochastic Optimizer: Maximum iterations (300) reached and the optimization hasn't converged yet.\n",
      "  warnings.warn(\n"
     ]
    },
    {
     "name": "stdout",
     "output_type": "stream",
     "text": [
      "[CV] END activation=tanh, hidden_layer_sizes=(100, 50), learning_rate=constant, max_iter=300, solver=sgd; total time=  17.1s\n",
      "[CV] END activation=tanh, hidden_layer_sizes=(100, 50), learning_rate=constant, max_iter=500, solver=adam; total time=   8.5s\n",
      "[CV] END activation=tanh, hidden_layer_sizes=(100, 50), learning_rate=constant, max_iter=500, solver=adam; total time=   9.9s\n",
      "[CV] END activation=tanh, hidden_layer_sizes=(100, 50), learning_rate=constant, max_iter=500, solver=adam; total time=   6.8s\n",
      "[CV] END activation=tanh, hidden_layer_sizes=(100, 50), learning_rate=constant, max_iter=500, solver=adam; total time=   6.6s\n",
      "[CV] END activation=tanh, hidden_layer_sizes=(100, 50), learning_rate=constant, max_iter=500, solver=adam; total time=   6.0s\n"
     ]
    },
    {
     "name": "stderr",
     "output_type": "stream",
     "text": [
      "/Users/lalune/Library/Python/3.9/lib/python/site-packages/sklearn/neural_network/_multilayer_perceptron.py:691: ConvergenceWarning: Stochastic Optimizer: Maximum iterations (500) reached and the optimization hasn't converged yet.\n",
      "  warnings.warn(\n"
     ]
    },
    {
     "name": "stdout",
     "output_type": "stream",
     "text": [
      "[CV] END activation=tanh, hidden_layer_sizes=(100, 50), learning_rate=constant, max_iter=500, solver=sgd; total time=  23.6s\n"
     ]
    },
    {
     "name": "stderr",
     "output_type": "stream",
     "text": [
      "/Users/lalune/Library/Python/3.9/lib/python/site-packages/sklearn/neural_network/_multilayer_perceptron.py:691: ConvergenceWarning: Stochastic Optimizer: Maximum iterations (500) reached and the optimization hasn't converged yet.\n",
      "  warnings.warn(\n"
     ]
    },
    {
     "name": "stdout",
     "output_type": "stream",
     "text": [
      "[CV] END activation=tanh, hidden_layer_sizes=(100, 50), learning_rate=constant, max_iter=500, solver=sgd; total time=  26.6s\n"
     ]
    },
    {
     "name": "stderr",
     "output_type": "stream",
     "text": [
      "/Users/lalune/Library/Python/3.9/lib/python/site-packages/sklearn/neural_network/_multilayer_perceptron.py:691: ConvergenceWarning: Stochastic Optimizer: Maximum iterations (500) reached and the optimization hasn't converged yet.\n",
      "  warnings.warn(\n"
     ]
    },
    {
     "name": "stdout",
     "output_type": "stream",
     "text": [
      "[CV] END activation=tanh, hidden_layer_sizes=(100, 50), learning_rate=constant, max_iter=500, solver=sgd; total time=  25.3s\n"
     ]
    },
    {
     "name": "stderr",
     "output_type": "stream",
     "text": [
      "/Users/lalune/Library/Python/3.9/lib/python/site-packages/sklearn/neural_network/_multilayer_perceptron.py:691: ConvergenceWarning: Stochastic Optimizer: Maximum iterations (500) reached and the optimization hasn't converged yet.\n",
      "  warnings.warn(\n"
     ]
    },
    {
     "name": "stdout",
     "output_type": "stream",
     "text": [
      "[CV] END activation=tanh, hidden_layer_sizes=(100, 50), learning_rate=constant, max_iter=500, solver=sgd; total time=  24.7s\n"
     ]
    },
    {
     "name": "stderr",
     "output_type": "stream",
     "text": [
      "/Users/lalune/Library/Python/3.9/lib/python/site-packages/sklearn/neural_network/_multilayer_perceptron.py:691: ConvergenceWarning: Stochastic Optimizer: Maximum iterations (500) reached and the optimization hasn't converged yet.\n",
      "  warnings.warn(\n"
     ]
    },
    {
     "name": "stdout",
     "output_type": "stream",
     "text": [
      "[CV] END activation=tanh, hidden_layer_sizes=(100, 50), learning_rate=constant, max_iter=500, solver=sgd; total time=  24.4s\n",
      "[CV] END activation=tanh, hidden_layer_sizes=(100, 50), learning_rate=adaptive, max_iter=200, solver=adam; total time=   7.6s\n",
      "[CV] END activation=tanh, hidden_layer_sizes=(100, 50), learning_rate=adaptive, max_iter=200, solver=adam; total time=   8.4s\n",
      "[CV] END activation=tanh, hidden_layer_sizes=(100, 50), learning_rate=adaptive, max_iter=200, solver=adam; total time=   6.1s\n",
      "[CV] END activation=tanh, hidden_layer_sizes=(100, 50), learning_rate=adaptive, max_iter=200, solver=adam; total time=   7.1s\n",
      "[CV] END activation=tanh, hidden_layer_sizes=(100, 50), learning_rate=adaptive, max_iter=200, solver=adam; total time=   7.0s\n"
     ]
    },
    {
     "name": "stderr",
     "output_type": "stream",
     "text": [
      "/Users/lalune/Library/Python/3.9/lib/python/site-packages/sklearn/neural_network/_multilayer_perceptron.py:691: ConvergenceWarning: Stochastic Optimizer: Maximum iterations (200) reached and the optimization hasn't converged yet.\n",
      "  warnings.warn(\n"
     ]
    },
    {
     "name": "stdout",
     "output_type": "stream",
     "text": [
      "[CV] END activation=tanh, hidden_layer_sizes=(100, 50), learning_rate=adaptive, max_iter=200, solver=sgd; total time=  10.3s\n"
     ]
    },
    {
     "name": "stderr",
     "output_type": "stream",
     "text": [
      "/Users/lalune/Library/Python/3.9/lib/python/site-packages/sklearn/neural_network/_multilayer_perceptron.py:691: ConvergenceWarning: Stochastic Optimizer: Maximum iterations (200) reached and the optimization hasn't converged yet.\n",
      "  warnings.warn(\n"
     ]
    },
    {
     "name": "stdout",
     "output_type": "stream",
     "text": [
      "[CV] END activation=tanh, hidden_layer_sizes=(100, 50), learning_rate=adaptive, max_iter=200, solver=sgd; total time=   9.2s\n"
     ]
    },
    {
     "name": "stderr",
     "output_type": "stream",
     "text": [
      "/Users/lalune/Library/Python/3.9/lib/python/site-packages/sklearn/neural_network/_multilayer_perceptron.py:691: ConvergenceWarning: Stochastic Optimizer: Maximum iterations (200) reached and the optimization hasn't converged yet.\n",
      "  warnings.warn(\n"
     ]
    },
    {
     "name": "stdout",
     "output_type": "stream",
     "text": [
      "[CV] END activation=tanh, hidden_layer_sizes=(100, 50), learning_rate=adaptive, max_iter=200, solver=sgd; total time=  10.2s\n"
     ]
    },
    {
     "name": "stderr",
     "output_type": "stream",
     "text": [
      "/Users/lalune/Library/Python/3.9/lib/python/site-packages/sklearn/neural_network/_multilayer_perceptron.py:691: ConvergenceWarning: Stochastic Optimizer: Maximum iterations (200) reached and the optimization hasn't converged yet.\n",
      "  warnings.warn(\n"
     ]
    },
    {
     "name": "stdout",
     "output_type": "stream",
     "text": [
      "[CV] END activation=tanh, hidden_layer_sizes=(100, 50), learning_rate=adaptive, max_iter=200, solver=sgd; total time=  10.2s\n"
     ]
    },
    {
     "name": "stderr",
     "output_type": "stream",
     "text": [
      "/Users/lalune/Library/Python/3.9/lib/python/site-packages/sklearn/neural_network/_multilayer_perceptron.py:691: ConvergenceWarning: Stochastic Optimizer: Maximum iterations (200) reached and the optimization hasn't converged yet.\n",
      "  warnings.warn(\n"
     ]
    },
    {
     "name": "stdout",
     "output_type": "stream",
     "text": [
      "[CV] END activation=tanh, hidden_layer_sizes=(100, 50), learning_rate=adaptive, max_iter=200, solver=sgd; total time=   9.8s\n",
      "[CV] END activation=tanh, hidden_layer_sizes=(100, 50), learning_rate=adaptive, max_iter=300, solver=adam; total time=   8.5s\n",
      "[CV] END activation=tanh, hidden_layer_sizes=(100, 50), learning_rate=adaptive, max_iter=300, solver=adam; total time=   8.6s\n",
      "[CV] END activation=tanh, hidden_layer_sizes=(100, 50), learning_rate=adaptive, max_iter=300, solver=adam; total time=   7.2s\n",
      "[CV] END activation=tanh, hidden_layer_sizes=(100, 50), learning_rate=adaptive, max_iter=300, solver=adam; total time=   8.8s\n",
      "[CV] END activation=tanh, hidden_layer_sizes=(100, 50), learning_rate=adaptive, max_iter=300, solver=adam; total time=   7.2s\n"
     ]
    },
    {
     "name": "stderr",
     "output_type": "stream",
     "text": [
      "/Users/lalune/Library/Python/3.9/lib/python/site-packages/sklearn/neural_network/_multilayer_perceptron.py:691: ConvergenceWarning: Stochastic Optimizer: Maximum iterations (300) reached and the optimization hasn't converged yet.\n",
      "  warnings.warn(\n"
     ]
    },
    {
     "name": "stdout",
     "output_type": "stream",
     "text": [
      "[CV] END activation=tanh, hidden_layer_sizes=(100, 50), learning_rate=adaptive, max_iter=300, solver=sgd; total time=  15.0s\n"
     ]
    },
    {
     "name": "stderr",
     "output_type": "stream",
     "text": [
      "/Users/lalune/Library/Python/3.9/lib/python/site-packages/sklearn/neural_network/_multilayer_perceptron.py:691: ConvergenceWarning: Stochastic Optimizer: Maximum iterations (300) reached and the optimization hasn't converged yet.\n",
      "  warnings.warn(\n"
     ]
    },
    {
     "name": "stdout",
     "output_type": "stream",
     "text": [
      "[CV] END activation=tanh, hidden_layer_sizes=(100, 50), learning_rate=adaptive, max_iter=300, solver=sgd; total time=  15.5s\n"
     ]
    },
    {
     "name": "stderr",
     "output_type": "stream",
     "text": [
      "/Users/lalune/Library/Python/3.9/lib/python/site-packages/sklearn/neural_network/_multilayer_perceptron.py:691: ConvergenceWarning: Stochastic Optimizer: Maximum iterations (300) reached and the optimization hasn't converged yet.\n",
      "  warnings.warn(\n"
     ]
    },
    {
     "name": "stdout",
     "output_type": "stream",
     "text": [
      "[CV] END activation=tanh, hidden_layer_sizes=(100, 50), learning_rate=adaptive, max_iter=300, solver=sgd; total time=  14.6s\n"
     ]
    },
    {
     "name": "stderr",
     "output_type": "stream",
     "text": [
      "/Users/lalune/Library/Python/3.9/lib/python/site-packages/sklearn/neural_network/_multilayer_perceptron.py:691: ConvergenceWarning: Stochastic Optimizer: Maximum iterations (300) reached and the optimization hasn't converged yet.\n",
      "  warnings.warn(\n"
     ]
    },
    {
     "name": "stdout",
     "output_type": "stream",
     "text": [
      "[CV] END activation=tanh, hidden_layer_sizes=(100, 50), learning_rate=adaptive, max_iter=300, solver=sgd; total time=  16.8s\n"
     ]
    },
    {
     "name": "stderr",
     "output_type": "stream",
     "text": [
      "/Users/lalune/Library/Python/3.9/lib/python/site-packages/sklearn/neural_network/_multilayer_perceptron.py:691: ConvergenceWarning: Stochastic Optimizer: Maximum iterations (300) reached and the optimization hasn't converged yet.\n",
      "  warnings.warn(\n"
     ]
    },
    {
     "name": "stdout",
     "output_type": "stream",
     "text": [
      "[CV] END activation=tanh, hidden_layer_sizes=(100, 50), learning_rate=adaptive, max_iter=300, solver=sgd; total time=  14.9s\n",
      "[CV] END activation=tanh, hidden_layer_sizes=(100, 50), learning_rate=adaptive, max_iter=500, solver=adam; total time=   9.0s\n",
      "[CV] END activation=tanh, hidden_layer_sizes=(100, 50), learning_rate=adaptive, max_iter=500, solver=adam; total time=   8.6s\n",
      "[CV] END activation=tanh, hidden_layer_sizes=(100, 50), learning_rate=adaptive, max_iter=500, solver=adam; total time=   6.7s\n",
      "[CV] END activation=tanh, hidden_layer_sizes=(100, 50), learning_rate=adaptive, max_iter=500, solver=adam; total time=   6.4s\n",
      "[CV] END activation=tanh, hidden_layer_sizes=(100, 50), learning_rate=adaptive, max_iter=500, solver=adam; total time=   7.9s\n"
     ]
    },
    {
     "name": "stderr",
     "output_type": "stream",
     "text": [
      "/Users/lalune/Library/Python/3.9/lib/python/site-packages/sklearn/neural_network/_multilayer_perceptron.py:691: ConvergenceWarning: Stochastic Optimizer: Maximum iterations (500) reached and the optimization hasn't converged yet.\n",
      "  warnings.warn(\n"
     ]
    },
    {
     "name": "stdout",
     "output_type": "stream",
     "text": [
      "[CV] END activation=tanh, hidden_layer_sizes=(100, 50), learning_rate=adaptive, max_iter=500, solver=sgd; total time=  24.8s\n"
     ]
    },
    {
     "name": "stderr",
     "output_type": "stream",
     "text": [
      "/Users/lalune/Library/Python/3.9/lib/python/site-packages/sklearn/neural_network/_multilayer_perceptron.py:691: ConvergenceWarning: Stochastic Optimizer: Maximum iterations (500) reached and the optimization hasn't converged yet.\n",
      "  warnings.warn(\n"
     ]
    },
    {
     "name": "stdout",
     "output_type": "stream",
     "text": [
      "[CV] END activation=tanh, hidden_layer_sizes=(100, 50), learning_rate=adaptive, max_iter=500, solver=sgd; total time=  25.5s\n"
     ]
    },
    {
     "name": "stderr",
     "output_type": "stream",
     "text": [
      "/Users/lalune/Library/Python/3.9/lib/python/site-packages/sklearn/neural_network/_multilayer_perceptron.py:691: ConvergenceWarning: Stochastic Optimizer: Maximum iterations (500) reached and the optimization hasn't converged yet.\n",
      "  warnings.warn(\n"
     ]
    },
    {
     "name": "stdout",
     "output_type": "stream",
     "text": [
      "[CV] END activation=tanh, hidden_layer_sizes=(100, 50), learning_rate=adaptive, max_iter=500, solver=sgd; total time=  25.5s\n"
     ]
    },
    {
     "name": "stderr",
     "output_type": "stream",
     "text": [
      "/Users/lalune/Library/Python/3.9/lib/python/site-packages/sklearn/neural_network/_multilayer_perceptron.py:691: ConvergenceWarning: Stochastic Optimizer: Maximum iterations (500) reached and the optimization hasn't converged yet.\n",
      "  warnings.warn(\n"
     ]
    },
    {
     "name": "stdout",
     "output_type": "stream",
     "text": [
      "[CV] END activation=tanh, hidden_layer_sizes=(100, 50), learning_rate=adaptive, max_iter=500, solver=sgd; total time=  26.8s\n"
     ]
    },
    {
     "name": "stderr",
     "output_type": "stream",
     "text": [
      "/Users/lalune/Library/Python/3.9/lib/python/site-packages/sklearn/neural_network/_multilayer_perceptron.py:691: ConvergenceWarning: Stochastic Optimizer: Maximum iterations (500) reached and the optimization hasn't converged yet.\n",
      "  warnings.warn(\n"
     ]
    },
    {
     "name": "stdout",
     "output_type": "stream",
     "text": [
      "[CV] END activation=tanh, hidden_layer_sizes=(100, 50), learning_rate=adaptive, max_iter=500, solver=sgd; total time=  25.0s\n"
     ]
    },
    {
     "name": "stderr",
     "output_type": "stream",
     "text": [
      "/Users/lalune/Library/Python/3.9/lib/python/site-packages/sklearn/neural_network/_multilayer_perceptron.py:691: ConvergenceWarning: Stochastic Optimizer: Maximum iterations (200) reached and the optimization hasn't converged yet.\n",
      "  warnings.warn(\n"
     ]
    },
    {
     "name": "stdout",
     "output_type": "stream",
     "text": [
      "[CV] END activation=logistic, hidden_layer_sizes=(50,), learning_rate=constant, max_iter=200, solver=adam; total time=   6.0s\n"
     ]
    },
    {
     "name": "stderr",
     "output_type": "stream",
     "text": [
      "/Users/lalune/Library/Python/3.9/lib/python/site-packages/sklearn/neural_network/_multilayer_perceptron.py:691: ConvergenceWarning: Stochastic Optimizer: Maximum iterations (200) reached and the optimization hasn't converged yet.\n",
      "  warnings.warn(\n"
     ]
    },
    {
     "name": "stdout",
     "output_type": "stream",
     "text": [
      "[CV] END activation=logistic, hidden_layer_sizes=(50,), learning_rate=constant, max_iter=200, solver=adam; total time=   5.0s\n"
     ]
    },
    {
     "name": "stderr",
     "output_type": "stream",
     "text": [
      "/Users/lalune/Library/Python/3.9/lib/python/site-packages/sklearn/neural_network/_multilayer_perceptron.py:691: ConvergenceWarning: Stochastic Optimizer: Maximum iterations (200) reached and the optimization hasn't converged yet.\n",
      "  warnings.warn(\n"
     ]
    },
    {
     "name": "stdout",
     "output_type": "stream",
     "text": [
      "[CV] END activation=logistic, hidden_layer_sizes=(50,), learning_rate=constant, max_iter=200, solver=adam; total time=   5.1s\n"
     ]
    },
    {
     "name": "stderr",
     "output_type": "stream",
     "text": [
      "/Users/lalune/Library/Python/3.9/lib/python/site-packages/sklearn/neural_network/_multilayer_perceptron.py:691: ConvergenceWarning: Stochastic Optimizer: Maximum iterations (200) reached and the optimization hasn't converged yet.\n",
      "  warnings.warn(\n"
     ]
    },
    {
     "name": "stdout",
     "output_type": "stream",
     "text": [
      "[CV] END activation=logistic, hidden_layer_sizes=(50,), learning_rate=constant, max_iter=200, solver=adam; total time=   4.9s\n"
     ]
    },
    {
     "name": "stderr",
     "output_type": "stream",
     "text": [
      "/Users/lalune/Library/Python/3.9/lib/python/site-packages/sklearn/neural_network/_multilayer_perceptron.py:691: ConvergenceWarning: Stochastic Optimizer: Maximum iterations (200) reached and the optimization hasn't converged yet.\n",
      "  warnings.warn(\n"
     ]
    },
    {
     "name": "stdout",
     "output_type": "stream",
     "text": [
      "[CV] END activation=logistic, hidden_layer_sizes=(50,), learning_rate=constant, max_iter=200, solver=adam; total time=   5.0s\n"
     ]
    },
    {
     "name": "stderr",
     "output_type": "stream",
     "text": [
      "/Users/lalune/Library/Python/3.9/lib/python/site-packages/sklearn/neural_network/_multilayer_perceptron.py:691: ConvergenceWarning: Stochastic Optimizer: Maximum iterations (200) reached and the optimization hasn't converged yet.\n",
      "  warnings.warn(\n"
     ]
    },
    {
     "name": "stdout",
     "output_type": "stream",
     "text": [
      "[CV] END activation=logistic, hidden_layer_sizes=(50,), learning_rate=constant, max_iter=200, solver=sgd; total time=   4.6s\n"
     ]
    },
    {
     "name": "stderr",
     "output_type": "stream",
     "text": [
      "/Users/lalune/Library/Python/3.9/lib/python/site-packages/sklearn/neural_network/_multilayer_perceptron.py:691: ConvergenceWarning: Stochastic Optimizer: Maximum iterations (200) reached and the optimization hasn't converged yet.\n",
      "  warnings.warn(\n"
     ]
    },
    {
     "name": "stdout",
     "output_type": "stream",
     "text": [
      "[CV] END activation=logistic, hidden_layer_sizes=(50,), learning_rate=constant, max_iter=200, solver=sgd; total time=   4.4s\n"
     ]
    },
    {
     "name": "stderr",
     "output_type": "stream",
     "text": [
      "/Users/lalune/Library/Python/3.9/lib/python/site-packages/sklearn/neural_network/_multilayer_perceptron.py:691: ConvergenceWarning: Stochastic Optimizer: Maximum iterations (200) reached and the optimization hasn't converged yet.\n",
      "  warnings.warn(\n"
     ]
    },
    {
     "name": "stdout",
     "output_type": "stream",
     "text": [
      "[CV] END activation=logistic, hidden_layer_sizes=(50,), learning_rate=constant, max_iter=200, solver=sgd; total time=   3.9s\n"
     ]
    },
    {
     "name": "stderr",
     "output_type": "stream",
     "text": [
      "/Users/lalune/Library/Python/3.9/lib/python/site-packages/sklearn/neural_network/_multilayer_perceptron.py:691: ConvergenceWarning: Stochastic Optimizer: Maximum iterations (200) reached and the optimization hasn't converged yet.\n",
      "  warnings.warn(\n"
     ]
    },
    {
     "name": "stdout",
     "output_type": "stream",
     "text": [
      "[CV] END activation=logistic, hidden_layer_sizes=(50,), learning_rate=constant, max_iter=200, solver=sgd; total time=   4.2s\n"
     ]
    },
    {
     "name": "stderr",
     "output_type": "stream",
     "text": [
      "/Users/lalune/Library/Python/3.9/lib/python/site-packages/sklearn/neural_network/_multilayer_perceptron.py:691: ConvergenceWarning: Stochastic Optimizer: Maximum iterations (200) reached and the optimization hasn't converged yet.\n",
      "  warnings.warn(\n"
     ]
    },
    {
     "name": "stdout",
     "output_type": "stream",
     "text": [
      "[CV] END activation=logistic, hidden_layer_sizes=(50,), learning_rate=constant, max_iter=200, solver=sgd; total time=   4.1s\n"
     ]
    },
    {
     "name": "stderr",
     "output_type": "stream",
     "text": [
      "/Users/lalune/Library/Python/3.9/lib/python/site-packages/sklearn/neural_network/_multilayer_perceptron.py:691: ConvergenceWarning: Stochastic Optimizer: Maximum iterations (300) reached and the optimization hasn't converged yet.\n",
      "  warnings.warn(\n"
     ]
    },
    {
     "name": "stdout",
     "output_type": "stream",
     "text": [
      "[CV] END activation=logistic, hidden_layer_sizes=(50,), learning_rate=constant, max_iter=300, solver=adam; total time=   7.4s\n"
     ]
    },
    {
     "name": "stderr",
     "output_type": "stream",
     "text": [
      "/Users/lalune/Library/Python/3.9/lib/python/site-packages/sklearn/neural_network/_multilayer_perceptron.py:691: ConvergenceWarning: Stochastic Optimizer: Maximum iterations (300) reached and the optimization hasn't converged yet.\n",
      "  warnings.warn(\n"
     ]
    },
    {
     "name": "stdout",
     "output_type": "stream",
     "text": [
      "[CV] END activation=logistic, hidden_layer_sizes=(50,), learning_rate=constant, max_iter=300, solver=adam; total time=   7.4s\n"
     ]
    },
    {
     "name": "stderr",
     "output_type": "stream",
     "text": [
      "/Users/lalune/Library/Python/3.9/lib/python/site-packages/sklearn/neural_network/_multilayer_perceptron.py:691: ConvergenceWarning: Stochastic Optimizer: Maximum iterations (300) reached and the optimization hasn't converged yet.\n",
      "  warnings.warn(\n"
     ]
    },
    {
     "name": "stdout",
     "output_type": "stream",
     "text": [
      "[CV] END activation=logistic, hidden_layer_sizes=(50,), learning_rate=constant, max_iter=300, solver=adam; total time=   8.5s\n"
     ]
    },
    {
     "name": "stderr",
     "output_type": "stream",
     "text": [
      "/Users/lalune/Library/Python/3.9/lib/python/site-packages/sklearn/neural_network/_multilayer_perceptron.py:691: ConvergenceWarning: Stochastic Optimizer: Maximum iterations (300) reached and the optimization hasn't converged yet.\n",
      "  warnings.warn(\n"
     ]
    },
    {
     "name": "stdout",
     "output_type": "stream",
     "text": [
      "[CV] END activation=logistic, hidden_layer_sizes=(50,), learning_rate=constant, max_iter=300, solver=adam; total time=   7.1s\n"
     ]
    },
    {
     "name": "stderr",
     "output_type": "stream",
     "text": [
      "/Users/lalune/Library/Python/3.9/lib/python/site-packages/sklearn/neural_network/_multilayer_perceptron.py:691: ConvergenceWarning: Stochastic Optimizer: Maximum iterations (300) reached and the optimization hasn't converged yet.\n",
      "  warnings.warn(\n"
     ]
    },
    {
     "name": "stdout",
     "output_type": "stream",
     "text": [
      "[CV] END activation=logistic, hidden_layer_sizes=(50,), learning_rate=constant, max_iter=300, solver=adam; total time=   7.0s\n"
     ]
    },
    {
     "name": "stderr",
     "output_type": "stream",
     "text": [
      "/Users/lalune/Library/Python/3.9/lib/python/site-packages/sklearn/neural_network/_multilayer_perceptron.py:691: ConvergenceWarning: Stochastic Optimizer: Maximum iterations (300) reached and the optimization hasn't converged yet.\n",
      "  warnings.warn(\n"
     ]
    },
    {
     "name": "stdout",
     "output_type": "stream",
     "text": [
      "[CV] END activation=logistic, hidden_layer_sizes=(50,), learning_rate=constant, max_iter=300, solver=sgd; total time=   6.3s\n"
     ]
    },
    {
     "name": "stderr",
     "output_type": "stream",
     "text": [
      "/Users/lalune/Library/Python/3.9/lib/python/site-packages/sklearn/neural_network/_multilayer_perceptron.py:691: ConvergenceWarning: Stochastic Optimizer: Maximum iterations (300) reached and the optimization hasn't converged yet.\n",
      "  warnings.warn(\n"
     ]
    },
    {
     "name": "stdout",
     "output_type": "stream",
     "text": [
      "[CV] END activation=logistic, hidden_layer_sizes=(50,), learning_rate=constant, max_iter=300, solver=sgd; total time=   6.1s\n"
     ]
    },
    {
     "name": "stderr",
     "output_type": "stream",
     "text": [
      "/Users/lalune/Library/Python/3.9/lib/python/site-packages/sklearn/neural_network/_multilayer_perceptron.py:691: ConvergenceWarning: Stochastic Optimizer: Maximum iterations (300) reached and the optimization hasn't converged yet.\n",
      "  warnings.warn(\n"
     ]
    },
    {
     "name": "stdout",
     "output_type": "stream",
     "text": [
      "[CV] END activation=logistic, hidden_layer_sizes=(50,), learning_rate=constant, max_iter=300, solver=sgd; total time=   6.3s\n"
     ]
    },
    {
     "name": "stderr",
     "output_type": "stream",
     "text": [
      "/Users/lalune/Library/Python/3.9/lib/python/site-packages/sklearn/neural_network/_multilayer_perceptron.py:691: ConvergenceWarning: Stochastic Optimizer: Maximum iterations (300) reached and the optimization hasn't converged yet.\n",
      "  warnings.warn(\n"
     ]
    },
    {
     "name": "stdout",
     "output_type": "stream",
     "text": [
      "[CV] END activation=logistic, hidden_layer_sizes=(50,), learning_rate=constant, max_iter=300, solver=sgd; total time=   6.3s\n"
     ]
    },
    {
     "name": "stderr",
     "output_type": "stream",
     "text": [
      "/Users/lalune/Library/Python/3.9/lib/python/site-packages/sklearn/neural_network/_multilayer_perceptron.py:691: ConvergenceWarning: Stochastic Optimizer: Maximum iterations (300) reached and the optimization hasn't converged yet.\n",
      "  warnings.warn(\n"
     ]
    },
    {
     "name": "stdout",
     "output_type": "stream",
     "text": [
      "[CV] END activation=logistic, hidden_layer_sizes=(50,), learning_rate=constant, max_iter=300, solver=sgd; total time=   6.2s\n",
      "[CV] END activation=logistic, hidden_layer_sizes=(50,), learning_rate=constant, max_iter=500, solver=adam; total time=   7.9s\n",
      "[CV] END activation=logistic, hidden_layer_sizes=(50,), learning_rate=constant, max_iter=500, solver=adam; total time=  11.3s\n",
      "[CV] END activation=logistic, hidden_layer_sizes=(50,), learning_rate=constant, max_iter=500, solver=adam; total time=  10.0s\n",
      "[CV] END activation=logistic, hidden_layer_sizes=(50,), learning_rate=constant, max_iter=500, solver=adam; total time=   9.8s\n",
      "[CV] END activation=logistic, hidden_layer_sizes=(50,), learning_rate=constant, max_iter=500, solver=adam; total time=   8.7s\n"
     ]
    },
    {
     "name": "stderr",
     "output_type": "stream",
     "text": [
      "/Users/lalune/Library/Python/3.9/lib/python/site-packages/sklearn/neural_network/_multilayer_perceptron.py:691: ConvergenceWarning: Stochastic Optimizer: Maximum iterations (500) reached and the optimization hasn't converged yet.\n",
      "  warnings.warn(\n"
     ]
    },
    {
     "name": "stdout",
     "output_type": "stream",
     "text": [
      "[CV] END activation=logistic, hidden_layer_sizes=(50,), learning_rate=constant, max_iter=500, solver=sgd; total time=  10.8s\n"
     ]
    },
    {
     "name": "stderr",
     "output_type": "stream",
     "text": [
      "/Users/lalune/Library/Python/3.9/lib/python/site-packages/sklearn/neural_network/_multilayer_perceptron.py:691: ConvergenceWarning: Stochastic Optimizer: Maximum iterations (500) reached and the optimization hasn't converged yet.\n",
      "  warnings.warn(\n"
     ]
    },
    {
     "name": "stdout",
     "output_type": "stream",
     "text": [
      "[CV] END activation=logistic, hidden_layer_sizes=(50,), learning_rate=constant, max_iter=500, solver=sgd; total time=  11.0s\n"
     ]
    },
    {
     "name": "stderr",
     "output_type": "stream",
     "text": [
      "/Users/lalune/Library/Python/3.9/lib/python/site-packages/sklearn/neural_network/_multilayer_perceptron.py:691: ConvergenceWarning: Stochastic Optimizer: Maximum iterations (500) reached and the optimization hasn't converged yet.\n",
      "  warnings.warn(\n"
     ]
    },
    {
     "name": "stdout",
     "output_type": "stream",
     "text": [
      "[CV] END activation=logistic, hidden_layer_sizes=(50,), learning_rate=constant, max_iter=500, solver=sgd; total time=  11.8s\n"
     ]
    },
    {
     "name": "stderr",
     "output_type": "stream",
     "text": [
      "/Users/lalune/Library/Python/3.9/lib/python/site-packages/sklearn/neural_network/_multilayer_perceptron.py:691: ConvergenceWarning: Stochastic Optimizer: Maximum iterations (500) reached and the optimization hasn't converged yet.\n",
      "  warnings.warn(\n"
     ]
    },
    {
     "name": "stdout",
     "output_type": "stream",
     "text": [
      "[CV] END activation=logistic, hidden_layer_sizes=(50,), learning_rate=constant, max_iter=500, solver=sgd; total time=  10.6s\n"
     ]
    },
    {
     "name": "stderr",
     "output_type": "stream",
     "text": [
      "/Users/lalune/Library/Python/3.9/lib/python/site-packages/sklearn/neural_network/_multilayer_perceptron.py:691: ConvergenceWarning: Stochastic Optimizer: Maximum iterations (500) reached and the optimization hasn't converged yet.\n",
      "  warnings.warn(\n"
     ]
    },
    {
     "name": "stdout",
     "output_type": "stream",
     "text": [
      "[CV] END activation=logistic, hidden_layer_sizes=(50,), learning_rate=constant, max_iter=500, solver=sgd; total time=  10.3s\n"
     ]
    },
    {
     "name": "stderr",
     "output_type": "stream",
     "text": [
      "/Users/lalune/Library/Python/3.9/lib/python/site-packages/sklearn/neural_network/_multilayer_perceptron.py:691: ConvergenceWarning: Stochastic Optimizer: Maximum iterations (200) reached and the optimization hasn't converged yet.\n",
      "  warnings.warn(\n"
     ]
    },
    {
     "name": "stdout",
     "output_type": "stream",
     "text": [
      "[CV] END activation=logistic, hidden_layer_sizes=(50,), learning_rate=adaptive, max_iter=200, solver=adam; total time=   4.5s\n"
     ]
    },
    {
     "name": "stderr",
     "output_type": "stream",
     "text": [
      "/Users/lalune/Library/Python/3.9/lib/python/site-packages/sklearn/neural_network/_multilayer_perceptron.py:691: ConvergenceWarning: Stochastic Optimizer: Maximum iterations (200) reached and the optimization hasn't converged yet.\n",
      "  warnings.warn(\n"
     ]
    },
    {
     "name": "stdout",
     "output_type": "stream",
     "text": [
      "[CV] END activation=logistic, hidden_layer_sizes=(50,), learning_rate=adaptive, max_iter=200, solver=adam; total time=   4.5s\n"
     ]
    },
    {
     "name": "stderr",
     "output_type": "stream",
     "text": [
      "/Users/lalune/Library/Python/3.9/lib/python/site-packages/sklearn/neural_network/_multilayer_perceptron.py:691: ConvergenceWarning: Stochastic Optimizer: Maximum iterations (200) reached and the optimization hasn't converged yet.\n",
      "  warnings.warn(\n"
     ]
    },
    {
     "name": "stdout",
     "output_type": "stream",
     "text": [
      "[CV] END activation=logistic, hidden_layer_sizes=(50,), learning_rate=adaptive, max_iter=200, solver=adam; total time=   4.8s\n"
     ]
    },
    {
     "name": "stderr",
     "output_type": "stream",
     "text": [
      "/Users/lalune/Library/Python/3.9/lib/python/site-packages/sklearn/neural_network/_multilayer_perceptron.py:691: ConvergenceWarning: Stochastic Optimizer: Maximum iterations (200) reached and the optimization hasn't converged yet.\n",
      "  warnings.warn(\n"
     ]
    },
    {
     "name": "stdout",
     "output_type": "stream",
     "text": [
      "[CV] END activation=logistic, hidden_layer_sizes=(50,), learning_rate=adaptive, max_iter=200, solver=adam; total time=   4.6s\n"
     ]
    },
    {
     "name": "stderr",
     "output_type": "stream",
     "text": [
      "/Users/lalune/Library/Python/3.9/lib/python/site-packages/sklearn/neural_network/_multilayer_perceptron.py:691: ConvergenceWarning: Stochastic Optimizer: Maximum iterations (200) reached and the optimization hasn't converged yet.\n",
      "  warnings.warn(\n"
     ]
    },
    {
     "name": "stdout",
     "output_type": "stream",
     "text": [
      "[CV] END activation=logistic, hidden_layer_sizes=(50,), learning_rate=adaptive, max_iter=200, solver=adam; total time=   5.3s\n"
     ]
    },
    {
     "name": "stderr",
     "output_type": "stream",
     "text": [
      "/Users/lalune/Library/Python/3.9/lib/python/site-packages/sklearn/neural_network/_multilayer_perceptron.py:691: ConvergenceWarning: Stochastic Optimizer: Maximum iterations (200) reached and the optimization hasn't converged yet.\n",
      "  warnings.warn(\n"
     ]
    },
    {
     "name": "stdout",
     "output_type": "stream",
     "text": [
      "[CV] END activation=logistic, hidden_layer_sizes=(50,), learning_rate=adaptive, max_iter=200, solver=sgd; total time=   4.4s\n"
     ]
    },
    {
     "name": "stderr",
     "output_type": "stream",
     "text": [
      "/Users/lalune/Library/Python/3.9/lib/python/site-packages/sklearn/neural_network/_multilayer_perceptron.py:691: ConvergenceWarning: Stochastic Optimizer: Maximum iterations (200) reached and the optimization hasn't converged yet.\n",
      "  warnings.warn(\n"
     ]
    },
    {
     "name": "stdout",
     "output_type": "stream",
     "text": [
      "[CV] END activation=logistic, hidden_layer_sizes=(50,), learning_rate=adaptive, max_iter=200, solver=sgd; total time=   4.3s\n"
     ]
    },
    {
     "name": "stderr",
     "output_type": "stream",
     "text": [
      "/Users/lalune/Library/Python/3.9/lib/python/site-packages/sklearn/neural_network/_multilayer_perceptron.py:691: ConvergenceWarning: Stochastic Optimizer: Maximum iterations (200) reached and the optimization hasn't converged yet.\n",
      "  warnings.warn(\n"
     ]
    },
    {
     "name": "stdout",
     "output_type": "stream",
     "text": [
      "[CV] END activation=logistic, hidden_layer_sizes=(50,), learning_rate=adaptive, max_iter=200, solver=sgd; total time=   6.2s\n"
     ]
    },
    {
     "name": "stderr",
     "output_type": "stream",
     "text": [
      "/Users/lalune/Library/Python/3.9/lib/python/site-packages/sklearn/neural_network/_multilayer_perceptron.py:691: ConvergenceWarning: Stochastic Optimizer: Maximum iterations (200) reached and the optimization hasn't converged yet.\n",
      "  warnings.warn(\n"
     ]
    },
    {
     "name": "stdout",
     "output_type": "stream",
     "text": [
      "[CV] END activation=logistic, hidden_layer_sizes=(50,), learning_rate=adaptive, max_iter=200, solver=sgd; total time=   4.9s\n"
     ]
    },
    {
     "name": "stderr",
     "output_type": "stream",
     "text": [
      "/Users/lalune/Library/Python/3.9/lib/python/site-packages/sklearn/neural_network/_multilayer_perceptron.py:691: ConvergenceWarning: Stochastic Optimizer: Maximum iterations (200) reached and the optimization hasn't converged yet.\n",
      "  warnings.warn(\n"
     ]
    },
    {
     "name": "stdout",
     "output_type": "stream",
     "text": [
      "[CV] END activation=logistic, hidden_layer_sizes=(50,), learning_rate=adaptive, max_iter=200, solver=sgd; total time=   4.5s\n"
     ]
    },
    {
     "name": "stderr",
     "output_type": "stream",
     "text": [
      "/Users/lalune/Library/Python/3.9/lib/python/site-packages/sklearn/neural_network/_multilayer_perceptron.py:691: ConvergenceWarning: Stochastic Optimizer: Maximum iterations (300) reached and the optimization hasn't converged yet.\n",
      "  warnings.warn(\n"
     ]
    },
    {
     "name": "stdout",
     "output_type": "stream",
     "text": [
      "[CV] END activation=logistic, hidden_layer_sizes=(50,), learning_rate=adaptive, max_iter=300, solver=adam; total time=   7.7s\n"
     ]
    },
    {
     "name": "stderr",
     "output_type": "stream",
     "text": [
      "/Users/lalune/Library/Python/3.9/lib/python/site-packages/sklearn/neural_network/_multilayer_perceptron.py:691: ConvergenceWarning: Stochastic Optimizer: Maximum iterations (300) reached and the optimization hasn't converged yet.\n",
      "  warnings.warn(\n"
     ]
    },
    {
     "name": "stdout",
     "output_type": "stream",
     "text": [
      "[CV] END activation=logistic, hidden_layer_sizes=(50,), learning_rate=adaptive, max_iter=300, solver=adam; total time=   7.2s\n"
     ]
    },
    {
     "name": "stderr",
     "output_type": "stream",
     "text": [
      "/Users/lalune/Library/Python/3.9/lib/python/site-packages/sklearn/neural_network/_multilayer_perceptron.py:691: ConvergenceWarning: Stochastic Optimizer: Maximum iterations (300) reached and the optimization hasn't converged yet.\n",
      "  warnings.warn(\n"
     ]
    },
    {
     "name": "stdout",
     "output_type": "stream",
     "text": [
      "[CV] END activation=logistic, hidden_layer_sizes=(50,), learning_rate=adaptive, max_iter=300, solver=adam; total time=   7.8s\n"
     ]
    },
    {
     "name": "stderr",
     "output_type": "stream",
     "text": [
      "/Users/lalune/Library/Python/3.9/lib/python/site-packages/sklearn/neural_network/_multilayer_perceptron.py:691: ConvergenceWarning: Stochastic Optimizer: Maximum iterations (300) reached and the optimization hasn't converged yet.\n",
      "  warnings.warn(\n"
     ]
    },
    {
     "name": "stdout",
     "output_type": "stream",
     "text": [
      "[CV] END activation=logistic, hidden_layer_sizes=(50,), learning_rate=adaptive, max_iter=300, solver=adam; total time=   7.4s\n"
     ]
    },
    {
     "name": "stderr",
     "output_type": "stream",
     "text": [
      "/Users/lalune/Library/Python/3.9/lib/python/site-packages/sklearn/neural_network/_multilayer_perceptron.py:691: ConvergenceWarning: Stochastic Optimizer: Maximum iterations (300) reached and the optimization hasn't converged yet.\n",
      "  warnings.warn(\n"
     ]
    },
    {
     "name": "stdout",
     "output_type": "stream",
     "text": [
      "[CV] END activation=logistic, hidden_layer_sizes=(50,), learning_rate=adaptive, max_iter=300, solver=adam; total time=   7.3s\n"
     ]
    },
    {
     "name": "stderr",
     "output_type": "stream",
     "text": [
      "/Users/lalune/Library/Python/3.9/lib/python/site-packages/sklearn/neural_network/_multilayer_perceptron.py:691: ConvergenceWarning: Stochastic Optimizer: Maximum iterations (300) reached and the optimization hasn't converged yet.\n",
      "  warnings.warn(\n"
     ]
    },
    {
     "name": "stdout",
     "output_type": "stream",
     "text": [
      "[CV] END activation=logistic, hidden_layer_sizes=(50,), learning_rate=adaptive, max_iter=300, solver=sgd; total time=   6.4s\n"
     ]
    },
    {
     "name": "stderr",
     "output_type": "stream",
     "text": [
      "/Users/lalune/Library/Python/3.9/lib/python/site-packages/sklearn/neural_network/_multilayer_perceptron.py:691: ConvergenceWarning: Stochastic Optimizer: Maximum iterations (300) reached and the optimization hasn't converged yet.\n",
      "  warnings.warn(\n"
     ]
    },
    {
     "name": "stdout",
     "output_type": "stream",
     "text": [
      "[CV] END activation=logistic, hidden_layer_sizes=(50,), learning_rate=adaptive, max_iter=300, solver=sgd; total time=   8.5s\n"
     ]
    },
    {
     "name": "stderr",
     "output_type": "stream",
     "text": [
      "/Users/lalune/Library/Python/3.9/lib/python/site-packages/sklearn/neural_network/_multilayer_perceptron.py:691: ConvergenceWarning: Stochastic Optimizer: Maximum iterations (300) reached and the optimization hasn't converged yet.\n",
      "  warnings.warn(\n"
     ]
    },
    {
     "name": "stdout",
     "output_type": "stream",
     "text": [
      "[CV] END activation=logistic, hidden_layer_sizes=(50,), learning_rate=adaptive, max_iter=300, solver=sgd; total time=   7.2s\n"
     ]
    },
    {
     "name": "stderr",
     "output_type": "stream",
     "text": [
      "/Users/lalune/Library/Python/3.9/lib/python/site-packages/sklearn/neural_network/_multilayer_perceptron.py:691: ConvergenceWarning: Stochastic Optimizer: Maximum iterations (300) reached and the optimization hasn't converged yet.\n",
      "  warnings.warn(\n"
     ]
    },
    {
     "name": "stdout",
     "output_type": "stream",
     "text": [
      "[CV] END activation=logistic, hidden_layer_sizes=(50,), learning_rate=adaptive, max_iter=300, solver=sgd; total time=   7.0s\n"
     ]
    },
    {
     "name": "stderr",
     "output_type": "stream",
     "text": [
      "/Users/lalune/Library/Python/3.9/lib/python/site-packages/sklearn/neural_network/_multilayer_perceptron.py:691: ConvergenceWarning: Stochastic Optimizer: Maximum iterations (300) reached and the optimization hasn't converged yet.\n",
      "  warnings.warn(\n"
     ]
    },
    {
     "name": "stdout",
     "output_type": "stream",
     "text": [
      "[CV] END activation=logistic, hidden_layer_sizes=(50,), learning_rate=adaptive, max_iter=300, solver=sgd; total time=   6.7s\n",
      "[CV] END activation=logistic, hidden_layer_sizes=(50,), learning_rate=adaptive, max_iter=500, solver=adam; total time=   8.4s\n",
      "[CV] END activation=logistic, hidden_layer_sizes=(50,), learning_rate=adaptive, max_iter=500, solver=adam; total time=   9.7s\n",
      "[CV] END activation=logistic, hidden_layer_sizes=(50,), learning_rate=adaptive, max_iter=500, solver=adam; total time=  10.4s\n",
      "[CV] END activation=logistic, hidden_layer_sizes=(50,), learning_rate=adaptive, max_iter=500, solver=adam; total time=  10.7s\n",
      "[CV] END activation=logistic, hidden_layer_sizes=(50,), learning_rate=adaptive, max_iter=500, solver=adam; total time=  10.3s\n"
     ]
    },
    {
     "name": "stderr",
     "output_type": "stream",
     "text": [
      "/Users/lalune/Library/Python/3.9/lib/python/site-packages/sklearn/neural_network/_multilayer_perceptron.py:691: ConvergenceWarning: Stochastic Optimizer: Maximum iterations (500) reached and the optimization hasn't converged yet.\n",
      "  warnings.warn(\n"
     ]
    },
    {
     "name": "stdout",
     "output_type": "stream",
     "text": [
      "[CV] END activation=logistic, hidden_layer_sizes=(50,), learning_rate=adaptive, max_iter=500, solver=sgd; total time=  10.7s\n"
     ]
    },
    {
     "name": "stderr",
     "output_type": "stream",
     "text": [
      "/Users/lalune/Library/Python/3.9/lib/python/site-packages/sklearn/neural_network/_multilayer_perceptron.py:691: ConvergenceWarning: Stochastic Optimizer: Maximum iterations (500) reached and the optimization hasn't converged yet.\n",
      "  warnings.warn(\n"
     ]
    },
    {
     "name": "stdout",
     "output_type": "stream",
     "text": [
      "[CV] END activation=logistic, hidden_layer_sizes=(50,), learning_rate=adaptive, max_iter=500, solver=sgd; total time=  10.2s\n"
     ]
    },
    {
     "name": "stderr",
     "output_type": "stream",
     "text": [
      "/Users/lalune/Library/Python/3.9/lib/python/site-packages/sklearn/neural_network/_multilayer_perceptron.py:691: ConvergenceWarning: Stochastic Optimizer: Maximum iterations (500) reached and the optimization hasn't converged yet.\n",
      "  warnings.warn(\n"
     ]
    },
    {
     "name": "stdout",
     "output_type": "stream",
     "text": [
      "[CV] END activation=logistic, hidden_layer_sizes=(50,), learning_rate=adaptive, max_iter=500, solver=sgd; total time=  11.1s\n"
     ]
    },
    {
     "name": "stderr",
     "output_type": "stream",
     "text": [
      "/Users/lalune/Library/Python/3.9/lib/python/site-packages/sklearn/neural_network/_multilayer_perceptron.py:691: ConvergenceWarning: Stochastic Optimizer: Maximum iterations (500) reached and the optimization hasn't converged yet.\n",
      "  warnings.warn(\n"
     ]
    },
    {
     "name": "stdout",
     "output_type": "stream",
     "text": [
      "[CV] END activation=logistic, hidden_layer_sizes=(50,), learning_rate=adaptive, max_iter=500, solver=sgd; total time=  10.6s\n"
     ]
    },
    {
     "name": "stderr",
     "output_type": "stream",
     "text": [
      "/Users/lalune/Library/Python/3.9/lib/python/site-packages/sklearn/neural_network/_multilayer_perceptron.py:691: ConvergenceWarning: Stochastic Optimizer: Maximum iterations (500) reached and the optimization hasn't converged yet.\n",
      "  warnings.warn(\n"
     ]
    },
    {
     "name": "stdout",
     "output_type": "stream",
     "text": [
      "[CV] END activation=logistic, hidden_layer_sizes=(50,), learning_rate=adaptive, max_iter=500, solver=sgd; total time=  12.8s\n"
     ]
    },
    {
     "name": "stderr",
     "output_type": "stream",
     "text": [
      "/Users/lalune/Library/Python/3.9/lib/python/site-packages/sklearn/neural_network/_multilayer_perceptron.py:691: ConvergenceWarning: Stochastic Optimizer: Maximum iterations (200) reached and the optimization hasn't converged yet.\n",
      "  warnings.warn(\n"
     ]
    },
    {
     "name": "stdout",
     "output_type": "stream",
     "text": [
      "[CV] END activation=logistic, hidden_layer_sizes=(100,), learning_rate=constant, max_iter=200, solver=adam; total time=   7.0s\n"
     ]
    },
    {
     "name": "stderr",
     "output_type": "stream",
     "text": [
      "/Users/lalune/Library/Python/3.9/lib/python/site-packages/sklearn/neural_network/_multilayer_perceptron.py:691: ConvergenceWarning: Stochastic Optimizer: Maximum iterations (200) reached and the optimization hasn't converged yet.\n",
      "  warnings.warn(\n"
     ]
    },
    {
     "name": "stdout",
     "output_type": "stream",
     "text": [
      "[CV] END activation=logistic, hidden_layer_sizes=(100,), learning_rate=constant, max_iter=200, solver=adam; total time=   6.5s\n"
     ]
    },
    {
     "name": "stderr",
     "output_type": "stream",
     "text": [
      "/Users/lalune/Library/Python/3.9/lib/python/site-packages/sklearn/neural_network/_multilayer_perceptron.py:691: ConvergenceWarning: Stochastic Optimizer: Maximum iterations (200) reached and the optimization hasn't converged yet.\n",
      "  warnings.warn(\n"
     ]
    },
    {
     "name": "stdout",
     "output_type": "stream",
     "text": [
      "[CV] END activation=logistic, hidden_layer_sizes=(100,), learning_rate=constant, max_iter=200, solver=adam; total time=   6.7s\n"
     ]
    },
    {
     "name": "stderr",
     "output_type": "stream",
     "text": [
      "/Users/lalune/Library/Python/3.9/lib/python/site-packages/sklearn/neural_network/_multilayer_perceptron.py:691: ConvergenceWarning: Stochastic Optimizer: Maximum iterations (200) reached and the optimization hasn't converged yet.\n",
      "  warnings.warn(\n"
     ]
    },
    {
     "name": "stdout",
     "output_type": "stream",
     "text": [
      "[CV] END activation=logistic, hidden_layer_sizes=(100,), learning_rate=constant, max_iter=200, solver=adam; total time=   6.7s\n"
     ]
    },
    {
     "name": "stderr",
     "output_type": "stream",
     "text": [
      "/Users/lalune/Library/Python/3.9/lib/python/site-packages/sklearn/neural_network/_multilayer_perceptron.py:691: ConvergenceWarning: Stochastic Optimizer: Maximum iterations (200) reached and the optimization hasn't converged yet.\n",
      "  warnings.warn(\n"
     ]
    },
    {
     "name": "stdout",
     "output_type": "stream",
     "text": [
      "[CV] END activation=logistic, hidden_layer_sizes=(100,), learning_rate=constant, max_iter=200, solver=adam; total time=   6.8s\n"
     ]
    },
    {
     "name": "stderr",
     "output_type": "stream",
     "text": [
      "/Users/lalune/Library/Python/3.9/lib/python/site-packages/sklearn/neural_network/_multilayer_perceptron.py:691: ConvergenceWarning: Stochastic Optimizer: Maximum iterations (200) reached and the optimization hasn't converged yet.\n",
      "  warnings.warn(\n"
     ]
    },
    {
     "name": "stdout",
     "output_type": "stream",
     "text": [
      "[CV] END activation=logistic, hidden_layer_sizes=(100,), learning_rate=constant, max_iter=200, solver=sgd; total time=   5.8s\n"
     ]
    },
    {
     "name": "stderr",
     "output_type": "stream",
     "text": [
      "/Users/lalune/Library/Python/3.9/lib/python/site-packages/sklearn/neural_network/_multilayer_perceptron.py:691: ConvergenceWarning: Stochastic Optimizer: Maximum iterations (200) reached and the optimization hasn't converged yet.\n",
      "  warnings.warn(\n"
     ]
    },
    {
     "name": "stdout",
     "output_type": "stream",
     "text": [
      "[CV] END activation=logistic, hidden_layer_sizes=(100,), learning_rate=constant, max_iter=200, solver=sgd; total time=   6.0s\n"
     ]
    },
    {
     "name": "stderr",
     "output_type": "stream",
     "text": [
      "/Users/lalune/Library/Python/3.9/lib/python/site-packages/sklearn/neural_network/_multilayer_perceptron.py:691: ConvergenceWarning: Stochastic Optimizer: Maximum iterations (200) reached and the optimization hasn't converged yet.\n",
      "  warnings.warn(\n"
     ]
    },
    {
     "name": "stdout",
     "output_type": "stream",
     "text": [
      "[CV] END activation=logistic, hidden_layer_sizes=(100,), learning_rate=constant, max_iter=200, solver=sgd; total time=   5.9s\n"
     ]
    },
    {
     "name": "stderr",
     "output_type": "stream",
     "text": [
      "/Users/lalune/Library/Python/3.9/lib/python/site-packages/sklearn/neural_network/_multilayer_perceptron.py:691: ConvergenceWarning: Stochastic Optimizer: Maximum iterations (200) reached and the optimization hasn't converged yet.\n",
      "  warnings.warn(\n"
     ]
    },
    {
     "name": "stdout",
     "output_type": "stream",
     "text": [
      "[CV] END activation=logistic, hidden_layer_sizes=(100,), learning_rate=constant, max_iter=200, solver=sgd; total time=   6.5s\n"
     ]
    },
    {
     "name": "stderr",
     "output_type": "stream",
     "text": [
      "/Users/lalune/Library/Python/3.9/lib/python/site-packages/sklearn/neural_network/_multilayer_perceptron.py:691: ConvergenceWarning: Stochastic Optimizer: Maximum iterations (200) reached and the optimization hasn't converged yet.\n",
      "  warnings.warn(\n"
     ]
    },
    {
     "name": "stdout",
     "output_type": "stream",
     "text": [
      "[CV] END activation=logistic, hidden_layer_sizes=(100,), learning_rate=constant, max_iter=200, solver=sgd; total time=   6.5s\n"
     ]
    },
    {
     "name": "stderr",
     "output_type": "stream",
     "text": [
      "/Users/lalune/Library/Python/3.9/lib/python/site-packages/sklearn/neural_network/_multilayer_perceptron.py:691: ConvergenceWarning: Stochastic Optimizer: Maximum iterations (300) reached and the optimization hasn't converged yet.\n",
      "  warnings.warn(\n"
     ]
    },
    {
     "name": "stdout",
     "output_type": "stream",
     "text": [
      "[CV] END activation=logistic, hidden_layer_sizes=(100,), learning_rate=constant, max_iter=300, solver=adam; total time=   9.7s\n"
     ]
    },
    {
     "name": "stderr",
     "output_type": "stream",
     "text": [
      "/Users/lalune/Library/Python/3.9/lib/python/site-packages/sklearn/neural_network/_multilayer_perceptron.py:691: ConvergenceWarning: Stochastic Optimizer: Maximum iterations (300) reached and the optimization hasn't converged yet.\n",
      "  warnings.warn(\n"
     ]
    },
    {
     "name": "stdout",
     "output_type": "stream",
     "text": [
      "[CV] END activation=logistic, hidden_layer_sizes=(100,), learning_rate=constant, max_iter=300, solver=adam; total time=  10.9s\n"
     ]
    },
    {
     "name": "stderr",
     "output_type": "stream",
     "text": [
      "/Users/lalune/Library/Python/3.9/lib/python/site-packages/sklearn/neural_network/_multilayer_perceptron.py:691: ConvergenceWarning: Stochastic Optimizer: Maximum iterations (300) reached and the optimization hasn't converged yet.\n",
      "  warnings.warn(\n"
     ]
    },
    {
     "name": "stdout",
     "output_type": "stream",
     "text": [
      "[CV] END activation=logistic, hidden_layer_sizes=(100,), learning_rate=constant, max_iter=300, solver=adam; total time=   9.9s\n"
     ]
    },
    {
     "name": "stderr",
     "output_type": "stream",
     "text": [
      "/Users/lalune/Library/Python/3.9/lib/python/site-packages/sklearn/neural_network/_multilayer_perceptron.py:691: ConvergenceWarning: Stochastic Optimizer: Maximum iterations (300) reached and the optimization hasn't converged yet.\n",
      "  warnings.warn(\n"
     ]
    },
    {
     "name": "stdout",
     "output_type": "stream",
     "text": [
      "[CV] END activation=logistic, hidden_layer_sizes=(100,), learning_rate=constant, max_iter=300, solver=adam; total time=  10.2s\n"
     ]
    },
    {
     "name": "stderr",
     "output_type": "stream",
     "text": [
      "/Users/lalune/Library/Python/3.9/lib/python/site-packages/sklearn/neural_network/_multilayer_perceptron.py:691: ConvergenceWarning: Stochastic Optimizer: Maximum iterations (300) reached and the optimization hasn't converged yet.\n",
      "  warnings.warn(\n"
     ]
    },
    {
     "name": "stdout",
     "output_type": "stream",
     "text": [
      "[CV] END activation=logistic, hidden_layer_sizes=(100,), learning_rate=constant, max_iter=300, solver=adam; total time=  10.6s\n"
     ]
    },
    {
     "name": "stderr",
     "output_type": "stream",
     "text": [
      "/Users/lalune/Library/Python/3.9/lib/python/site-packages/sklearn/neural_network/_multilayer_perceptron.py:691: ConvergenceWarning: Stochastic Optimizer: Maximum iterations (300) reached and the optimization hasn't converged yet.\n",
      "  warnings.warn(\n"
     ]
    },
    {
     "name": "stdout",
     "output_type": "stream",
     "text": [
      "[CV] END activation=logistic, hidden_layer_sizes=(100,), learning_rate=constant, max_iter=300, solver=sgd; total time=   9.5s\n"
     ]
    },
    {
     "name": "stderr",
     "output_type": "stream",
     "text": [
      "/Users/lalune/Library/Python/3.9/lib/python/site-packages/sklearn/neural_network/_multilayer_perceptron.py:691: ConvergenceWarning: Stochastic Optimizer: Maximum iterations (300) reached and the optimization hasn't converged yet.\n",
      "  warnings.warn(\n"
     ]
    },
    {
     "name": "stdout",
     "output_type": "stream",
     "text": [
      "[CV] END activation=logistic, hidden_layer_sizes=(100,), learning_rate=constant, max_iter=300, solver=sgd; total time=   9.6s\n"
     ]
    },
    {
     "name": "stderr",
     "output_type": "stream",
     "text": [
      "/Users/lalune/Library/Python/3.9/lib/python/site-packages/sklearn/neural_network/_multilayer_perceptron.py:691: ConvergenceWarning: Stochastic Optimizer: Maximum iterations (300) reached and the optimization hasn't converged yet.\n",
      "  warnings.warn(\n"
     ]
    },
    {
     "name": "stdout",
     "output_type": "stream",
     "text": [
      "[CV] END activation=logistic, hidden_layer_sizes=(100,), learning_rate=constant, max_iter=300, solver=sgd; total time=   8.9s\n"
     ]
    },
    {
     "name": "stderr",
     "output_type": "stream",
     "text": [
      "/Users/lalune/Library/Python/3.9/lib/python/site-packages/sklearn/neural_network/_multilayer_perceptron.py:691: ConvergenceWarning: Stochastic Optimizer: Maximum iterations (300) reached and the optimization hasn't converged yet.\n",
      "  warnings.warn(\n"
     ]
    },
    {
     "name": "stdout",
     "output_type": "stream",
     "text": [
      "[CV] END activation=logistic, hidden_layer_sizes=(100,), learning_rate=constant, max_iter=300, solver=sgd; total time=   8.8s\n"
     ]
    },
    {
     "name": "stderr",
     "output_type": "stream",
     "text": [
      "/Users/lalune/Library/Python/3.9/lib/python/site-packages/sklearn/neural_network/_multilayer_perceptron.py:691: ConvergenceWarning: Stochastic Optimizer: Maximum iterations (300) reached and the optimization hasn't converged yet.\n",
      "  warnings.warn(\n"
     ]
    },
    {
     "name": "stdout",
     "output_type": "stream",
     "text": [
      "[CV] END activation=logistic, hidden_layer_sizes=(100,), learning_rate=constant, max_iter=300, solver=sgd; total time=   9.4s\n",
      "[CV] END activation=logistic, hidden_layer_sizes=(100,), learning_rate=constant, max_iter=500, solver=adam; total time=  11.4s\n",
      "[CV] END activation=logistic, hidden_layer_sizes=(100,), learning_rate=constant, max_iter=500, solver=adam; total time=  12.6s\n",
      "[CV] END activation=logistic, hidden_layer_sizes=(100,), learning_rate=constant, max_iter=500, solver=adam; total time=  16.0s\n",
      "[CV] END activation=logistic, hidden_layer_sizes=(100,), learning_rate=constant, max_iter=500, solver=adam; total time=  13.0s\n",
      "[CV] END activation=logistic, hidden_layer_sizes=(100,), learning_rate=constant, max_iter=500, solver=adam; total time=  12.3s\n"
     ]
    },
    {
     "name": "stderr",
     "output_type": "stream",
     "text": [
      "/Users/lalune/Library/Python/3.9/lib/python/site-packages/sklearn/neural_network/_multilayer_perceptron.py:691: ConvergenceWarning: Stochastic Optimizer: Maximum iterations (500) reached and the optimization hasn't converged yet.\n",
      "  warnings.warn(\n"
     ]
    },
    {
     "name": "stdout",
     "output_type": "stream",
     "text": [
      "[CV] END activation=logistic, hidden_layer_sizes=(100,), learning_rate=constant, max_iter=500, solver=sgd; total time=  17.9s\n"
     ]
    },
    {
     "name": "stderr",
     "output_type": "stream",
     "text": [
      "/Users/lalune/Library/Python/3.9/lib/python/site-packages/sklearn/neural_network/_multilayer_perceptron.py:691: ConvergenceWarning: Stochastic Optimizer: Maximum iterations (500) reached and the optimization hasn't converged yet.\n",
      "  warnings.warn(\n"
     ]
    },
    {
     "name": "stdout",
     "output_type": "stream",
     "text": [
      "[CV] END activation=logistic, hidden_layer_sizes=(100,), learning_rate=constant, max_iter=500, solver=sgd; total time=  14.5s\n"
     ]
    },
    {
     "name": "stderr",
     "output_type": "stream",
     "text": [
      "/Users/lalune/Library/Python/3.9/lib/python/site-packages/sklearn/neural_network/_multilayer_perceptron.py:691: ConvergenceWarning: Stochastic Optimizer: Maximum iterations (500) reached and the optimization hasn't converged yet.\n",
      "  warnings.warn(\n"
     ]
    },
    {
     "name": "stdout",
     "output_type": "stream",
     "text": [
      "[CV] END activation=logistic, hidden_layer_sizes=(100,), learning_rate=constant, max_iter=500, solver=sgd; total time=  17.1s\n"
     ]
    },
    {
     "name": "stderr",
     "output_type": "stream",
     "text": [
      "/Users/lalune/Library/Python/3.9/lib/python/site-packages/sklearn/neural_network/_multilayer_perceptron.py:691: ConvergenceWarning: Stochastic Optimizer: Maximum iterations (500) reached and the optimization hasn't converged yet.\n",
      "  warnings.warn(\n"
     ]
    },
    {
     "name": "stdout",
     "output_type": "stream",
     "text": [
      "[CV] END activation=logistic, hidden_layer_sizes=(100,), learning_rate=constant, max_iter=500, solver=sgd; total time=  14.2s\n"
     ]
    },
    {
     "name": "stderr",
     "output_type": "stream",
     "text": [
      "/Users/lalune/Library/Python/3.9/lib/python/site-packages/sklearn/neural_network/_multilayer_perceptron.py:691: ConvergenceWarning: Stochastic Optimizer: Maximum iterations (500) reached and the optimization hasn't converged yet.\n",
      "  warnings.warn(\n"
     ]
    },
    {
     "name": "stdout",
     "output_type": "stream",
     "text": [
      "[CV] END activation=logistic, hidden_layer_sizes=(100,), learning_rate=constant, max_iter=500, solver=sgd; total time=  14.9s\n"
     ]
    },
    {
     "name": "stderr",
     "output_type": "stream",
     "text": [
      "/Users/lalune/Library/Python/3.9/lib/python/site-packages/sklearn/neural_network/_multilayer_perceptron.py:691: ConvergenceWarning: Stochastic Optimizer: Maximum iterations (200) reached and the optimization hasn't converged yet.\n",
      "  warnings.warn(\n"
     ]
    },
    {
     "name": "stdout",
     "output_type": "stream",
     "text": [
      "[CV] END activation=logistic, hidden_layer_sizes=(100,), learning_rate=adaptive, max_iter=200, solver=adam; total time=   7.0s\n"
     ]
    },
    {
     "name": "stderr",
     "output_type": "stream",
     "text": [
      "/Users/lalune/Library/Python/3.9/lib/python/site-packages/sklearn/neural_network/_multilayer_perceptron.py:691: ConvergenceWarning: Stochastic Optimizer: Maximum iterations (200) reached and the optimization hasn't converged yet.\n",
      "  warnings.warn(\n"
     ]
    },
    {
     "name": "stdout",
     "output_type": "stream",
     "text": [
      "[CV] END activation=logistic, hidden_layer_sizes=(100,), learning_rate=adaptive, max_iter=200, solver=adam; total time=   6.7s\n"
     ]
    },
    {
     "name": "stderr",
     "output_type": "stream",
     "text": [
      "/Users/lalune/Library/Python/3.9/lib/python/site-packages/sklearn/neural_network/_multilayer_perceptron.py:691: ConvergenceWarning: Stochastic Optimizer: Maximum iterations (200) reached and the optimization hasn't converged yet.\n",
      "  warnings.warn(\n"
     ]
    },
    {
     "name": "stdout",
     "output_type": "stream",
     "text": [
      "[CV] END activation=logistic, hidden_layer_sizes=(100,), learning_rate=adaptive, max_iter=200, solver=adam; total time=   8.6s\n"
     ]
    },
    {
     "name": "stderr",
     "output_type": "stream",
     "text": [
      "/Users/lalune/Library/Python/3.9/lib/python/site-packages/sklearn/neural_network/_multilayer_perceptron.py:691: ConvergenceWarning: Stochastic Optimizer: Maximum iterations (200) reached and the optimization hasn't converged yet.\n",
      "  warnings.warn(\n"
     ]
    },
    {
     "name": "stdout",
     "output_type": "stream",
     "text": [
      "[CV] END activation=logistic, hidden_layer_sizes=(100,), learning_rate=adaptive, max_iter=200, solver=adam; total time=   6.8s\n"
     ]
    },
    {
     "name": "stderr",
     "output_type": "stream",
     "text": [
      "/Users/lalune/Library/Python/3.9/lib/python/site-packages/sklearn/neural_network/_multilayer_perceptron.py:691: ConvergenceWarning: Stochastic Optimizer: Maximum iterations (200) reached and the optimization hasn't converged yet.\n",
      "  warnings.warn(\n"
     ]
    },
    {
     "name": "stdout",
     "output_type": "stream",
     "text": [
      "[CV] END activation=logistic, hidden_layer_sizes=(100,), learning_rate=adaptive, max_iter=200, solver=adam; total time=   6.9s\n"
     ]
    },
    {
     "name": "stderr",
     "output_type": "stream",
     "text": [
      "/Users/lalune/Library/Python/3.9/lib/python/site-packages/sklearn/neural_network/_multilayer_perceptron.py:691: ConvergenceWarning: Stochastic Optimizer: Maximum iterations (200) reached and the optimization hasn't converged yet.\n",
      "  warnings.warn(\n"
     ]
    },
    {
     "name": "stdout",
     "output_type": "stream",
     "text": [
      "[CV] END activation=logistic, hidden_layer_sizes=(100,), learning_rate=adaptive, max_iter=200, solver=sgd; total time=   5.9s\n"
     ]
    },
    {
     "name": "stderr",
     "output_type": "stream",
     "text": [
      "/Users/lalune/Library/Python/3.9/lib/python/site-packages/sklearn/neural_network/_multilayer_perceptron.py:691: ConvergenceWarning: Stochastic Optimizer: Maximum iterations (200) reached and the optimization hasn't converged yet.\n",
      "  warnings.warn(\n"
     ]
    },
    {
     "name": "stdout",
     "output_type": "stream",
     "text": [
      "[CV] END activation=logistic, hidden_layer_sizes=(100,), learning_rate=adaptive, max_iter=200, solver=sgd; total time=   5.8s\n"
     ]
    },
    {
     "name": "stderr",
     "output_type": "stream",
     "text": [
      "/Users/lalune/Library/Python/3.9/lib/python/site-packages/sklearn/neural_network/_multilayer_perceptron.py:691: ConvergenceWarning: Stochastic Optimizer: Maximum iterations (200) reached and the optimization hasn't converged yet.\n",
      "  warnings.warn(\n"
     ]
    },
    {
     "name": "stdout",
     "output_type": "stream",
     "text": [
      "[CV] END activation=logistic, hidden_layer_sizes=(100,), learning_rate=adaptive, max_iter=200, solver=sgd; total time=   5.9s\n"
     ]
    },
    {
     "name": "stderr",
     "output_type": "stream",
     "text": [
      "/Users/lalune/Library/Python/3.9/lib/python/site-packages/sklearn/neural_network/_multilayer_perceptron.py:691: ConvergenceWarning: Stochastic Optimizer: Maximum iterations (200) reached and the optimization hasn't converged yet.\n",
      "  warnings.warn(\n"
     ]
    },
    {
     "name": "stdout",
     "output_type": "stream",
     "text": [
      "[CV] END activation=logistic, hidden_layer_sizes=(100,), learning_rate=adaptive, max_iter=200, solver=sgd; total time=   5.8s\n"
     ]
    },
    {
     "name": "stderr",
     "output_type": "stream",
     "text": [
      "/Users/lalune/Library/Python/3.9/lib/python/site-packages/sklearn/neural_network/_multilayer_perceptron.py:691: ConvergenceWarning: Stochastic Optimizer: Maximum iterations (200) reached and the optimization hasn't converged yet.\n",
      "  warnings.warn(\n"
     ]
    },
    {
     "name": "stdout",
     "output_type": "stream",
     "text": [
      "[CV] END activation=logistic, hidden_layer_sizes=(100,), learning_rate=adaptive, max_iter=200, solver=sgd; total time=   6.1s\n"
     ]
    },
    {
     "name": "stderr",
     "output_type": "stream",
     "text": [
      "/Users/lalune/Library/Python/3.9/lib/python/site-packages/sklearn/neural_network/_multilayer_perceptron.py:691: ConvergenceWarning: Stochastic Optimizer: Maximum iterations (300) reached and the optimization hasn't converged yet.\n",
      "  warnings.warn(\n"
     ]
    },
    {
     "name": "stdout",
     "output_type": "stream",
     "text": [
      "[CV] END activation=logistic, hidden_layer_sizes=(100,), learning_rate=adaptive, max_iter=300, solver=adam; total time=  10.4s\n"
     ]
    },
    {
     "name": "stderr",
     "output_type": "stream",
     "text": [
      "/Users/lalune/Library/Python/3.9/lib/python/site-packages/sklearn/neural_network/_multilayer_perceptron.py:691: ConvergenceWarning: Stochastic Optimizer: Maximum iterations (300) reached and the optimization hasn't converged yet.\n",
      "  warnings.warn(\n"
     ]
    },
    {
     "name": "stdout",
     "output_type": "stream",
     "text": [
      "[CV] END activation=logistic, hidden_layer_sizes=(100,), learning_rate=adaptive, max_iter=300, solver=adam; total time=  10.9s\n"
     ]
    },
    {
     "name": "stderr",
     "output_type": "stream",
     "text": [
      "/Users/lalune/Library/Python/3.9/lib/python/site-packages/sklearn/neural_network/_multilayer_perceptron.py:691: ConvergenceWarning: Stochastic Optimizer: Maximum iterations (300) reached and the optimization hasn't converged yet.\n",
      "  warnings.warn(\n"
     ]
    },
    {
     "name": "stdout",
     "output_type": "stream",
     "text": [
      "[CV] END activation=logistic, hidden_layer_sizes=(100,), learning_rate=adaptive, max_iter=300, solver=adam; total time=  12.1s\n"
     ]
    },
    {
     "name": "stderr",
     "output_type": "stream",
     "text": [
      "/Users/lalune/Library/Python/3.9/lib/python/site-packages/sklearn/neural_network/_multilayer_perceptron.py:691: ConvergenceWarning: Stochastic Optimizer: Maximum iterations (300) reached and the optimization hasn't converged yet.\n",
      "  warnings.warn(\n"
     ]
    },
    {
     "name": "stdout",
     "output_type": "stream",
     "text": [
      "[CV] END activation=logistic, hidden_layer_sizes=(100,), learning_rate=adaptive, max_iter=300, solver=adam; total time=  10.1s\n"
     ]
    },
    {
     "name": "stderr",
     "output_type": "stream",
     "text": [
      "/Users/lalune/Library/Python/3.9/lib/python/site-packages/sklearn/neural_network/_multilayer_perceptron.py:691: ConvergenceWarning: Stochastic Optimizer: Maximum iterations (300) reached and the optimization hasn't converged yet.\n",
      "  warnings.warn(\n"
     ]
    },
    {
     "name": "stdout",
     "output_type": "stream",
     "text": [
      "[CV] END activation=logistic, hidden_layer_sizes=(100,), learning_rate=adaptive, max_iter=300, solver=adam; total time=   9.8s\n"
     ]
    },
    {
     "name": "stderr",
     "output_type": "stream",
     "text": [
      "/Users/lalune/Library/Python/3.9/lib/python/site-packages/sklearn/neural_network/_multilayer_perceptron.py:691: ConvergenceWarning: Stochastic Optimizer: Maximum iterations (300) reached and the optimization hasn't converged yet.\n",
      "  warnings.warn(\n"
     ]
    },
    {
     "name": "stdout",
     "output_type": "stream",
     "text": [
      "[CV] END activation=logistic, hidden_layer_sizes=(100,), learning_rate=adaptive, max_iter=300, solver=sgd; total time=   9.2s\n"
     ]
    },
    {
     "name": "stderr",
     "output_type": "stream",
     "text": [
      "/Users/lalune/Library/Python/3.9/lib/python/site-packages/sklearn/neural_network/_multilayer_perceptron.py:691: ConvergenceWarning: Stochastic Optimizer: Maximum iterations (300) reached and the optimization hasn't converged yet.\n",
      "  warnings.warn(\n"
     ]
    },
    {
     "name": "stdout",
     "output_type": "stream",
     "text": [
      "[CV] END activation=logistic, hidden_layer_sizes=(100,), learning_rate=adaptive, max_iter=300, solver=sgd; total time=   8.9s\n"
     ]
    },
    {
     "name": "stderr",
     "output_type": "stream",
     "text": [
      "/Users/lalune/Library/Python/3.9/lib/python/site-packages/sklearn/neural_network/_multilayer_perceptron.py:691: ConvergenceWarning: Stochastic Optimizer: Maximum iterations (300) reached and the optimization hasn't converged yet.\n",
      "  warnings.warn(\n"
     ]
    },
    {
     "name": "stdout",
     "output_type": "stream",
     "text": [
      "[CV] END activation=logistic, hidden_layer_sizes=(100,), learning_rate=adaptive, max_iter=300, solver=sgd; total time=   9.5s\n"
     ]
    },
    {
     "name": "stderr",
     "output_type": "stream",
     "text": [
      "/Users/lalune/Library/Python/3.9/lib/python/site-packages/sklearn/neural_network/_multilayer_perceptron.py:691: ConvergenceWarning: Stochastic Optimizer: Maximum iterations (300) reached and the optimization hasn't converged yet.\n",
      "  warnings.warn(\n"
     ]
    },
    {
     "name": "stdout",
     "output_type": "stream",
     "text": [
      "[CV] END activation=logistic, hidden_layer_sizes=(100,), learning_rate=adaptive, max_iter=300, solver=sgd; total time=  10.0s\n"
     ]
    },
    {
     "name": "stderr",
     "output_type": "stream",
     "text": [
      "/Users/lalune/Library/Python/3.9/lib/python/site-packages/sklearn/neural_network/_multilayer_perceptron.py:691: ConvergenceWarning: Stochastic Optimizer: Maximum iterations (300) reached and the optimization hasn't converged yet.\n",
      "  warnings.warn(\n"
     ]
    },
    {
     "name": "stdout",
     "output_type": "stream",
     "text": [
      "[CV] END activation=logistic, hidden_layer_sizes=(100,), learning_rate=adaptive, max_iter=300, solver=sgd; total time=   9.5s\n",
      "[CV] END activation=logistic, hidden_layer_sizes=(100,), learning_rate=adaptive, max_iter=500, solver=adam; total time=  13.0s\n",
      "[CV] END activation=logistic, hidden_layer_sizes=(100,), learning_rate=adaptive, max_iter=500, solver=adam; total time=  13.8s\n",
      "[CV] END activation=logistic, hidden_layer_sizes=(100,), learning_rate=adaptive, max_iter=500, solver=adam; total time=  13.6s\n",
      "[CV] END activation=logistic, hidden_layer_sizes=(100,), learning_rate=adaptive, max_iter=500, solver=adam; total time=  12.7s\n",
      "[CV] END activation=logistic, hidden_layer_sizes=(100,), learning_rate=adaptive, max_iter=500, solver=adam; total time=  14.3s\n"
     ]
    },
    {
     "name": "stderr",
     "output_type": "stream",
     "text": [
      "/Users/lalune/Library/Python/3.9/lib/python/site-packages/sklearn/neural_network/_multilayer_perceptron.py:691: ConvergenceWarning: Stochastic Optimizer: Maximum iterations (500) reached and the optimization hasn't converged yet.\n",
      "  warnings.warn(\n"
     ]
    },
    {
     "name": "stdout",
     "output_type": "stream",
     "text": [
      "[CV] END activation=logistic, hidden_layer_sizes=(100,), learning_rate=adaptive, max_iter=500, solver=sgd; total time=  15.6s\n"
     ]
    },
    {
     "name": "stderr",
     "output_type": "stream",
     "text": [
      "/Users/lalune/Library/Python/3.9/lib/python/site-packages/sklearn/neural_network/_multilayer_perceptron.py:691: ConvergenceWarning: Stochastic Optimizer: Maximum iterations (500) reached and the optimization hasn't converged yet.\n",
      "  warnings.warn(\n"
     ]
    },
    {
     "name": "stdout",
     "output_type": "stream",
     "text": [
      "[CV] END activation=logistic, hidden_layer_sizes=(100,), learning_rate=adaptive, max_iter=500, solver=sgd; total time=  15.3s\n"
     ]
    },
    {
     "name": "stderr",
     "output_type": "stream",
     "text": [
      "/Users/lalune/Library/Python/3.9/lib/python/site-packages/sklearn/neural_network/_multilayer_perceptron.py:691: ConvergenceWarning: Stochastic Optimizer: Maximum iterations (500) reached and the optimization hasn't converged yet.\n",
      "  warnings.warn(\n"
     ]
    },
    {
     "name": "stdout",
     "output_type": "stream",
     "text": [
      "[CV] END activation=logistic, hidden_layer_sizes=(100,), learning_rate=adaptive, max_iter=500, solver=sgd; total time=  14.7s\n"
     ]
    },
    {
     "name": "stderr",
     "output_type": "stream",
     "text": [
      "/Users/lalune/Library/Python/3.9/lib/python/site-packages/sklearn/neural_network/_multilayer_perceptron.py:691: ConvergenceWarning: Stochastic Optimizer: Maximum iterations (500) reached and the optimization hasn't converged yet.\n",
      "  warnings.warn(\n"
     ]
    },
    {
     "name": "stdout",
     "output_type": "stream",
     "text": [
      "[CV] END activation=logistic, hidden_layer_sizes=(100,), learning_rate=adaptive, max_iter=500, solver=sgd; total time=  16.5s\n"
     ]
    },
    {
     "name": "stderr",
     "output_type": "stream",
     "text": [
      "/Users/lalune/Library/Python/3.9/lib/python/site-packages/sklearn/neural_network/_multilayer_perceptron.py:691: ConvergenceWarning: Stochastic Optimizer: Maximum iterations (500) reached and the optimization hasn't converged yet.\n",
      "  warnings.warn(\n"
     ]
    },
    {
     "name": "stdout",
     "output_type": "stream",
     "text": [
      "[CV] END activation=logistic, hidden_layer_sizes=(100,), learning_rate=adaptive, max_iter=500, solver=sgd; total time=  14.9s\n"
     ]
    },
    {
     "name": "stderr",
     "output_type": "stream",
     "text": [
      "/Users/lalune/Library/Python/3.9/lib/python/site-packages/sklearn/neural_network/_multilayer_perceptron.py:691: ConvergenceWarning: Stochastic Optimizer: Maximum iterations (200) reached and the optimization hasn't converged yet.\n",
      "  warnings.warn(\n"
     ]
    },
    {
     "name": "stdout",
     "output_type": "stream",
     "text": [
      "[CV] END activation=logistic, hidden_layer_sizes=(50, 50), learning_rate=constant, max_iter=200, solver=adam; total time=   8.9s\n"
     ]
    },
    {
     "name": "stderr",
     "output_type": "stream",
     "text": [
      "/Users/lalune/Library/Python/3.9/lib/python/site-packages/sklearn/neural_network/_multilayer_perceptron.py:691: ConvergenceWarning: Stochastic Optimizer: Maximum iterations (200) reached and the optimization hasn't converged yet.\n",
      "  warnings.warn(\n"
     ]
    },
    {
     "name": "stdout",
     "output_type": "stream",
     "text": [
      "[CV] END activation=logistic, hidden_layer_sizes=(50, 50), learning_rate=constant, max_iter=200, solver=adam; total time=   9.0s\n"
     ]
    },
    {
     "name": "stderr",
     "output_type": "stream",
     "text": [
      "/Users/lalune/Library/Python/3.9/lib/python/site-packages/sklearn/neural_network/_multilayer_perceptron.py:691: ConvergenceWarning: Stochastic Optimizer: Maximum iterations (200) reached and the optimization hasn't converged yet.\n",
      "  warnings.warn(\n"
     ]
    },
    {
     "name": "stdout",
     "output_type": "stream",
     "text": [
      "[CV] END activation=logistic, hidden_layer_sizes=(50, 50), learning_rate=constant, max_iter=200, solver=adam; total time=   8.9s\n"
     ]
    },
    {
     "name": "stderr",
     "output_type": "stream",
     "text": [
      "/Users/lalune/Library/Python/3.9/lib/python/site-packages/sklearn/neural_network/_multilayer_perceptron.py:691: ConvergenceWarning: Stochastic Optimizer: Maximum iterations (200) reached and the optimization hasn't converged yet.\n",
      "  warnings.warn(\n"
     ]
    },
    {
     "name": "stdout",
     "output_type": "stream",
     "text": [
      "[CV] END activation=logistic, hidden_layer_sizes=(50, 50), learning_rate=constant, max_iter=200, solver=adam; total time=   8.2s\n"
     ]
    },
    {
     "name": "stderr",
     "output_type": "stream",
     "text": [
      "/Users/lalune/Library/Python/3.9/lib/python/site-packages/sklearn/neural_network/_multilayer_perceptron.py:691: ConvergenceWarning: Stochastic Optimizer: Maximum iterations (200) reached and the optimization hasn't converged yet.\n",
      "  warnings.warn(\n"
     ]
    },
    {
     "name": "stdout",
     "output_type": "stream",
     "text": [
      "[CV] END activation=logistic, hidden_layer_sizes=(50, 50), learning_rate=constant, max_iter=200, solver=adam; total time=   9.2s\n",
      "[CV] END activation=logistic, hidden_layer_sizes=(50, 50), learning_rate=constant, max_iter=200, solver=sgd; total time=   1.1s\n",
      "[CV] END activation=logistic, hidden_layer_sizes=(50, 50), learning_rate=constant, max_iter=200, solver=sgd; total time=   0.8s\n",
      "[CV] END activation=logistic, hidden_layer_sizes=(50, 50), learning_rate=constant, max_iter=200, solver=sgd; total time=   0.9s\n",
      "[CV] END activation=logistic, hidden_layer_sizes=(50, 50), learning_rate=constant, max_iter=200, solver=sgd; total time=   1.0s\n",
      "[CV] END activation=logistic, hidden_layer_sizes=(50, 50), learning_rate=constant, max_iter=200, solver=sgd; total time=   0.9s\n"
     ]
    },
    {
     "name": "stderr",
     "output_type": "stream",
     "text": [
      "/Users/lalune/Library/Python/3.9/lib/python/site-packages/sklearn/neural_network/_multilayer_perceptron.py:691: ConvergenceWarning: Stochastic Optimizer: Maximum iterations (300) reached and the optimization hasn't converged yet.\n",
      "  warnings.warn(\n"
     ]
    },
    {
     "name": "stdout",
     "output_type": "stream",
     "text": [
      "[CV] END activation=logistic, hidden_layer_sizes=(50, 50), learning_rate=constant, max_iter=300, solver=adam; total time=  12.9s\n"
     ]
    },
    {
     "name": "stderr",
     "output_type": "stream",
     "text": [
      "/Users/lalune/Library/Python/3.9/lib/python/site-packages/sklearn/neural_network/_multilayer_perceptron.py:691: ConvergenceWarning: Stochastic Optimizer: Maximum iterations (300) reached and the optimization hasn't converged yet.\n",
      "  warnings.warn(\n"
     ]
    },
    {
     "name": "stdout",
     "output_type": "stream",
     "text": [
      "[CV] END activation=logistic, hidden_layer_sizes=(50, 50), learning_rate=constant, max_iter=300, solver=adam; total time=  13.0s\n"
     ]
    },
    {
     "name": "stderr",
     "output_type": "stream",
     "text": [
      "/Users/lalune/Library/Python/3.9/lib/python/site-packages/sklearn/neural_network/_multilayer_perceptron.py:691: ConvergenceWarning: Stochastic Optimizer: Maximum iterations (300) reached and the optimization hasn't converged yet.\n",
      "  warnings.warn(\n"
     ]
    },
    {
     "name": "stdout",
     "output_type": "stream",
     "text": [
      "[CV] END activation=logistic, hidden_layer_sizes=(50, 50), learning_rate=constant, max_iter=300, solver=adam; total time=  13.1s\n"
     ]
    },
    {
     "name": "stderr",
     "output_type": "stream",
     "text": [
      "/Users/lalune/Library/Python/3.9/lib/python/site-packages/sklearn/neural_network/_multilayer_perceptron.py:691: ConvergenceWarning: Stochastic Optimizer: Maximum iterations (300) reached and the optimization hasn't converged yet.\n",
      "  warnings.warn(\n"
     ]
    },
    {
     "name": "stdout",
     "output_type": "stream",
     "text": [
      "[CV] END activation=logistic, hidden_layer_sizes=(50, 50), learning_rate=constant, max_iter=300, solver=adam; total time=  14.1s\n"
     ]
    },
    {
     "name": "stderr",
     "output_type": "stream",
     "text": [
      "/Users/lalune/Library/Python/3.9/lib/python/site-packages/sklearn/neural_network/_multilayer_perceptron.py:691: ConvergenceWarning: Stochastic Optimizer: Maximum iterations (300) reached and the optimization hasn't converged yet.\n",
      "  warnings.warn(\n"
     ]
    },
    {
     "name": "stdout",
     "output_type": "stream",
     "text": [
      "[CV] END activation=logistic, hidden_layer_sizes=(50, 50), learning_rate=constant, max_iter=300, solver=adam; total time=  14.8s\n",
      "[CV] END activation=logistic, hidden_layer_sizes=(50, 50), learning_rate=constant, max_iter=300, solver=sgd; total time=   1.1s\n",
      "[CV] END activation=logistic, hidden_layer_sizes=(50, 50), learning_rate=constant, max_iter=300, solver=sgd; total time=   0.9s\n",
      "[CV] END activation=logistic, hidden_layer_sizes=(50, 50), learning_rate=constant, max_iter=300, solver=sgd; total time=   1.0s\n",
      "[CV] END activation=logistic, hidden_layer_sizes=(50, 50), learning_rate=constant, max_iter=300, solver=sgd; total time=   0.9s\n",
      "[CV] END activation=logistic, hidden_layer_sizes=(50, 50), learning_rate=constant, max_iter=300, solver=sgd; total time=   0.9s\n",
      "[CV] END activation=logistic, hidden_layer_sizes=(50, 50), learning_rate=constant, max_iter=500, solver=adam; total time=  13.6s\n",
      "[CV] END activation=logistic, hidden_layer_sizes=(50, 50), learning_rate=constant, max_iter=500, solver=adam; total time=  14.5s\n",
      "[CV] END activation=logistic, hidden_layer_sizes=(50, 50), learning_rate=constant, max_iter=500, solver=adam; total time=  14.9s\n",
      "[CV] END activation=logistic, hidden_layer_sizes=(50, 50), learning_rate=constant, max_iter=500, solver=adam; total time=  17.4s\n",
      "[CV] END activation=logistic, hidden_layer_sizes=(50, 50), learning_rate=constant, max_iter=500, solver=adam; total time=  17.1s\n",
      "[CV] END activation=logistic, hidden_layer_sizes=(50, 50), learning_rate=constant, max_iter=500, solver=sgd; total time=   1.0s\n",
      "[CV] END activation=logistic, hidden_layer_sizes=(50, 50), learning_rate=constant, max_iter=500, solver=sgd; total time=   1.0s\n",
      "[CV] END activation=logistic, hidden_layer_sizes=(50, 50), learning_rate=constant, max_iter=500, solver=sgd; total time=   1.0s\n",
      "[CV] END activation=logistic, hidden_layer_sizes=(50, 50), learning_rate=constant, max_iter=500, solver=sgd; total time=   0.9s\n",
      "[CV] END activation=logistic, hidden_layer_sizes=(50, 50), learning_rate=constant, max_iter=500, solver=sgd; total time=   0.9s\n"
     ]
    },
    {
     "name": "stderr",
     "output_type": "stream",
     "text": [
      "/Users/lalune/Library/Python/3.9/lib/python/site-packages/sklearn/neural_network/_multilayer_perceptron.py:691: ConvergenceWarning: Stochastic Optimizer: Maximum iterations (200) reached and the optimization hasn't converged yet.\n",
      "  warnings.warn(\n"
     ]
    },
    {
     "name": "stdout",
     "output_type": "stream",
     "text": [
      "[CV] END activation=logistic, hidden_layer_sizes=(50, 50), learning_rate=adaptive, max_iter=200, solver=adam; total time=   8.2s\n"
     ]
    },
    {
     "name": "stderr",
     "output_type": "stream",
     "text": [
      "/Users/lalune/Library/Python/3.9/lib/python/site-packages/sklearn/neural_network/_multilayer_perceptron.py:691: ConvergenceWarning: Stochastic Optimizer: Maximum iterations (200) reached and the optimization hasn't converged yet.\n",
      "  warnings.warn(\n"
     ]
    },
    {
     "name": "stdout",
     "output_type": "stream",
     "text": [
      "[CV] END activation=logistic, hidden_layer_sizes=(50, 50), learning_rate=adaptive, max_iter=200, solver=adam; total time=   9.3s\n"
     ]
    },
    {
     "name": "stderr",
     "output_type": "stream",
     "text": [
      "/Users/lalune/Library/Python/3.9/lib/python/site-packages/sklearn/neural_network/_multilayer_perceptron.py:691: ConvergenceWarning: Stochastic Optimizer: Maximum iterations (200) reached and the optimization hasn't converged yet.\n",
      "  warnings.warn(\n"
     ]
    },
    {
     "name": "stdout",
     "output_type": "stream",
     "text": [
      "[CV] END activation=logistic, hidden_layer_sizes=(50, 50), learning_rate=adaptive, max_iter=200, solver=adam; total time=   9.1s\n"
     ]
    },
    {
     "name": "stderr",
     "output_type": "stream",
     "text": [
      "/Users/lalune/Library/Python/3.9/lib/python/site-packages/sklearn/neural_network/_multilayer_perceptron.py:691: ConvergenceWarning: Stochastic Optimizer: Maximum iterations (200) reached and the optimization hasn't converged yet.\n",
      "  warnings.warn(\n"
     ]
    },
    {
     "name": "stdout",
     "output_type": "stream",
     "text": [
      "[CV] END activation=logistic, hidden_layer_sizes=(50, 50), learning_rate=adaptive, max_iter=200, solver=adam; total time=   9.8s\n"
     ]
    },
    {
     "name": "stderr",
     "output_type": "stream",
     "text": [
      "/Users/lalune/Library/Python/3.9/lib/python/site-packages/sklearn/neural_network/_multilayer_perceptron.py:691: ConvergenceWarning: Stochastic Optimizer: Maximum iterations (200) reached and the optimization hasn't converged yet.\n",
      "  warnings.warn(\n"
     ]
    },
    {
     "name": "stdout",
     "output_type": "stream",
     "text": [
      "[CV] END activation=logistic, hidden_layer_sizes=(50, 50), learning_rate=adaptive, max_iter=200, solver=adam; total time=   8.8s\n",
      "[CV] END activation=logistic, hidden_layer_sizes=(50, 50), learning_rate=adaptive, max_iter=200, solver=sgd; total time=   3.4s\n",
      "[CV] END activation=logistic, hidden_layer_sizes=(50, 50), learning_rate=adaptive, max_iter=200, solver=sgd; total time=   3.3s\n",
      "[CV] END activation=logistic, hidden_layer_sizes=(50, 50), learning_rate=adaptive, max_iter=200, solver=sgd; total time=   3.1s\n",
      "[CV] END activation=logistic, hidden_layer_sizes=(50, 50), learning_rate=adaptive, max_iter=200, solver=sgd; total time=   2.8s\n",
      "[CV] END activation=logistic, hidden_layer_sizes=(50, 50), learning_rate=adaptive, max_iter=200, solver=sgd; total time=   3.9s\n"
     ]
    },
    {
     "name": "stderr",
     "output_type": "stream",
     "text": [
      "/Users/lalune/Library/Python/3.9/lib/python/site-packages/sklearn/neural_network/_multilayer_perceptron.py:691: ConvergenceWarning: Stochastic Optimizer: Maximum iterations (300) reached and the optimization hasn't converged yet.\n",
      "  warnings.warn(\n"
     ]
    },
    {
     "name": "stdout",
     "output_type": "stream",
     "text": [
      "[CV] END activation=logistic, hidden_layer_sizes=(50, 50), learning_rate=adaptive, max_iter=300, solver=adam; total time=  12.9s\n"
     ]
    },
    {
     "name": "stderr",
     "output_type": "stream",
     "text": [
      "/Users/lalune/Library/Python/3.9/lib/python/site-packages/sklearn/neural_network/_multilayer_perceptron.py:691: ConvergenceWarning: Stochastic Optimizer: Maximum iterations (300) reached and the optimization hasn't converged yet.\n",
      "  warnings.warn(\n"
     ]
    },
    {
     "name": "stdout",
     "output_type": "stream",
     "text": [
      "[CV] END activation=logistic, hidden_layer_sizes=(50, 50), learning_rate=adaptive, max_iter=300, solver=adam; total time=  12.9s\n"
     ]
    },
    {
     "name": "stderr",
     "output_type": "stream",
     "text": [
      "/Users/lalune/Library/Python/3.9/lib/python/site-packages/sklearn/neural_network/_multilayer_perceptron.py:691: ConvergenceWarning: Stochastic Optimizer: Maximum iterations (300) reached and the optimization hasn't converged yet.\n",
      "  warnings.warn(\n"
     ]
    },
    {
     "name": "stdout",
     "output_type": "stream",
     "text": [
      "[CV] END activation=logistic, hidden_layer_sizes=(50, 50), learning_rate=adaptive, max_iter=300, solver=adam; total time=  13.4s\n"
     ]
    },
    {
     "name": "stderr",
     "output_type": "stream",
     "text": [
      "/Users/lalune/Library/Python/3.9/lib/python/site-packages/sklearn/neural_network/_multilayer_perceptron.py:691: ConvergenceWarning: Stochastic Optimizer: Maximum iterations (300) reached and the optimization hasn't converged yet.\n",
      "  warnings.warn(\n"
     ]
    },
    {
     "name": "stdout",
     "output_type": "stream",
     "text": [
      "[CV] END activation=logistic, hidden_layer_sizes=(50, 50), learning_rate=adaptive, max_iter=300, solver=adam; total time=  15.6s\n"
     ]
    },
    {
     "name": "stderr",
     "output_type": "stream",
     "text": [
      "/Users/lalune/Library/Python/3.9/lib/python/site-packages/sklearn/neural_network/_multilayer_perceptron.py:691: ConvergenceWarning: Stochastic Optimizer: Maximum iterations (300) reached and the optimization hasn't converged yet.\n",
      "  warnings.warn(\n"
     ]
    },
    {
     "name": "stdout",
     "output_type": "stream",
     "text": [
      "[CV] END activation=logistic, hidden_layer_sizes=(50, 50), learning_rate=adaptive, max_iter=300, solver=adam; total time=  14.7s\n",
      "[CV] END activation=logistic, hidden_layer_sizes=(50, 50), learning_rate=adaptive, max_iter=300, solver=sgd; total time=   3.3s\n",
      "[CV] END activation=logistic, hidden_layer_sizes=(50, 50), learning_rate=adaptive, max_iter=300, solver=sgd; total time=   3.3s\n",
      "[CV] END activation=logistic, hidden_layer_sizes=(50, 50), learning_rate=adaptive, max_iter=300, solver=sgd; total time=   3.6s\n",
      "[CV] END activation=logistic, hidden_layer_sizes=(50, 50), learning_rate=adaptive, max_iter=300, solver=sgd; total time=   3.0s\n",
      "[CV] END activation=logistic, hidden_layer_sizes=(50, 50), learning_rate=adaptive, max_iter=300, solver=sgd; total time=   3.3s\n",
      "[CV] END activation=logistic, hidden_layer_sizes=(50, 50), learning_rate=adaptive, max_iter=500, solver=adam; total time=  13.6s\n",
      "[CV] END activation=logistic, hidden_layer_sizes=(50, 50), learning_rate=adaptive, max_iter=500, solver=adam; total time=  16.7s\n",
      "[CV] END activation=logistic, hidden_layer_sizes=(50, 50), learning_rate=adaptive, max_iter=500, solver=adam; total time=  15.6s\n",
      "[CV] END activation=logistic, hidden_layer_sizes=(50, 50), learning_rate=adaptive, max_iter=500, solver=adam; total time=  15.8s\n",
      "[CV] END activation=logistic, hidden_layer_sizes=(50, 50), learning_rate=adaptive, max_iter=500, solver=adam; total time=  16.2s\n",
      "[CV] END activation=logistic, hidden_layer_sizes=(50, 50), learning_rate=adaptive, max_iter=500, solver=sgd; total time=   3.8s\n",
      "[CV] END activation=logistic, hidden_layer_sizes=(50, 50), learning_rate=adaptive, max_iter=500, solver=sgd; total time=   3.2s\n",
      "[CV] END activation=logistic, hidden_layer_sizes=(50, 50), learning_rate=adaptive, max_iter=500, solver=sgd; total time=   3.3s\n",
      "[CV] END activation=logistic, hidden_layer_sizes=(50, 50), learning_rate=adaptive, max_iter=500, solver=sgd; total time=   3.3s\n",
      "[CV] END activation=logistic, hidden_layer_sizes=(50, 50), learning_rate=adaptive, max_iter=500, solver=sgd; total time=   3.3s\n"
     ]
    },
    {
     "name": "stderr",
     "output_type": "stream",
     "text": [
      "/Users/lalune/Library/Python/3.9/lib/python/site-packages/sklearn/neural_network/_multilayer_perceptron.py:691: ConvergenceWarning: Stochastic Optimizer: Maximum iterations (200) reached and the optimization hasn't converged yet.\n",
      "  warnings.warn(\n"
     ]
    },
    {
     "name": "stdout",
     "output_type": "stream",
     "text": [
      "[CV] END activation=logistic, hidden_layer_sizes=(100, 50), learning_rate=constant, max_iter=200, solver=adam; total time=  12.3s\n"
     ]
    },
    {
     "name": "stderr",
     "output_type": "stream",
     "text": [
      "/Users/lalune/Library/Python/3.9/lib/python/site-packages/sklearn/neural_network/_multilayer_perceptron.py:691: ConvergenceWarning: Stochastic Optimizer: Maximum iterations (200) reached and the optimization hasn't converged yet.\n",
      "  warnings.warn(\n"
     ]
    },
    {
     "name": "stdout",
     "output_type": "stream",
     "text": [
      "[CV] END activation=logistic, hidden_layer_sizes=(100, 50), learning_rate=constant, max_iter=200, solver=adam; total time=  12.5s\n"
     ]
    },
    {
     "name": "stderr",
     "output_type": "stream",
     "text": [
      "/Users/lalune/Library/Python/3.9/lib/python/site-packages/sklearn/neural_network/_multilayer_perceptron.py:691: ConvergenceWarning: Stochastic Optimizer: Maximum iterations (200) reached and the optimization hasn't converged yet.\n",
      "  warnings.warn(\n"
     ]
    },
    {
     "name": "stdout",
     "output_type": "stream",
     "text": [
      "[CV] END activation=logistic, hidden_layer_sizes=(100, 50), learning_rate=constant, max_iter=200, solver=adam; total time=  12.9s\n"
     ]
    },
    {
     "name": "stderr",
     "output_type": "stream",
     "text": [
      "/Users/lalune/Library/Python/3.9/lib/python/site-packages/sklearn/neural_network/_multilayer_perceptron.py:691: ConvergenceWarning: Stochastic Optimizer: Maximum iterations (200) reached and the optimization hasn't converged yet.\n",
      "  warnings.warn(\n"
     ]
    },
    {
     "name": "stdout",
     "output_type": "stream",
     "text": [
      "[CV] END activation=logistic, hidden_layer_sizes=(100, 50), learning_rate=constant, max_iter=200, solver=adam; total time=  12.6s\n"
     ]
    },
    {
     "name": "stderr",
     "output_type": "stream",
     "text": [
      "/Users/lalune/Library/Python/3.9/lib/python/site-packages/sklearn/neural_network/_multilayer_perceptron.py:691: ConvergenceWarning: Stochastic Optimizer: Maximum iterations (200) reached and the optimization hasn't converged yet.\n",
      "  warnings.warn(\n"
     ]
    },
    {
     "name": "stdout",
     "output_type": "stream",
     "text": [
      "[CV] END activation=logistic, hidden_layer_sizes=(100, 50), learning_rate=constant, max_iter=200, solver=adam; total time=  13.9s\n",
      "[CV] END activation=logistic, hidden_layer_sizes=(100, 50), learning_rate=constant, max_iter=200, solver=sgd; total time=   1.4s\n",
      "[CV] END activation=logistic, hidden_layer_sizes=(100, 50), learning_rate=constant, max_iter=200, solver=sgd; total time=   1.4s\n",
      "[CV] END activation=logistic, hidden_layer_sizes=(100, 50), learning_rate=constant, max_iter=200, solver=sgd; total time=   1.3s\n",
      "[CV] END activation=logistic, hidden_layer_sizes=(100, 50), learning_rate=constant, max_iter=200, solver=sgd; total time=   1.1s\n",
      "[CV] END activation=logistic, hidden_layer_sizes=(100, 50), learning_rate=constant, max_iter=200, solver=sgd; total time=   1.6s\n"
     ]
    },
    {
     "name": "stderr",
     "output_type": "stream",
     "text": [
      "/Users/lalune/Library/Python/3.9/lib/python/site-packages/sklearn/neural_network/_multilayer_perceptron.py:691: ConvergenceWarning: Stochastic Optimizer: Maximum iterations (300) reached and the optimization hasn't converged yet.\n",
      "  warnings.warn(\n"
     ]
    },
    {
     "name": "stdout",
     "output_type": "stream",
     "text": [
      "[CV] END activation=logistic, hidden_layer_sizes=(100, 50), learning_rate=constant, max_iter=300, solver=adam; total time=  17.9s\n"
     ]
    },
    {
     "name": "stderr",
     "output_type": "stream",
     "text": [
      "/Users/lalune/Library/Python/3.9/lib/python/site-packages/sklearn/neural_network/_multilayer_perceptron.py:691: ConvergenceWarning: Stochastic Optimizer: Maximum iterations (300) reached and the optimization hasn't converged yet.\n",
      "  warnings.warn(\n"
     ]
    },
    {
     "name": "stdout",
     "output_type": "stream",
     "text": [
      "[CV] END activation=logistic, hidden_layer_sizes=(100, 50), learning_rate=constant, max_iter=300, solver=adam; total time=  17.8s\n",
      "[CV] END activation=logistic, hidden_layer_sizes=(100, 50), learning_rate=constant, max_iter=300, solver=adam; total time=  19.7s\n",
      "[CV] END activation=logistic, hidden_layer_sizes=(100, 50), learning_rate=constant, max_iter=300, solver=adam; total time=  17.9s\n"
     ]
    },
    {
     "name": "stderr",
     "output_type": "stream",
     "text": [
      "/Users/lalune/Library/Python/3.9/lib/python/site-packages/sklearn/neural_network/_multilayer_perceptron.py:691: ConvergenceWarning: Stochastic Optimizer: Maximum iterations (300) reached and the optimization hasn't converged yet.\n",
      "  warnings.warn(\n"
     ]
    },
    {
     "name": "stdout",
     "output_type": "stream",
     "text": [
      "[CV] END activation=logistic, hidden_layer_sizes=(100, 50), learning_rate=constant, max_iter=300, solver=adam; total time=  17.5s\n",
      "[CV] END activation=logistic, hidden_layer_sizes=(100, 50), learning_rate=constant, max_iter=300, solver=sgd; total time=   1.6s\n",
      "[CV] END activation=logistic, hidden_layer_sizes=(100, 50), learning_rate=constant, max_iter=300, solver=sgd; total time=   1.4s\n",
      "[CV] END activation=logistic, hidden_layer_sizes=(100, 50), learning_rate=constant, max_iter=300, solver=sgd; total time=   1.3s\n",
      "[CV] END activation=logistic, hidden_layer_sizes=(100, 50), learning_rate=constant, max_iter=300, solver=sgd; total time=   1.2s\n",
      "[CV] END activation=logistic, hidden_layer_sizes=(100, 50), learning_rate=constant, max_iter=300, solver=sgd; total time=   1.1s\n",
      "[CV] END activation=logistic, hidden_layer_sizes=(100, 50), learning_rate=constant, max_iter=500, solver=adam; total time=  19.9s\n",
      "[CV] END activation=logistic, hidden_layer_sizes=(100, 50), learning_rate=constant, max_iter=500, solver=adam; total time=  17.6s\n",
      "[CV] END activation=logistic, hidden_layer_sizes=(100, 50), learning_rate=constant, max_iter=500, solver=adam; total time=  13.0s\n",
      "[CV] END activation=logistic, hidden_layer_sizes=(100, 50), learning_rate=constant, max_iter=500, solver=adam; total time=  12.4s\n",
      "[CV] END activation=logistic, hidden_layer_sizes=(100, 50), learning_rate=constant, max_iter=500, solver=adam; total time=  14.7s\n",
      "[CV] END activation=logistic, hidden_layer_sizes=(100, 50), learning_rate=constant, max_iter=500, solver=sgd; total time=   1.0s\n",
      "[CV] END activation=logistic, hidden_layer_sizes=(100, 50), learning_rate=constant, max_iter=500, solver=sgd; total time=   1.1s\n",
      "[CV] END activation=logistic, hidden_layer_sizes=(100, 50), learning_rate=constant, max_iter=500, solver=sgd; total time=   0.8s\n",
      "[CV] END activation=logistic, hidden_layer_sizes=(100, 50), learning_rate=constant, max_iter=500, solver=sgd; total time=   0.8s\n",
      "[CV] END activation=logistic, hidden_layer_sizes=(100, 50), learning_rate=constant, max_iter=500, solver=sgd; total time=   1.0s\n"
     ]
    },
    {
     "name": "stderr",
     "output_type": "stream",
     "text": [
      "/Users/lalune/Library/Python/3.9/lib/python/site-packages/sklearn/neural_network/_multilayer_perceptron.py:691: ConvergenceWarning: Stochastic Optimizer: Maximum iterations (200) reached and the optimization hasn't converged yet.\n",
      "  warnings.warn(\n"
     ]
    },
    {
     "name": "stdout",
     "output_type": "stream",
     "text": [
      "[CV] END activation=logistic, hidden_layer_sizes=(100, 50), learning_rate=adaptive, max_iter=200, solver=adam; total time=  12.5s\n"
     ]
    },
    {
     "name": "stderr",
     "output_type": "stream",
     "text": [
      "/Users/lalune/Library/Python/3.9/lib/python/site-packages/sklearn/neural_network/_multilayer_perceptron.py:691: ConvergenceWarning: Stochastic Optimizer: Maximum iterations (200) reached and the optimization hasn't converged yet.\n",
      "  warnings.warn(\n"
     ]
    },
    {
     "name": "stdout",
     "output_type": "stream",
     "text": [
      "[CV] END activation=logistic, hidden_layer_sizes=(100, 50), learning_rate=adaptive, max_iter=200, solver=adam; total time=   9.7s\n"
     ]
    },
    {
     "name": "stderr",
     "output_type": "stream",
     "text": [
      "/Users/lalune/Library/Python/3.9/lib/python/site-packages/sklearn/neural_network/_multilayer_perceptron.py:691: ConvergenceWarning: Stochastic Optimizer: Maximum iterations (200) reached and the optimization hasn't converged yet.\n",
      "  warnings.warn(\n"
     ]
    },
    {
     "name": "stdout",
     "output_type": "stream",
     "text": [
      "[CV] END activation=logistic, hidden_layer_sizes=(100, 50), learning_rate=adaptive, max_iter=200, solver=adam; total time=   9.2s\n"
     ]
    },
    {
     "name": "stderr",
     "output_type": "stream",
     "text": [
      "/Users/lalune/Library/Python/3.9/lib/python/site-packages/sklearn/neural_network/_multilayer_perceptron.py:691: ConvergenceWarning: Stochastic Optimizer: Maximum iterations (200) reached and the optimization hasn't converged yet.\n",
      "  warnings.warn(\n"
     ]
    },
    {
     "name": "stdout",
     "output_type": "stream",
     "text": [
      "[CV] END activation=logistic, hidden_layer_sizes=(100, 50), learning_rate=adaptive, max_iter=200, solver=adam; total time=   8.1s\n"
     ]
    },
    {
     "name": "stderr",
     "output_type": "stream",
     "text": [
      "/Users/lalune/Library/Python/3.9/lib/python/site-packages/sklearn/neural_network/_multilayer_perceptron.py:691: ConvergenceWarning: Stochastic Optimizer: Maximum iterations (200) reached and the optimization hasn't converged yet.\n",
      "  warnings.warn(\n"
     ]
    },
    {
     "name": "stdout",
     "output_type": "stream",
     "text": [
      "[CV] END activation=logistic, hidden_layer_sizes=(100, 50), learning_rate=adaptive, max_iter=200, solver=adam; total time=   9.6s\n",
      "[CV] END activation=logistic, hidden_layer_sizes=(100, 50), learning_rate=adaptive, max_iter=200, solver=sgd; total time=   3.7s\n",
      "[CV] END activation=logistic, hidden_layer_sizes=(100, 50), learning_rate=adaptive, max_iter=200, solver=sgd; total time=   3.2s\n",
      "[CV] END activation=logistic, hidden_layer_sizes=(100, 50), learning_rate=adaptive, max_iter=200, solver=sgd; total time=   3.6s\n",
      "[CV] END activation=logistic, hidden_layer_sizes=(100, 50), learning_rate=adaptive, max_iter=200, solver=sgd; total time=   3.9s\n",
      "[CV] END activation=logistic, hidden_layer_sizes=(100, 50), learning_rate=adaptive, max_iter=200, solver=sgd; total time=   5.7s\n"
     ]
    },
    {
     "name": "stderr",
     "output_type": "stream",
     "text": [
      "/Users/lalune/Library/Python/3.9/lib/python/site-packages/sklearn/neural_network/_multilayer_perceptron.py:691: ConvergenceWarning: Stochastic Optimizer: Maximum iterations (300) reached and the optimization hasn't converged yet.\n",
      "  warnings.warn(\n"
     ]
    },
    {
     "name": "stdout",
     "output_type": "stream",
     "text": [
      "[CV] END activation=logistic, hidden_layer_sizes=(100, 50), learning_rate=adaptive, max_iter=300, solver=adam; total time=  17.3s\n"
     ]
    },
    {
     "name": "stderr",
     "output_type": "stream",
     "text": [
      "/Users/lalune/Library/Python/3.9/lib/python/site-packages/sklearn/neural_network/_multilayer_perceptron.py:691: ConvergenceWarning: Stochastic Optimizer: Maximum iterations (300) reached and the optimization hasn't converged yet.\n",
      "  warnings.warn(\n"
     ]
    },
    {
     "name": "stdout",
     "output_type": "stream",
     "text": [
      "[CV] END activation=logistic, hidden_layer_sizes=(100, 50), learning_rate=adaptive, max_iter=300, solver=adam; total time=  16.0s\n",
      "[CV] END activation=logistic, hidden_layer_sizes=(100, 50), learning_rate=adaptive, max_iter=300, solver=adam; total time=  13.7s\n",
      "[CV] END activation=logistic, hidden_layer_sizes=(100, 50), learning_rate=adaptive, max_iter=300, solver=adam; total time=  16.1s\n"
     ]
    },
    {
     "name": "stderr",
     "output_type": "stream",
     "text": [
      "/Users/lalune/Library/Python/3.9/lib/python/site-packages/sklearn/neural_network/_multilayer_perceptron.py:691: ConvergenceWarning: Stochastic Optimizer: Maximum iterations (300) reached and the optimization hasn't converged yet.\n",
      "  warnings.warn(\n"
     ]
    },
    {
     "name": "stdout",
     "output_type": "stream",
     "text": [
      "[CV] END activation=logistic, hidden_layer_sizes=(100, 50), learning_rate=adaptive, max_iter=300, solver=adam; total time=  18.4s\n",
      "[CV] END activation=logistic, hidden_layer_sizes=(100, 50), learning_rate=adaptive, max_iter=300, solver=sgd; total time=   4.8s\n",
      "[CV] END activation=logistic, hidden_layer_sizes=(100, 50), learning_rate=adaptive, max_iter=300, solver=sgd; total time=   4.6s\n",
      "[CV] END activation=logistic, hidden_layer_sizes=(100, 50), learning_rate=adaptive, max_iter=300, solver=sgd; total time=   5.0s\n",
      "[CV] END activation=logistic, hidden_layer_sizes=(100, 50), learning_rate=adaptive, max_iter=300, solver=sgd; total time=   4.2s\n",
      "[CV] END activation=logistic, hidden_layer_sizes=(100, 50), learning_rate=adaptive, max_iter=300, solver=sgd; total time=   4.4s\n",
      "[CV] END activation=logistic, hidden_layer_sizes=(100, 50), learning_rate=adaptive, max_iter=500, solver=adam; total time=  15.7s\n",
      "[CV] END activation=logistic, hidden_layer_sizes=(100, 50), learning_rate=adaptive, max_iter=500, solver=adam; total time=  18.5s\n",
      "[CV] END activation=logistic, hidden_layer_sizes=(100, 50), learning_rate=adaptive, max_iter=500, solver=adam; total time=  13.4s\n",
      "[CV] END activation=logistic, hidden_layer_sizes=(100, 50), learning_rate=adaptive, max_iter=500, solver=adam; total time=  12.8s\n",
      "[CV] END activation=logistic, hidden_layer_sizes=(100, 50), learning_rate=adaptive, max_iter=500, solver=adam; total time=  13.7s\n",
      "[CV] END activation=logistic, hidden_layer_sizes=(100, 50), learning_rate=adaptive, max_iter=500, solver=sgd; total time=   3.1s\n",
      "[CV] END activation=logistic, hidden_layer_sizes=(100, 50), learning_rate=adaptive, max_iter=500, solver=sgd; total time=   3.1s\n",
      "[CV] END activation=logistic, hidden_layer_sizes=(100, 50), learning_rate=adaptive, max_iter=500, solver=sgd; total time=   3.0s\n",
      "[CV] END activation=logistic, hidden_layer_sizes=(100, 50), learning_rate=adaptive, max_iter=500, solver=sgd; total time=   3.0s\n",
      "[CV] END activation=logistic, hidden_layer_sizes=(100, 50), learning_rate=adaptive, max_iter=500, solver=sgd; total time=   5.3s\n"
     ]
    }
   ],
   "source": [
    "# MLP\n",
    "mlp = MLPClassifier(random_state=0)\n",
    "grid_search_mlp = GridSearchCV(estimator=mlp, param_grid=param_grid_mlp, cv=5, scoring='accuracy', verbose=2)\n",
    "grid_search_mlp.fit(x_train, y_train)\n",
    "best_mlp = grid_search_mlp.best_estimator_\n",
    "y_pred_mlp = best_mlp.predict(x_test)"
   ]
  },
  {
   "cell_type": "code",
   "execution_count": 36,
   "metadata": {},
   "outputs": [
    {
     "name": "stdout",
     "output_type": "stream",
     "text": [
      "Fitting 5 folds for each of 72 candidates, totalling 360 fits\n",
      "[CV] END criterion=gini, max_depth=None, min_samples_leaf=1, min_samples_split=2; total time=   0.3s\n",
      "[CV] END criterion=gini, max_depth=None, min_samples_leaf=1, min_samples_split=2; total time=   0.2s\n",
      "[CV] END criterion=gini, max_depth=None, min_samples_leaf=1, min_samples_split=2; total time=   0.1s\n",
      "[CV] END criterion=gini, max_depth=None, min_samples_leaf=1, min_samples_split=2; total time=   0.1s\n",
      "[CV] END criterion=gini, max_depth=None, min_samples_leaf=1, min_samples_split=2; total time=   0.1s\n",
      "[CV] END criterion=gini, max_depth=None, min_samples_leaf=1, min_samples_split=5; total time=   0.1s\n",
      "[CV] END criterion=gini, max_depth=None, min_samples_leaf=1, min_samples_split=5; total time=   0.1s\n",
      "[CV] END criterion=gini, max_depth=None, min_samples_leaf=1, min_samples_split=5; total time=   0.1s\n",
      "[CV] END criterion=gini, max_depth=None, min_samples_leaf=1, min_samples_split=5; total time=   0.1s\n",
      "[CV] END criterion=gini, max_depth=None, min_samples_leaf=1, min_samples_split=5; total time=   0.1s\n",
      "[CV] END criterion=gini, max_depth=None, min_samples_leaf=1, min_samples_split=10; total time=   0.1s\n",
      "[CV] END criterion=gini, max_depth=None, min_samples_leaf=1, min_samples_split=10; total time=   0.1s\n",
      "[CV] END criterion=gini, max_depth=None, min_samples_leaf=1, min_samples_split=10; total time=   0.1s\n",
      "[CV] END criterion=gini, max_depth=None, min_samples_leaf=1, min_samples_split=10; total time=   0.1s\n",
      "[CV] END criterion=gini, max_depth=None, min_samples_leaf=1, min_samples_split=10; total time=   0.1s\n",
      "[CV] END criterion=gini, max_depth=None, min_samples_leaf=2, min_samples_split=2; total time=   0.1s\n",
      "[CV] END criterion=gini, max_depth=None, min_samples_leaf=2, min_samples_split=2; total time=   0.1s\n",
      "[CV] END criterion=gini, max_depth=None, min_samples_leaf=2, min_samples_split=2; total time=   0.1s\n",
      "[CV] END criterion=gini, max_depth=None, min_samples_leaf=2, min_samples_split=2; total time=   0.1s\n",
      "[CV] END criterion=gini, max_depth=None, min_samples_leaf=2, min_samples_split=2; total time=   0.1s\n",
      "[CV] END criterion=gini, max_depth=None, min_samples_leaf=2, min_samples_split=5; total time=   0.1s\n",
      "[CV] END criterion=gini, max_depth=None, min_samples_leaf=2, min_samples_split=5; total time=   0.1s\n",
      "[CV] END criterion=gini, max_depth=None, min_samples_leaf=2, min_samples_split=5; total time=   0.1s\n",
      "[CV] END criterion=gini, max_depth=None, min_samples_leaf=2, min_samples_split=5; total time=   0.1s\n",
      "[CV] END criterion=gini, max_depth=None, min_samples_leaf=2, min_samples_split=5; total time=   0.1s\n",
      "[CV] END criterion=gini, max_depth=None, min_samples_leaf=2, min_samples_split=10; total time=   0.1s\n",
      "[CV] END criterion=gini, max_depth=None, min_samples_leaf=2, min_samples_split=10; total time=   0.1s\n",
      "[CV] END criterion=gini, max_depth=None, min_samples_leaf=2, min_samples_split=10; total time=   0.1s\n",
      "[CV] END criterion=gini, max_depth=None, min_samples_leaf=2, min_samples_split=10; total time=   0.1s\n",
      "[CV] END criterion=gini, max_depth=None, min_samples_leaf=2, min_samples_split=10; total time=   0.1s\n",
      "[CV] END criterion=gini, max_depth=None, min_samples_leaf=4, min_samples_split=2; total time=   0.1s\n",
      "[CV] END criterion=gini, max_depth=None, min_samples_leaf=4, min_samples_split=2; total time=   0.1s\n",
      "[CV] END criterion=gini, max_depth=None, min_samples_leaf=4, min_samples_split=2; total time=   0.1s\n",
      "[CV] END criterion=gini, max_depth=None, min_samples_leaf=4, min_samples_split=2; total time=   0.1s\n",
      "[CV] END criterion=gini, max_depth=None, min_samples_leaf=4, min_samples_split=2; total time=   0.1s\n",
      "[CV] END criterion=gini, max_depth=None, min_samples_leaf=4, min_samples_split=5; total time=   0.1s\n",
      "[CV] END criterion=gini, max_depth=None, min_samples_leaf=4, min_samples_split=5; total time=   0.1s\n",
      "[CV] END criterion=gini, max_depth=None, min_samples_leaf=4, min_samples_split=5; total time=   0.1s\n",
      "[CV] END criterion=gini, max_depth=None, min_samples_leaf=4, min_samples_split=5; total time=   0.1s\n",
      "[CV] END criterion=gini, max_depth=None, min_samples_leaf=4, min_samples_split=5; total time=   0.1s\n",
      "[CV] END criterion=gini, max_depth=None, min_samples_leaf=4, min_samples_split=10; total time=   0.1s\n",
      "[CV] END criterion=gini, max_depth=None, min_samples_leaf=4, min_samples_split=10; total time=   0.1s\n",
      "[CV] END criterion=gini, max_depth=None, min_samples_leaf=4, min_samples_split=10; total time=   0.1s\n",
      "[CV] END criterion=gini, max_depth=None, min_samples_leaf=4, min_samples_split=10; total time=   0.1s\n",
      "[CV] END criterion=gini, max_depth=None, min_samples_leaf=4, min_samples_split=10; total time=   0.1s\n",
      "[CV] END criterion=gini, max_depth=10, min_samples_leaf=1, min_samples_split=2; total time=   0.1s\n",
      "[CV] END criterion=gini, max_depth=10, min_samples_leaf=1, min_samples_split=2; total time=   0.1s\n",
      "[CV] END criterion=gini, max_depth=10, min_samples_leaf=1, min_samples_split=2; total time=   0.1s\n",
      "[CV] END criterion=gini, max_depth=10, min_samples_leaf=1, min_samples_split=2; total time=   0.1s\n",
      "[CV] END criterion=gini, max_depth=10, min_samples_leaf=1, min_samples_split=2; total time=   0.1s\n",
      "[CV] END criterion=gini, max_depth=10, min_samples_leaf=1, min_samples_split=5; total time=   0.1s\n",
      "[CV] END criterion=gini, max_depth=10, min_samples_leaf=1, min_samples_split=5; total time=   0.1s\n",
      "[CV] END criterion=gini, max_depth=10, min_samples_leaf=1, min_samples_split=5; total time=   0.1s\n",
      "[CV] END criterion=gini, max_depth=10, min_samples_leaf=1, min_samples_split=5; total time=   0.1s\n",
      "[CV] END criterion=gini, max_depth=10, min_samples_leaf=1, min_samples_split=5; total time=   0.1s\n",
      "[CV] END criterion=gini, max_depth=10, min_samples_leaf=1, min_samples_split=10; total time=   0.1s\n",
      "[CV] END criterion=gini, max_depth=10, min_samples_leaf=1, min_samples_split=10; total time=   0.1s\n",
      "[CV] END criterion=gini, max_depth=10, min_samples_leaf=1, min_samples_split=10; total time=   0.1s\n",
      "[CV] END criterion=gini, max_depth=10, min_samples_leaf=1, min_samples_split=10; total time=   0.1s\n",
      "[CV] END criterion=gini, max_depth=10, min_samples_leaf=1, min_samples_split=10; total time=   0.1s\n",
      "[CV] END criterion=gini, max_depth=10, min_samples_leaf=2, min_samples_split=2; total time=   0.1s\n",
      "[CV] END criterion=gini, max_depth=10, min_samples_leaf=2, min_samples_split=2; total time=   0.1s\n",
      "[CV] END criterion=gini, max_depth=10, min_samples_leaf=2, min_samples_split=2; total time=   0.1s\n",
      "[CV] END criterion=gini, max_depth=10, min_samples_leaf=2, min_samples_split=2; total time=   0.1s\n",
      "[CV] END criterion=gini, max_depth=10, min_samples_leaf=2, min_samples_split=2; total time=   0.1s\n",
      "[CV] END criterion=gini, max_depth=10, min_samples_leaf=2, min_samples_split=5; total time=   0.1s\n",
      "[CV] END criterion=gini, max_depth=10, min_samples_leaf=2, min_samples_split=5; total time=   0.1s\n",
      "[CV] END criterion=gini, max_depth=10, min_samples_leaf=2, min_samples_split=5; total time=   0.1s\n",
      "[CV] END criterion=gini, max_depth=10, min_samples_leaf=2, min_samples_split=5; total time=   0.1s\n",
      "[CV] END criterion=gini, max_depth=10, min_samples_leaf=2, min_samples_split=5; total time=   0.1s\n",
      "[CV] END criterion=gini, max_depth=10, min_samples_leaf=2, min_samples_split=10; total time=   0.1s\n",
      "[CV] END criterion=gini, max_depth=10, min_samples_leaf=2, min_samples_split=10; total time=   0.1s\n",
      "[CV] END criterion=gini, max_depth=10, min_samples_leaf=2, min_samples_split=10; total time=   0.1s\n",
      "[CV] END criterion=gini, max_depth=10, min_samples_leaf=2, min_samples_split=10; total time=   0.1s\n",
      "[CV] END criterion=gini, max_depth=10, min_samples_leaf=2, min_samples_split=10; total time=   0.1s\n",
      "[CV] END criterion=gini, max_depth=10, min_samples_leaf=4, min_samples_split=2; total time=   0.1s\n",
      "[CV] END criterion=gini, max_depth=10, min_samples_leaf=4, min_samples_split=2; total time=   0.1s\n",
      "[CV] END criterion=gini, max_depth=10, min_samples_leaf=4, min_samples_split=2; total time=   0.1s\n",
      "[CV] END criterion=gini, max_depth=10, min_samples_leaf=4, min_samples_split=2; total time=   0.1s\n",
      "[CV] END criterion=gini, max_depth=10, min_samples_leaf=4, min_samples_split=2; total time=   0.1s\n",
      "[CV] END criterion=gini, max_depth=10, min_samples_leaf=4, min_samples_split=5; total time=   0.1s\n",
      "[CV] END criterion=gini, max_depth=10, min_samples_leaf=4, min_samples_split=5; total time=   0.1s\n",
      "[CV] END criterion=gini, max_depth=10, min_samples_leaf=4, min_samples_split=5; total time=   0.1s\n",
      "[CV] END criterion=gini, max_depth=10, min_samples_leaf=4, min_samples_split=5; total time=   0.1s\n",
      "[CV] END criterion=gini, max_depth=10, min_samples_leaf=4, min_samples_split=5; total time=   0.1s\n",
      "[CV] END criterion=gini, max_depth=10, min_samples_leaf=4, min_samples_split=10; total time=   0.1s\n",
      "[CV] END criterion=gini, max_depth=10, min_samples_leaf=4, min_samples_split=10; total time=   0.1s\n",
      "[CV] END criterion=gini, max_depth=10, min_samples_leaf=4, min_samples_split=10; total time=   0.1s\n",
      "[CV] END criterion=gini, max_depth=10, min_samples_leaf=4, min_samples_split=10; total time=   0.1s\n",
      "[CV] END criterion=gini, max_depth=10, min_samples_leaf=4, min_samples_split=10; total time=   0.1s\n",
      "[CV] END criterion=gini, max_depth=20, min_samples_leaf=1, min_samples_split=2; total time=   0.1s\n",
      "[CV] END criterion=gini, max_depth=20, min_samples_leaf=1, min_samples_split=2; total time=   0.1s\n",
      "[CV] END criterion=gini, max_depth=20, min_samples_leaf=1, min_samples_split=2; total time=   0.1s\n",
      "[CV] END criterion=gini, max_depth=20, min_samples_leaf=1, min_samples_split=2; total time=   0.1s\n",
      "[CV] END criterion=gini, max_depth=20, min_samples_leaf=1, min_samples_split=2; total time=   0.1s\n",
      "[CV] END criterion=gini, max_depth=20, min_samples_leaf=1, min_samples_split=5; total time=   0.1s\n",
      "[CV] END criterion=gini, max_depth=20, min_samples_leaf=1, min_samples_split=5; total time=   0.1s\n",
      "[CV] END criterion=gini, max_depth=20, min_samples_leaf=1, min_samples_split=5; total time=   0.1s\n",
      "[CV] END criterion=gini, max_depth=20, min_samples_leaf=1, min_samples_split=5; total time=   0.1s\n",
      "[CV] END criterion=gini, max_depth=20, min_samples_leaf=1, min_samples_split=5; total time=   0.1s\n",
      "[CV] END criterion=gini, max_depth=20, min_samples_leaf=1, min_samples_split=10; total time=   0.1s\n",
      "[CV] END criterion=gini, max_depth=20, min_samples_leaf=1, min_samples_split=10; total time=   0.1s\n",
      "[CV] END criterion=gini, max_depth=20, min_samples_leaf=1, min_samples_split=10; total time=   0.1s\n",
      "[CV] END criterion=gini, max_depth=20, min_samples_leaf=1, min_samples_split=10; total time=   0.1s\n",
      "[CV] END criterion=gini, max_depth=20, min_samples_leaf=1, min_samples_split=10; total time=   0.1s\n",
      "[CV] END criterion=gini, max_depth=20, min_samples_leaf=2, min_samples_split=2; total time=   0.1s\n",
      "[CV] END criterion=gini, max_depth=20, min_samples_leaf=2, min_samples_split=2; total time=   0.1s\n",
      "[CV] END criterion=gini, max_depth=20, min_samples_leaf=2, min_samples_split=2; total time=   0.1s\n",
      "[CV] END criterion=gini, max_depth=20, min_samples_leaf=2, min_samples_split=2; total time=   0.1s\n",
      "[CV] END criterion=gini, max_depth=20, min_samples_leaf=2, min_samples_split=2; total time=   0.1s\n",
      "[CV] END criterion=gini, max_depth=20, min_samples_leaf=2, min_samples_split=5; total time=   0.1s\n",
      "[CV] END criterion=gini, max_depth=20, min_samples_leaf=2, min_samples_split=5; total time=   0.1s\n",
      "[CV] END criterion=gini, max_depth=20, min_samples_leaf=2, min_samples_split=5; total time=   0.1s\n",
      "[CV] END criterion=gini, max_depth=20, min_samples_leaf=2, min_samples_split=5; total time=   0.1s\n",
      "[CV] END criterion=gini, max_depth=20, min_samples_leaf=2, min_samples_split=5; total time=   0.1s\n",
      "[CV] END criterion=gini, max_depth=20, min_samples_leaf=2, min_samples_split=10; total time=   0.1s\n",
      "[CV] END criterion=gini, max_depth=20, min_samples_leaf=2, min_samples_split=10; total time=   0.1s\n",
      "[CV] END criterion=gini, max_depth=20, min_samples_leaf=2, min_samples_split=10; total time=   0.1s\n",
      "[CV] END criterion=gini, max_depth=20, min_samples_leaf=2, min_samples_split=10; total time=   0.1s\n",
      "[CV] END criterion=gini, max_depth=20, min_samples_leaf=2, min_samples_split=10; total time=   0.1s\n",
      "[CV] END criterion=gini, max_depth=20, min_samples_leaf=4, min_samples_split=2; total time=   0.1s\n",
      "[CV] END criterion=gini, max_depth=20, min_samples_leaf=4, min_samples_split=2; total time=   0.1s\n",
      "[CV] END criterion=gini, max_depth=20, min_samples_leaf=4, min_samples_split=2; total time=   0.1s\n",
      "[CV] END criterion=gini, max_depth=20, min_samples_leaf=4, min_samples_split=2; total time=   0.1s\n",
      "[CV] END criterion=gini, max_depth=20, min_samples_leaf=4, min_samples_split=2; total time=   0.1s\n",
      "[CV] END criterion=gini, max_depth=20, min_samples_leaf=4, min_samples_split=5; total time=   0.1s\n",
      "[CV] END criterion=gini, max_depth=20, min_samples_leaf=4, min_samples_split=5; total time=   0.1s\n",
      "[CV] END criterion=gini, max_depth=20, min_samples_leaf=4, min_samples_split=5; total time=   0.1s\n",
      "[CV] END criterion=gini, max_depth=20, min_samples_leaf=4, min_samples_split=5; total time=   0.1s\n",
      "[CV] END criterion=gini, max_depth=20, min_samples_leaf=4, min_samples_split=5; total time=   0.1s\n",
      "[CV] END criterion=gini, max_depth=20, min_samples_leaf=4, min_samples_split=10; total time=   0.1s\n",
      "[CV] END criterion=gini, max_depth=20, min_samples_leaf=4, min_samples_split=10; total time=   0.1s\n",
      "[CV] END criterion=gini, max_depth=20, min_samples_leaf=4, min_samples_split=10; total time=   0.1s\n",
      "[CV] END criterion=gini, max_depth=20, min_samples_leaf=4, min_samples_split=10; total time=   0.1s\n",
      "[CV] END criterion=gini, max_depth=20, min_samples_leaf=4, min_samples_split=10; total time=   0.1s\n",
      "[CV] END criterion=gini, max_depth=30, min_samples_leaf=1, min_samples_split=2; total time=   0.1s\n",
      "[CV] END criterion=gini, max_depth=30, min_samples_leaf=1, min_samples_split=2; total time=   0.1s\n",
      "[CV] END criterion=gini, max_depth=30, min_samples_leaf=1, min_samples_split=2; total time=   0.1s\n",
      "[CV] END criterion=gini, max_depth=30, min_samples_leaf=1, min_samples_split=2; total time=   0.1s\n",
      "[CV] END criterion=gini, max_depth=30, min_samples_leaf=1, min_samples_split=2; total time=   0.1s\n",
      "[CV] END criterion=gini, max_depth=30, min_samples_leaf=1, min_samples_split=5; total time=   0.1s\n",
      "[CV] END criterion=gini, max_depth=30, min_samples_leaf=1, min_samples_split=5; total time=   0.1s\n",
      "[CV] END criterion=gini, max_depth=30, min_samples_leaf=1, min_samples_split=5; total time=   0.1s\n",
      "[CV] END criterion=gini, max_depth=30, min_samples_leaf=1, min_samples_split=5; total time=   0.1s\n",
      "[CV] END criterion=gini, max_depth=30, min_samples_leaf=1, min_samples_split=5; total time=   0.1s\n",
      "[CV] END criterion=gini, max_depth=30, min_samples_leaf=1, min_samples_split=10; total time=   0.1s\n",
      "[CV] END criterion=gini, max_depth=30, min_samples_leaf=1, min_samples_split=10; total time=   0.1s\n",
      "[CV] END criterion=gini, max_depth=30, min_samples_leaf=1, min_samples_split=10; total time=   0.1s\n",
      "[CV] END criterion=gini, max_depth=30, min_samples_leaf=1, min_samples_split=10; total time=   0.1s\n",
      "[CV] END criterion=gini, max_depth=30, min_samples_leaf=1, min_samples_split=10; total time=   0.1s\n",
      "[CV] END criterion=gini, max_depth=30, min_samples_leaf=2, min_samples_split=2; total time=   0.1s\n",
      "[CV] END criterion=gini, max_depth=30, min_samples_leaf=2, min_samples_split=2; total time=   0.1s\n",
      "[CV] END criterion=gini, max_depth=30, min_samples_leaf=2, min_samples_split=2; total time=   0.1s\n",
      "[CV] END criterion=gini, max_depth=30, min_samples_leaf=2, min_samples_split=2; total time=   0.1s\n",
      "[CV] END criterion=gini, max_depth=30, min_samples_leaf=2, min_samples_split=2; total time=   0.1s\n",
      "[CV] END criterion=gini, max_depth=30, min_samples_leaf=2, min_samples_split=5; total time=   0.1s\n",
      "[CV] END criterion=gini, max_depth=30, min_samples_leaf=2, min_samples_split=5; total time=   0.1s\n",
      "[CV] END criterion=gini, max_depth=30, min_samples_leaf=2, min_samples_split=5; total time=   0.1s\n",
      "[CV] END criterion=gini, max_depth=30, min_samples_leaf=2, min_samples_split=5; total time=   0.1s\n",
      "[CV] END criterion=gini, max_depth=30, min_samples_leaf=2, min_samples_split=5; total time=   0.1s\n",
      "[CV] END criterion=gini, max_depth=30, min_samples_leaf=2, min_samples_split=10; total time=   0.1s\n",
      "[CV] END criterion=gini, max_depth=30, min_samples_leaf=2, min_samples_split=10; total time=   0.1s\n",
      "[CV] END criterion=gini, max_depth=30, min_samples_leaf=2, min_samples_split=10; total time=   0.1s\n",
      "[CV] END criterion=gini, max_depth=30, min_samples_leaf=2, min_samples_split=10; total time=   0.1s\n",
      "[CV] END criterion=gini, max_depth=30, min_samples_leaf=2, min_samples_split=10; total time=   0.1s\n",
      "[CV] END criterion=gini, max_depth=30, min_samples_leaf=4, min_samples_split=2; total time=   0.1s\n",
      "[CV] END criterion=gini, max_depth=30, min_samples_leaf=4, min_samples_split=2; total time=   0.1s\n",
      "[CV] END criterion=gini, max_depth=30, min_samples_leaf=4, min_samples_split=2; total time=   0.1s\n",
      "[CV] END criterion=gini, max_depth=30, min_samples_leaf=4, min_samples_split=2; total time=   0.1s\n",
      "[CV] END criterion=gini, max_depth=30, min_samples_leaf=4, min_samples_split=2; total time=   0.1s\n",
      "[CV] END criterion=gini, max_depth=30, min_samples_leaf=4, min_samples_split=5; total time=   0.1s\n",
      "[CV] END criterion=gini, max_depth=30, min_samples_leaf=4, min_samples_split=5; total time=   0.1s\n",
      "[CV] END criterion=gini, max_depth=30, min_samples_leaf=4, min_samples_split=5; total time=   0.1s\n",
      "[CV] END criterion=gini, max_depth=30, min_samples_leaf=4, min_samples_split=5; total time=   0.1s\n",
      "[CV] END criterion=gini, max_depth=30, min_samples_leaf=4, min_samples_split=5; total time=   0.1s\n",
      "[CV] END criterion=gini, max_depth=30, min_samples_leaf=4, min_samples_split=10; total time=   0.1s\n",
      "[CV] END criterion=gini, max_depth=30, min_samples_leaf=4, min_samples_split=10; total time=   0.1s\n",
      "[CV] END criterion=gini, max_depth=30, min_samples_leaf=4, min_samples_split=10; total time=   0.1s\n",
      "[CV] END criterion=gini, max_depth=30, min_samples_leaf=4, min_samples_split=10; total time=   0.1s\n",
      "[CV] END criterion=gini, max_depth=30, min_samples_leaf=4, min_samples_split=10; total time=   0.1s\n",
      "[CV] END criterion=entropy, max_depth=None, min_samples_leaf=1, min_samples_split=2; total time=   0.2s\n",
      "[CV] END criterion=entropy, max_depth=None, min_samples_leaf=1, min_samples_split=2; total time=   0.2s\n",
      "[CV] END criterion=entropy, max_depth=None, min_samples_leaf=1, min_samples_split=2; total time=   0.2s\n",
      "[CV] END criterion=entropy, max_depth=None, min_samples_leaf=1, min_samples_split=2; total time=   0.2s\n",
      "[CV] END criterion=entropy, max_depth=None, min_samples_leaf=1, min_samples_split=2; total time=   0.2s\n",
      "[CV] END criterion=entropy, max_depth=None, min_samples_leaf=1, min_samples_split=5; total time=   0.2s\n",
      "[CV] END criterion=entropy, max_depth=None, min_samples_leaf=1, min_samples_split=5; total time=   0.2s\n",
      "[CV] END criterion=entropy, max_depth=None, min_samples_leaf=1, min_samples_split=5; total time=   0.2s\n",
      "[CV] END criterion=entropy, max_depth=None, min_samples_leaf=1, min_samples_split=5; total time=   0.2s\n",
      "[CV] END criterion=entropy, max_depth=None, min_samples_leaf=1, min_samples_split=5; total time=   0.2s\n",
      "[CV] END criterion=entropy, max_depth=None, min_samples_leaf=1, min_samples_split=10; total time=   0.2s\n",
      "[CV] END criterion=entropy, max_depth=None, min_samples_leaf=1, min_samples_split=10; total time=   0.2s\n",
      "[CV] END criterion=entropy, max_depth=None, min_samples_leaf=1, min_samples_split=10; total time=   0.2s\n",
      "[CV] END criterion=entropy, max_depth=None, min_samples_leaf=1, min_samples_split=10; total time=   0.2s\n",
      "[CV] END criterion=entropy, max_depth=None, min_samples_leaf=1, min_samples_split=10; total time=   0.2s\n",
      "[CV] END criterion=entropy, max_depth=None, min_samples_leaf=2, min_samples_split=2; total time=   0.2s\n",
      "[CV] END criterion=entropy, max_depth=None, min_samples_leaf=2, min_samples_split=2; total time=   0.2s\n",
      "[CV] END criterion=entropy, max_depth=None, min_samples_leaf=2, min_samples_split=2; total time=   0.2s\n",
      "[CV] END criterion=entropy, max_depth=None, min_samples_leaf=2, min_samples_split=2; total time=   0.2s\n",
      "[CV] END criterion=entropy, max_depth=None, min_samples_leaf=2, min_samples_split=2; total time=   0.2s\n",
      "[CV] END criterion=entropy, max_depth=None, min_samples_leaf=2, min_samples_split=5; total time=   0.2s\n",
      "[CV] END criterion=entropy, max_depth=None, min_samples_leaf=2, min_samples_split=5; total time=   0.2s\n",
      "[CV] END criterion=entropy, max_depth=None, min_samples_leaf=2, min_samples_split=5; total time=   0.2s\n",
      "[CV] END criterion=entropy, max_depth=None, min_samples_leaf=2, min_samples_split=5; total time=   0.2s\n",
      "[CV] END criterion=entropy, max_depth=None, min_samples_leaf=2, min_samples_split=5; total time=   0.2s\n",
      "[CV] END criterion=entropy, max_depth=None, min_samples_leaf=2, min_samples_split=10; total time=   0.2s\n",
      "[CV] END criterion=entropy, max_depth=None, min_samples_leaf=2, min_samples_split=10; total time=   0.2s\n",
      "[CV] END criterion=entropy, max_depth=None, min_samples_leaf=2, min_samples_split=10; total time=   0.2s\n",
      "[CV] END criterion=entropy, max_depth=None, min_samples_leaf=2, min_samples_split=10; total time=   0.2s\n",
      "[CV] END criterion=entropy, max_depth=None, min_samples_leaf=2, min_samples_split=10; total time=   0.2s\n",
      "[CV] END criterion=entropy, max_depth=None, min_samples_leaf=4, min_samples_split=2; total time=   0.2s\n",
      "[CV] END criterion=entropy, max_depth=None, min_samples_leaf=4, min_samples_split=2; total time=   0.2s\n",
      "[CV] END criterion=entropy, max_depth=None, min_samples_leaf=4, min_samples_split=2; total time=   0.2s\n",
      "[CV] END criterion=entropy, max_depth=None, min_samples_leaf=4, min_samples_split=2; total time=   0.2s\n",
      "[CV] END criterion=entropy, max_depth=None, min_samples_leaf=4, min_samples_split=2; total time=   0.2s\n",
      "[CV] END criterion=entropy, max_depth=None, min_samples_leaf=4, min_samples_split=5; total time=   0.2s\n",
      "[CV] END criterion=entropy, max_depth=None, min_samples_leaf=4, min_samples_split=5; total time=   0.2s\n",
      "[CV] END criterion=entropy, max_depth=None, min_samples_leaf=4, min_samples_split=5; total time=   0.2s\n",
      "[CV] END criterion=entropy, max_depth=None, min_samples_leaf=4, min_samples_split=5; total time=   0.2s\n",
      "[CV] END criterion=entropy, max_depth=None, min_samples_leaf=4, min_samples_split=5; total time=   0.2s\n",
      "[CV] END criterion=entropy, max_depth=None, min_samples_leaf=4, min_samples_split=10; total time=   0.2s\n",
      "[CV] END criterion=entropy, max_depth=None, min_samples_leaf=4, min_samples_split=10; total time=   0.2s\n",
      "[CV] END criterion=entropy, max_depth=None, min_samples_leaf=4, min_samples_split=10; total time=   0.2s\n",
      "[CV] END criterion=entropy, max_depth=None, min_samples_leaf=4, min_samples_split=10; total time=   0.2s\n",
      "[CV] END criterion=entropy, max_depth=None, min_samples_leaf=4, min_samples_split=10; total time=   0.2s\n",
      "[CV] END criterion=entropy, max_depth=10, min_samples_leaf=1, min_samples_split=2; total time=   0.2s\n",
      "[CV] END criterion=entropy, max_depth=10, min_samples_leaf=1, min_samples_split=2; total time=   0.2s\n",
      "[CV] END criterion=entropy, max_depth=10, min_samples_leaf=1, min_samples_split=2; total time=   0.2s\n",
      "[CV] END criterion=entropy, max_depth=10, min_samples_leaf=1, min_samples_split=2; total time=   0.2s\n",
      "[CV] END criterion=entropy, max_depth=10, min_samples_leaf=1, min_samples_split=2; total time=   0.2s\n",
      "[CV] END criterion=entropy, max_depth=10, min_samples_leaf=1, min_samples_split=5; total time=   0.2s\n",
      "[CV] END criterion=entropy, max_depth=10, min_samples_leaf=1, min_samples_split=5; total time=   0.2s\n",
      "[CV] END criterion=entropy, max_depth=10, min_samples_leaf=1, min_samples_split=5; total time=   0.2s\n",
      "[CV] END criterion=entropy, max_depth=10, min_samples_leaf=1, min_samples_split=5; total time=   0.2s\n",
      "[CV] END criterion=entropy, max_depth=10, min_samples_leaf=1, min_samples_split=5; total time=   0.2s\n",
      "[CV] END criterion=entropy, max_depth=10, min_samples_leaf=1, min_samples_split=10; total time=   0.2s\n",
      "[CV] END criterion=entropy, max_depth=10, min_samples_leaf=1, min_samples_split=10; total time=   0.2s\n",
      "[CV] END criterion=entropy, max_depth=10, min_samples_leaf=1, min_samples_split=10; total time=   0.2s\n",
      "[CV] END criterion=entropy, max_depth=10, min_samples_leaf=1, min_samples_split=10; total time=   0.2s\n",
      "[CV] END criterion=entropy, max_depth=10, min_samples_leaf=1, min_samples_split=10; total time=   0.2s\n",
      "[CV] END criterion=entropy, max_depth=10, min_samples_leaf=2, min_samples_split=2; total time=   0.2s\n",
      "[CV] END criterion=entropy, max_depth=10, min_samples_leaf=2, min_samples_split=2; total time=   0.2s\n",
      "[CV] END criterion=entropy, max_depth=10, min_samples_leaf=2, min_samples_split=2; total time=   0.2s\n",
      "[CV] END criterion=entropy, max_depth=10, min_samples_leaf=2, min_samples_split=2; total time=   0.2s\n",
      "[CV] END criterion=entropy, max_depth=10, min_samples_leaf=2, min_samples_split=2; total time=   0.2s\n",
      "[CV] END criterion=entropy, max_depth=10, min_samples_leaf=2, min_samples_split=5; total time=   0.2s\n",
      "[CV] END criterion=entropy, max_depth=10, min_samples_leaf=2, min_samples_split=5; total time=   0.2s\n",
      "[CV] END criterion=entropy, max_depth=10, min_samples_leaf=2, min_samples_split=5; total time=   0.2s\n",
      "[CV] END criterion=entropy, max_depth=10, min_samples_leaf=2, min_samples_split=5; total time=   0.2s\n",
      "[CV] END criterion=entropy, max_depth=10, min_samples_leaf=2, min_samples_split=5; total time=   0.2s\n",
      "[CV] END criterion=entropy, max_depth=10, min_samples_leaf=2, min_samples_split=10; total time=   0.2s\n",
      "[CV] END criterion=entropy, max_depth=10, min_samples_leaf=2, min_samples_split=10; total time=   0.2s\n",
      "[CV] END criterion=entropy, max_depth=10, min_samples_leaf=2, min_samples_split=10; total time=   0.2s\n",
      "[CV] END criterion=entropy, max_depth=10, min_samples_leaf=2, min_samples_split=10; total time=   0.2s\n",
      "[CV] END criterion=entropy, max_depth=10, min_samples_leaf=2, min_samples_split=10; total time=   0.2s\n",
      "[CV] END criterion=entropy, max_depth=10, min_samples_leaf=4, min_samples_split=2; total time=   0.2s\n",
      "[CV] END criterion=entropy, max_depth=10, min_samples_leaf=4, min_samples_split=2; total time=   0.2s\n",
      "[CV] END criterion=entropy, max_depth=10, min_samples_leaf=4, min_samples_split=2; total time=   0.2s\n",
      "[CV] END criterion=entropy, max_depth=10, min_samples_leaf=4, min_samples_split=2; total time=   0.2s\n",
      "[CV] END criterion=entropy, max_depth=10, min_samples_leaf=4, min_samples_split=2; total time=   0.2s\n",
      "[CV] END criterion=entropy, max_depth=10, min_samples_leaf=4, min_samples_split=5; total time=   0.2s\n",
      "[CV] END criterion=entropy, max_depth=10, min_samples_leaf=4, min_samples_split=5; total time=   0.2s\n",
      "[CV] END criterion=entropy, max_depth=10, min_samples_leaf=4, min_samples_split=5; total time=   0.2s\n",
      "[CV] END criterion=entropy, max_depth=10, min_samples_leaf=4, min_samples_split=5; total time=   0.2s\n",
      "[CV] END criterion=entropy, max_depth=10, min_samples_leaf=4, min_samples_split=5; total time=   0.2s\n",
      "[CV] END criterion=entropy, max_depth=10, min_samples_leaf=4, min_samples_split=10; total time=   0.2s\n",
      "[CV] END criterion=entropy, max_depth=10, min_samples_leaf=4, min_samples_split=10; total time=   0.2s\n",
      "[CV] END criterion=entropy, max_depth=10, min_samples_leaf=4, min_samples_split=10; total time=   0.2s\n",
      "[CV] END criterion=entropy, max_depth=10, min_samples_leaf=4, min_samples_split=10; total time=   0.2s\n",
      "[CV] END criterion=entropy, max_depth=10, min_samples_leaf=4, min_samples_split=10; total time=   0.2s\n",
      "[CV] END criterion=entropy, max_depth=20, min_samples_leaf=1, min_samples_split=2; total time=   0.2s\n",
      "[CV] END criterion=entropy, max_depth=20, min_samples_leaf=1, min_samples_split=2; total time=   0.2s\n",
      "[CV] END criterion=entropy, max_depth=20, min_samples_leaf=1, min_samples_split=2; total time=   0.2s\n",
      "[CV] END criterion=entropy, max_depth=20, min_samples_leaf=1, min_samples_split=2; total time=   0.2s\n",
      "[CV] END criterion=entropy, max_depth=20, min_samples_leaf=1, min_samples_split=2; total time=   0.2s\n",
      "[CV] END criterion=entropy, max_depth=20, min_samples_leaf=1, min_samples_split=5; total time=   0.2s\n",
      "[CV] END criterion=entropy, max_depth=20, min_samples_leaf=1, min_samples_split=5; total time=   0.2s\n",
      "[CV] END criterion=entropy, max_depth=20, min_samples_leaf=1, min_samples_split=5; total time=   0.2s\n",
      "[CV] END criterion=entropy, max_depth=20, min_samples_leaf=1, min_samples_split=5; total time=   0.2s\n",
      "[CV] END criterion=entropy, max_depth=20, min_samples_leaf=1, min_samples_split=5; total time=   0.2s\n",
      "[CV] END criterion=entropy, max_depth=20, min_samples_leaf=1, min_samples_split=10; total time=   0.2s\n",
      "[CV] END criterion=entropy, max_depth=20, min_samples_leaf=1, min_samples_split=10; total time=   0.2s\n",
      "[CV] END criterion=entropy, max_depth=20, min_samples_leaf=1, min_samples_split=10; total time=   0.2s\n",
      "[CV] END criterion=entropy, max_depth=20, min_samples_leaf=1, min_samples_split=10; total time=   0.2s\n",
      "[CV] END criterion=entropy, max_depth=20, min_samples_leaf=1, min_samples_split=10; total time=   0.2s\n",
      "[CV] END criterion=entropy, max_depth=20, min_samples_leaf=2, min_samples_split=2; total time=   0.2s\n",
      "[CV] END criterion=entropy, max_depth=20, min_samples_leaf=2, min_samples_split=2; total time=   0.2s\n",
      "[CV] END criterion=entropy, max_depth=20, min_samples_leaf=2, min_samples_split=2; total time=   0.2s\n",
      "[CV] END criterion=entropy, max_depth=20, min_samples_leaf=2, min_samples_split=2; total time=   0.2s\n",
      "[CV] END criterion=entropy, max_depth=20, min_samples_leaf=2, min_samples_split=2; total time=   0.2s\n",
      "[CV] END criterion=entropy, max_depth=20, min_samples_leaf=2, min_samples_split=5; total time=   0.2s\n",
      "[CV] END criterion=entropy, max_depth=20, min_samples_leaf=2, min_samples_split=5; total time=   0.2s\n",
      "[CV] END criterion=entropy, max_depth=20, min_samples_leaf=2, min_samples_split=5; total time=   0.2s\n",
      "[CV] END criterion=entropy, max_depth=20, min_samples_leaf=2, min_samples_split=5; total time=   0.2s\n",
      "[CV] END criterion=entropy, max_depth=20, min_samples_leaf=2, min_samples_split=5; total time=   0.2s\n",
      "[CV] END criterion=entropy, max_depth=20, min_samples_leaf=2, min_samples_split=10; total time=   0.2s\n",
      "[CV] END criterion=entropy, max_depth=20, min_samples_leaf=2, min_samples_split=10; total time=   0.2s\n",
      "[CV] END criterion=entropy, max_depth=20, min_samples_leaf=2, min_samples_split=10; total time=   0.2s\n",
      "[CV] END criterion=entropy, max_depth=20, min_samples_leaf=2, min_samples_split=10; total time=   0.2s\n",
      "[CV] END criterion=entropy, max_depth=20, min_samples_leaf=2, min_samples_split=10; total time=   0.2s\n",
      "[CV] END criterion=entropy, max_depth=20, min_samples_leaf=4, min_samples_split=2; total time=   0.2s\n",
      "[CV] END criterion=entropy, max_depth=20, min_samples_leaf=4, min_samples_split=2; total time=   0.2s\n",
      "[CV] END criterion=entropy, max_depth=20, min_samples_leaf=4, min_samples_split=2; total time=   0.2s\n",
      "[CV] END criterion=entropy, max_depth=20, min_samples_leaf=4, min_samples_split=2; total time=   0.2s\n",
      "[CV] END criterion=entropy, max_depth=20, min_samples_leaf=4, min_samples_split=2; total time=   0.2s\n",
      "[CV] END criterion=entropy, max_depth=20, min_samples_leaf=4, min_samples_split=5; total time=   0.2s\n",
      "[CV] END criterion=entropy, max_depth=20, min_samples_leaf=4, min_samples_split=5; total time=   0.2s\n",
      "[CV] END criterion=entropy, max_depth=20, min_samples_leaf=4, min_samples_split=5; total time=   0.2s\n",
      "[CV] END criterion=entropy, max_depth=20, min_samples_leaf=4, min_samples_split=5; total time=   0.2s\n",
      "[CV] END criterion=entropy, max_depth=20, min_samples_leaf=4, min_samples_split=5; total time=   0.2s\n",
      "[CV] END criterion=entropy, max_depth=20, min_samples_leaf=4, min_samples_split=10; total time=   0.2s\n",
      "[CV] END criterion=entropy, max_depth=20, min_samples_leaf=4, min_samples_split=10; total time=   0.2s\n",
      "[CV] END criterion=entropy, max_depth=20, min_samples_leaf=4, min_samples_split=10; total time=   0.2s\n",
      "[CV] END criterion=entropy, max_depth=20, min_samples_leaf=4, min_samples_split=10; total time=   0.2s\n",
      "[CV] END criterion=entropy, max_depth=20, min_samples_leaf=4, min_samples_split=10; total time=   0.2s\n",
      "[CV] END criterion=entropy, max_depth=30, min_samples_leaf=1, min_samples_split=2; total time=   0.2s\n",
      "[CV] END criterion=entropy, max_depth=30, min_samples_leaf=1, min_samples_split=2; total time=   0.2s\n",
      "[CV] END criterion=entropy, max_depth=30, min_samples_leaf=1, min_samples_split=2; total time=   0.2s\n",
      "[CV] END criterion=entropy, max_depth=30, min_samples_leaf=1, min_samples_split=2; total time=   0.2s\n",
      "[CV] END criterion=entropy, max_depth=30, min_samples_leaf=1, min_samples_split=2; total time=   0.3s\n",
      "[CV] END criterion=entropy, max_depth=30, min_samples_leaf=1, min_samples_split=5; total time=   0.2s\n",
      "[CV] END criterion=entropy, max_depth=30, min_samples_leaf=1, min_samples_split=5; total time=   0.2s\n",
      "[CV] END criterion=entropy, max_depth=30, min_samples_leaf=1, min_samples_split=5; total time=   0.2s\n",
      "[CV] END criterion=entropy, max_depth=30, min_samples_leaf=1, min_samples_split=5; total time=   0.2s\n",
      "[CV] END criterion=entropy, max_depth=30, min_samples_leaf=1, min_samples_split=5; total time=   0.2s\n",
      "[CV] END criterion=entropy, max_depth=30, min_samples_leaf=1, min_samples_split=10; total time=   0.2s\n",
      "[CV] END criterion=entropy, max_depth=30, min_samples_leaf=1, min_samples_split=10; total time=   0.2s\n",
      "[CV] END criterion=entropy, max_depth=30, min_samples_leaf=1, min_samples_split=10; total time=   0.2s\n",
      "[CV] END criterion=entropy, max_depth=30, min_samples_leaf=1, min_samples_split=10; total time=   0.2s\n",
      "[CV] END criterion=entropy, max_depth=30, min_samples_leaf=1, min_samples_split=10; total time=   0.2s\n",
      "[CV] END criterion=entropy, max_depth=30, min_samples_leaf=2, min_samples_split=2; total time=   0.2s\n",
      "[CV] END criterion=entropy, max_depth=30, min_samples_leaf=2, min_samples_split=2; total time=   0.2s\n",
      "[CV] END criterion=entropy, max_depth=30, min_samples_leaf=2, min_samples_split=2; total time=   0.2s\n",
      "[CV] END criterion=entropy, max_depth=30, min_samples_leaf=2, min_samples_split=2; total time=   0.2s\n",
      "[CV] END criterion=entropy, max_depth=30, min_samples_leaf=2, min_samples_split=2; total time=   0.2s\n",
      "[CV] END criterion=entropy, max_depth=30, min_samples_leaf=2, min_samples_split=5; total time=   0.2s\n",
      "[CV] END criterion=entropy, max_depth=30, min_samples_leaf=2, min_samples_split=5; total time=   0.2s\n",
      "[CV] END criterion=entropy, max_depth=30, min_samples_leaf=2, min_samples_split=5; total time=   0.2s\n",
      "[CV] END criterion=entropy, max_depth=30, min_samples_leaf=2, min_samples_split=5; total time=   0.2s\n",
      "[CV] END criterion=entropy, max_depth=30, min_samples_leaf=2, min_samples_split=5; total time=   0.2s\n",
      "[CV] END criterion=entropy, max_depth=30, min_samples_leaf=2, min_samples_split=10; total time=   0.2s\n",
      "[CV] END criterion=entropy, max_depth=30, min_samples_leaf=2, min_samples_split=10; total time=   0.2s\n",
      "[CV] END criterion=entropy, max_depth=30, min_samples_leaf=2, min_samples_split=10; total time=   0.2s\n",
      "[CV] END criterion=entropy, max_depth=30, min_samples_leaf=2, min_samples_split=10; total time=   0.2s\n",
      "[CV] END criterion=entropy, max_depth=30, min_samples_leaf=2, min_samples_split=10; total time=   0.2s\n",
      "[CV] END criterion=entropy, max_depth=30, min_samples_leaf=4, min_samples_split=2; total time=   0.2s\n",
      "[CV] END criterion=entropy, max_depth=30, min_samples_leaf=4, min_samples_split=2; total time=   0.2s\n",
      "[CV] END criterion=entropy, max_depth=30, min_samples_leaf=4, min_samples_split=2; total time=   0.2s\n",
      "[CV] END criterion=entropy, max_depth=30, min_samples_leaf=4, min_samples_split=2; total time=   0.2s\n",
      "[CV] END criterion=entropy, max_depth=30, min_samples_leaf=4, min_samples_split=2; total time=   0.2s\n",
      "[CV] END criterion=entropy, max_depth=30, min_samples_leaf=4, min_samples_split=5; total time=   0.2s\n",
      "[CV] END criterion=entropy, max_depth=30, min_samples_leaf=4, min_samples_split=5; total time=   0.2s\n",
      "[CV] END criterion=entropy, max_depth=30, min_samples_leaf=4, min_samples_split=5; total time=   0.2s\n",
      "[CV] END criterion=entropy, max_depth=30, min_samples_leaf=4, min_samples_split=5; total time=   0.2s\n",
      "[CV] END criterion=entropy, max_depth=30, min_samples_leaf=4, min_samples_split=5; total time=   0.2s\n",
      "[CV] END criterion=entropy, max_depth=30, min_samples_leaf=4, min_samples_split=10; total time=   0.2s\n",
      "[CV] END criterion=entropy, max_depth=30, min_samples_leaf=4, min_samples_split=10; total time=   0.2s\n",
      "[CV] END criterion=entropy, max_depth=30, min_samples_leaf=4, min_samples_split=10; total time=   0.2s\n",
      "[CV] END criterion=entropy, max_depth=30, min_samples_leaf=4, min_samples_split=10; total time=   0.2s\n",
      "[CV] END criterion=entropy, max_depth=30, min_samples_leaf=4, min_samples_split=10; total time=   0.2s\n"
     ]
    }
   ],
   "source": [
    "dt = DecisionTreeClassifier(random_state=0)\n",
    "grid_search_dt = GridSearchCV(estimator=dt, param_grid=param_grid_dt, cv=5, scoring='accuracy', verbose=2)\n",
    "grid_search_dt.fit(x_train, y_train)\n",
    "best_dt = grid_search_dt.best_estimator_\n",
    "y_pred_dt = best_dt.predict(x_test)"
   ]
  },
  {
   "cell_type": "code",
   "execution_count": 37,
   "metadata": {},
   "outputs": [
    {
     "name": "stdout",
     "output_type": "stream",
     "text": [
      "Fitting 5 folds for each of 18 candidates, totalling 90 fits\n"
     ]
    },
    {
     "name": "stderr",
     "output_type": "stream",
     "text": [
      "/Users/lalune/Library/Python/3.9/lib/python/site-packages/sklearn/ensemble/_weight_boosting.py:519: FutureWarning: The parameter 'algorithm' is deprecated in 1.6 and has no effect. It will be removed in version 1.8.\n",
      "  warnings.warn(\n"
     ]
    },
    {
     "name": "stdout",
     "output_type": "stream",
     "text": [
      "[CV] END algorithm=SAMME, learning_rate=0.01, n_estimators=50; total time=   1.4s\n"
     ]
    },
    {
     "name": "stderr",
     "output_type": "stream",
     "text": [
      "/Users/lalune/Library/Python/3.9/lib/python/site-packages/sklearn/ensemble/_weight_boosting.py:519: FutureWarning: The parameter 'algorithm' is deprecated in 1.6 and has no effect. It will be removed in version 1.8.\n",
      "  warnings.warn(\n"
     ]
    },
    {
     "name": "stdout",
     "output_type": "stream",
     "text": [
      "[CV] END algorithm=SAMME, learning_rate=0.01, n_estimators=50; total time=   1.3s\n"
     ]
    },
    {
     "name": "stderr",
     "output_type": "stream",
     "text": [
      "/Users/lalune/Library/Python/3.9/lib/python/site-packages/sklearn/ensemble/_weight_boosting.py:519: FutureWarning: The parameter 'algorithm' is deprecated in 1.6 and has no effect. It will be removed in version 1.8.\n",
      "  warnings.warn(\n"
     ]
    },
    {
     "name": "stdout",
     "output_type": "stream",
     "text": [
      "[CV] END algorithm=SAMME, learning_rate=0.01, n_estimators=50; total time=   1.3s\n"
     ]
    },
    {
     "name": "stderr",
     "output_type": "stream",
     "text": [
      "/Users/lalune/Library/Python/3.9/lib/python/site-packages/sklearn/ensemble/_weight_boosting.py:519: FutureWarning: The parameter 'algorithm' is deprecated in 1.6 and has no effect. It will be removed in version 1.8.\n",
      "  warnings.warn(\n"
     ]
    },
    {
     "name": "stdout",
     "output_type": "stream",
     "text": [
      "[CV] END algorithm=SAMME, learning_rate=0.01, n_estimators=50; total time=   1.4s\n"
     ]
    },
    {
     "name": "stderr",
     "output_type": "stream",
     "text": [
      "/Users/lalune/Library/Python/3.9/lib/python/site-packages/sklearn/ensemble/_weight_boosting.py:519: FutureWarning: The parameter 'algorithm' is deprecated in 1.6 and has no effect. It will be removed in version 1.8.\n",
      "  warnings.warn(\n"
     ]
    },
    {
     "name": "stdout",
     "output_type": "stream",
     "text": [
      "[CV] END algorithm=SAMME, learning_rate=0.01, n_estimators=50; total time=   1.3s\n"
     ]
    },
    {
     "name": "stderr",
     "output_type": "stream",
     "text": [
      "/Users/lalune/Library/Python/3.9/lib/python/site-packages/sklearn/ensemble/_weight_boosting.py:519: FutureWarning: The parameter 'algorithm' is deprecated in 1.6 and has no effect. It will be removed in version 1.8.\n",
      "  warnings.warn(\n"
     ]
    },
    {
     "name": "stdout",
     "output_type": "stream",
     "text": [
      "[CV] END algorithm=SAMME, learning_rate=0.01, n_estimators=100; total time=   2.7s\n"
     ]
    },
    {
     "name": "stderr",
     "output_type": "stream",
     "text": [
      "/Users/lalune/Library/Python/3.9/lib/python/site-packages/sklearn/ensemble/_weight_boosting.py:519: FutureWarning: The parameter 'algorithm' is deprecated in 1.6 and has no effect. It will be removed in version 1.8.\n",
      "  warnings.warn(\n"
     ]
    },
    {
     "name": "stdout",
     "output_type": "stream",
     "text": [
      "[CV] END algorithm=SAMME, learning_rate=0.01, n_estimators=100; total time=   2.7s\n"
     ]
    },
    {
     "name": "stderr",
     "output_type": "stream",
     "text": [
      "/Users/lalune/Library/Python/3.9/lib/python/site-packages/sklearn/ensemble/_weight_boosting.py:519: FutureWarning: The parameter 'algorithm' is deprecated in 1.6 and has no effect. It will be removed in version 1.8.\n",
      "  warnings.warn(\n"
     ]
    },
    {
     "name": "stdout",
     "output_type": "stream",
     "text": [
      "[CV] END algorithm=SAMME, learning_rate=0.01, n_estimators=100; total time=   2.7s\n"
     ]
    },
    {
     "name": "stderr",
     "output_type": "stream",
     "text": [
      "/Users/lalune/Library/Python/3.9/lib/python/site-packages/sklearn/ensemble/_weight_boosting.py:519: FutureWarning: The parameter 'algorithm' is deprecated in 1.6 and has no effect. It will be removed in version 1.8.\n",
      "  warnings.warn(\n"
     ]
    },
    {
     "name": "stdout",
     "output_type": "stream",
     "text": [
      "[CV] END algorithm=SAMME, learning_rate=0.01, n_estimators=100; total time=   2.6s\n"
     ]
    },
    {
     "name": "stderr",
     "output_type": "stream",
     "text": [
      "/Users/lalune/Library/Python/3.9/lib/python/site-packages/sklearn/ensemble/_weight_boosting.py:519: FutureWarning: The parameter 'algorithm' is deprecated in 1.6 and has no effect. It will be removed in version 1.8.\n",
      "  warnings.warn(\n"
     ]
    },
    {
     "name": "stdout",
     "output_type": "stream",
     "text": [
      "[CV] END algorithm=SAMME, learning_rate=0.01, n_estimators=100; total time=   2.7s\n"
     ]
    },
    {
     "name": "stderr",
     "output_type": "stream",
     "text": [
      "/Users/lalune/Library/Python/3.9/lib/python/site-packages/sklearn/ensemble/_weight_boosting.py:519: FutureWarning: The parameter 'algorithm' is deprecated in 1.6 and has no effect. It will be removed in version 1.8.\n",
      "  warnings.warn(\n"
     ]
    },
    {
     "name": "stdout",
     "output_type": "stream",
     "text": [
      "[CV] END algorithm=SAMME, learning_rate=0.01, n_estimators=200; total time=   5.3s\n"
     ]
    },
    {
     "name": "stderr",
     "output_type": "stream",
     "text": [
      "/Users/lalune/Library/Python/3.9/lib/python/site-packages/sklearn/ensemble/_weight_boosting.py:519: FutureWarning: The parameter 'algorithm' is deprecated in 1.6 and has no effect. It will be removed in version 1.8.\n",
      "  warnings.warn(\n"
     ]
    },
    {
     "name": "stdout",
     "output_type": "stream",
     "text": [
      "[CV] END algorithm=SAMME, learning_rate=0.01, n_estimators=200; total time=   5.4s\n"
     ]
    },
    {
     "name": "stderr",
     "output_type": "stream",
     "text": [
      "/Users/lalune/Library/Python/3.9/lib/python/site-packages/sklearn/ensemble/_weight_boosting.py:519: FutureWarning: The parameter 'algorithm' is deprecated in 1.6 and has no effect. It will be removed in version 1.8.\n",
      "  warnings.warn(\n"
     ]
    },
    {
     "name": "stdout",
     "output_type": "stream",
     "text": [
      "[CV] END algorithm=SAMME, learning_rate=0.01, n_estimators=200; total time=   5.4s\n"
     ]
    },
    {
     "name": "stderr",
     "output_type": "stream",
     "text": [
      "/Users/lalune/Library/Python/3.9/lib/python/site-packages/sklearn/ensemble/_weight_boosting.py:519: FutureWarning: The parameter 'algorithm' is deprecated in 1.6 and has no effect. It will be removed in version 1.8.\n",
      "  warnings.warn(\n"
     ]
    },
    {
     "name": "stdout",
     "output_type": "stream",
     "text": [
      "[CV] END algorithm=SAMME, learning_rate=0.01, n_estimators=200; total time=   5.3s\n"
     ]
    },
    {
     "name": "stderr",
     "output_type": "stream",
     "text": [
      "/Users/lalune/Library/Python/3.9/lib/python/site-packages/sklearn/ensemble/_weight_boosting.py:519: FutureWarning: The parameter 'algorithm' is deprecated in 1.6 and has no effect. It will be removed in version 1.8.\n",
      "  warnings.warn(\n"
     ]
    },
    {
     "name": "stdout",
     "output_type": "stream",
     "text": [
      "[CV] END algorithm=SAMME, learning_rate=0.01, n_estimators=200; total time=   5.3s\n"
     ]
    },
    {
     "name": "stderr",
     "output_type": "stream",
     "text": [
      "/Users/lalune/Library/Python/3.9/lib/python/site-packages/sklearn/ensemble/_weight_boosting.py:519: FutureWarning: The parameter 'algorithm' is deprecated in 1.6 and has no effect. It will be removed in version 1.8.\n",
      "  warnings.warn(\n"
     ]
    },
    {
     "name": "stdout",
     "output_type": "stream",
     "text": [
      "[CV] END algorithm=SAMME, learning_rate=0.1, n_estimators=50; total time=   1.3s\n"
     ]
    },
    {
     "name": "stderr",
     "output_type": "stream",
     "text": [
      "/Users/lalune/Library/Python/3.9/lib/python/site-packages/sklearn/ensemble/_weight_boosting.py:519: FutureWarning: The parameter 'algorithm' is deprecated in 1.6 and has no effect. It will be removed in version 1.8.\n",
      "  warnings.warn(\n"
     ]
    },
    {
     "name": "stdout",
     "output_type": "stream",
     "text": [
      "[CV] END algorithm=SAMME, learning_rate=0.1, n_estimators=50; total time=   1.3s\n"
     ]
    },
    {
     "name": "stderr",
     "output_type": "stream",
     "text": [
      "/Users/lalune/Library/Python/3.9/lib/python/site-packages/sklearn/ensemble/_weight_boosting.py:519: FutureWarning: The parameter 'algorithm' is deprecated in 1.6 and has no effect. It will be removed in version 1.8.\n",
      "  warnings.warn(\n"
     ]
    },
    {
     "name": "stdout",
     "output_type": "stream",
     "text": [
      "[CV] END algorithm=SAMME, learning_rate=0.1, n_estimators=50; total time=   1.3s\n"
     ]
    },
    {
     "name": "stderr",
     "output_type": "stream",
     "text": [
      "/Users/lalune/Library/Python/3.9/lib/python/site-packages/sklearn/ensemble/_weight_boosting.py:519: FutureWarning: The parameter 'algorithm' is deprecated in 1.6 and has no effect. It will be removed in version 1.8.\n",
      "  warnings.warn(\n"
     ]
    },
    {
     "name": "stdout",
     "output_type": "stream",
     "text": [
      "[CV] END algorithm=SAMME, learning_rate=0.1, n_estimators=50; total time=   1.3s\n"
     ]
    },
    {
     "name": "stderr",
     "output_type": "stream",
     "text": [
      "/Users/lalune/Library/Python/3.9/lib/python/site-packages/sklearn/ensemble/_weight_boosting.py:519: FutureWarning: The parameter 'algorithm' is deprecated in 1.6 and has no effect. It will be removed in version 1.8.\n",
      "  warnings.warn(\n"
     ]
    },
    {
     "name": "stdout",
     "output_type": "stream",
     "text": [
      "[CV] END algorithm=SAMME, learning_rate=0.1, n_estimators=50; total time=   1.3s\n"
     ]
    },
    {
     "name": "stderr",
     "output_type": "stream",
     "text": [
      "/Users/lalune/Library/Python/3.9/lib/python/site-packages/sklearn/ensemble/_weight_boosting.py:519: FutureWarning: The parameter 'algorithm' is deprecated in 1.6 and has no effect. It will be removed in version 1.8.\n",
      "  warnings.warn(\n"
     ]
    },
    {
     "name": "stdout",
     "output_type": "stream",
     "text": [
      "[CV] END algorithm=SAMME, learning_rate=0.1, n_estimators=100; total time=   2.7s\n"
     ]
    },
    {
     "name": "stderr",
     "output_type": "stream",
     "text": [
      "/Users/lalune/Library/Python/3.9/lib/python/site-packages/sklearn/ensemble/_weight_boosting.py:519: FutureWarning: The parameter 'algorithm' is deprecated in 1.6 and has no effect. It will be removed in version 1.8.\n",
      "  warnings.warn(\n"
     ]
    },
    {
     "name": "stdout",
     "output_type": "stream",
     "text": [
      "[CV] END algorithm=SAMME, learning_rate=0.1, n_estimators=100; total time=   2.7s\n"
     ]
    },
    {
     "name": "stderr",
     "output_type": "stream",
     "text": [
      "/Users/lalune/Library/Python/3.9/lib/python/site-packages/sklearn/ensemble/_weight_boosting.py:519: FutureWarning: The parameter 'algorithm' is deprecated in 1.6 and has no effect. It will be removed in version 1.8.\n",
      "  warnings.warn(\n"
     ]
    },
    {
     "name": "stdout",
     "output_type": "stream",
     "text": [
      "[CV] END algorithm=SAMME, learning_rate=0.1, n_estimators=100; total time=   2.7s\n"
     ]
    },
    {
     "name": "stderr",
     "output_type": "stream",
     "text": [
      "/Users/lalune/Library/Python/3.9/lib/python/site-packages/sklearn/ensemble/_weight_boosting.py:519: FutureWarning: The parameter 'algorithm' is deprecated in 1.6 and has no effect. It will be removed in version 1.8.\n",
      "  warnings.warn(\n"
     ]
    },
    {
     "name": "stdout",
     "output_type": "stream",
     "text": [
      "[CV] END algorithm=SAMME, learning_rate=0.1, n_estimators=100; total time=   2.6s\n"
     ]
    },
    {
     "name": "stderr",
     "output_type": "stream",
     "text": [
      "/Users/lalune/Library/Python/3.9/lib/python/site-packages/sklearn/ensemble/_weight_boosting.py:519: FutureWarning: The parameter 'algorithm' is deprecated in 1.6 and has no effect. It will be removed in version 1.8.\n",
      "  warnings.warn(\n"
     ]
    },
    {
     "name": "stdout",
     "output_type": "stream",
     "text": [
      "[CV] END algorithm=SAMME, learning_rate=0.1, n_estimators=100; total time=   2.7s\n"
     ]
    },
    {
     "name": "stderr",
     "output_type": "stream",
     "text": [
      "/Users/lalune/Library/Python/3.9/lib/python/site-packages/sklearn/ensemble/_weight_boosting.py:519: FutureWarning: The parameter 'algorithm' is deprecated in 1.6 and has no effect. It will be removed in version 1.8.\n",
      "  warnings.warn(\n"
     ]
    },
    {
     "name": "stdout",
     "output_type": "stream",
     "text": [
      "[CV] END algorithm=SAMME, learning_rate=0.1, n_estimators=200; total time=   5.3s\n"
     ]
    },
    {
     "name": "stderr",
     "output_type": "stream",
     "text": [
      "/Users/lalune/Library/Python/3.9/lib/python/site-packages/sklearn/ensemble/_weight_boosting.py:519: FutureWarning: The parameter 'algorithm' is deprecated in 1.6 and has no effect. It will be removed in version 1.8.\n",
      "  warnings.warn(\n"
     ]
    },
    {
     "name": "stdout",
     "output_type": "stream",
     "text": [
      "[CV] END algorithm=SAMME, learning_rate=0.1, n_estimators=200; total time=   5.3s\n"
     ]
    },
    {
     "name": "stderr",
     "output_type": "stream",
     "text": [
      "/Users/lalune/Library/Python/3.9/lib/python/site-packages/sklearn/ensemble/_weight_boosting.py:519: FutureWarning: The parameter 'algorithm' is deprecated in 1.6 and has no effect. It will be removed in version 1.8.\n",
      "  warnings.warn(\n"
     ]
    },
    {
     "name": "stdout",
     "output_type": "stream",
     "text": [
      "[CV] END algorithm=SAMME, learning_rate=0.1, n_estimators=200; total time=   5.3s\n"
     ]
    },
    {
     "name": "stderr",
     "output_type": "stream",
     "text": [
      "/Users/lalune/Library/Python/3.9/lib/python/site-packages/sklearn/ensemble/_weight_boosting.py:519: FutureWarning: The parameter 'algorithm' is deprecated in 1.6 and has no effect. It will be removed in version 1.8.\n",
      "  warnings.warn(\n"
     ]
    },
    {
     "name": "stdout",
     "output_type": "stream",
     "text": [
      "[CV] END algorithm=SAMME, learning_rate=0.1, n_estimators=200; total time=   5.3s\n"
     ]
    },
    {
     "name": "stderr",
     "output_type": "stream",
     "text": [
      "/Users/lalune/Library/Python/3.9/lib/python/site-packages/sklearn/ensemble/_weight_boosting.py:519: FutureWarning: The parameter 'algorithm' is deprecated in 1.6 and has no effect. It will be removed in version 1.8.\n",
      "  warnings.warn(\n"
     ]
    },
    {
     "name": "stdout",
     "output_type": "stream",
     "text": [
      "[CV] END algorithm=SAMME, learning_rate=0.1, n_estimators=200; total time=   5.3s\n"
     ]
    },
    {
     "name": "stderr",
     "output_type": "stream",
     "text": [
      "/Users/lalune/Library/Python/3.9/lib/python/site-packages/sklearn/ensemble/_weight_boosting.py:519: FutureWarning: The parameter 'algorithm' is deprecated in 1.6 and has no effect. It will be removed in version 1.8.\n",
      "  warnings.warn(\n"
     ]
    },
    {
     "name": "stdout",
     "output_type": "stream",
     "text": [
      "[CV] END ..algorithm=SAMME, learning_rate=1, n_estimators=50; total time=   1.4s\n"
     ]
    },
    {
     "name": "stderr",
     "output_type": "stream",
     "text": [
      "/Users/lalune/Library/Python/3.9/lib/python/site-packages/sklearn/ensemble/_weight_boosting.py:519: FutureWarning: The parameter 'algorithm' is deprecated in 1.6 and has no effect. It will be removed in version 1.8.\n",
      "  warnings.warn(\n"
     ]
    },
    {
     "name": "stdout",
     "output_type": "stream",
     "text": [
      "[CV] END ..algorithm=SAMME, learning_rate=1, n_estimators=50; total time=   1.4s\n"
     ]
    },
    {
     "name": "stderr",
     "output_type": "stream",
     "text": [
      "/Users/lalune/Library/Python/3.9/lib/python/site-packages/sklearn/ensemble/_weight_boosting.py:519: FutureWarning: The parameter 'algorithm' is deprecated in 1.6 and has no effect. It will be removed in version 1.8.\n",
      "  warnings.warn(\n"
     ]
    },
    {
     "name": "stdout",
     "output_type": "stream",
     "text": [
      "[CV] END ..algorithm=SAMME, learning_rate=1, n_estimators=50; total time=   1.4s\n"
     ]
    },
    {
     "name": "stderr",
     "output_type": "stream",
     "text": [
      "/Users/lalune/Library/Python/3.9/lib/python/site-packages/sklearn/ensemble/_weight_boosting.py:519: FutureWarning: The parameter 'algorithm' is deprecated in 1.6 and has no effect. It will be removed in version 1.8.\n",
      "  warnings.warn(\n"
     ]
    },
    {
     "name": "stdout",
     "output_type": "stream",
     "text": [
      "[CV] END ..algorithm=SAMME, learning_rate=1, n_estimators=50; total time=   1.3s\n"
     ]
    },
    {
     "name": "stderr",
     "output_type": "stream",
     "text": [
      "/Users/lalune/Library/Python/3.9/lib/python/site-packages/sklearn/ensemble/_weight_boosting.py:519: FutureWarning: The parameter 'algorithm' is deprecated in 1.6 and has no effect. It will be removed in version 1.8.\n",
      "  warnings.warn(\n"
     ]
    },
    {
     "name": "stdout",
     "output_type": "stream",
     "text": [
      "[CV] END ..algorithm=SAMME, learning_rate=1, n_estimators=50; total time=   1.3s\n"
     ]
    },
    {
     "name": "stderr",
     "output_type": "stream",
     "text": [
      "/Users/lalune/Library/Python/3.9/lib/python/site-packages/sklearn/ensemble/_weight_boosting.py:519: FutureWarning: The parameter 'algorithm' is deprecated in 1.6 and has no effect. It will be removed in version 1.8.\n",
      "  warnings.warn(\n"
     ]
    },
    {
     "name": "stdout",
     "output_type": "stream",
     "text": [
      "[CV] END .algorithm=SAMME, learning_rate=1, n_estimators=100; total time=   2.7s\n"
     ]
    },
    {
     "name": "stderr",
     "output_type": "stream",
     "text": [
      "/Users/lalune/Library/Python/3.9/lib/python/site-packages/sklearn/ensemble/_weight_boosting.py:519: FutureWarning: The parameter 'algorithm' is deprecated in 1.6 and has no effect. It will be removed in version 1.8.\n",
      "  warnings.warn(\n"
     ]
    },
    {
     "name": "stdout",
     "output_type": "stream",
     "text": [
      "[CV] END .algorithm=SAMME, learning_rate=1, n_estimators=100; total time=   2.7s\n"
     ]
    },
    {
     "name": "stderr",
     "output_type": "stream",
     "text": [
      "/Users/lalune/Library/Python/3.9/lib/python/site-packages/sklearn/ensemble/_weight_boosting.py:519: FutureWarning: The parameter 'algorithm' is deprecated in 1.6 and has no effect. It will be removed in version 1.8.\n",
      "  warnings.warn(\n"
     ]
    },
    {
     "name": "stdout",
     "output_type": "stream",
     "text": [
      "[CV] END .algorithm=SAMME, learning_rate=1, n_estimators=100; total time=   2.7s\n"
     ]
    },
    {
     "name": "stderr",
     "output_type": "stream",
     "text": [
      "/Users/lalune/Library/Python/3.9/lib/python/site-packages/sklearn/ensemble/_weight_boosting.py:519: FutureWarning: The parameter 'algorithm' is deprecated in 1.6 and has no effect. It will be removed in version 1.8.\n",
      "  warnings.warn(\n"
     ]
    },
    {
     "name": "stdout",
     "output_type": "stream",
     "text": [
      "[CV] END .algorithm=SAMME, learning_rate=1, n_estimators=100; total time=   2.7s\n"
     ]
    },
    {
     "name": "stderr",
     "output_type": "stream",
     "text": [
      "/Users/lalune/Library/Python/3.9/lib/python/site-packages/sklearn/ensemble/_weight_boosting.py:519: FutureWarning: The parameter 'algorithm' is deprecated in 1.6 and has no effect. It will be removed in version 1.8.\n",
      "  warnings.warn(\n"
     ]
    },
    {
     "name": "stdout",
     "output_type": "stream",
     "text": [
      "[CV] END .algorithm=SAMME, learning_rate=1, n_estimators=100; total time=   2.7s\n"
     ]
    },
    {
     "name": "stderr",
     "output_type": "stream",
     "text": [
      "/Users/lalune/Library/Python/3.9/lib/python/site-packages/sklearn/ensemble/_weight_boosting.py:519: FutureWarning: The parameter 'algorithm' is deprecated in 1.6 and has no effect. It will be removed in version 1.8.\n",
      "  warnings.warn(\n"
     ]
    },
    {
     "name": "stdout",
     "output_type": "stream",
     "text": [
      "[CV] END .algorithm=SAMME, learning_rate=1, n_estimators=200; total time=   5.3s\n"
     ]
    },
    {
     "name": "stderr",
     "output_type": "stream",
     "text": [
      "/Users/lalune/Library/Python/3.9/lib/python/site-packages/sklearn/ensemble/_weight_boosting.py:519: FutureWarning: The parameter 'algorithm' is deprecated in 1.6 and has no effect. It will be removed in version 1.8.\n",
      "  warnings.warn(\n"
     ]
    },
    {
     "name": "stdout",
     "output_type": "stream",
     "text": [
      "[CV] END .algorithm=SAMME, learning_rate=1, n_estimators=200; total time=   5.3s\n"
     ]
    },
    {
     "name": "stderr",
     "output_type": "stream",
     "text": [
      "/Users/lalune/Library/Python/3.9/lib/python/site-packages/sklearn/ensemble/_weight_boosting.py:519: FutureWarning: The parameter 'algorithm' is deprecated in 1.6 and has no effect. It will be removed in version 1.8.\n",
      "  warnings.warn(\n"
     ]
    },
    {
     "name": "stdout",
     "output_type": "stream",
     "text": [
      "[CV] END .algorithm=SAMME, learning_rate=1, n_estimators=200; total time=   5.2s\n"
     ]
    },
    {
     "name": "stderr",
     "output_type": "stream",
     "text": [
      "/Users/lalune/Library/Python/3.9/lib/python/site-packages/sklearn/ensemble/_weight_boosting.py:519: FutureWarning: The parameter 'algorithm' is deprecated in 1.6 and has no effect. It will be removed in version 1.8.\n",
      "  warnings.warn(\n"
     ]
    },
    {
     "name": "stdout",
     "output_type": "stream",
     "text": [
      "[CV] END .algorithm=SAMME, learning_rate=1, n_estimators=200; total time=   5.3s\n"
     ]
    },
    {
     "name": "stderr",
     "output_type": "stream",
     "text": [
      "/Users/lalune/Library/Python/3.9/lib/python/site-packages/sklearn/ensemble/_weight_boosting.py:519: FutureWarning: The parameter 'algorithm' is deprecated in 1.6 and has no effect. It will be removed in version 1.8.\n",
      "  warnings.warn(\n"
     ]
    },
    {
     "name": "stdout",
     "output_type": "stream",
     "text": [
      "[CV] END .algorithm=SAMME, learning_rate=1, n_estimators=200; total time=   5.3s\n",
      "[CV] END algorithm=SAMME.R, learning_rate=0.01, n_estimators=50; total time=   0.0s\n",
      "[CV] END algorithm=SAMME.R, learning_rate=0.01, n_estimators=50; total time=   0.0s\n",
      "[CV] END algorithm=SAMME.R, learning_rate=0.01, n_estimators=50; total time=   0.0s\n",
      "[CV] END algorithm=SAMME.R, learning_rate=0.01, n_estimators=50; total time=   0.0s\n",
      "[CV] END algorithm=SAMME.R, learning_rate=0.01, n_estimators=50; total time=   0.0s\n",
      "[CV] END algorithm=SAMME.R, learning_rate=0.01, n_estimators=100; total time=   0.0s\n",
      "[CV] END algorithm=SAMME.R, learning_rate=0.01, n_estimators=100; total time=   0.0s\n",
      "[CV] END algorithm=SAMME.R, learning_rate=0.01, n_estimators=100; total time=   0.0s\n",
      "[CV] END algorithm=SAMME.R, learning_rate=0.01, n_estimators=100; total time=   0.0s\n",
      "[CV] END algorithm=SAMME.R, learning_rate=0.01, n_estimators=100; total time=   0.0s\n",
      "[CV] END algorithm=SAMME.R, learning_rate=0.01, n_estimators=200; total time=   0.0s\n",
      "[CV] END algorithm=SAMME.R, learning_rate=0.01, n_estimators=200; total time=   0.0s\n",
      "[CV] END algorithm=SAMME.R, learning_rate=0.01, n_estimators=200; total time=   0.0s\n",
      "[CV] END algorithm=SAMME.R, learning_rate=0.01, n_estimators=200; total time=   0.0s\n",
      "[CV] END algorithm=SAMME.R, learning_rate=0.01, n_estimators=200; total time=   0.0s\n",
      "[CV] END algorithm=SAMME.R, learning_rate=0.1, n_estimators=50; total time=   0.0s\n",
      "[CV] END algorithm=SAMME.R, learning_rate=0.1, n_estimators=50; total time=   0.0s\n",
      "[CV] END algorithm=SAMME.R, learning_rate=0.1, n_estimators=50; total time=   0.0s\n",
      "[CV] END algorithm=SAMME.R, learning_rate=0.1, n_estimators=50; total time=   0.0s\n",
      "[CV] END algorithm=SAMME.R, learning_rate=0.1, n_estimators=50; total time=   0.0s\n",
      "[CV] END algorithm=SAMME.R, learning_rate=0.1, n_estimators=100; total time=   0.0s\n",
      "[CV] END algorithm=SAMME.R, learning_rate=0.1, n_estimators=100; total time=   0.0s\n",
      "[CV] END algorithm=SAMME.R, learning_rate=0.1, n_estimators=100; total time=   0.0s\n",
      "[CV] END algorithm=SAMME.R, learning_rate=0.1, n_estimators=100; total time=   0.0s\n",
      "[CV] END algorithm=SAMME.R, learning_rate=0.1, n_estimators=100; total time=   0.0s\n",
      "[CV] END algorithm=SAMME.R, learning_rate=0.1, n_estimators=200; total time=   0.0s\n",
      "[CV] END algorithm=SAMME.R, learning_rate=0.1, n_estimators=200; total time=   0.0s\n",
      "[CV] END algorithm=SAMME.R, learning_rate=0.1, n_estimators=200; total time=   0.0s\n",
      "[CV] END algorithm=SAMME.R, learning_rate=0.1, n_estimators=200; total time=   0.0s\n",
      "[CV] END algorithm=SAMME.R, learning_rate=0.1, n_estimators=200; total time=   0.0s\n",
      "[CV] END algorithm=SAMME.R, learning_rate=1, n_estimators=50; total time=   0.0s\n",
      "[CV] END algorithm=SAMME.R, learning_rate=1, n_estimators=50; total time=   0.0s\n",
      "[CV] END algorithm=SAMME.R, learning_rate=1, n_estimators=50; total time=   0.0s\n",
      "[CV] END algorithm=SAMME.R, learning_rate=1, n_estimators=50; total time=   0.0s\n",
      "[CV] END algorithm=SAMME.R, learning_rate=1, n_estimators=50; total time=   0.0s\n",
      "[CV] END algorithm=SAMME.R, learning_rate=1, n_estimators=100; total time=   0.0s\n",
      "[CV] END algorithm=SAMME.R, learning_rate=1, n_estimators=100; total time=   0.0s\n",
      "[CV] END algorithm=SAMME.R, learning_rate=1, n_estimators=100; total time=   0.0s\n",
      "[CV] END algorithm=SAMME.R, learning_rate=1, n_estimators=100; total time=   0.0s\n",
      "[CV] END algorithm=SAMME.R, learning_rate=1, n_estimators=100; total time=   0.0s\n",
      "[CV] END algorithm=SAMME.R, learning_rate=1, n_estimators=200; total time=   0.0s\n",
      "[CV] END algorithm=SAMME.R, learning_rate=1, n_estimators=200; total time=   0.0s\n",
      "[CV] END algorithm=SAMME.R, learning_rate=1, n_estimators=200; total time=   0.0s\n",
      "[CV] END algorithm=SAMME.R, learning_rate=1, n_estimators=200; total time=   0.0s\n",
      "[CV] END algorithm=SAMME.R, learning_rate=1, n_estimators=200; total time=   0.0s\n"
     ]
    },
    {
     "name": "stderr",
     "output_type": "stream",
     "text": [
      "/Users/lalune/Library/Python/3.9/lib/python/site-packages/sklearn/model_selection/_validation.py:528: FitFailedWarning: \n",
      "45 fits failed out of a total of 90.\n",
      "The score on these train-test partitions for these parameters will be set to nan.\n",
      "If these failures are not expected, you can try to debug them by setting error_score='raise'.\n",
      "\n",
      "Below are more details about the failures:\n",
      "--------------------------------------------------------------------------------\n",
      "45 fits failed with the following error:\n",
      "Traceback (most recent call last):\n",
      "  File \"/Users/lalune/Library/Python/3.9/lib/python/site-packages/sklearn/model_selection/_validation.py\", line 866, in _fit_and_score\n",
      "    estimator.fit(X_train, y_train, **fit_params)\n",
      "  File \"/Users/lalune/Library/Python/3.9/lib/python/site-packages/sklearn/base.py\", line 1382, in wrapper\n",
      "    estimator._validate_params()\n",
      "  File \"/Users/lalune/Library/Python/3.9/lib/python/site-packages/sklearn/base.py\", line 436, in _validate_params\n",
      "    validate_parameter_constraints(\n",
      "  File \"/Users/lalune/Library/Python/3.9/lib/python/site-packages/sklearn/utils/_param_validation.py\", line 98, in validate_parameter_constraints\n",
      "    raise InvalidParameterError(\n",
      "sklearn.utils._param_validation.InvalidParameterError: The 'algorithm' parameter of AdaBoostClassifier must be a str among {'SAMME'}. Got 'SAMME.R' instead.\n",
      "\n",
      "  warnings.warn(some_fits_failed_message, FitFailedWarning)\n",
      "/Users/lalune/Library/Python/3.9/lib/python/site-packages/sklearn/model_selection/_search.py:1108: UserWarning: One or more of the test scores are non-finite: [0.14698716 0.14698716 0.16922716 0.28407084 0.27093074 0.37424089\n",
      " 0.61606357 0.76768984 0.82531135        nan        nan        nan\n",
      "        nan        nan        nan        nan        nan        nan]\n",
      "  warnings.warn(\n",
      "/Users/lalune/Library/Python/3.9/lib/python/site-packages/sklearn/ensemble/_weight_boosting.py:519: FutureWarning: The parameter 'algorithm' is deprecated in 1.6 and has no effect. It will be removed in version 1.8.\n",
      "  warnings.warn(\n"
     ]
    }
   ],
   "source": [
    "ab = AdaBoostClassifier(random_state=0)\n",
    "grid_search_ab = GridSearchCV(estimator=ab, param_grid=param_grid_ada, cv=5, scoring='accuracy', verbose=2)\n",
    "grid_search_ab.fit(x_train, y_train)\n",
    "best_ab = grid_search_ab.best_estimator_\n",
    "y_pred_ab = best_ab.predict(x_test)"
   ]
  },
  {
   "cell_type": "code",
   "execution_count": 38,
   "metadata": {},
   "outputs": [],
   "source": [
    "nb = GaussianNB()\n",
    "nb.fit(x_train, y_train)\n",
    "y_pred_nb = nb.predict(x_test)"
   ]
  },
  {
   "cell_type": "code",
   "execution_count": 57,
   "metadata": {},
   "outputs": [],
   "source": [
    "#วัดผลโมเดลแต่ละตัว\n",
    "def evaluate_model(y_true, y_pred, model_name):\n",
    "    accuracy = round(accuracy_score(y_true, y_pred), 3)\n",
    "    f1 = round(f1_score(y_true, y_pred, average='micro'), 3)\n",
    "    recall = round(recall_score(y_true, y_pred, average='micro'), 3)\n",
    "    precision = round(precision_score(y_true, y_pred, average='micro'), 3)\n",
    "    \n",
    "    print(f\"{model_name} Accuracy: {accuracy:.3f}\")\n",
    "    print(f\"{model_name} F1-score: {f1:.3f}\")\n",
    "    print(f\"{model_name} Recall: {recall:.3f}\")\n",
    "    print(f\"{model_name} Precision: {precision:.3f}\")"
   ]
  },
  {
   "cell_type": "code",
   "execution_count": 58,
   "metadata": {},
   "outputs": [
    {
     "name": "stdout",
     "output_type": "stream",
     "text": [
      "SVM Accuracy: 1.000\n",
      "SVM F1-score: 1.000\n",
      "SVM Recall: 1.000\n",
      "SVM Precision: 1.000\n"
     ]
    }
   ],
   "source": [
    "# ประเมินผล\n",
    "evaluate_model(y_test, y_pred_svm, \"SVM\")\n",
    "# evaluate_model(y_test, y_pred_rf, \"Random Forest\")\n",
    "# evaluate_model(y_test, y_pred_knn, \"KNN\")\n",
    "# evaluate_model(y_test, y_pred_mlp, \"Neural Network (MLP)\")\n",
    "# evaluate_model(y_test, y_pred_dt, \"Decision Tree\")\n",
    "# evaluate_model(y_test, y_pred_ab, \"AdaBoost\")\n",
    "# evaluate_model(y_test, y_pred_nb, \"Naive Bayes\")\n"
   ]
  },
  {
   "cell_type": "code",
   "execution_count": 59,
   "metadata": {},
   "outputs": [],
   "source": [
    "#Confusion Matrix\n",
    "def plot_confusion_matrix(y_test, y_pred, model_name):\n",
    "    cf_matrix = confusion_matrix(y_test, y_pred)\n",
    "    labels = sorted(list(set(df['Output'])))\n",
    "    labels = [x.upper() for x in labels]\n",
    "\n",
    "    fig, ax = plt.subplots(figsize=(12, 12))\n",
    "    ax.set_title(f\"Confusion Matrix - {model_name}\")\n",
    "\n",
    "    maping = sns.heatmap(cf_matrix, \n",
    "                         annot=True,\n",
    "                         cmap=plt.cm.Blues, \n",
    "                         linewidths=.2,\n",
    "                         xticklabels=labels,\n",
    "                         yticklabels=labels, vmax=8,\n",
    "                         fmt='g',\n",
    "                         ax=ax)\n",
    "    plt.show()"
   ]
  },
  {
   "cell_type": "code",
   "execution_count": 50,
   "metadata": {},
   "outputs": [
    {
     "ename": "KeyError",
     "evalue": "'Output'",
     "output_type": "error",
     "traceback": [
      "\u001b[0;31m---------------------------------------------------------------------------\u001b[0m",
      "\u001b[0;31mKeyError\u001b[0m                                  Traceback (most recent call last)",
      "File \u001b[0;32m~/Library/Python/3.9/lib/python/site-packages/pandas/core/indexes/base.py:3805\u001b[0m, in \u001b[0;36mIndex.get_loc\u001b[0;34m(self, key)\u001b[0m\n\u001b[1;32m   3804\u001b[0m \u001b[38;5;28;01mtry\u001b[39;00m:\n\u001b[0;32m-> 3805\u001b[0m     \u001b[38;5;28;01mreturn\u001b[39;00m \u001b[38;5;28;43mself\u001b[39;49m\u001b[38;5;241;43m.\u001b[39;49m\u001b[43m_engine\u001b[49m\u001b[38;5;241;43m.\u001b[39;49m\u001b[43mget_loc\u001b[49m\u001b[43m(\u001b[49m\u001b[43mcasted_key\u001b[49m\u001b[43m)\u001b[49m\n\u001b[1;32m   3806\u001b[0m \u001b[38;5;28;01mexcept\u001b[39;00m \u001b[38;5;167;01mKeyError\u001b[39;00m \u001b[38;5;28;01mas\u001b[39;00m err:\n",
      "File \u001b[0;32mindex.pyx:167\u001b[0m, in \u001b[0;36mpandas._libs.index.IndexEngine.get_loc\u001b[0;34m()\u001b[0m\n",
      "File \u001b[0;32mindex.pyx:175\u001b[0m, in \u001b[0;36mpandas._libs.index.IndexEngine.get_loc\u001b[0;34m()\u001b[0m\n",
      "File \u001b[0;32mpandas/_libs/index_class_helper.pxi:70\u001b[0m, in \u001b[0;36mpandas._libs.index.Int64Engine._check_type\u001b[0;34m()\u001b[0m\n",
      "\u001b[0;31mKeyError\u001b[0m: 'Output'",
      "\nThe above exception was the direct cause of the following exception:\n",
      "\u001b[0;31mKeyError\u001b[0m                                  Traceback (most recent call last)",
      "Cell \u001b[0;32mIn[50], line 2\u001b[0m\n\u001b[1;32m      1\u001b[0m \u001b[38;5;66;03m# Confusion Matrix\u001b[39;00m\n\u001b[0;32m----> 2\u001b[0m \u001b[43mplot_confusion_matrix\u001b[49m\u001b[43m(\u001b[49m\u001b[43my_test\u001b[49m\u001b[43m,\u001b[49m\u001b[43m \u001b[49m\u001b[43my_pred_svm\u001b[49m\u001b[43m,\u001b[49m\u001b[43m \u001b[49m\u001b[38;5;124;43m\"\u001b[39;49m\u001b[38;5;124;43mSVM\u001b[39;49m\u001b[38;5;124;43m\"\u001b[39;49m\u001b[43m)\u001b[49m\n\u001b[1;32m      3\u001b[0m \u001b[38;5;66;03m# plot_confusion_matrix(y_test, y_pred_rf, \"Random Forest\")\u001b[39;00m\n\u001b[1;32m      4\u001b[0m \u001b[38;5;66;03m# plot_confusion_matrix(y_test, y_pred_knn, \"KNN\")\u001b[39;00m\n\u001b[1;32m      5\u001b[0m \u001b[38;5;66;03m# plot_confusion_matrix(y_test, y_pred_mlp, \"Neural Network (MLP)\")\u001b[39;00m\n\u001b[1;32m      6\u001b[0m \u001b[38;5;66;03m# plot_confusion_matrix(y_test, y_pred_dt, \"Decision Tree\")\u001b[39;00m\n\u001b[1;32m      7\u001b[0m \u001b[38;5;66;03m# plot_confusion_matrix(y_test, y_pred_ab, \"AdaBoost\")\u001b[39;00m\n\u001b[1;32m      8\u001b[0m \u001b[38;5;66;03m# plot_confusion_matrix(y_test, y_pred_nb, \"Naive Bayes\")\u001b[39;00m\n",
      "Cell \u001b[0;32mIn[49], line 4\u001b[0m, in \u001b[0;36mplot_confusion_matrix\u001b[0;34m(y_test, y_pred, model_name)\u001b[0m\n\u001b[1;32m      2\u001b[0m \u001b[38;5;28;01mdef\u001b[39;00m\u001b[38;5;250m \u001b[39m\u001b[38;5;21mplot_confusion_matrix\u001b[39m(y_test, y_pred, model_name):\n\u001b[1;32m      3\u001b[0m     cf_matrix \u001b[38;5;241m=\u001b[39m confusion_matrix(y_test, y_pred)\n\u001b[0;32m----> 4\u001b[0m     labels \u001b[38;5;241m=\u001b[39m \u001b[38;5;28msorted\u001b[39m(\u001b[38;5;28mlist\u001b[39m(\u001b[38;5;28mset\u001b[39m(\u001b[43mdf\u001b[49m\u001b[43m[\u001b[49m\u001b[38;5;124;43m'\u001b[39;49m\u001b[38;5;124;43mOutput\u001b[39;49m\u001b[38;5;124;43m'\u001b[39;49m\u001b[43m]\u001b[49m)))\n\u001b[1;32m      5\u001b[0m     labels \u001b[38;5;241m=\u001b[39m [x\u001b[38;5;241m.\u001b[39mupper() \u001b[38;5;28;01mfor\u001b[39;00m x \u001b[38;5;129;01min\u001b[39;00m labels]\n\u001b[1;32m      7\u001b[0m     fig, ax \u001b[38;5;241m=\u001b[39m plt\u001b[38;5;241m.\u001b[39msubplots(figsize\u001b[38;5;241m=\u001b[39m(\u001b[38;5;241m12\u001b[39m, \u001b[38;5;241m12\u001b[39m))\n",
      "File \u001b[0;32m~/Library/Python/3.9/lib/python/site-packages/pandas/core/frame.py:4102\u001b[0m, in \u001b[0;36mDataFrame.__getitem__\u001b[0;34m(self, key)\u001b[0m\n\u001b[1;32m   4100\u001b[0m \u001b[38;5;28;01mif\u001b[39;00m \u001b[38;5;28mself\u001b[39m\u001b[38;5;241m.\u001b[39mcolumns\u001b[38;5;241m.\u001b[39mnlevels \u001b[38;5;241m>\u001b[39m \u001b[38;5;241m1\u001b[39m:\n\u001b[1;32m   4101\u001b[0m     \u001b[38;5;28;01mreturn\u001b[39;00m \u001b[38;5;28mself\u001b[39m\u001b[38;5;241m.\u001b[39m_getitem_multilevel(key)\n\u001b[0;32m-> 4102\u001b[0m indexer \u001b[38;5;241m=\u001b[39m \u001b[38;5;28;43mself\u001b[39;49m\u001b[38;5;241;43m.\u001b[39;49m\u001b[43mcolumns\u001b[49m\u001b[38;5;241;43m.\u001b[39;49m\u001b[43mget_loc\u001b[49m\u001b[43m(\u001b[49m\u001b[43mkey\u001b[49m\u001b[43m)\u001b[49m\n\u001b[1;32m   4103\u001b[0m \u001b[38;5;28;01mif\u001b[39;00m is_integer(indexer):\n\u001b[1;32m   4104\u001b[0m     indexer \u001b[38;5;241m=\u001b[39m [indexer]\n",
      "File \u001b[0;32m~/Library/Python/3.9/lib/python/site-packages/pandas/core/indexes/base.py:3812\u001b[0m, in \u001b[0;36mIndex.get_loc\u001b[0;34m(self, key)\u001b[0m\n\u001b[1;32m   3807\u001b[0m     \u001b[38;5;28;01mif\u001b[39;00m \u001b[38;5;28misinstance\u001b[39m(casted_key, \u001b[38;5;28mslice\u001b[39m) \u001b[38;5;129;01mor\u001b[39;00m (\n\u001b[1;32m   3808\u001b[0m         \u001b[38;5;28misinstance\u001b[39m(casted_key, abc\u001b[38;5;241m.\u001b[39mIterable)\n\u001b[1;32m   3809\u001b[0m         \u001b[38;5;129;01mand\u001b[39;00m \u001b[38;5;28many\u001b[39m(\u001b[38;5;28misinstance\u001b[39m(x, \u001b[38;5;28mslice\u001b[39m) \u001b[38;5;28;01mfor\u001b[39;00m x \u001b[38;5;129;01min\u001b[39;00m casted_key)\n\u001b[1;32m   3810\u001b[0m     ):\n\u001b[1;32m   3811\u001b[0m         \u001b[38;5;28;01mraise\u001b[39;00m InvalidIndexError(key)\n\u001b[0;32m-> 3812\u001b[0m     \u001b[38;5;28;01mraise\u001b[39;00m \u001b[38;5;167;01mKeyError\u001b[39;00m(key) \u001b[38;5;28;01mfrom\u001b[39;00m\u001b[38;5;250m \u001b[39m\u001b[38;5;21;01merr\u001b[39;00m\n\u001b[1;32m   3813\u001b[0m \u001b[38;5;28;01mexcept\u001b[39;00m \u001b[38;5;167;01mTypeError\u001b[39;00m:\n\u001b[1;32m   3814\u001b[0m     \u001b[38;5;66;03m# If we have a listlike key, _check_indexing_error will raise\u001b[39;00m\n\u001b[1;32m   3815\u001b[0m     \u001b[38;5;66;03m#  InvalidIndexError. Otherwise we fall through and re-raise\u001b[39;00m\n\u001b[1;32m   3816\u001b[0m     \u001b[38;5;66;03m#  the TypeError.\u001b[39;00m\n\u001b[1;32m   3817\u001b[0m     \u001b[38;5;28mself\u001b[39m\u001b[38;5;241m.\u001b[39m_check_indexing_error(key)\n",
      "\u001b[0;31mKeyError\u001b[0m: 'Output'"
     ]
    }
   ],
   "source": [
    "# Confusion Matrix\n",
    "plot_confusion_matrix(y_test, y_pred_svm, \"SVM\")\n",
    "# plot_confusion_matrix(y_test, y_pred_rf, \"Random Forest\")\n",
    "# plot_confusion_matrix(y_test, y_pred_knn, \"KNN\")\n",
    "# plot_confusion_matrix(y_test, y_pred_mlp, \"Neural Network (MLP)\")\n",
    "# plot_confusion_matrix(y_test, y_pred_dt, \"Decision Tree\")\n",
    "# plot_confusion_matrix(y_test, y_pred_ab, \"AdaBoost\")\n",
    "# plot_confusion_matrix(y_test, y_pred_nb, \"Naive Bayes\")\n"
   ]
  },
  {
   "cell_type": "code",
   "execution_count": 60,
   "metadata": {},
   "outputs": [],
   "source": [
    "# Save best tuned models\n",
    "with open('svm_model_v3.pkl', 'wb') as f:\n",
    "    pickle.dump(best_svm, f)\n",
    "\n",
    "# with open('rf_model_v1.pkl', 'wb') as f:\n",
    "#     pickle.dump(best_rf, f)\n",
    "\n",
    "# with open('knn_model_v1.pkl', 'wb') as f:\n",
    "#     pickle.dump(best_knn, f)\n",
    "\n",
    "# with open('mlp_model_v1.pkl', 'wb') as f:\n",
    "#     pickle.dump(best_mlp, f)\n",
    "\n",
    "# with open('ab_model_v1.pkl', 'wb') as f:\n",
    "#     pickle.dump(best_ab, f)\n",
    "\n",
    "# with open('dt_model_v1.pkl', 'wb') as f:\n",
    "#     pickle.dump(best_dt, f)\n",
    "\n",
    "# with open('nb_model_v1.pkl', 'wb') as f:\n",
    "#     pickle.dump(nb, f)\n"
   ]
  }
 ],
 "metadata": {
  "kernelspec": {
   "display_name": "Python 3",
   "language": "python",
   "name": "python3"
  },
  "language_info": {
   "codemirror_mode": {
    "name": "ipython",
    "version": 3
   },
   "file_extension": ".py",
   "mimetype": "text/x-python",
   "name": "python",
   "nbconvert_exporter": "python",
   "pygments_lexer": "ipython3",
   "version": "3.9.6"
  }
 },
 "nbformat": 4,
 "nbformat_minor": 2
}
